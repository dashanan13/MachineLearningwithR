{
 "cells": [
  {
   "cell_type": "markdown",
   "id": "d0713b1c-cdbf-4c97-b2b8-1220915d4784",
   "metadata": {},
   "source": [
    "### Classification Excercise with Decision tree"
   ]
  },
  {
   "cell_type": "markdown",
   "id": "2cbc1efc-86ea-48e1-87c8-6b18ca506f4e",
   "metadata": {},
   "source": [
    "#### 1. Use three methods: \n",
    "##### i) regression, \n",
    "##### ii) regression tree, \n",
    "##### iii) model tree \n",
    "#### on the weather dataset: https://archive.ics.uci.edu/ml/datasets/SML2010 that we also used in Topic2 Naïve Bayes (chapter 4), \n",
    "#### and forecast a) temperature (attribute 5), b) the amount of precipitation (in attribute 12). \n",
    "#### How do the three methods compare (in terms of mean absolute error MAE)?\n",
    "\n",
    "##### Note: The data from the repository is in .txt rather than .csv format. \n",
    "##### You can use: read.table instead of read.csv when importing the file to RStudio \n",
    "##### Also install package: rpart.plot"
   ]
  },
  {
   "cell_type": "code",
   "execution_count": 2,
   "id": "fe8a8549-168a-4701-b337-926842b4229b",
   "metadata": {},
   "outputs": [],
   "source": [
    "setwd(\"C:/Users/devops/MachineLearningwithR/Day8-RegressionMethods\")  #setting work directory (\\ does not work on windows so it is replaced with /)"
   ]
  },
  {
   "cell_type": "code",
   "execution_count": null,
   "id": "c9fbc9d0-0820-46dc-9068-7d3d5969d489",
   "metadata": {},
   "outputs": [],
   "source": []
  },
  {
   "cell_type": "code",
   "execution_count": null,
   "id": "e645952c-97b3-4194-a1c0-9e9d6d34ea62",
   "metadata": {},
   "outputs": [],
   "source": []
  },
  {
   "cell_type": "markdown",
   "id": "4fab2bbe-fb4b-47a7-a842-89b2e180d0f1",
   "metadata": {},
   "source": [
    "#### 2. Use the Titanic dataset https://www.kaggle.com/c/titanic/ and decide what decision tree based approach works best for predicting survival of passengers.\n",
    "#### You will need a Kaggle user, and you can find multiple approaches and inspiration on the subject through the website."
   ]
  },
  {
   "cell_type": "code",
   "execution_count": null,
   "id": "c2655ab9-d747-4781-b1df-fed660557a15",
   "metadata": {},
   "outputs": [],
   "source": []
  }
 ],
 "metadata": {
  "kernelspec": {
   "display_name": "R",
   "language": "R",
   "name": "ir"
  },
  "language_info": {
   "codemirror_mode": "r",
   "file_extension": ".r",
   "mimetype": "text/x-r-source",
   "name": "R",
   "pygments_lexer": "r",
   "version": "4.2.2"
  },
  "widgets": {
   "application/vnd.jupyter.widget-state+json": {
    "state": {},
    "version_major": 2,
    "version_minor": 0
   }
  }
 },
 "nbformat": 4,
 "nbformat_minor": 5
}
