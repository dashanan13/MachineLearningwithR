{
 "cells": [
  {
   "cell_type": "code",
   "execution_count": null,
   "id": "4cd4feef-b557-4f55-84d1-01baf951e459",
   "metadata": {},
   "outputs": [],
   "source": []
  },
  {
   "cell_type": "code",
   "execution_count": 3,
   "id": "78571ae1-3d7d-45ff-a342-386003cf16a3",
   "metadata": {},
   "outputs": [
    {
     "data": {
      "text/html": [
       "<strong>null device:</strong> 1"
      ],
      "text/latex": [
       "\\textbf{null device:} 1"
      ],
      "text/markdown": [
       "**null device:** 1"
      ],
      "text/plain": [
       "null device \n",
       "          1 "
      ]
     },
     "metadata": {},
     "output_type": "display_data"
    }
   ],
   "source": [
    "# Clean the environment and image, if applicable\n",
    "dev.off()\n",
    "rm(list = ls())\n",
    "\n",
    "# Before starting, download the weather dataset and store as weather1.txt: \n",
    "# https://archive.ics.uci.edu/ml/datasets/SML2010  (NEW_DATA.zip)"
   ]
  },
  {
   "cell_type": "code",
   "execution_count": 4,
   "id": "21d047bd-486b-45f7-9657-934fa49f3d69",
   "metadata": {},
   "outputs": [],
   "source": [
    "setwd(\"C:/Users/devops/MachineLearningwithR/Day8-RegressionMethods\")  #setting work directory (\\ does not work on windows so it is replaced with /)"
   ]
  },
  {
   "cell_type": "code",
   "execution_count": 8,
   "id": "c0480dbe-346a-42bb-b58b-c53fdd6f3190",
   "metadata": {},
   "outputs": [
    {
     "data": {
      "text/html": [
       "<table class=\"dataframe\">\n",
       "<caption>A data.frame: 6 × 24</caption>\n",
       "<thead>\n",
       "\t<tr><th></th><th scope=col>V1</th><th scope=col>V2</th><th scope=col>V3</th><th scope=col>V4</th><th scope=col>V5</th><th scope=col>V6</th><th scope=col>V7</th><th scope=col>V8</th><th scope=col>V9</th><th scope=col>V10</th><th scope=col>⋯</th><th scope=col>V15</th><th scope=col>V16</th><th scope=col>V17</th><th scope=col>V18</th><th scope=col>V19</th><th scope=col>V20</th><th scope=col>V21</th><th scope=col>V22</th><th scope=col>V23</th><th scope=col>V24</th></tr>\n",
       "\t<tr><th></th><th scope=col>&lt;chr&gt;</th><th scope=col>&lt;chr&gt;</th><th scope=col>&lt;dbl&gt;</th><th scope=col>&lt;dbl&gt;</th><th scope=col>&lt;dbl&gt;</th><th scope=col>&lt;dbl&gt;</th><th scope=col>&lt;dbl&gt;</th><th scope=col>&lt;dbl&gt;</th><th scope=col>&lt;dbl&gt;</th><th scope=col>&lt;dbl&gt;</th><th scope=col>⋯</th><th scope=col>&lt;dbl&gt;</th><th scope=col>&lt;dbl&gt;</th><th scope=col>&lt;dbl&gt;</th><th scope=col>&lt;dbl&gt;</th><th scope=col>&lt;int&gt;</th><th scope=col>&lt;int&gt;</th><th scope=col>&lt;int&gt;</th><th scope=col>&lt;dbl&gt;</th><th scope=col>&lt;dbl&gt;</th><th scope=col>&lt;dbl&gt;</th></tr>\n",
       "</thead>\n",
       "<tbody>\n",
       "\t<tr><th scope=row>1</th><td>13/03/2012</td><td>11:45</td><td>18.1875</td><td>17.8275</td><td> 0.0</td><td>216.560</td><td>221.920</td><td>39.9125</td><td>42.4150</td><td>81.6650</td><td>⋯</td><td> 9690.24</td><td>12604.20</td><td>95436.8</td><td>758.880</td><td>0</td><td>0</td><td>0</td><td>18.1150</td><td>48.3750</td><td>2</td></tr>\n",
       "\t<tr><th scope=row>2</th><td>13/03/2012</td><td>12:00</td><td>18.4633</td><td>18.1207</td><td> 6.8</td><td>219.947</td><td>220.363</td><td>39.9267</td><td>42.2453</td><td>81.7413</td><td>⋯</td><td>11022.00</td><td>10787.20</td><td>95436.8</td><td>762.069</td><td>0</td><td>0</td><td>0</td><td>18.4147</td><td>47.8080</td><td>2</td></tr>\n",
       "\t<tr><th scope=row>3</th><td>13/03/2012</td><td>12:15</td><td>18.7673</td><td>18.4367</td><td>17.0</td><td>219.403</td><td>218.933</td><td>39.7720</td><td>42.2267</td><td>81.4240</td><td>⋯</td><td>13960.50</td><td> 9669.63</td><td>95398.6</td><td>766.251</td><td>0</td><td>0</td><td>0</td><td>18.8533</td><td>47.4320</td><td>2</td></tr>\n",
       "\t<tr><th scope=row>4</th><td>13/03/2012</td><td>12:30</td><td>19.0727</td><td>18.7513</td><td>18.0</td><td>218.613</td><td>217.045</td><td>39.7760</td><td>42.0987</td><td>81.5013</td><td>⋯</td><td>18511.20</td><td> 9648.13</td><td>95360.3</td><td>766.037</td><td>0</td><td>0</td><td>0</td><td>19.2907</td><td>47.0240</td><td>2</td></tr>\n",
       "\t<tr><th scope=row>5</th><td>13/03/2012</td><td>12:45</td><td>19.3721</td><td>19.0414</td><td>20.0</td><td>217.714</td><td>216.080</td><td>39.7757</td><td>42.0686</td><td>81.4657</td><td>⋯</td><td>26349.00</td><td> 9208.32</td><td>95354.9</td><td>762.743</td><td>0</td><td>0</td><td>0</td><td>19.7400</td><td>45.4743</td><td>2</td></tr>\n",
       "\t<tr><th scope=row>6</th><td>13/03/2012</td><td>13:00</td><td>19.6407</td><td>19.2773</td><td>20.0</td><td>218.389</td><td>216.011</td><td>39.8107</td><td>42.0347</td><td>81.2427</td><td>⋯</td><td>36511.70</td><td> 8694.78</td><td>95354.9</td><td>752.683</td><td>0</td><td>0</td><td>0</td><td>20.1660</td><td>45.5467</td><td>2</td></tr>\n",
       "</tbody>\n",
       "</table>\n"
      ],
      "text/latex": [
       "A data.frame: 6 × 24\n",
       "\\begin{tabular}{r|lllllllllllllllllllll}\n",
       "  & V1 & V2 & V3 & V4 & V5 & V6 & V7 & V8 & V9 & V10 & ⋯ & V15 & V16 & V17 & V18 & V19 & V20 & V21 & V22 & V23 & V24\\\\\n",
       "  & <chr> & <chr> & <dbl> & <dbl> & <dbl> & <dbl> & <dbl> & <dbl> & <dbl> & <dbl> & ⋯ & <dbl> & <dbl> & <dbl> & <dbl> & <int> & <int> & <int> & <dbl> & <dbl> & <dbl>\\\\\n",
       "\\hline\n",
       "\t1 & 13/03/2012 & 11:45 & 18.1875 & 17.8275 &  0.0 & 216.560 & 221.920 & 39.9125 & 42.4150 & 81.6650 & ⋯ &  9690.24 & 12604.20 & 95436.8 & 758.880 & 0 & 0 & 0 & 18.1150 & 48.3750 & 2\\\\\n",
       "\t2 & 13/03/2012 & 12:00 & 18.4633 & 18.1207 &  6.8 & 219.947 & 220.363 & 39.9267 & 42.2453 & 81.7413 & ⋯ & 11022.00 & 10787.20 & 95436.8 & 762.069 & 0 & 0 & 0 & 18.4147 & 47.8080 & 2\\\\\n",
       "\t3 & 13/03/2012 & 12:15 & 18.7673 & 18.4367 & 17.0 & 219.403 & 218.933 & 39.7720 & 42.2267 & 81.4240 & ⋯ & 13960.50 &  9669.63 & 95398.6 & 766.251 & 0 & 0 & 0 & 18.8533 & 47.4320 & 2\\\\\n",
       "\t4 & 13/03/2012 & 12:30 & 19.0727 & 18.7513 & 18.0 & 218.613 & 217.045 & 39.7760 & 42.0987 & 81.5013 & ⋯ & 18511.20 &  9648.13 & 95360.3 & 766.037 & 0 & 0 & 0 & 19.2907 & 47.0240 & 2\\\\\n",
       "\t5 & 13/03/2012 & 12:45 & 19.3721 & 19.0414 & 20.0 & 217.714 & 216.080 & 39.7757 & 42.0686 & 81.4657 & ⋯ & 26349.00 &  9208.32 & 95354.9 & 762.743 & 0 & 0 & 0 & 19.7400 & 45.4743 & 2\\\\\n",
       "\t6 & 13/03/2012 & 13:00 & 19.6407 & 19.2773 & 20.0 & 218.389 & 216.011 & 39.8107 & 42.0347 & 81.2427 & ⋯ & 36511.70 &  8694.78 & 95354.9 & 752.683 & 0 & 0 & 0 & 20.1660 & 45.5467 & 2\\\\\n",
       "\\end{tabular}\n"
      ],
      "text/markdown": [
       "\n",
       "A data.frame: 6 × 24\n",
       "\n",
       "| <!--/--> | V1 &lt;chr&gt; | V2 &lt;chr&gt; | V3 &lt;dbl&gt; | V4 &lt;dbl&gt; | V5 &lt;dbl&gt; | V6 &lt;dbl&gt; | V7 &lt;dbl&gt; | V8 &lt;dbl&gt; | V9 &lt;dbl&gt; | V10 &lt;dbl&gt; | ⋯ ⋯ | V15 &lt;dbl&gt; | V16 &lt;dbl&gt; | V17 &lt;dbl&gt; | V18 &lt;dbl&gt; | V19 &lt;int&gt; | V20 &lt;int&gt; | V21 &lt;int&gt; | V22 &lt;dbl&gt; | V23 &lt;dbl&gt; | V24 &lt;dbl&gt; |\n",
       "|---|---|---|---|---|---|---|---|---|---|---|---|---|---|---|---|---|---|---|---|---|---|\n",
       "| 1 | 13/03/2012 | 11:45 | 18.1875 | 17.8275 |  0.0 | 216.560 | 221.920 | 39.9125 | 42.4150 | 81.6650 | ⋯ |  9690.24 | 12604.20 | 95436.8 | 758.880 | 0 | 0 | 0 | 18.1150 | 48.3750 | 2 |\n",
       "| 2 | 13/03/2012 | 12:00 | 18.4633 | 18.1207 |  6.8 | 219.947 | 220.363 | 39.9267 | 42.2453 | 81.7413 | ⋯ | 11022.00 | 10787.20 | 95436.8 | 762.069 | 0 | 0 | 0 | 18.4147 | 47.8080 | 2 |\n",
       "| 3 | 13/03/2012 | 12:15 | 18.7673 | 18.4367 | 17.0 | 219.403 | 218.933 | 39.7720 | 42.2267 | 81.4240 | ⋯ | 13960.50 |  9669.63 | 95398.6 | 766.251 | 0 | 0 | 0 | 18.8533 | 47.4320 | 2 |\n",
       "| 4 | 13/03/2012 | 12:30 | 19.0727 | 18.7513 | 18.0 | 218.613 | 217.045 | 39.7760 | 42.0987 | 81.5013 | ⋯ | 18511.20 |  9648.13 | 95360.3 | 766.037 | 0 | 0 | 0 | 19.2907 | 47.0240 | 2 |\n",
       "| 5 | 13/03/2012 | 12:45 | 19.3721 | 19.0414 | 20.0 | 217.714 | 216.080 | 39.7757 | 42.0686 | 81.4657 | ⋯ | 26349.00 |  9208.32 | 95354.9 | 762.743 | 0 | 0 | 0 | 19.7400 | 45.4743 | 2 |\n",
       "| 6 | 13/03/2012 | 13:00 | 19.6407 | 19.2773 | 20.0 | 218.389 | 216.011 | 39.8107 | 42.0347 | 81.2427 | ⋯ | 36511.70 |  8694.78 | 95354.9 | 752.683 | 0 | 0 | 0 | 20.1660 | 45.5467 | 2 |\n",
       "\n"
      ],
      "text/plain": [
       "  V1         V2    V3      V4      V5   V6      V7      V8      V9      V10    \n",
       "1 13/03/2012 11:45 18.1875 17.8275  0.0 216.560 221.920 39.9125 42.4150 81.6650\n",
       "2 13/03/2012 12:00 18.4633 18.1207  6.8 219.947 220.363 39.9267 42.2453 81.7413\n",
       "3 13/03/2012 12:15 18.7673 18.4367 17.0 219.403 218.933 39.7720 42.2267 81.4240\n",
       "4 13/03/2012 12:30 19.0727 18.7513 18.0 218.613 217.045 39.7760 42.0987 81.5013\n",
       "5 13/03/2012 12:45 19.3721 19.0414 20.0 217.714 216.080 39.7757 42.0686 81.4657\n",
       "6 13/03/2012 13:00 19.6407 19.2773 20.0 218.389 216.011 39.8107 42.0347 81.2427\n",
       "  <U+22EF>        V15      V16      V17     V18     V19 V20 V21 V22     V23     V24\n",
       "1 <U+22EF>  9690.24 12604.20 95436.8 758.880 0   0   0   18.1150 48.3750 2  \n",
       "2 <U+22EF> 11022.00 10787.20 95436.8 762.069 0   0   0   18.4147 47.8080 2  \n",
       "3 <U+22EF> 13960.50  9669.63 95398.6 766.251 0   0   0   18.8533 47.4320 2  \n",
       "4 <U+22EF> 18511.20  9648.13 95360.3 766.037 0   0   0   19.2907 47.0240 2  \n",
       "5 <U+22EF> 26349.00  9208.32 95354.9 762.743 0   0   0   19.7400 45.4743 2  \n",
       "6 <U+22EF> 36511.70  8694.78 95354.9 752.683 0   0   0   20.1660 45.5467 2  "
      ]
     },
     "metadata": {},
     "output_type": "display_data"
    }
   ],
   "source": [
    "#Import csv\n",
    "weather <- read.table(\"./data/Weather1.txt\", stringsAsFactors = FALSE)\n",
    "head(weather)\n",
    "#View(weather)"
   ]
  },
  {
   "cell_type": "markdown",
   "id": "cd8967e9-d31f-4348-a97d-c7b38cb3c8a0",
   "metadata": {},
   "source": [
    "####  ***** Linear Regression ***** "
   ]
  },
  {
   "cell_type": "code",
   "execution_count": 11,
   "id": "4200dd4b-5ed3-4882-b1b9-54495f5aabd7",
   "metadata": {},
   "outputs": [
    {
     "data": {
      "text/html": [
       "'beta (b): -0.009682'"
      ],
      "text/latex": [
       "'beta (b): -0.009682'"
      ],
      "text/markdown": [
       "'beta (b): -0.009682'"
      ],
      "text/plain": [
       "[1] \"beta (b): -0.009682\""
      ]
     },
     "metadata": {},
     "output_type": "display_data"
    },
    {
     "data": {
      "text/html": [
       "'alpha (a): 4.088993'"
      ],
      "text/latex": [
       "'alpha (a): 4.088993'"
      ],
      "text/markdown": [
       "'alpha (a): 4.088993'"
      ],
      "text/plain": [
       "[1] \"alpha (a): 4.088993\""
      ]
     },
     "metadata": {},
     "output_type": "display_data"
    },
    {
     "data": {
      "text/html": [
       "'manually calculated correlation: -0.020280'"
      ],
      "text/latex": [
       "'manually calculated correlation: -0.020280'"
      ],
      "text/markdown": [
       "'manually calculated correlation: -0.020280'"
      ],
      "text/plain": [
       "[1] \"manually calculated correlation: -0.020280\""
      ]
     },
     "metadata": {},
     "output_type": "display_data"
    },
    {
     "data": {
      "text/html": [
       "'correlation calculated by built in method: -0.020280'"
      ],
      "text/latex": [
       "'correlation calculated by built in method: -0.020280'"
      ],
      "text/markdown": [
       "'correlation calculated by built in method: -0.020280'"
      ],
      "text/plain": [
       "[1] \"correlation calculated by built in method: -0.020280\""
      ]
     },
     "metadata": {},
     "output_type": "display_data"
    },
    {
     "data": {
      "text/html": [
       "'slope calculated: -0.009682'"
      ],
      "text/latex": [
       "'slope calculated: -0.009682'"
      ],
      "text/markdown": [
       "'slope calculated: -0.009682'"
      ],
      "text/plain": [
       "[1] \"slope calculated: -0.009682\""
      ]
     },
     "metadata": {},
     "output_type": "display_data"
    }
   ],
   "source": [
    "# estimate beta manually\n",
    "b <- cov(weather$V5, weather$V24) / var(weather$V5)\n",
    "sprintf(\"beta (b): %f\", b)\n",
    "\n",
    "# estimate alpha manually\n",
    "a <- mean(weather$V24) - b * mean(weather$V5)\n",
    "sprintf(\"alpha (a): %f\", a)\n",
    "\n",
    "# calculate the correlation of launch data\n",
    "r <- cov(weather$V5, weather$V24) / (sd(weather$V5) * sd(weather$V24))\n",
    "sprintf(\"manually calculated correlation: %f\", r)\n",
    "sprintf(\"correlation calculated by built in method: %f\", cor(weather$V5, weather$V24))\n",
    "\n",
    "# computing the slope using correlation\n",
    "sprintf(\"slope calculated: %f\", r * (sd(weather$V24) / sd(weather$V5)))"
   ]
  },
  {
   "cell_type": "code",
   "execution_count": 12,
   "id": "c19760c5-e349-4056-bc11-c76432394c00",
   "metadata": {},
   "outputs": [
    {
     "data": {
      "text/plain": [
       "\n",
       "Call:\n",
       "lm(formula = V24 ~ V5, data = weather)\n",
       "\n",
       "Coefficients:\n",
       "(Intercept)           V5  \n",
       "   4.088993    -0.009682  \n"
      ]
     },
     "metadata": {},
     "output_type": "display_data"
    },
    {
     "data": {
      "text/plain": [
       "\n",
       "Call:\n",
       "lm(formula = V24 ~ V5, data = weather)\n",
       "\n",
       "Residuals:\n",
       "     Min       1Q   Median       3Q      Max \n",
       "-3.02122 -1.92064  0.02751  2.01816  3.12401 \n",
       "\n",
       "Coefficients:\n",
       "             Estimate Std. Error t value Pr(>|t|)    \n",
       "(Intercept)  4.088993   0.131785  31.028   <2e-16 ***\n",
       "V5          -0.009682   0.009082  -1.066    0.287    \n",
       "---\n",
       "Signif. codes:  0 '***' 0.001 '**' 0.01 '*' 0.05 '.' 0.1 ' ' 1\n",
       "\n",
       "Residual standard error: 1.992 on 2762 degrees of freedom\n",
       "Multiple R-squared:  0.0004113,\tAdjusted R-squared:  4.936e-05 \n",
       "F-statistic: 1.136 on 1 and 2762 DF,  p-value: 0.2865\n"
      ]
     },
     "metadata": {},
     "output_type": "display_data"
    }
   ],
   "source": [
    "# confirming the regression line using the lm function (not in text)\n",
    "model <- lm(V24 ~ V5, data = weather)\n",
    "model\n",
    "summary(model)"
   ]
  },
  {
   "cell_type": "markdown",
   "id": "0c172a54-d3a9-4046-a392-df3d9ae36321",
   "metadata": {},
   "source": [
    "####  ***** Multilinear Regression ***** "
   ]
  },
  {
   "cell_type": "code",
   "execution_count": 14,
   "id": "bf7e919d-31c8-44b5-8ef5-2dfed3fa69e7",
   "metadata": {},
   "outputs": [
    {
     "name": "stdout",
     "output_type": "stream",
     "text": [
      "'data.frame':\t2764 obs. of  24 variables:\n",
      " $ V1 : chr  \"13/03/2012\" \"13/03/2012\" \"13/03/2012\" \"13/03/2012\" ...\n",
      " $ V2 : chr  \"11:45\" \"12:00\" \"12:15\" \"12:30\" ...\n",
      " $ V3 : num  18.2 18.5 18.8 19.1 19.4 ...\n",
      " $ V4 : num  17.8 18.1 18.4 18.8 19 ...\n",
      " $ V5 : num  0 6.8 17 18 20 20 20 20 20 20 ...\n",
      " $ V6 : num  217 220 219 219 218 ...\n",
      " $ V7 : num  222 220 219 217 216 ...\n",
      " $ V8 : num  39.9 39.9 39.8 39.8 39.8 ...\n",
      " $ V9 : num  42.4 42.2 42.2 42.1 42.1 ...\n",
      " $ V10: num  81.7 81.7 81.4 81.5 81.5 ...\n",
      " $ V11: num  114 114 114 113 113 ...\n",
      " $ V12: num  0 0 0 0 0 0 0 0 0 0 ...\n",
      " $ V13: num  623 623 623 623 622 ...\n",
      " $ V14: num  1.43 1.59 1.89 1.83 2.36 ...\n",
      " $ V15: num  9690 11022 13960 18511 26349 ...\n",
      " $ V16: num  12604 10787 9670 9648 9208 ...\n",
      " $ V17: num  95437 95437 95399 95360 95355 ...\n",
      " $ V18: num  759 762 766 766 763 ...\n",
      " $ V19: int  0 0 0 0 0 0 0 0 0 0 ...\n",
      " $ V20: int  0 0 0 0 0 0 0 0 0 0 ...\n",
      " $ V21: int  0 0 0 0 0 0 0 0 0 0 ...\n",
      " $ V22: num  18.1 18.4 18.9 19.3 19.7 ...\n",
      " $ V23: num  48.4 47.8 47.4 47 45.5 ...\n",
      " $ V24: num  2 2 2 2 2 2 2 2 2 2 ...\n",
      "               estimate\n",
      "Intercept -2.488981e-14\n",
      "V24        1.000000e+00\n",
      "              estimate\n",
      "Intercept  7.024194566\n",
      "V5        -0.009587404\n",
      "V6        -0.007624969\n",
      "V7        -0.002277117\n",
      "V8        -0.019302109\n"
     ]
    },
    {
     "data": {
      "text/plain": [
       "\n",
       "Call:\n",
       "lm(formula = V24 ~ V5 + V4 + V12, data = weather)\n",
       "\n",
       "Coefficients:\n",
       "(Intercept)           V5           V4          V12  \n",
       "   4.341224    -0.015165    -0.005079    -1.710112  \n"
      ]
     },
     "metadata": {},
     "output_type": "display_data"
    }
   ],
   "source": [
    "#  ***** Multilinear Regression ***** \n",
    "# creating a simple multiple regression function\n",
    "reg <- function(y, x) {\n",
    "  x <- as.matrix(x)\n",
    "  x <- cbind(Intercept = 1, x)\n",
    "  b <- solve(t(x) %*% x) %*% t(x) %*% y\n",
    "  colnames(b) <- \"estimate\"\n",
    "  print(b)\n",
    "}\n",
    "\n",
    "# examine the launch data\n",
    "str(weather)\n",
    "\n",
    "# test regression model with simple linear regression\n",
    "reg(y = weather$V24, x = weather[24])\n",
    "\n",
    "# use regression model with multiple regression\n",
    "reg(y = weather$V24, x = weather[5:8])\n",
    "\n",
    "# confirming the multiple regression result using the lm function (not in text)\n",
    "model <- lm(V24 ~ V5 + V4 + V12, data = weather)\n",
    "model"
   ]
  },
  {
   "cell_type": "markdown",
   "id": "09808761-6b9e-4f43-af2f-dab2cad3f8a9",
   "metadata": {},
   "source": [
    "#### ***** Regression tree and Model tree  *****"
   ]
  },
  {
   "cell_type": "code",
   "execution_count": 16,
   "id": "61588356-f987-4ea3-b32b-cd5bab552b13",
   "metadata": {},
   "outputs": [
    {
     "name": "stdout",
     "output_type": "stream",
     "text": [
      "'data.frame':\t2764 obs. of  24 variables:\n",
      " $ V1 : chr  \"13/03/2012\" \"13/03/2012\" \"13/03/2012\" \"13/03/2012\" ...\n",
      " $ V2 : chr  \"11:45\" \"12:00\" \"12:15\" \"12:30\" ...\n",
      " $ V3 : num  18.2 18.5 18.8 19.1 19.4 ...\n",
      " $ V4 : num  17.8 18.1 18.4 18.8 19 ...\n",
      " $ V5 : num  0 6.8 17 18 20 20 20 20 20 20 ...\n",
      " $ V6 : num  217 220 219 219 218 ...\n",
      " $ V7 : num  222 220 219 217 216 ...\n",
      " $ V8 : num  39.9 39.9 39.8 39.8 39.8 ...\n",
      " $ V9 : num  42.4 42.2 42.2 42.1 42.1 ...\n",
      " $ V10: num  81.7 81.7 81.4 81.5 81.5 ...\n",
      " $ V11: num  114 114 114 113 113 ...\n",
      " $ V12: num  0 0 0 0 0 0 0 0 0 0 ...\n",
      " $ V13: num  623 623 623 623 622 ...\n",
      " $ V14: num  1.43 1.59 1.89 1.83 2.36 ...\n",
      " $ V15: num  9690 11022 13960 18511 26349 ...\n",
      " $ V16: num  12604 10787 9670 9648 9208 ...\n",
      " $ V17: num  95437 95437 95399 95360 95355 ...\n",
      " $ V18: num  759 762 766 766 763 ...\n",
      " $ V19: int  0 0 0 0 0 0 0 0 0 0 ...\n",
      " $ V20: int  0 0 0 0 0 0 0 0 0 0 ...\n",
      " $ V21: int  0 0 0 0 0 0 0 0 0 0 ...\n",
      " $ V22: num  18.1 18.4 18.9 19.3 19.7 ...\n",
      " $ V23: num  48.4 47.8 47.4 47 45.5 ...\n",
      " $ V24: num  2 2 2 2 2 2 2 2 2 2 ...\n"
     ]
    },
    {
     "data": {
      "image/png": "[encoded data removed]",
      "text/plain": [
       "Plot with title \"Histogram of weather$V24\""
      ]
     },
     "metadata": {
      "image/png": {
       "height": 420,
       "width": 420
      }
     },
     "output_type": "display_data"
    }
   ],
   "source": [
    "# reload data if necessary, here we have done it above already\n",
    "weather <- read.table(\"./data/Weather1.txt\", stringsAsFactors = FALSE)\n",
    "\n",
    "# examine the weather data\n",
    "str(weather)\n",
    "weather$V24 <- as.integer(weather$V24)\n",
    "# the distribution of quality ratings\n",
    "hist(weather$V24)"
   ]
  },
  {
   "cell_type": "code",
   "execution_count": 17,
   "id": "419c5a28-473d-454a-aec8-822caf01a3f1",
   "metadata": {},
   "outputs": [
    {
     "name": "stdout",
     "output_type": "stream",
     "text": [
      "'data.frame':\t2764 obs. of  17 variables:\n",
      " $ V3 : num  18.2 18.5 18.8 19.1 19.4 ...\n",
      " $ V4 : num  17.8 18.1 18.4 18.8 19 ...\n",
      " $ V5 : num  0 6.8 17 18 20 20 20 20 20 20 ...\n",
      " $ V6 : num  217 220 219 219 218 ...\n",
      " $ V7 : num  222 220 219 217 216 ...\n",
      " $ V8 : num  39.9 39.9 39.8 39.8 39.8 ...\n",
      " $ V9 : num  42.4 42.2 42.2 42.1 42.1 ...\n",
      " $ V10: num  81.7 81.7 81.4 81.5 81.5 ...\n",
      " $ V11: num  114 114 114 113 113 ...\n",
      " $ V13: num  623 623 623 623 622 ...\n",
      " $ V14: num  1.43 1.59 1.89 1.83 2.36 ...\n",
      " $ V15: num  9690 11022 13960 18511 26349 ...\n",
      " $ V16: num  12604 10787 9670 9648 9208 ...\n",
      " $ V17: num  95437 95437 95399 95360 95355 ...\n",
      " $ V22: num  18.1 18.4 18.9 19.3 19.7 ...\n",
      " $ V23: num  48.4 47.8 47.4 47 45.5 ...\n",
      " $ V24: int  2 2 2 2 2 2 2 2 2 2 ...\n"
     ]
    },
    {
     "data": {
      "text/plain": [
       "       V3              V4              V5              V6       \n",
       " Min.   :11.35   Min.   :11.08   Min.   : 0.00   Min.   :187.3  \n",
       " 1st Qu.:17.45   1st Qu.:17.06   1st Qu.:10.78   1st Qu.:200.9  \n",
       " Median :19.37   Median :19.02   Median :15.00   Median :207.0  \n",
       " Mean   :19.20   Mean   :18.82   Mean   :13.90   Mean   :208.5  \n",
       " 3rd Qu.:21.23   3rd Qu.:20.83   3rd Qu.:16.67   3rd Qu.:211.2  \n",
       " Max.   :25.54   Max.   :24.94   Max.   :26.00   Max.   :594.4  \n",
       "       V7              V8              V9             V10        \n",
       " Min.   :188.9   Min.   :27.08   Min.   :29.59   Min.   : 10.74  \n",
       " 1st Qu.:202.7   1st Qu.:40.35   1st Qu.:42.53   1st Qu.: 11.59  \n",
       " Median :209.4   Median :45.43   Median :47.53   Median : 11.80  \n",
       " Mean   :211.1   Mean   :44.88   Mean   :47.32   Mean   : 26.75  \n",
       " 3rd Qu.:213.2   3rd Qu.:49.35   3rd Qu.:52.69   3rd Qu.: 31.22  \n",
       " Max.   :609.2   Max.   :60.96   Max.   :62.59   Max.   :110.69  \n",
       "      V11              V13                V14               V15       \n",
       " Min.   : 11.33   Min.   :  0.6067   Min.   :0.00000   Min.   :    0  \n",
       " 1st Qu.: 13.27   1st Qu.:  0.6500   1st Qu.:0.09483   1st Qu.:    0  \n",
       " Median : 17.69   Median :611.7970   Median :0.65900   Median :    0  \n",
       " Mean   : 40.73   Mean   :325.3693   Mean   :1.10853   Mean   :14937  \n",
       " 3rd Qu.: 52.06   3rd Qu.:619.2108   3rd Qu.:1.97150   3rd Qu.:15088  \n",
       " Max.   :162.97   Max.   :624.9600   Max.   :6.32133   Max.   :95278  \n",
       "      V16             V17             V22              V23       \n",
       " Min.   :    0   Min.   :    0   Min.   : 9.223   Min.   :22.26  \n",
       " 1st Qu.:    0   1st Qu.:    0   1st Qu.:13.662   1st Qu.:46.43  \n",
       " Median :    0   Median :    0   Median :16.490   Median :57.48  \n",
       " Mean   :12248   Mean   :22048   Mean   :16.758   Mean   :55.98  \n",
       " 3rd Qu.:11131   3rd Qu.:38737   3rd Qu.:19.398   3rd Qu.:65.65  \n",
       " Max.   :85535   Max.   :95704   Max.   :29.908   Max.   :83.81  \n",
       "      V24       \n",
       " Min.   :1.000  \n",
       " 1st Qu.:2.000  \n",
       " Median :4.000  \n",
       " Mean   :3.953  \n",
       " 3rd Qu.:6.000  \n",
       " Max.   :7.000  "
      ]
     },
     "metadata": {},
     "output_type": "display_data"
    }
   ],
   "source": [
    "# remove columns with characters\n",
    "weather$V1 <- NULL\n",
    "weather$V2 <- NULL\n",
    "weather$V12<- NULL\n",
    "weather$V19 <- NULL\n",
    "weather$V18 <- NULL\n",
    "weather$V20 <- NULL\n",
    "weather$V21 <- NULL\n",
    "\n",
    "str(weather)\n",
    "#summary\n",
    "summary(weather)"
   ]
  },
  {
   "cell_type": "code",
   "execution_count": 18,
   "id": "53d46af1-9b87-4edf-8192-ba64a6a60cb9",
   "metadata": {},
   "outputs": [
    {
     "data": {
      "text/html": [
       "2764"
      ],
      "text/latex": [
       "2764"
      ],
      "text/markdown": [
       "2764"
      ],
      "text/plain": [
       "[1] 2764"
      ]
     },
     "metadata": {},
     "output_type": "display_data"
    }
   ],
   "source": [
    "length(weather$V24)\n",
    "\n",
    "weather_train <- weather[1:1098, ]\n",
    "weather_test <- weather[1099:1373, ]"
   ]
  },
  {
   "cell_type": "code",
   "execution_count": 19,
   "id": "f83c2123-456b-4cb0-beb1-185e4c2266f0",
   "metadata": {
    "scrolled": true,
    "tags": []
   },
   "outputs": [
    {
     "data": {
      "text/plain": [
       "n= 1098 \n",
       "\n",
       "node), split, n, deviance, yval\n",
       "      * denotes terminal node\n",
       "\n",
       " 1) root 1098 3421.877000 4.068306  \n",
       "   2) V8< 41.416 374 1552.783000 2.975936  \n",
       "     4) V4< 20.692 284  323.447200 2.073944  \n",
       "       8) V8< 40.01 199   49.688440 1.517588  \n",
       "        16) V9< 35.5733 98    2.908163 1.030612 *\n",
       "        17) V9>=35.5733 101    0.990099 1.990099 *\n",
       "       9) V8>=40.01 85   67.952940 3.376471 *\n",
       "     5) V4>=20.692 90  269.155600 5.822222  \n",
       "      10) V5>=16.33335 20    4.200000 2.700000 *\n",
       "      11) V5< 16.33335 70   14.285710 6.714286 *\n",
       "   3) V8>=41.416 724 1192.271000 4.632597  \n",
       "     6) V7>=210.7735 355  490.636600 4.061972  \n",
       "      12) V4>=19.3563 77   44.311690 2.753247 *\n",
       "      13) V4< 19.3563 278  277.913700 4.424460  \n",
       "        26) V9>=56.816 42    0.000000 3.000000 *\n",
       "        27) V9< 56.816 236  177.525400 4.677966  \n",
       "          54) V7>=220.4375 39    8.307692 3.692308 *\n",
       "          55) V7< 220.4375 197  123.827400 4.873096 *\n",
       "     7) V7< 210.7735 369  474.834700 5.181572  \n",
       "      14) V3< 15.207 87   40.436780 3.919540 *\n",
       "      15) V3>=15.207 282  253.081600 5.570922  \n",
       "        30) V8>=43.5973 229  151.807900 5.296943 *\n",
       "        31) V8< 43.5973 53    9.811321 6.754717 *"
      ]
     },
     "metadata": {},
     "output_type": "display_data"
    },
    {
     "name": "stdout",
     "output_type": "stream",
     "text": [
      "Call:\n",
      "rpart(formula = V24 ~ ., data = weather_train)\n",
      "  n= 1098 \n",
      "\n",
      "           CP nsplit rel error    xerror       xstd\n",
      "1  0.23919673      0 1.0000000 1.0022288 0.02998920\n",
      "2  0.07325507      2 0.5216065 0.5396703 0.02516283\n",
      "3  0.06627924      3 0.4483515 0.5044150 0.02427948\n",
      "4  0.06014412      4 0.3820722 0.4325110 0.02219116\n",
      "5  0.05298739      5 0.3219281 0.3724115 0.02156876\n",
      "6  0.04921605      6 0.2689407 0.3340961 0.02003380\n",
      "7  0.02933719      7 0.2197247 0.2832704 0.01873870\n",
      "8  0.02672872      8 0.1903875 0.2583806 0.01859679\n",
      "9  0.01338160      9 0.1636588 0.2397089 0.01850928\n",
      "10 0.01326474     10 0.1502772 0.2296196 0.01798639\n",
      "11 0.01000000     11 0.1370124 0.2142979 0.01843142\n",
      "\n",
      "Variable importance\n",
      " V4  V8  V3  V7  V6 V23  V9 V22  V5 V14 V15 \n",
      " 14  14  13  11  10  10   9   9   6   2   2 \n",
      "\n",
      "Node number 1: 1098 observations,    complexity param=0.2391967\n",
      "  mean=4.068306, MSE=3.116464 \n",
      "  left son=2 (374 obs) right son=3 (724 obs)\n",
      "  Primary splits:\n",
      "      V8  < 41.416    to the left,  improve=0.19779290, (0 missing)\n",
      "      V9  < 43.26665  to the left,  improve=0.14564200, (0 missing)\n",
      "      V6  < 201.7015  to the left,  improve=0.09432937, (0 missing)\n",
      "      V3  < 21.948    to the left,  improve=0.08143953, (0 missing)\n",
      "      V23 < 70.856    to the right, improve=0.07990836, (0 missing)\n",
      "  Surrogate splits:\n",
      "      V9  < 43.23865  to the left,  agree=0.872, adj=0.623, (0 split)\n",
      "      V6  < 204.032   to the left,  agree=0.831, adj=0.503, (0 split)\n",
      "      V7  < 205.92    to the left,  agree=0.820, adj=0.471, (0 split)\n",
      "      V23 < 47.1173   to the left,  agree=0.795, adj=0.398, (0 split)\n",
      "      V14 < 2.764     to the right, agree=0.727, adj=0.198, (0 split)\n",
      "\n",
      "Node number 2: 374 observations,    complexity param=0.2391967\n",
      "  mean=2.975936, MSE=4.151827 \n",
      "  left son=4 (284 obs) right son=5 (90 obs)\n",
      "  Primary splits:\n",
      "      V4  < 20.692    to the left,  improve=0.6183610, (0 missing)\n",
      "      V3  < 21.456    to the left,  improve=0.6043219, (0 missing)\n",
      "      V22 < 19.47935  to the left,  improve=0.4144209, (0 missing)\n",
      "      V8  < 30.8      to the right, improve=0.2470542, (0 missing)\n",
      "      V23 < 27.39     to the right, improve=0.2437645, (0 missing)\n",
      "  Surrogate splits:\n",
      "      V3  < 21.42865  to the left,  agree=0.976, adj=0.900, (0 split)\n",
      "      V22 < 19.552    to the left,  agree=0.922, adj=0.678, (0 split)\n",
      "      V8  < 30.8      to the right, agree=0.821, adj=0.256, (0 split)\n",
      "      V23 < 27.39     to the right, agree=0.818, adj=0.244, (0 split)\n",
      "      V15 < 37330.9   to the left,  agree=0.797, adj=0.156, (0 split)\n",
      "\n",
      "Node number 3: 724 observations,    complexity param=0.06627924\n",
      "  mean=4.632597, MSE=1.646783 \n",
      "  left son=6 (355 obs) right son=7 (369 obs)\n",
      "  Primary splits:\n",
      "      V7  < 210.7735  to the right, improve=0.1902248, (0 missing)\n",
      "      V6  < 201.835   to the right, improve=0.1625339, (0 missing)\n",
      "      V9  < 56.816    to the right, improve=0.1596428, (0 missing)\n",
      "      V23 < 70.1573   to the right, improve=0.1152501, (0 missing)\n",
      "      V5  < 14.96665  to the left,  improve=0.1126116, (0 missing)\n",
      "  Surrogate splits:\n",
      "      V6  < 209.7495  to the right, agree=0.884, adj=0.763, (0 split)\n",
      "      V5  < 14.96665  to the left,  agree=0.642, adj=0.270, (0 split)\n",
      "      V23 < 66.424    to the right, agree=0.613, adj=0.211, (0 split)\n",
      "      V9  < 55.92135  to the right, agree=0.601, adj=0.186, (0 split)\n",
      "      V22 < 11.55835  to the right, agree=0.601, adj=0.186, (0 split)\n",
      "\n",
      "Node number 4: 284 observations,    complexity param=0.06014412\n",
      "  mean=2.073944, MSE=1.138899 \n",
      "  left son=8 (199 obs) right son=9 (85 obs)\n",
      "  Primary splits:\n",
      "      V8  < 40.01     to the left,  improve=0.6362887, (0 missing)\n",
      "      V9  < 35.6707   to the left,  improve=0.5085776, (0 missing)\n",
      "      V6  < 207.776   to the left,  improve=0.4136219, (0 missing)\n",
      "      V7  < 209.7225  to the left,  improve=0.4136219, (0 missing)\n",
      "      V23 < 49.24265  to the left,  improve=0.3633233, (0 missing)\n",
      "  Surrogate splits:\n",
      "      V6  < 207.776   to the left,  agree=0.908, adj=0.694, (0 split)\n",
      "      V7  < 209.7225  to the left,  agree=0.908, adj=0.694, (0 split)\n",
      "      V5  < 8.933335  to the right, agree=0.859, adj=0.529, (0 split)\n",
      "      V14 < 0.018     to the right, agree=0.810, adj=0.365, (0 split)\n",
      "      V9  < 42.60265  to the left,  agree=0.792, adj=0.306, (0 split)\n",
      "\n",
      "Node number 5: 90 observations,    complexity param=0.07325507\n",
      "  mean=5.822222, MSE=2.990617 \n",
      "  left son=10 (20 obs) right son=11 (70 obs)\n",
      "  Primary splits:\n",
      "      V5  < 16.33335  to the right, improve=0.9313196, (0 missing)\n",
      "      V6  < 206.848   to the right, improve=0.9313196, (0 missing)\n",
      "      V7  < 209.728   to the right, improve=0.9313196, (0 missing)\n",
      "      V23 < 42.22335  to the right, improve=0.8616588, (0 missing)\n",
      "      V8  < 37.6733   to the right, improve=0.4671851, (0 missing)\n",
      "  Surrogate splits:\n",
      "      V6  < 206.848   to the right, agree=1.000, adj=1.0, (0 split)\n",
      "      V7  < 209.728   to the right, agree=1.000, adj=1.0, (0 split)\n",
      "      V23 < 42.22335  to the right, agree=0.978, adj=0.9, (0 split)\n",
      "      V3  < 19.864    to the left,  agree=0.822, adj=0.2, (0 split)\n",
      "      V4  < 23.59     to the right, agree=0.822, adj=0.2, (0 split)\n",
      "\n",
      "Node number 6: 355 observations,    complexity param=0.04921605\n",
      "  mean=4.061972, MSE=1.382075 \n",
      "  left son=12 (77 obs) right son=13 (278 obs)\n",
      "  Primary splits:\n",
      "      V4  < 19.3563   to the right, improve=0.3432505, (0 missing)\n",
      "      V9  < 43.78     to the left,  improve=0.3355645, (0 missing)\n",
      "      V3  < 19.545    to the right, improve=0.3100334, (0 missing)\n",
      "      V8  < 46.35335  to the left,  improve=0.1482451, (0 missing)\n",
      "      V22 < 14.43965  to the right, improve=0.1440871, (0 missing)\n",
      "  Surrogate splits:\n",
      "      V3  < 19.545    to the right, agree=0.989, adj=0.948, (0 split)\n",
      "      V9  < 43.78     to the left,  agree=0.924, adj=0.649, (0 split)\n",
      "      V5  < 17.8      to the right, agree=0.854, adj=0.325, (0 split)\n",
      "      V8  < 43.696    to the left,  agree=0.848, adj=0.299, (0 split)\n",
      "      V22 < 20.459    to the right, agree=0.831, adj=0.221, (0 split)\n",
      "\n",
      "Node number 7: 369 observations,    complexity param=0.05298739\n",
      "  mean=5.181572, MSE=1.286815 \n",
      "  left son=14 (87 obs) right son=15 (282 obs)\n",
      "  Primary splits:\n",
      "      V3  < 15.207    to the left,  improve=0.3818515, (0 missing)\n",
      "      V4  < 14.1253   to the left,  improve=0.3742941, (0 missing)\n",
      "      V23 < 54.196    to the right, improve=0.3345119, (0 missing)\n",
      "      V5  < 14.3667   to the left,  improve=0.2905638, (0 missing)\n",
      "      V8  < 43.292    to the right, improve=0.2895835, (0 missing)\n",
      "  Surrogate splits:\n",
      "      V4  < 14.56635  to the left,  agree=0.995, adj=0.977, (0 split)\n",
      "      V22 < 10.96665  to the left,  agree=0.905, adj=0.598, (0 split)\n",
      "      V5  < 10.53335  to the left,  agree=0.902, adj=0.586, (0 split)\n",
      "      V9  < 52.42     to the right, agree=0.854, adj=0.379, (0 split)\n",
      "      V23 < 75.048    to the right, agree=0.824, adj=0.253, (0 split)\n",
      "\n",
      "Node number 8: 199 observations,    complexity param=0.0133816\n",
      "  mean=1.517588, MSE=0.2496907 \n",
      "  left son=16 (98 obs) right son=17 (101 obs)\n",
      "  Primary splits:\n",
      "      V9  < 35.5733   to the left,  improve=0.9215459, (0 missing)\n",
      "      V23 < 49.24265  to the left,  improve=0.7853290, (0 missing)\n",
      "      V3  < 17.30465  to the right, improve=0.7093393, (0 missing)\n",
      "      V4  < 16.79435  to the right, improve=0.7093393, (0 missing)\n",
      "      V22 < 11.847    to the right, improve=0.5637332, (0 missing)\n",
      "  Surrogate splits:\n",
      "      V23 < 49.09465  to the left,  agree=0.935, adj=0.867, (0 split)\n",
      "      V3  < 17.30465  to the right, agree=0.925, adj=0.847, (0 split)\n",
      "      V4  < 16.79435  to the right, agree=0.925, adj=0.847, (0 split)\n",
      "      V22 < 11.847    to the right, agree=0.869, adj=0.735, (0 split)\n",
      "      V7  < 202.24    to the right, agree=0.809, adj=0.612, (0 split)\n",
      "\n",
      "Node number 9: 85 observations\n",
      "  mean=3.376471, MSE=0.7994464 \n",
      "\n",
      "Node number 10: 20 observations\n",
      "  mean=2.7, MSE=0.21 \n",
      "\n",
      "Node number 11: 70 observations\n",
      "  mean=6.714286, MSE=0.2040816 \n",
      "\n",
      "Node number 12: 77 observations\n",
      "  mean=2.753247, MSE=0.5754765 \n",
      "\n",
      "Node number 13: 278 observations,    complexity param=0.02933719\n",
      "  mean=4.42446, MSE=0.9996895 \n",
      "  left son=26 (42 obs) right son=27 (236 obs)\n",
      "  Primary splits:\n",
      "      V9  < 56.816    to the right, improve=0.3612210, (0 missing)\n",
      "      V23 < 70.1573   to the right, improve=0.2040276, (0 missing)\n",
      "      V8  < 55.84     to the right, improve=0.2005650, (0 missing)\n",
      "      V14 < 0.4526665 to the right, improve=0.1405391, (0 missing)\n",
      "      V13 < 0.848     to the right, improve=0.1384873, (0 missing)\n",
      "  Surrogate splits:\n",
      "      V8  < 55.84     to the right, agree=0.939, adj=0.595, (0 split)\n",
      "      V23 < 70.72     to the right, agree=0.906, adj=0.381, (0 split)\n",
      "      V3  < 12.90835  to the left,  agree=0.896, adj=0.310, (0 split)\n",
      "      V4  < 12.807    to the left,  agree=0.896, adj=0.310, (0 split)\n",
      "      V7  < 210.8105  to the left,  agree=0.853, adj=0.024, (0 split)\n",
      "\n",
      "Node number 14: 87 observations\n",
      "  mean=3.91954, MSE=0.4647906 \n",
      "\n",
      "Node number 15: 282 observations,    complexity param=0.02672872\n",
      "  mean=5.570922, MSE=0.8974523 \n",
      "  left son=30 (229 obs) right son=31 (53 obs)\n",
      "  Primary splits:\n",
      "      V8  < 43.5973   to the right, improve=0.3613949, (0 missing)\n",
      "      V6  < 202.5545  to the right, improve=0.3076292, (0 missing)\n",
      "      V23 < 53.612    to the right, improve=0.3016175, (0 missing)\n",
      "      V7  < 204.7895  to the right, improve=0.2971850, (0 missing)\n",
      "      V9  < 43.968    to the right, improve=0.2858725, (0 missing)\n",
      "  Surrogate splits:\n",
      "      V9  < 45.1      to the right, agree=0.975, adj=0.868, (0 split)\n",
      "      V6  < 202.5545  to the right, agree=0.933, adj=0.642, (0 split)\n",
      "      V7  < 204.997   to the right, agree=0.933, adj=0.642, (0 split)\n",
      "      V23 < 50.396    to the right, agree=0.922, adj=0.585, (0 split)\n",
      "      V22 < 23.0747   to the left,  agree=0.848, adj=0.189, (0 split)\n",
      "\n",
      "Node number 16: 98 observations\n",
      "  mean=1.030612, MSE=0.02967514 \n",
      "\n",
      "Node number 17: 101 observations\n",
      "  mean=1.990099, MSE=0.00980296 \n",
      "\n",
      "Node number 26: 42 observations\n",
      "  mean=3, MSE=0 \n",
      "\n",
      "Node number 27: 236 observations,    complexity param=0.01326474\n",
      "  mean=4.677966, MSE=0.7522264 \n",
      "  left son=54 (39 obs) right son=55 (197 obs)\n",
      "  Primary splits:\n",
      "      V7  < 220.4375  to the right, improve=0.2556835, (0 missing)\n",
      "      V14 < 0.689     to the right, improve=0.1887720, (0 missing)\n",
      "      V15 < 12559     to the right, improve=0.1879558, (0 missing)\n",
      "      V6  < 215.5465  to the right, improve=0.1655279, (0 missing)\n",
      "      V11 < 13.68     to the right, improve=0.1497220, (0 missing)\n",
      "  Surrogate splits:\n",
      "      V6  < 222.0265  to the right, agree=0.924, adj=0.538, (0 split)\n",
      "      V15 < 17233.25  to the right, agree=0.890, adj=0.333, (0 split)\n",
      "      V23 < 55.06265  to the left,  agree=0.890, adj=0.333, (0 split)\n",
      "      V8  < 42.352    to the left,  agree=0.864, adj=0.179, (0 split)\n",
      "      V14 < 2.18867   to the right, agree=0.860, adj=0.154, (0 split)\n",
      "\n",
      "Node number 30: 229 observations\n",
      "  mean=5.296943, MSE=0.6629164 \n",
      "\n",
      "Node number 31: 53 observations\n",
      "  mean=6.754717, MSE=0.1851193 \n",
      "\n",
      "Node number 54: 39 observations\n",
      "  mean=3.692308, MSE=0.2130178 \n",
      "\n",
      "Node number 55: 197 observations\n",
      "  mean=4.873096, MSE=0.6285655 \n",
      "\n"
     ]
    }
   ],
   "source": [
    "##  Training a model on the data ----\n",
    "# regression tree using rpart\n",
    "library(rpart)\n",
    "m.rpart <- rpart(V24 ~ ., data = weather_train)\n",
    "\n",
    "# get basic information about the tree\n",
    "m.rpart\n",
    "\n",
    "# get more detailed information about the tree\n",
    "summary(m.rpart)"
   ]
  },
  {
   "cell_type": "code",
   "execution_count": 20,
   "id": "cce037bb-7636-4871-9f30-f0917b72e561",
   "metadata": {},
   "outputs": [
    {
     "data": {
      "image/png": "[encoded data removed]",
      "text/plain": [
       "plot without title"
      ]
     },
     "metadata": {
      "image/png": {
       "height": 420,
       "width": 420
      }
     },
     "output_type": "display_data"
    },
    {
     "data": {
      "image/png": "[encoded data removed]",
      "text/plain": [
       "plot without title"
      ]
     },
     "metadata": {
      "image/png": {
       "height": 420,
       "width": 420
      }
     },
     "output_type": "display_data"
    }
   ],
   "source": [
    "# use the rpart.plot package to create a visualization\n",
    "# install.packages(\"rpart.plot\")\n",
    "library(rpart.plot)\n",
    "\n",
    "# a basic decision tree diagram\n",
    "rpart.plot(m.rpart, digits = 4)\n",
    "\n",
    "# a few adjustments to the diagram\n",
    "rpart.plot(m.rpart, digits = 5, fallen.leaves = TRUE, type = 4, extra = 101)"
   ]
  },
  {
   "cell_type": "code",
   "execution_count": 21,
   "id": "22429622-08dc-46f0-98ef-6f12adca7623",
   "metadata": {},
   "outputs": [
    {
     "data": {
      "text/plain": [
       "   Min. 1st Qu.  Median    Mean 3rd Qu.    Max. \n",
       "  2.700   3.692   4.873   4.486   5.297   5.297 "
      ]
     },
     "metadata": {},
     "output_type": "display_data"
    },
    {
     "data": {
      "text/plain": [
       "   Min. 1st Qu.  Median    Mean 3rd Qu.    Max. \n",
       "  1.000   1.000   2.000   3.509   7.000   7.000 "
      ]
     },
     "metadata": {},
     "output_type": "display_data"
    }
   ],
   "source": [
    "##  Evaluate model performance ----\n",
    "\n",
    "# generate predictions for the testing dataset\n",
    "p.rpart <- predict(m.rpart, weather_test)\n",
    "\n",
    "# compare the distribution of predicted values vs. actual values\n",
    "summary(p.rpart)\n",
    "summary(weather_test$V24)\n"
   ]
  },
  {
   "cell_type": "code",
   "execution_count": 22,
   "id": "a844a84e-81bb-4e94-8001-eebb0ac9a0c7",
   "metadata": {},
   "outputs": [
    {
     "data": {
      "text/html": [
       "0.328132120759084"
      ],
      "text/latex": [
       "0.328132120759084"
      ],
      "text/markdown": [
       "0.328132120759084"
      ],
      "text/plain": [
       "[1] 0.3281321"
      ]
     },
     "metadata": {},
     "output_type": "display_data"
    },
    {
     "data": {
      "text/html": [
       "2.54317063838441"
      ],
      "text/latex": [
       "2.54317063838441"
      ],
      "text/markdown": [
       "2.54317063838441"
      ],
      "text/plain": [
       "[1] 2.543171"
      ]
     },
     "metadata": {},
     "output_type": "display_data"
    },
    {
     "data": {
      "text/html": [
       "4.06830601092896"
      ],
      "text/latex": [
       "4.06830601092896"
      ],
      "text/markdown": [
       "4.06830601092896"
      ],
      "text/plain": [
       "[1] 4.068306"
      ]
     },
     "metadata": {},
     "output_type": "display_data"
    },
    {
     "data": {
      "text/html": [
       "2.76276363636364"
      ],
      "text/latex": [
       "2.76276363636364"
      ],
      "text/markdown": [
       "2.76276363636364"
      ],
      "text/plain": [
       "[1] 2.762764"
      ]
     },
     "metadata": {},
     "output_type": "display_data"
    }
   ],
   "source": [
    "\n",
    "# compare the correlation\n",
    "cor(p.rpart, weather_test$V24)\n",
    "\n",
    "# function to calculate the mean absolute error\n",
    "MAE <- function(actual, predicted) {\n",
    "  mean(abs(actual - predicted))  \n",
    "}\n",
    "\n",
    "# mean absolute error between predicted and actual values\n",
    "MAE(p.rpart, weather_test$V24)\n",
    "\n",
    "# mean absolute error between actual values and mean value\n",
    "mean(weather_train$V24) # The result is 4.28\n",
    "MAE(4.28, weather_test$V24)\n"
   ]
  },
  {
   "cell_type": "code",
   "execution_count": 23,
   "id": "fc1bb05c-1851-44fe-9334-2b2309e4e9b5",
   "metadata": {
    "scrolled": true,
    "tags": []
   },
   "outputs": [
    {
     "data": {
      "text/plain": [
       "\n",
       "Call:\n",
       "cubist.default(x = weather_train[-17], y = weather_train$V24)\n",
       "\n",
       "Number of samples: 1098 \n",
       "Number of predictors: 16 \n",
       "\n",
       "Number of committees: 1 \n",
       "Number of rules: 41 \n"
      ]
     },
     "metadata": {},
     "output_type": "display_data"
    },
    {
     "data": {
      "text/plain": [
       "\n",
       "Call:\n",
       "cubist.default(x = weather_train[-17], y = weather_train$V24)\n",
       "\n",
       "\n",
       "Cubist [Release 2.07 GPL Edition]  Tue Feb 21 14:13:55 2023\n",
       "---------------------------------\n",
       "\n",
       "    Target attribute `outcome'\n",
       "\n",
       "Read 1098 cases (17 attributes) from undefined.data\n",
       "\n",
       "Model:\n",
       "\n",
       "  Rule 1: [91 cases, mean 1.0, range 1 to 1, est err 0.0]\n",
       "\n",
       "    if\n",
       "\tV4 <= 20.6813\n",
       "\tV8 <= 37.0547\n",
       "\tV23 <= 48.528\n",
       "    then\n",
       "\toutcome = 1\n",
       "\n",
       "  Rule 2: [11 cases, mean 1.5, range 1 to 2, est err 0.3]\n",
       "\n",
       "    if\n",
       "\tV4 > 16.7887\n",
       "\tV8 <= 37.0547\n",
       "\tV23 > 48.528\n",
       "    then\n",
       "\toutcome = 25.4 - 1.407 V4 + 0.009 V9 + 0.022 V3 - 0.002 V23 - 0.004 V8\n",
       "\n",
       "  Rule 3: [55 cases, mean 2.0, range 2 to 2, est err 0.0]\n",
       "\n",
       "    if\n",
       "\tV4 <= 16.7887\n",
       "\tV8 <= 37.0547\n",
       "    then\n",
       "\toutcome = 2\n",
       "\n",
       "  Rule 4: [68 cases, mean 2.0, range 2 to 2, est err 0.0]\n",
       "\n",
       "    if\n",
       "\tV3 <= 14.83\n",
       "\tV8 <= 40.376\n",
       "    then\n",
       "\toutcome = 2\n",
       "\n",
       "  Rule 5: [10 cases, mean 2.0, range 2 to 2, est err 0.0]\n",
       "\n",
       "    if\n",
       "\tV4 > 19.7733\n",
       "\tV5 <= 14.9333\n",
       "\tV6 > 210.101\n",
       "\tV23 <= 64.5467\n",
       "    then\n",
       "\toutcome = 2\n",
       "\n",
       "  Rule 6: [34 cases, mean 2.2, range 2 to 3, est err 0.0]\n",
       "\n",
       "    if\n",
       "\tV3 > 20.532\n",
       "\tV3 <= 22.4013\n",
       "\tV5 > 14.9333\n",
       "\tV7 > 213.525\n",
       "    then\n",
       "\toutcome = -0.1 + 0.082 V3 + 0.0035 V7 - 0.023 V5 + 0.0016 V11 - 0.006 V8\n",
       "\t          + 0.005 V9\n",
       "\n",
       "  Rule 7: [26 cases, mean 3.0, range 3 to 3, est err 0.0]\n",
       "\n",
       "    if\n",
       "\tV6 > 210.101\n",
       "\tV9 <= 46.16\n",
       "\tV22 <= 12.836\n",
       "\tV23 <= 64.5467\n",
       "    then\n",
       "\toutcome = 3\n",
       "\n",
       "  Rule 8: [58 cases, mean 3.0, range 3 to 3, est err 0.0]\n",
       "\n",
       "    if\n",
       "\tV3 <= 17.272\n",
       "\tV9 > 56.7413\n",
       "    then\n",
       "\toutcome = 3\n",
       "\n",
       "  Rule 9: [16 cases, mean 3.0, range 3 to 3, est err 0.0]\n",
       "\n",
       "    if\n",
       "\tV3 > 22.4013\n",
       "\tV7 > 213.525\n",
       "    then\n",
       "\toutcome = 3\n",
       "\n",
       "  Rule 10: [17 cases, mean 3.2, range 2 to 5, est err 0.2]\n",
       "\n",
       "    if\n",
       "\tV3 <= 14.83\n",
       "\tV5 <= 14.9333\n",
       "\tV8 > 40.376\n",
       "\tV8 <= 48.184\n",
       "\tV9 <= 56.7413\n",
       "    then\n",
       "\toutcome = -2.3 + 0.6 V3 - 0.455 V22 + 0.069 V8 + 0.0058 V11 - 0.05 V4\n",
       "\t          + 0.015 V9 - 0.07 V14 - 0.0031 V10 - 0.007 V5\n",
       "\n",
       "  Rule 11: [10 cases, mean 3.2, range 3 to 5, est err 0.3]\n",
       "\n",
       "    if\n",
       "\tV3 > 17.272\n",
       "\tV9 > 56.7413\n",
       "    then\n",
       "\toutcome = -40.3 + 1.747 V3 + 0.389 V9 - 0.221 V8 + 0.294 V5 - 0.023 V22\n",
       "\t          - 0.005 V23 - 0.016 V4 + 0.0007 V11 - 0.0013 V6\n",
       "\n",
       "  Rule 12: [18 cases, mean 3.2, range 2 to 4, est err 0.1]\n",
       "\n",
       "    if\n",
       "\tV3 <= 20.532\n",
       "\tV5 > 14.9333\n",
       "\tV7 > 213.525\n",
       "\tV13 > 617.323\n",
       "\tV16 <= 9856\n",
       "    then\n",
       "\toutcome = 121.9 - 0.18778 V13 - 0.0001599 V16 - 0.306 V3 + 0.112 V9\n",
       "\t          - 0.002 V23 - 0.006 V5 - 0.005 V22\n",
       "\n",
       "  Rule 13: [12 cases, mean 3.5, range 3 to 5, est err 0.1]\n",
       "\n",
       "    if\n",
       "\tV3 <= 20.532\n",
       "\tV5 > 14.9333\n",
       "\tV6 > 221.333\n",
       "\tV16 > 9856\n",
       "    then\n",
       "\toutcome = -5.6 + 0.151 V8 + 0.089 V9 - 0.103 V5 - 0.00113 V13\n",
       "\t          + 1.22e-05 V16 + 0.073 V3 - 0.0019 V6 + 0.0007 V7\n",
       "\n",
       "  Rule 14: [46 cases, mean 3.5, range 2 to 5, est err 0.3]\n",
       "\n",
       "    if\n",
       "\tV3 > 14.83\n",
       "\tV4 <= 19.7733\n",
       "\tV5 <= 14.9333\n",
       "\tV6 > 210.101\n",
       "\tV8 <= 50.2027\n",
       "\tV22 > 12.836\n",
       "\tV23 <= 64.5467\n",
       "    then\n",
       "\toutcome = 16.7 + 0.354 V9 - 0.363 V8 - 0.383 V3 - 0.054 V6 + 0.056 V23\n",
       "\t          + 0.075 V5 + 0.076 V4 - 0.0044 V10 - 0.026 V22 + 0.0013 V11\n",
       "\n",
       "  Rule 15: [35 cases, mean 3.7, range 3 to 5, est err 0.1]\n",
       "\n",
       "    if\n",
       "\tV3 > 17.8433\n",
       "\tV5 <= 14.9333\n",
       "\tV9 <= 55.7387\n",
       "\tV22 > 13.2053\n",
       "\tV23 > 64.5467\n",
       "    then\n",
       "\toutcome = -32.4 + 0.572 V9 + 1.152 V3 - 0.473 V22 - 0.2 V8 + 0.054 V23\n",
       "\t          - 0.035 V4 - 0.027 V5 - 0.0021 V6 + 0.0007 V11\n",
       "\n",
       "  Rule 16: [27 cases, mean 3.9, range 3 to 4, est err 0.1]\n",
       "\n",
       "    if\n",
       "\tV3 <= 14.83\n",
       "\tV8 > 48.184\n",
       "\tV9 > 54.6347\n",
       "\tV9 <= 56.7413\n",
       "    then\n",
       "\toutcome = 24.9 - 0.0605 V7 - 0.147 V8 - 0.05 V5 - 0.011 V9 - 0.0004 V11\n",
       "\n",
       "  Rule 17: [32 cases, mean 4.0, range 4 to 4, est err 0.0]\n",
       "\n",
       "    if\n",
       "\tV3 > 14.83\n",
       "\tV5 <= 14.9333\n",
       "\tV8 <= 43.7707\n",
       "\tV22 <= 13.2053\n",
       "\tV23 > 64.5467\n",
       "    then\n",
       "\toutcome = 4\n",
       "\n",
       "  Rule 18: [20 cases, mean 4.3, range 4 to 6, est err 0.1]\n",
       "\n",
       "    if\n",
       "\tV4 > 19.9693\n",
       "\tV9 > 44.9947\n",
       "\tV15 > 11022\n",
       "    then\n",
       "\toutcome = 31.7 - 0.563 V4 - 0.05 V7 - 0.252 V5 + 0.254 V22 - 0.129 V8\n",
       "\t          - 0.024 V3 + 0.007 V9 - 0.003 V23 + 1e-06 V16\n",
       "\n",
       "  Rule 19: [17 cases, mean 4.4, range 3 to 6, est err 0.1]\n",
       "\n",
       "    if\n",
       "\tV3 > 14.83\n",
       "\tV3 <= 17.8433\n",
       "\tV9 <= 56.7413\n",
       "\tV22 > 13.2053\n",
       "\tV23 > 64.5467\n",
       "    then\n",
       "\toutcome = 30.2 - 0.569 V9 - 0.649 V22 + 0.536 V4 + 0.393 V3 - 0.061 V5\n",
       "\t          + 0.028 V8\n",
       "\n",
       "  Rule 20: [45 cases, mean 4.5, range 3 to 5, est err 0.1]\n",
       "\n",
       "    if\n",
       "\tV3 <= 14.83\n",
       "\tV8 > 48.184\n",
       "\tV9 <= 54.6347\n",
       "    then\n",
       "\toutcome = 24.7 - 0.325 V9 - 0.113 V8 + 0.0183 V7 - 0.103 V22 + 0.091 V3\n",
       "\t          - 0.062 V5 - 0.0018 V11 + 2.2e-06 V16 - 0.0023 V6 - 0.003 V23\n",
       "\t          - 0.03 V14 - 0.009 V4 + 7e-07 V15\n",
       "\n",
       "  Rule 21: [19 cases, mean 4.5, range 3 to 5, est err 0.0]\n",
       "\n",
       "    if\n",
       "\tV3 <= 20.532\n",
       "\tV5 > 14.9333\n",
       "\tV6 <= 221.333\n",
       "\tV7 > 213.525\n",
       "\tV16 > 9856\n",
       "    then\n",
       "\toutcome = 6.6 + 0.172 V8 - 0.0279 V6 - 0.107 V3 - 1.15e-05 V16\n",
       "\t          - 0.0078 V7\n",
       "\n",
       "  Rule 22: [25 cases, mean 4.6, range 3 to 5, est err 0.1]\n",
       "\n",
       "    if\n",
       "\tV3 > 14.83\n",
       "\tV5 <= 14.9333\n",
       "\tV6 <= 210.101\n",
       "\tV8 <= 50.2027\n",
       "\tV15 <= 11179.3\n",
       "\tV23 <= 64.5467\n",
       "    then\n",
       "\toutcome = 2.6 + 0.322 V9 - 0.216 V8 + 0.058 V23 - 0.16 V3 - 0.0238 V6\n",
       "\t          + 0.0053 V11 + 0.039 V5\n",
       "\n",
       "  Rule 23: [12 cases, mean 4.7, range 4 to 6, est err 0.0]\n",
       "\n",
       "    if\n",
       "\tV3 <= 20.532\n",
       "\tV5 > 14.9333\n",
       "\tV7 > 213.525\n",
       "\tV13 <= 617.323\n",
       "    then\n",
       "\toutcome = 6 - 0.00326 V13\n",
       "\n",
       "  Rule 24: [13 cases, mean 4.8, range 4 to 5, est err 0.1]\n",
       "\n",
       "    if\n",
       "\tV5 > 14.9333\n",
       "\tV15 <= 11022\n",
       "\tV22 > 13.8907\n",
       "\tV22 <= 15.1487\n",
       "\tV23 > 54.008\n",
       "    then\n",
       "\toutcome = 5.5 - 0.221 V22 + 0.254 V4 - 0.021 V23 - 0.0029 V7\n",
       "\n",
       "  Rule 25: [36 cases, mean 4.8, range 3 to 6, est err 0.1]\n",
       "\n",
       "    if\n",
       "\tV3 > 14.83\n",
       "\tV5 <= 14.9333\n",
       "\tV6 <= 210.101\n",
       "\tV8 <= 50.2027\n",
       "\tV23 <= 64.5467\n",
       "    then\n",
       "\toutcome = 2.9 + 0.311 V9 - 0.211 V8 + 0.063 V23 - 0.0248 V6 - 0.151 V3\n",
       "\t          + 0.0052 V11 + 0.037 V5 - 0.007 V4 - 0.0008 V10\n",
       "\n",
       "  Rule 26: [23 cases, mean 4.8, range 3 to 6, est err 0.2]\n",
       "\n",
       "    if\n",
       "\tV4 > 19.5073\n",
       "\tV5 > 14.9333\n",
       "\tV7 <= 213.525\n",
       "\tV15 <= 11022\n",
       "\tV23 > 54.008\n",
       "    then\n",
       "\toutcome = 38.4 + 1.086 V9 - 0.2668 V7 + 2.38 V4 - 1.673 V22 - 0.694 V8\n",
       "\t          - 0.0882 V11 - 0.245 V23 - 0.018 V5 - 0.016 V3\n",
       "\n",
       "  Rule 27: [23 cases, mean 5.0, range 5 to 5, est err 0.0]\n",
       "\n",
       "    if\n",
       "\tV4 <= 19.5073\n",
       "\tV5 > 14.9333\n",
       "\tV15 <= 11022\n",
       "\tV22 > 13.8907\n",
       "\tV23 > 60.6907\n",
       "    then\n",
       "\toutcome = 5\n",
       "\n",
       "  Rule 28: [24 cases, mean 5.0, range 5 to 5, est err 0.0]\n",
       "\n",
       "    if\n",
       "\tV3 > 17.8433\n",
       "\tV9 > 55.7387\n",
       "    then\n",
       "\toutcome = 5\n",
       "\n",
       "  Rule 29: [46 cases, mean 5.0, range 5 to 5, est err 0.0]\n",
       "\n",
       "    if\n",
       "\tV3 > 14.83\n",
       "\tV5 <= 14.9333\n",
       "\tV8 <= 50.2027\n",
       "\tV9 > 46.16\n",
       "\tV22 <= 12.836\n",
       "    then\n",
       "\toutcome = 5\n",
       "\n",
       "  Rule 30: [27 cases, mean 5.2, range 4 to 6, est err 0.2]\n",
       "\n",
       "    if\n",
       "\tV3 > 14.83\n",
       "\tV5 <= 14.9333\n",
       "\tV8 > 50.2027\n",
       "\tV23 <= 64.5467\n",
       "    then\n",
       "\toutcome = -23.3 - 1.763 V8 + 1.183 V9 + 0.627 V23 + 0.986 V3 - 0.0012 V6\n",
       "\n",
       "  Rule 31: [23 cases, mean 5.2, range 4 to 6, est err 0.2]\n",
       "\n",
       "    if\n",
       "\tV4 <= 19.5073\n",
       "\tV7 <= 213.525\n",
       "\tV15 <= 11022\n",
       "\tV22 > 15.1487\n",
       "\tV23 > 54.008\n",
       "\tV23 <= 60.6907\n",
       "    then\n",
       "\toutcome = -5.2 + 1.264 V8 - 1.029 V9 + 0.0001081 V15 - 0.058 V23\n",
       "\t          - 0.182 V5 + 0.221 V4 + 0.0139 V7 + 0.012 V3\n",
       "\n",
       "  Rule 32: [24 cases, mean 5.6, range 5 to 6, est err 0.1]\n",
       "\n",
       "    if\n",
       "\tV5 > 14.9333\n",
       "\tV9 > 51.968\n",
       "\tV15 > 11022\n",
       "    then\n",
       "\toutcome = 50.7 + 1.287 V4 - 0.522 V8 - 0.1106 V7 - 0.635 V22 - 0.418 V3\n",
       "\t          + 0.038 V9 - 0.073 V5 - 0.009 V23 + 3.4e-06 V16\n",
       "\n",
       "  Rule 33: [68 cases, mean 5.6, range 4 to 7, est err 0.1]\n",
       "\n",
       "    if\n",
       "\tV4 <= 19.9693\n",
       "\tV5 > 14.9333\n",
       "\tV7 <= 213.525\n",
       "\tV8 > 37.0547\n",
       "\tV9 <= 51.968\n",
       "\tV15 > 11022\n",
       "    then\n",
       "\toutcome = -6.1 + 1.96 V4 - 1.332 V3 - 0.0497 V6 + 0.0348 V7 + 0.097 V9\n",
       "\t          + 3.24e-05 V16 - 0.083 V22 + 0.017 V23 - 0.057 V5\n",
       "\t          - 7.6e-06 V15\n",
       "\n",
       "  Rule 34: [36 cases, mean 5.8, range 5 to 6, est err 0.0]\n",
       "\n",
       "    if\n",
       "\tV3 > 14.83\n",
       "\tV5 <= 14.9333\n",
       "\tV8 > 43.7707\n",
       "\tV9 <= 56.7413\n",
       "\tV22 <= 13.2053\n",
       "\tV23 > 64.5467\n",
       "    then\n",
       "\toutcome = 1.2 + 0.156 V9 - 0.213 V3 + 0.163 V22 - 0.047 V8\n",
       "\n",
       "  Rule 35: [19 cases, mean 5.9, range 3 to 7, est err 0.1]\n",
       "\n",
       "    if\n",
       "\tV3 > 20.972\n",
       "\tV7 <= 213.525\n",
       "\tV8 > 37.0547\n",
       "\tV15 <= 11022\n",
       "\tV23 <= 54.008\n",
       "    then\n",
       "\toutcome = 41.4 - 0.916 V5 - 0.0684 V7 + 4.04e-05 V15 - 0.266 V3\n",
       "\t          - 0.05 V8 + 0.011 V23\n",
       "\n",
       "  Rule 36: [36 cases, mean 6.0, range 6 to 6, est err 0.0]\n",
       "\n",
       "    if\n",
       "\tV5 > 14.9333\n",
       "\tV8 > 37.0547\n",
       "\tV22 <= 13.8907\n",
       "\tV23 > 54.008\n",
       "    then\n",
       "\toutcome = 6\n",
       "\n",
       "  Rule 37: [36 cases, mean 6.3, range 2 to 7, est err 0.1]\n",
       "\n",
       "    if\n",
       "\tV7 <= 213.525\n",
       "\tV8 > 37.0547\n",
       "\tV9 <= 44.9947\n",
       "\tV15 > 11022\n",
       "    then\n",
       "\toutcome = 53.8 - 0.662 V5 - 0.0882 V7 - 0.19 V9 - 0.0409 V6 - 0.202 V4\n",
       "\t          + 0.059 V22 - 2.3e-06 V15\n",
       "\n",
       "  Rule 38: [11 cases, mean 6.7, range 6 to 7, est err 0.1]\n",
       "\n",
       "    if\n",
       "\tV3 <= 20.972\n",
       "\tV7 <= 213.525\n",
       "\tV8 > 37.0547\n",
       "\tV15 <= 11022\n",
       "\tV16 > 7476.22\n",
       "\tV23 <= 54.008\n",
       "    then\n",
       "\toutcome = 15.6 + 1.212 V4 + 0.333 V9 - 0.682 V3 - 0.539 V5 - 0.371 V22\n",
       "\t          - 0.098 V23 - 0.186 V8 - 0.0385 V7 + 9.9e-06 V15\n",
       "\t          + 1.23e-05 V16 + 0.006 V11 - 0.00049 V13 + 0.0054 V6\n",
       "\t          + 0.08 V14\n",
       "\n",
       "  Rule 39: [32 cases, mean 6.8, range 6 to 7, est err 0.0]\n",
       "\n",
       "    if\n",
       "\tV3 <= 20.972\n",
       "\tV8 > 37.0547\n",
       "\tV15 <= 11022\n",
       "\tV16 <= 7476.22\n",
       "\tV23 <= 54.008\n",
       "    then\n",
       "\toutcome = 22 - 1 V5\n",
       "\n",
       "  Rule 40: [10 cases, mean 6.9, range 6 to 7, est err 0.2]\n",
       "\n",
       "    if\n",
       "\tV4 > 20.6813\n",
       "\tV6 <= 202.059\n",
       "\tV8 <= 37.0547\n",
       "    then\n",
       "\toutcome = -234.7 + 1.1928 V6 + 0.019 V9 + 0.046 V3 - 0.021 V8\n",
       "\t          + 0.0008 V11 - 0.009 V22 + 1.2e-06 V16 - 9e-07 V15\n",
       "\t          - 0.0008 V10\n",
       "\n",
       "  Rule 41: [43 cases, mean 7.0, range 6 to 7, est err 0.0]\n",
       "\n",
       "    if\n",
       "\tV4 > 20.6813\n",
       "\tV8 <= 37.0547\n",
       "    then\n",
       "\toutcome = 7\n",
       "\n",
       "\n",
       "Evaluation on training data (1098 cases):\n",
       "\n",
       "    Average  |error|                0.0\n",
       "    Relative |error|               0.03\n",
       "    Correlation coefficient        1.00\n",
       "\n",
       "\n",
       "\tAttribute usage:\n",
       "\t  Conds  Model\n",
       "\n",
       "\t   66%    43%    V8\n",
       "\t   59%    47%    V3\n",
       "\t   48%    47%    V5\n",
       "\t   46%    37%    V23\n",
       "\t   40%    50%    V9\n",
       "\t   34%    35%    V4\n",
       "\t   27%    35%    V22\n",
       "\t   26%    17%    V15\n",
       "\t   23%    30%    V7\n",
       "\t   15%    31%    V6\n",
       "\t    7%    18%    V16\n",
       "\t    2%     4%    V13\n",
       "\t          26%    V11\n",
       "\t           9%    V10\n",
       "\t           6%    V14\n",
       "\n",
       "\n",
       "Time: 0.0 secs\n"
      ]
     },
     "metadata": {},
     "output_type": "display_data"
    }
   ],
   "source": [
    "## **** Improving model performance - Model Tree ****\n",
    "\n",
    "# train a Cubist Model Tree\n",
    "library(lattice)\n",
    "library(Cubist)\n",
    "\n",
    "m.cubist <- cubist(x = weather_train[-17], y = weather_train$V24)\n",
    "\n",
    "# display basic information about the model tree\n",
    "m.cubist\n",
    "\n",
    "# display the tree itself\n",
    "summary(m.cubist)"
   ]
  },
  {
   "cell_type": "code",
   "execution_count": 24,
   "id": "c1e5fffb-a46e-4ea1-aae6-2c87726f2d33",
   "metadata": {},
   "outputs": [
    {
     "data": {
      "text/plain": [
       "   Min. 1st Qu.  Median    Mean 3rd Qu.    Max. \n",
       "  2.000   3.581   4.469   4.414   5.347   7.122 "
      ]
     },
     "metadata": {},
     "output_type": "display_data"
    },
    {
     "data": {
      "text/html": [
       "0.477203105528126"
      ],
      "text/latex": [
       "0.477203105528126"
      ],
      "text/markdown": [
       "0.477203105528126"
      ],
      "text/plain": [
       "[1] 0.4772031"
      ]
     },
     "metadata": {},
     "output_type": "display_data"
    },
    {
     "data": {
      "text/html": [
       "2.26215899814259"
      ],
      "text/latex": [
       "2.26215899814259"
      ],
      "text/markdown": [
       "2.26215899814259"
      ],
      "text/plain": [
       "[1] 2.262159"
      ]
     },
     "metadata": {},
     "output_type": "display_data"
    }
   ],
   "source": [
    "# generate predictions for the model\n",
    "p.cubist <- predict(m.cubist, weather_test)\n",
    "\n",
    "# summary statistics about the predictions\n",
    "summary(p.cubist)\n",
    "\n",
    "# correlation between the predicted and true values\n",
    "cor(p.cubist, weather_test$V24)\n",
    "\n",
    "# mean absolute error of predicted and true values\n",
    "# (uses a custom function defined above)\n",
    "MAE(weather_test$V24, p.cubist)"
   ]
  },
  {
   "cell_type": "code",
   "execution_count": null,
   "id": "ae24c600-abd8-4e79-b7d1-0734a8df040c",
   "metadata": {},
   "outputs": [],
   "source": []
  }
 ],
 "metadata": {
  "kernelspec": {
   "display_name": "R",
   "language": "R",
   "name": "ir"
  },
  "language_info": {
   "codemirror_mode": "r",
   "file_extension": ".r",
   "mimetype": "text/x-r-source",
   "name": "R",
   "pygments_lexer": "r",
   "version": "4.2.2"
  },
  "widgets": {
   "application/vnd.jupyter.widget-state+json": {
    "state": {},
    "version_major": 2,
    "version_minor": 0
   }
  }
 },
 "nbformat": 4,
 "nbformat_minor": 5
}
