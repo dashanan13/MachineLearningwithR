{
 "cells": [
  {
   "cell_type": "code",
   "execution_count": null,
   "id": "8691d9e6-4976-404a-b556-f0e0c24bccee",
   "metadata": {},
   "outputs": [],
   "source": []
  },
  {
   "cell_type": "markdown",
   "id": "422e1bce-732c-4291-8920-239fb8da705a",
   "metadata": {},
   "source": [
    "#### String Operations"
   ]
  },
  {
   "cell_type": "code",
   "execution_count": null,
   "id": "35f34658-899c-4f9d-a32f-0a42aecbf92c",
   "metadata": {},
   "outputs": [],
   "source": [
    "\n",
    "textbyline <- readLines(\"./testfile.txt\")  # reads by line\n"
   ]
  },
  {
   "cell_type": "code",
   "execution_count": null,
   "id": "ad73bd67-c072-4d5f-8021-4fcd3b60abb7",
   "metadata": {},
   "outputs": [],
   "source": [
    "toupper(textbyline)\n",
    "tolower(textbyline)\n",
    "chartr(\"#\", \"-\", textbyline) #replace # with - in the text"
   ]
  },
  {
   "cell_type": "code",
   "execution_count": 5,
   "id": "83b4364d-8e8b-4bd6-a9c2-5fb743bbe038",
   "metadata": {},
   "outputs": [
    {
     "data": {
      "text/html": [
       "<ol>\n",
       "\t<li><style>\n",
       ".list-inline {list-style: none; margin:0; padding: 0}\n",
       ".list-inline>li {display: inline-block}\n",
       ".list-inline>li:not(:last-child)::after {content: \"\\00b7\"; padding: 0 .5ex}\n",
       "</style>\n",
       "<ol class=list-inline><li>'I\\'ve'</li><li>'sometimes'</li><li>'felt,'</li><li>'as'</li><li>'life'</li><li>'goes'</li><li>'by,'</li><li>'that'</li><li>'there'</li><li>'are'</li><li>'too'</li><li>'many'</li><li>'sides'</li><li>'with'</li></ol>\n",
       "</li>\n",
       "</ol>\n"
      ],
      "text/latex": [
       "\\begin{enumerate}\n",
       "\\item \\begin{enumerate*}\n",
       "\\item 'I\\textbackslash{}'ve'\n",
       "\\item 'sometimes'\n",
       "\\item 'felt,'\n",
       "\\item 'as'\n",
       "\\item 'life'\n",
       "\\item 'goes'\n",
       "\\item 'by,'\n",
       "\\item 'that'\n",
       "\\item 'there'\n",
       "\\item 'are'\n",
       "\\item 'too'\n",
       "\\item 'many'\n",
       "\\item 'sides'\n",
       "\\item 'with'\n",
       "\\end{enumerate*}\n",
       "\n",
       "\\end{enumerate}\n"
      ],
      "text/markdown": [
       "1. 1. 'I\\'ve'\n",
       "2. 'sometimes'\n",
       "3. 'felt,'\n",
       "4. 'as'\n",
       "5. 'life'\n",
       "6. 'goes'\n",
       "7. 'by,'\n",
       "8. 'that'\n",
       "9. 'there'\n",
       "10. 'are'\n",
       "11. 'too'\n",
       "12. 'many'\n",
       "13. 'sides'\n",
       "14. 'with'\n",
       "\n",
       "\n",
       "\n",
       "\n",
       "\n"
      ],
      "text/plain": [
       "[[1]]\n",
       " [1] \"I've\"      \"sometimes\" \"felt,\"     \"as\"        \"life\"      \"goes\"     \n",
       " [7] \"by,\"       \"that\"      \"there\"     \"are\"       \"too\"       \"many\"     \n",
       "[13] \"sides\"     \"with\"     \n"
      ]
     },
     "metadata": {},
     "output_type": "display_data"
    },
    {
     "data": {
      "text/html": [
       "<style>\n",
       ".list-inline {list-style: none; margin:0; padding: 0}\n",
       ".list-inline>li {display: inline-block}\n",
       ".list-inline>li:not(:last-child)::after {content: \"\\00b7\"; padding: 0 .5ex}\n",
       "</style>\n",
       "<ol class=list-inline><li>'I\\'ve'</li><li>'sometimes'</li><li>'felt,'</li><li>'as'</li><li>'life'</li><li>'goes'</li><li>'by,'</li><li>'that'</li><li>'there'</li><li>'are'</li><li>'too'</li><li>'many'</li><li>'sides'</li><li>'with'</li></ol>\n"
      ],
      "text/latex": [
       "\\begin{enumerate*}\n",
       "\\item 'I\\textbackslash{}'ve'\n",
       "\\item 'sometimes'\n",
       "\\item 'felt,'\n",
       "\\item 'as'\n",
       "\\item 'life'\n",
       "\\item 'goes'\n",
       "\\item 'by,'\n",
       "\\item 'that'\n",
       "\\item 'there'\n",
       "\\item 'are'\n",
       "\\item 'too'\n",
       "\\item 'many'\n",
       "\\item 'sides'\n",
       "\\item 'with'\n",
       "\\end{enumerate*}\n"
      ],
      "text/markdown": [
       "1. 'I\\'ve'\n",
       "2. 'sometimes'\n",
       "3. 'felt,'\n",
       "4. 'as'\n",
       "5. 'life'\n",
       "6. 'goes'\n",
       "7. 'by,'\n",
       "8. 'that'\n",
       "9. 'there'\n",
       "10. 'are'\n",
       "11. 'too'\n",
       "12. 'many'\n",
       "13. 'sides'\n",
       "14. 'with'\n",
       "\n",
       "\n"
      ],
      "text/plain": [
       " [1] \"I've\"      \"sometimes\" \"felt,\"     \"as\"        \"life\"      \"goes\"     \n",
       " [7] \"by,\"       \"that\"      \"there\"     \"are\"       \"too\"       \"many\"     \n",
       "[13] \"sides\"     \"with\"     "
      ]
     },
     "metadata": {},
     "output_type": "display_data"
    }
   ],
   "source": [
    "char_list <- strsplit(textbyline[1], \" \") # split the string by spaces, gives us words. It gives a list\n",
    "char_list\n",
    "word_list <- unlist(char_list) # creates a character vector \n",
    "word_list"
   ]
  },
  {
   "cell_type": "code",
   "execution_count": 6,
   "id": "19d26da5-7f2b-49eb-b7f1-cf583ec06f5b",
   "metadata": {},
   "outputs": [
    {
     "data": {
      "text/html": [
       "'I\\'ve sometimes felt, as life goes by, that there are too many sides with'"
      ],
      "text/latex": [
       "'I\\textbackslash{}'ve sometimes felt, as life goes by, that there are too many sides with'"
      ],
      "text/markdown": [
       "'I\\'ve sometimes felt, as life goes by, that there are too many sides with'"
      ],
      "text/plain": [
       "[1] \"I've sometimes felt, as life goes by, that there are too many sides with\""
      ]
     },
     "metadata": {},
     "output_type": "display_data"
    }
   ],
   "source": [
    "paste(word_list, collapse = \" \")  # joins the words in the list with spaces in between them"
   ]
  },
  {
   "cell_type": "code",
   "execution_count": 8,
   "id": "3c96c788-4f01-4445-a987-d18346eb46f3",
   "metadata": {},
   "outputs": [
    {
     "data": {
      "text/html": [
       "'e sometimes felt, as life goes by, that there a'"
      ],
      "text/latex": [
       "'e sometimes felt, as life goes by, that there a'"
      ],
      "text/markdown": [
       "'e sometimes felt, as life goes by, that there a'"
      ],
      "text/plain": [
       "[1] \"e sometimes felt, as life goes by, that there a\""
      ]
     },
     "metadata": {},
     "output_type": "display_data"
    }
   ],
   "source": [
    "# substring\n",
    "substr(textbyline[1], start = 4, stop= 50) "
   ]
  },
  {
   "cell_type": "code",
   "execution_count": 10,
   "id": "3f860684-ae73-41d6-8b28-c95ff4f01a24",
   "metadata": {},
   "outputs": [
    {
     "data": {
      "text/html": [
       "'I\\'ve sometimes felt, as life goes by, that there are too many sides with'"
      ],
      "text/latex": [
       "'I\\textbackslash{}'ve sometimes felt, as life goes by, that there are too many sides with'"
      ],
      "text/markdown": [
       "'I\\'ve sometimes felt, as life goes by, that there are too many sides with'"
      ],
      "text/plain": [
       "[1] \"I've sometimes felt, as life goes by, that there are too many sides with\""
      ]
     },
     "metadata": {},
     "output_type": "display_data"
    }
   ],
   "source": [
    "#remove white spaces\n",
    "trimws(textbyline[1])"
   ]
  },
  {
   "cell_type": "code",
   "execution_count": 14,
   "id": "d9d64f5e-e4a7-4be7-805a-60a3fdccda9c",
   "metadata": {},
   "outputs": [],
   "source": [
    "library(stringr) # package needed for str_sub()"
   ]
  },
  {
   "cell_type": "code",
   "execution_count": 15,
   "id": "2b2ec783-f560-411f-aa83-a0332522b296",
   "metadata": {},
   "outputs": [
    {
     "data": {
      "text/html": [
       "'es with '"
      ],
      "text/latex": [
       "'es with '"
      ],
      "text/markdown": [
       "'es with '"
      ],
      "text/plain": [
       "[1] \"es with \""
      ]
     },
     "metadata": {},
     "output_type": "display_data"
    }
   ],
   "source": [
    "str_sub(textbyline[1], -8, -1)  #counts from last character, -8 means start from 8 th character from end and end at 1st charcter from end"
   ]
  },
  {
   "cell_type": "markdown",
   "id": "66141793-d439-4fe0-97fc-674be3ce8526",
   "metadata": {},
   "source": [
    "#### Dates"
   ]
  },
  {
   "cell_type": "code",
   "execution_count": 25,
   "id": "59b4cceb-d70d-417d-b6eb-b986406131c8",
   "metadata": {},
   "outputs": [
    {
     "data": {
      "text/html": [
       "<time datetime=\"2023-02-15\">2023-02-15</time>"
      ],
      "text/latex": [
       "2023-02-15"
      ],
      "text/markdown": [
       "2023-02-15"
      ],
      "text/plain": [
       "[1] \"2023-02-15\""
      ]
     },
     "metadata": {},
     "output_type": "display_data"
    },
    {
     "data": {
      "text/html": [
       "'Wed Feb 15 14:48:51 2023'"
      ],
      "text/latex": [
       "'Wed Feb 15 14:48:51 2023'"
      ],
      "text/markdown": [
       "'Wed Feb 15 14:48:51 2023'"
      ],
      "text/plain": [
       "[1] \"Wed Feb 15 14:48:51 2023\""
      ]
     },
     "metadata": {},
     "output_type": "display_data"
    },
    {
     "data": {
      "text/plain": [
       "[1] \"2023-02-15 14:48:51 UTC\""
      ]
     },
     "metadata": {},
     "output_type": "display_data"
    },
    {
     "data": {
      "text/plain": [
       "Time difference of 1775 days"
      ]
     },
     "metadata": {},
     "output_type": "display_data"
    },
    {
     "data": {
      "text/html": [
       "TRUE"
      ],
      "text/latex": [
       "TRUE"
      ],
      "text/markdown": [
       "TRUE"
      ],
      "text/plain": [
       "[1] TRUE"
      ]
     },
     "metadata": {},
     "output_type": "display_data"
    },
    {
     "data": {
      "text/html": [
       "<time datetime=\"1999-04-23\">1999-04-23</time>"
      ],
      "text/latex": [
       "1999-04-23"
      ],
      "text/markdown": [
       "1999-04-23"
      ],
      "text/plain": [
       "[1] \"1999-04-23\""
      ]
     },
     "metadata": {},
     "output_type": "display_data"
    },
    {
     "data": {
      "text/html": [
       "'Monday'"
      ],
      "text/latex": [
       "'Monday'"
      ],
      "text/markdown": [
       "'Monday'"
      ],
      "text/plain": [
       "[1] \"Monday\""
      ]
     },
     "metadata": {},
     "output_type": "display_data"
    },
    {
     "data": {
      "text/html": [
       "'June'"
      ],
      "text/latex": [
       "'June'"
      ],
      "text/markdown": [
       "'June'"
      ],
      "text/plain": [
       "[1] \"June\""
      ]
     },
     "metadata": {},
     "output_type": "display_data"
    },
    {
     "data": {
      "text/html": [
       "'Q2'"
      ],
      "text/latex": [
       "'Q2'"
      ],
      "text/markdown": [
       "'Q2'"
      ],
      "text/plain": [
       "[1] \"Q2\""
      ]
     },
     "metadata": {},
     "output_type": "display_data"
    }
   ],
   "source": [
    "date1 <- as.Date(\"27/06/94\", \"%d/%m/%y\")\n",
    "date2 <- as.Date(\"07/05/99\", \"%d/%m/%y\")\n",
    "\n",
    "Sys.Date() # system date\n",
    "date() # current date, char string\n",
    "Sys.time() # current date in Posix format\n",
    "\n",
    "date2 - date1\n",
    "date2 > date1\n",
    "date2 - 14\n",
    "\n",
    "weekdays(date1)\n",
    "months(date1)\n",
    "quarters(date1)"
   ]
  },
  {
   "cell_type": "code",
   "execution_count": 27,
   "id": "97159e9a-b755-4d09-ad64-1237dfcb0676",
   "metadata": {},
   "outputs": [
    {
     "data": {
      "text/html": [
       "<style>\n",
       ".list-inline {list-style: none; margin:0; padding: 0}\n",
       ".list-inline>li {display: inline-block}\n",
       ".list-inline>li:not(:last-child)::after {content: \"\\00b7\"; padding: 0 .5ex}\n",
       "</style>\n",
       "<ol class=list-inline><li><time datetime=\"2023-02-15\">2023-02-15</time></li><li><time datetime=\"2023-03-15\">2023-03-15</time></li><li><time datetime=\"2023-04-15\">2023-04-15</time></li><li><time datetime=\"2023-05-15\">2023-05-15</time></li></ol>\n"
      ],
      "text/latex": [
       "\\begin{enumerate*}\n",
       "\\item 2023-02-15\n",
       "\\item 2023-03-15\n",
       "\\item 2023-04-15\n",
       "\\item 2023-05-15\n",
       "\\end{enumerate*}\n"
      ],
      "text/markdown": [
       "1. 2023-02-15\n",
       "2. 2023-03-15\n",
       "3. 2023-04-15\n",
       "4. 2023-05-15\n",
       "\n",
       "\n"
      ],
      "text/plain": [
       "[1] \"2023-02-15\" \"2023-03-15\" \"2023-04-15\" \"2023-05-15\""
      ]
     },
     "metadata": {},
     "output_type": "display_data"
    }
   ],
   "source": [
    "seq(Sys.Date(), by=\"month\", length.out = 4) # generates a sequence of 4 dates, starting at system date and seperated by 1 month each"
   ]
  },
  {
   "cell_type": "markdown",
   "id": "7e4dab16-7887-41f3-ab8e-decb8ecfabf6",
   "metadata": {},
   "source": [
    "#### Regular Expressions"
   ]
  },
  {
   "cell_type": "code",
   "execution_count": 37,
   "id": "225cb858-f86a-41ee-abcd-747347f77c34",
   "metadata": {},
   "outputs": [
    {
     "data": {
      "text/html": [
       "<style>\n",
       ".list-inline {list-style: none; margin:0; padding: 0}\n",
       ".list-inline>li {display: inline-block}\n",
       ".list-inline>li:not(:last-child)::after {content: \"\\00b7\"; padding: 0 .5ex}\n",
       "</style>\n",
       "<ol class=list-inline><li>1</li><li>3</li></ol>\n"
      ],
      "text/latex": [
       "\\begin{enumerate*}\n",
       "\\item 1\n",
       "\\item 3\n",
       "\\end{enumerate*}\n"
      ],
      "text/markdown": [
       "1. 1\n",
       "2. 3\n",
       "\n",
       "\n"
      ],
      "text/plain": [
       "[1] 1 3"
      ]
     },
     "metadata": {},
     "output_type": "display_data"
    },
    {
     "data": {
      "text/html": [
       "<style>\n",
       ".list-inline {list-style: none; margin:0; padding: 0}\n",
       ".list-inline>li {display: inline-block}\n",
       ".list-inline>li:not(:last-child)::after {content: \"\\00b7\"; padding: 0 .5ex}\n",
       "</style>\n",
       "<ol class=list-inline><li>'test1@testing.com'</li><li>'test2@testme.no'</li></ol>\n"
      ],
      "text/latex": [
       "\\begin{enumerate*}\n",
       "\\item 'test1@testing.com'\n",
       "\\item 'test2@testme.no'\n",
       "\\end{enumerate*}\n"
      ],
      "text/markdown": [
       "1. 'test1@testing.com'\n",
       "2. 'test2@testme.no'\n",
       "\n",
       "\n"
      ],
      "text/plain": [
       "[1] \"test1@testing.com\" \"test2@testme.no\"  "
      ]
     },
     "metadata": {},
     "output_type": "display_data"
    },
    {
     "data": {
      "text/html": [
       "<style>\n",
       ".list-inline {list-style: none; margin:0; padding: 0}\n",
       ".list-inline>li {display: inline-block}\n",
       ".list-inline>li:not(:last-child)::after {content: \"\\00b7\"; padding: 0 .5ex}\n",
       "</style>\n",
       "<ol class=list-inline><li>'test1@changedstring.us'</li><li>'not an email'</li><li>'test2@changedstring.us'</li></ol>\n"
      ],
      "text/latex": [
       "\\begin{enumerate*}\n",
       "\\item 'test1@changedstring.us'\n",
       "\\item 'not an email'\n",
       "\\item 'test2@changedstring.us'\n",
       "\\end{enumerate*}\n"
      ],
      "text/markdown": [
       "1. 'test1@changedstring.us'\n",
       "2. 'not an email'\n",
       "3. 'test2@changedstring.us'\n",
       "\n",
       "\n"
      ],
      "text/plain": [
       "[1] \"test1@changedstring.us\" \"not an email\"           \"test2@changedstring.us\""
      ]
     },
     "metadata": {},
     "output_type": "display_data"
    }
   ],
   "source": [
    "# . = wild card for a character\n",
    "# + = wild card for matching preceding patters element ONE or more times, so .+ will match any sequence of characters one or more times\n",
    "# * = wild card for matching preceding patters element ZERO or more times, so .* will match any sequence of characters zero or more times\n",
    "# \\\\ = escape character such that \\\\. will look for only a . character and . is no longer a wild card\n",
    "\n",
    "grep(\"@.*\", c(\"test1@testing.com\", \"not an email\", \"test2@testme.no\")) # gives index of the strings that contain the maching string\n",
    "grep(\"@.*\", c(\"test1@testing.com\", \"not an email\", \"test2@testme.no\"), value=TRUE) # gives the actual values that contain the maching string\n",
    "gsub(\"@.*\", \"@changedstring.us\", c(\"test1@testing.com\", \"not an email\", \"test2@testme.no\")) # replacs the matching string with new one"
   ]
  },
  {
   "cell_type": "code",
   "execution_count": 38,
   "id": "71563c5e-dc43-40db-bfdf-cf6b72ee0eb4",
   "metadata": {},
   "outputs": [
    {
     "data": {
      "text/html": [
       "<style>\n",
       ".list-inline {list-style: none; margin:0; padding: 0}\n",
       ".list-inline>li {display: inline-block}\n",
       ".list-inline>li:not(:last-child)::after {content: \"\\00b7\"; padding: 0 .5ex}\n",
       "</style>\n",
       "<ol class=list-inline><li>'@testing.com'</li><li>'@testme.no'</li></ol>\n"
      ],
      "text/latex": [
       "\\begin{enumerate*}\n",
       "\\item '@testing.com'\n",
       "\\item '@testme.no'\n",
       "\\end{enumerate*}\n"
      ],
      "text/markdown": [
       "1. '@testing.com'\n",
       "2. '@testme.no'\n",
       "\n",
       "\n"
      ],
      "text/plain": [
       "[1] \"@testing.com\" \"@testme.no\"  "
      ]
     },
     "metadata": {},
     "output_type": "display_data"
    }
   ],
   "source": [
    "matches <- regexpr(\"@.*\", c(\"test1@testing.com\", \"not an email\", \"test2@testme.no\"))\n",
    "regmatches(c(\"test1@testing.com\", \"not an email\", \"test2@testme.no\"), matches)  #gives only the machine strings"
   ]
  },
  {
   "cell_type": "code",
   "execution_count": 44,
   "id": "40e93652-ac49-4e72-92cb-9b04b2eca9a6",
   "metadata": {},
   "outputs": [
    {
     "data": {
      "text/html": [
       "<style>\n",
       ".list-inline {list-style: none; margin:0; padding: 0}\n",
       ".list-inline>li {display: inline-block}\n",
       ".list-inline>li:not(:last-child)::after {content: \"\\00b7\"; padding: 0 .5ex}\n",
       "</style>\n",
       "<ol class=list-inline><li>1992</li><li>2016</li><li>2012</li><li>2018</li></ol>\n"
      ],
      "text/latex": [
       "\\begin{enumerate*}\n",
       "\\item 1992\n",
       "\\item 2016\n",
       "\\item 2012\n",
       "\\item 2018\n",
       "\\end{enumerate*}\n"
      ],
      "text/markdown": [
       "1. 1992\n",
       "2. 2016\n",
       "3. 2012\n",
       "4. 2018\n",
       "\n",
       "\n"
      ],
      "text/plain": [
       "[1] 1992 2016 2012 2018"
      ]
     },
     "metadata": {},
     "output_type": "display_data"
    }
   ],
   "source": [
    "my_vector <- c(\"1992\", \"2016\", \"2012\", \"2018\")\n",
    "as.integer(my_vector)"
   ]
  },
  {
   "cell_type": "code",
   "execution_count": 47,
   "id": "07656f3c-dac9-41d8-8476-9af7d2fa44a1",
   "metadata": {},
   "outputs": [
    {
     "data": {
      "text/html": [
       "<style>\n",
       ".list-inline {list-style: none; margin:0; padding: 0}\n",
       ".list-inline>li {display: inline-block}\n",
       ".list-inline>li:not(:last-child)::after {content: \"\\00b7\"; padding: 0 .5ex}\n",
       "</style>\n",
       "<ol class=list-inline><li>tea</li><li>coffee</li><li>soft drink</li><li>tea</li><li>hot chocolate</li><li>hot chocolate</li><li>coffee</li></ol>\n",
       "\n",
       "<details>\n",
       "\t<summary style=display:list-item;cursor:pointer>\n",
       "\t\t<strong>Levels</strong>:\n",
       "\t</summary>\n",
       "\t<style>\n",
       "\t.list-inline {list-style: none; margin:0; padding: 0}\n",
       "\t.list-inline>li {display: inline-block}\n",
       "\t.list-inline>li:not(:last-child)::after {content: \"\\00b7\"; padding: 0 .5ex}\n",
       "\t</style>\n",
       "\t<ol class=list-inline><li>'coffee'</li><li>'hot chocolate'</li><li>'soft drink'</li><li>'tea'</li></ol>\n",
       "</details>"
      ],
      "text/latex": [
       "\\begin{enumerate*}\n",
       "\\item tea\n",
       "\\item coffee\n",
       "\\item soft drink\n",
       "\\item tea\n",
       "\\item hot chocolate\n",
       "\\item hot chocolate\n",
       "\\item coffee\n",
       "\\end{enumerate*}\n",
       "\n",
       "\\emph{Levels}: \\begin{enumerate*}\n",
       "\\item 'coffee'\n",
       "\\item 'hot chocolate'\n",
       "\\item 'soft drink'\n",
       "\\item 'tea'\n",
       "\\end{enumerate*}\n"
      ],
      "text/markdown": [
       "1. tea\n",
       "2. coffee\n",
       "3. soft drink\n",
       "4. tea\n",
       "5. hot chocolate\n",
       "6. hot chocolate\n",
       "7. coffee\n",
       "\n",
       "\n",
       "\n",
       "**Levels**: 1. 'coffee'\n",
       "2. 'hot chocolate'\n",
       "3. 'soft drink'\n",
       "4. 'tea'\n",
       "\n",
       "\n"
      ],
      "text/plain": [
       "[1] tea           coffee        soft drink    tea           hot chocolate\n",
       "[6] hot chocolate coffee       \n",
       "Levels: coffee hot chocolate soft drink tea"
      ]
     },
     "metadata": {},
     "output_type": "display_data"
    }
   ],
   "source": [
    "drinks <- factor(c(\"tea\", \"coffee\", \"soft drink\", \"tea\", \"hot chocolate\", \"hot chocolate\", \"coffee\"))\n",
    "drinks"
   ]
  },
  {
   "cell_type": "code",
   "execution_count": null,
   "id": "a8ac8463-6569-417e-ae59-af97d1a78d79",
   "metadata": {},
   "outputs": [],
   "source": []
  }
 ],
 "metadata": {
  "kernelspec": {
   "display_name": "R",
   "language": "R",
   "name": "ir"
  },
  "language_info": {
   "codemirror_mode": "r",
   "file_extension": ".r",
   "mimetype": "text/x-r-source",
   "name": "R",
   "pygments_lexer": "r",
   "version": "4.2.2"
  },
  "widgets": {
   "application/vnd.jupyter.widget-state+json": {
    "state": {},
    "version_major": 2,
    "version_minor": 0
   }
  }
 },
 "nbformat": 4,
 "nbformat_minor": 5
}
