{
 "cells": [
  {
   "cell_type": "code",
   "execution_count": null,
   "id": "4b3aa6bf-38b0-4c7c-ace2-996b7a2d5675",
   "metadata": {},
   "outputs": [],
   "source": []
  },
  {
   "cell_type": "code",
   "execution_count": null,
   "id": "5a3c5b4a-6e0f-43ae-b64d-05cea28fa19d",
   "metadata": {},
   "outputs": [],
   "source": [
    "setwd(\"C:/Users/devops/MachineLearningwithR/Day0-Statistics\")  #setting work directory (\\ does not work on windows so it is replaced with /)"
   ]
  },
  {
   "cell_type": "markdown",
   "id": "202da841-16f2-43fb-b923-a294600cc225",
   "metadata": {},
   "source": [
    "#### Reading CSV, TXT, Excel, and Built-in Datasets "
   ]
  },
  {
   "cell_type": "code",
   "execution_count": null,
   "id": "f44c20ee-5884-46a0-8901-bb407581c49d",
   "metadata": {},
   "outputs": [],
   "source": [
    "#reading CSV is build in\n",
    "install.packages(\"readxl\") # this package helps to read Excel files"
   ]
  },
  {
   "cell_type": "code",
   "execution_count": null,
   "id": "f61d4c85-cae2-411d-bc9d-64d5678f26a3",
   "metadata": {},
   "outputs": [],
   "source": [
    "library(\"readxl\") #importing library"
   ]
  },
  {
   "cell_type": "code",
   "execution_count": null,
   "id": "7948af1c-502c-4eae-9a14-dcd25e687573",
   "metadata": {},
   "outputs": [],
   "source": [
    "#read csv\n",
    "csv_data <- read.csv(\"usedcars.csv\", stringsAsFactors = FALSE)\n",
    "#view the complete CSV file in a searchable manner\n",
    "View(csv_data)\n",
    "#save csv\n",
    "write.csv(csv_data, file = \"saved_csv_data.csv\")"
   ]
  },
  {
   "cell_type": "code",
   "execution_count": null,
   "id": "64e96605-4b8c-46f2-b9c1-96bd17d01de1",
   "metadata": {},
   "outputs": [],
   "source": [
    "mydata <- read.csv(\"./movies.csv\")\n",
    "head(mydata)"
   ]
  },
  {
   "cell_type": "code",
   "execution_count": null,
   "id": "dba3fffb-e0d0-4942-815f-39515277b0d7",
   "metadata": {},
   "outputs": [],
   "source": [
    "mydata[1,] # get first row\n",
    "head(mydata[\"Film\"]) # get a column with name, head is used to limit the output to only few rows"
   ]
  },
  {
   "cell_type": "code",
   "execution_count": null,
   "id": "1482d039-de8f-479b-8da8-857e6ecfb22d",
   "metadata": {
    "scrolled": true,
    "tags": []
   },
   "outputs": [],
   "source": [
    "# get buildin Datasets\n",
    "data()"
   ]
  },
  {
   "cell_type": "code",
   "execution_count": null,
   "id": "0d453e76-c876-4e9b-8b46-1255db777038",
   "metadata": {
    "scrolled": true,
    "tags": []
   },
   "outputs": [],
   "source": [
    "help(CO2) # help about dataset CO2"
   ]
  },
  {
   "cell_type": "raw",
   "id": "466ac3e4-8f01-4ae4-a509-43fe8cf11062",
   "metadata": {},
   "source": [
    "\n",
    "# reading text file\n",
    "textbyline <- readLines(\"./testfile.txt\")  # reads by line\n",
    "textbywords <- scan(\"./testfile.txt\", \"\")  # reads by words\n",
    "\n",
    "length(textbyline) #count the number of elemenrs sort of lines\n",
    "nchar(textbyline) #counts number of characters in each line\n",
    "file.size(\"./testfile.txt\") #size of file\n",
    "\n",
    "textbyline.n\n",
    "\n",
    "textbywords"
   ]
  },
  {
   "cell_type": "code",
   "execution_count": null,
   "id": "4e937e31-959a-48c6-90e9-05bf7394439a",
   "metadata": {},
   "outputs": [],
   "source": [
    "# exporting to text file\n",
    "\n",
    "m <- matrix(c(1,2,3,4,5,6), nrow = 2, ncol = 3)\n",
    "m\n",
    "write(m, file = \"matrix_as_text.txt\", ncolumns = 3, sep = \" \") # write matrix to text file\n",
    "write.csv(m, file=\"./matrix.csv\", row.names=FALSE)\n",
    "write.table(m, file=\"./matrix_table.csv\", row.names=FALSE, col.names=FALSE, sep= \",\")"
   ]
  },
  {
   "cell_type": "code",
   "execution_count": null,
   "id": "493e3c94-5a1d-4305-aa90-7e0899f6f1b3",
   "metadata": {},
   "outputs": [],
   "source": [
    "# package needed ot save as Excel\n",
    "install.packages(\"xlsx\")\n",
    "library(xlsx)"
   ]
  },
  {
   "cell_type": "code",
   "execution_count": null,
   "id": "7eebf1b2-7045-4159-9689-23b28ede5cc5",
   "metadata": {},
   "outputs": [],
   "source": [
    "write.xlsx(m, file=\"./matrix_excel.xlsx\", row.names=FALSE, col.names=FALSE, sheetName = \"sheetX\")"
   ]
  },
  {
   "cell_type": "markdown",
   "id": "932e5d44-9015-493d-95c6-193de97adc5e",
   "metadata": {},
   "source": [
    "#### Save and load R objects"
   ]
  },
  {
   "cell_type": "code",
   "execution_count": null,
   "id": "ed938401-131c-47d7-b6f9-901036e40731",
   "metadata": {},
   "outputs": [],
   "source": [
    "save(list = c(\"var1\", \"var2\", \"var3\", \"var4\"), file = \"vars.RData\", safe=TRUE)"
   ]
  },
  {
   "cell_type": "code",
   "execution_count": null,
   "id": "077fcc80-c1e8-47aa-acca-6e8178dfbe6a",
   "metadata": {},
   "outputs": [],
   "source": [
    "load(\"./MachineLearningwithR/Day1/mydata.RData\")"
   ]
  },
  {
   "cell_type": "markdown",
   "id": "b1a17130-dee3-4fe5-8eca-7759752dff9a",
   "metadata": {},
   "source": [
    "#### Special functions\n",
    "#### Exploring and Understanding Data"
   ]
  },
  {
   "cell_type": "code",
   "execution_count": 2,
   "id": "7a18cd6e-7fbc-4a63-a787-12a636770036",
   "metadata": {},
   "outputs": [
    {
     "name": "stdout",
     "output_type": "stream",
     "text": [
      "'data.frame':\t150 obs. of  6 variables:\n",
      " $ year        : int  2011 2011 2011 2011 2012 2010 2011 2010 2011 2010 ...\n",
      " $ model       : chr  \"SEL\" \"SEL\" \"SEL\" \"SEL\" ...\n",
      " $ price       : int  21992 20995 19995 17809 17500 17495 17000 16995 16995 16995 ...\n",
      " $ mileage     : int  7413 10926 7351 11613 8367 25125 27393 21026 32655 36116 ...\n",
      " $ color       : chr  \"Yellow\" \"Gray\" \"Silver\" \"Gray\" ...\n",
      " $ transmission: chr  \"AUTO\" \"AUTO\" \"AUTO\" \"AUTO\" ...\n"
     ]
    }
   ],
   "source": [
    "##data exploration example using used car data\n",
    "usedcars <- read.csv(\"usedcars.csv\", stringsAsFactors = FALSE)\n",
    "#get structure of used car data\n",
    "str(usedcars)"
   ]
  },
  {
   "cell_type": "code",
   "execution_count": 3,
   "id": "fed60a3a-ca07-4031-af8c-8cc8dc3e2265",
   "metadata": {},
   "outputs": [
    {
     "data": {
      "text/plain": [
       "   Min. 1st Qu.  Median    Mean 3rd Qu.    Max. \n",
       "   2000    2008    2009    2009    2010    2012 "
      ]
     },
     "metadata": {},
     "output_type": "display_data"
    },
    {
     "data": {
      "text/plain": [
       "     price          mileage      \n",
       " Min.   : 3800   Min.   :  4867  \n",
       " 1st Qu.:10995   1st Qu.: 27200  \n",
       " Median :13592   Median : 36385  \n",
       " Mean   :12962   Mean   : 44261  \n",
       " 3rd Qu.:14904   3rd Qu.: 55125  \n",
       " Max.   :21992   Max.   :151479  "
      ]
     },
     "metadata": {},
     "output_type": "display_data"
    }
   ],
   "source": [
    "##Exploring numeric data -----\n",
    "\n",
    "#summarize numeric variables\n",
    "summary(usedcars$year)\n",
    "summary(usedcars[c(\"price\", \"mileage\")])"
   ]
  },
  {
   "cell_type": "code",
   "execution_count": 4,
   "id": "328a3075-2c98-459e-a010-99aea693608b",
   "metadata": {},
   "outputs": [
    {
     "data": {
      "text/html": [
       "45333.3333333333"
      ],
      "text/latex": [
       "45333.3333333333"
      ],
      "text/markdown": [
       "45333.3333333333"
      ],
      "text/plain": [
       "[1] 45333.33"
      ]
     },
     "metadata": {},
     "output_type": "display_data"
    },
    {
     "data": {
      "text/html": [
       "45333.3333333333"
      ],
      "text/latex": [
       "45333.3333333333"
      ],
      "text/markdown": [
       "45333.3333333333"
      ],
      "text/plain": [
       "[1] 45333.33"
      ]
     },
     "metadata": {},
     "output_type": "display_data"
    },
    {
     "data": {
      "text/html": [
       "44000"
      ],
      "text/latex": [
       "44000"
      ],
      "text/markdown": [
       "44000"
      ],
      "text/plain": [
       "[1] 44000"
      ]
     },
     "metadata": {},
     "output_type": "display_data"
    },
    {
     "data": {
      "text/html": [
       "<style>\n",
       ".list-inline {list-style: none; margin:0; padding: 0}\n",
       ".list-inline>li {display: inline-block}\n",
       ".list-inline>li:not(:last-child)::after {content: \"\\00b7\"; padding: 0 .5ex}\n",
       "</style>\n",
       "<ol class=list-inline><li>3800</li><li>21992</li></ol>\n"
      ],
      "text/latex": [
       "\\begin{enumerate*}\n",
       "\\item 3800\n",
       "\\item 21992\n",
       "\\end{enumerate*}\n"
      ],
      "text/markdown": [
       "1. 3800\n",
       "2. 21992\n",
       "\n",
       "\n"
      ],
      "text/plain": [
       "[1]  3800 21992"
      ]
     },
     "metadata": {},
     "output_type": "display_data"
    },
    {
     "data": {
      "text/html": [
       "18192"
      ],
      "text/latex": [
       "18192"
      ],
      "text/markdown": [
       "18192"
      ],
      "text/plain": [
       "[1] 18192"
      ]
     },
     "metadata": {},
     "output_type": "display_data"
    },
    {
     "data": {
      "text/html": [
       "3909.5"
      ],
      "text/latex": [
       "3909.5"
      ],
      "text/markdown": [
       "3909.5"
      ],
      "text/plain": [
       "[1] 3909.5"
      ]
     },
     "metadata": {},
     "output_type": "display_data"
    },
    {
     "data": {
      "text/html": [
       "<style>\n",
       ".dl-inline {width: auto; margin:0; padding: 0}\n",
       ".dl-inline>dt, .dl-inline>dd {float: none; width: auto; display: inline-block}\n",
       ".dl-inline>dt::after {content: \":\\0020\"; padding-right: .5ex}\n",
       ".dl-inline>dt:not(:first-of-type) {padding-left: .5ex}\n",
       "</style><dl class=dl-inline><dt>0%</dt><dd>3800</dd><dt>25%</dt><dd>10995</dd><dt>50%</dt><dd>13591.5</dd><dt>75%</dt><dd>14904.5</dd><dt>100%</dt><dd>21992</dd></dl>\n"
      ],
      "text/latex": [
       "\\begin{description*}\n",
       "\\item[0\\textbackslash{}\\%] 3800\n",
       "\\item[25\\textbackslash{}\\%] 10995\n",
       "\\item[50\\textbackslash{}\\%] 13591.5\n",
       "\\item[75\\textbackslash{}\\%] 14904.5\n",
       "\\item[100\\textbackslash{}\\%] 21992\n",
       "\\end{description*}\n"
      ],
      "text/markdown": [
       "0%\n",
       ":   380025%\n",
       ":   1099550%\n",
       ":   13591.575%\n",
       ":   14904.5100%\n",
       ":   21992\n",
       "\n"
      ],
      "text/plain": [
       "     0%     25%     50%     75%    100% \n",
       " 3800.0 10995.0 13591.5 14904.5 21992.0 "
      ]
     },
     "metadata": {},
     "output_type": "display_data"
    },
    {
     "data": {
      "text/html": [
       "<style>\n",
       ".dl-inline {width: auto; margin:0; padding: 0}\n",
       ".dl-inline>dt, .dl-inline>dd {float: none; width: auto; display: inline-block}\n",
       ".dl-inline>dt::after {content: \":\\0020\"; padding-right: .5ex}\n",
       ".dl-inline>dt:not(:first-of-type) {padding-left: .5ex}\n",
       "</style><dl class=dl-inline><dt>1%</dt><dd>5428.69</dd><dt>99%</dt><dd>20505</dd></dl>\n"
      ],
      "text/latex": [
       "\\begin{description*}\n",
       "\\item[1\\textbackslash{}\\%] 5428.69\n",
       "\\item[99\\textbackslash{}\\%] 20505\n",
       "\\end{description*}\n"
      ],
      "text/markdown": [
       "1%\n",
       ":   5428.6999%\n",
       ":   20505\n",
       "\n"
      ],
      "text/plain": [
       "      1%      99% \n",
       " 5428.69 20505.00 "
      ]
     },
     "metadata": {},
     "output_type": "display_data"
    },
    {
     "data": {
      "text/html": [
       "<style>\n",
       ".dl-inline {width: auto; margin:0; padding: 0}\n",
       ".dl-inline>dt, .dl-inline>dd {float: none; width: auto; display: inline-block}\n",
       ".dl-inline>dt::after {content: \":\\0020\"; padding-right: .5ex}\n",
       ".dl-inline>dt:not(:first-of-type) {padding-left: .5ex}\n",
       "</style><dl class=dl-inline><dt>0%</dt><dd>3800</dd><dt>20%</dt><dd>10759.4</dd><dt>40%</dt><dd>12993.8</dd><dt>60%</dt><dd>13992</dd><dt>80%</dt><dd>14999</dd><dt>100%</dt><dd>21992</dd></dl>\n"
      ],
      "text/latex": [
       "\\begin{description*}\n",
       "\\item[0\\textbackslash{}\\%] 3800\n",
       "\\item[20\\textbackslash{}\\%] 10759.4\n",
       "\\item[40\\textbackslash{}\\%] 12993.8\n",
       "\\item[60\\textbackslash{}\\%] 13992\n",
       "\\item[80\\textbackslash{}\\%] 14999\n",
       "\\item[100\\textbackslash{}\\%] 21992\n",
       "\\end{description*}\n"
      ],
      "text/markdown": [
       "0%\n",
       ":   380020%\n",
       ":   10759.440%\n",
       ":   12993.860%\n",
       ":   1399280%\n",
       ":   14999100%\n",
       ":   21992\n",
       "\n"
      ],
      "text/plain": [
       "     0%     20%     40%     60%     80%    100% \n",
       " 3800.0 10759.4 12993.8 13992.0 14999.0 21992.0 "
      ]
     },
     "metadata": {},
     "output_type": "display_data"
    }
   ],
   "source": [
    "#calculate the mean income\n",
    "(36000 + 44000 + 56000) / 3\n",
    "mean(c(36000, 44000, 56000))\n",
    "\n",
    "# the median income\n",
    "median(c(36000, 44000, 56000))\n",
    "\n",
    "# the min/max of used car prices\n",
    "range(usedcars$price)\n",
    "\n",
    "# the difference of the range\n",
    "diff(range(usedcars$price))\n",
    "\n",
    "# IQR for used car prices\n",
    "IQR(usedcars$price)\n",
    "\n",
    "# use quantile to calculate five-number summary\n",
    "quantile(usedcars$price)\n",
    "\n",
    "# the 99th percentile\n",
    "quantile(usedcars$price, probs = c(0.01, 0.99))\n",
    "\n",
    "# quintiles\n",
    "quantile(usedcars$price, seq(from = 0, to = 1, by = 0.20))"
   ]
  },
  {
   "cell_type": "code",
   "execution_count": 6,
   "id": "ff8cf775-38b9-479d-9d7e-cba954a14a61",
   "metadata": {},
   "outputs": [
    {
     "data": {
      "text/html": [
       "9749892.18344519"
      ],
      "text/latex": [
       "9749892.18344519"
      ],
      "text/markdown": [
       "9749892.18344519"
      ],
      "text/plain": [
       "[1] 9749892"
      ]
     },
     "metadata": {},
     "output_type": "display_data"
    },
    {
     "data": {
      "text/html": [
       "3122.4817346856"
      ],
      "text/latex": [
       "3122.4817346856"
      ],
      "text/markdown": [
       "3122.4817346856"
      ],
      "text/plain": [
       "[1] 3122.482"
      ]
     },
     "metadata": {},
     "output_type": "display_data"
    }
   ],
   "source": [
    "# variance and standard deviation of the used car data\n",
    "var(usedcars$price)\n",
    "sd(usedcars$price)"
   ]
  },
  {
   "cell_type": "code",
   "execution_count": 7,
   "id": "78e21eff-ac3f-46c8-98bc-02ec1fa8d1fd",
   "metadata": {},
   "outputs": [
    {
     "data": {
      "text/plain": [
       "\n",
       "2000 2001 2002 2003 2004 2005 2006 2007 2008 2009 2010 2011 2012 \n",
       "   3    1    1    1    3    2    6   11   14   42   49   16    1 "
      ]
     },
     "metadata": {},
     "output_type": "display_data"
    },
    {
     "data": {
      "text/plain": [
       "\n",
       " SE SEL SES \n",
       " 78  23  49 "
      ]
     },
     "metadata": {},
     "output_type": "display_data"
    },
    {
     "data": {
      "text/plain": [
       "\n",
       " Black   Blue   Gold   Gray  Green    Red Silver  White Yellow \n",
       "    35     17      1     16      5     25     32     16      3 "
      ]
     },
     "metadata": {},
     "output_type": "display_data"
    },
    {
     "data": {
      "text/plain": [
       "\n",
       "       SE       SEL       SES \n",
       "0.5200000 0.1533333 0.3266667 "
      ]
     },
     "metadata": {},
     "output_type": "display_data"
    },
    {
     "data": {
      "text/plain": [
       "\n",
       " Black   Blue   Gold   Gray  Green    Red Silver  White Yellow \n",
       "  23.3   11.3    0.7   10.7    3.3   16.7   21.3   10.7    2.0 "
      ]
     },
     "metadata": {},
     "output_type": "display_data"
    }
   ],
   "source": [
    "# one-way tables for the used car data\n",
    "# table gives occurances of each entry, like 2000 came up 3 time and 2003, one time in the table column year\n",
    "table(usedcars$year)\n",
    "table(usedcars$model)\n",
    "table(usedcars$color)\n",
    "\n",
    "# compute table proportions\n",
    "model_table <- table(usedcars$model)\n",
    "prop.table(model_table)\n",
    "\n",
    "# round the data\n",
    "color_table <- table(usedcars$color)\n",
    "color_pct <- prop.table(color_table) * 100\n",
    "round(color_pct, digits = 1)"
   ]
  },
  {
   "cell_type": "code",
   "execution_count": 8,
   "id": "1a9d5b65-fa14-48a4-a4cb-85674be4af1e",
   "metadata": {},
   "outputs": [
    {
     "data": {
      "image/png": "[encoded data removed]",
      "text/plain": [
       "Plot with title \"Scatterplot of Price vs. Mileage\""
      ]
     },
     "metadata": {
      "image/png": {
       "height": 420,
       "width": 420
      }
     },
     "output_type": "display_data"
    }
   ],
   "source": [
    "## Exploring relationships between variables -----\n",
    "\n",
    "# scatterplot of price vs. mileage\n",
    "plot(x = usedcars$mileage, y = usedcars$price,\n",
    "     main = \"Scatterplot of Price vs. Mileage\",\n",
    "     xlab = \"Used Car Odometer (mi.)\",\n",
    "     ylab = \"Used Car Price ($)\")"
   ]
  },
  {
   "cell_type": "markdown",
   "id": "0025ce4a-de4e-4911-9b24-9887b99f2432",
   "metadata": {},
   "source": [
    "##### use par function to setup the number of plaots that should appear on each row\n",
    "##### this gives 2 plots per row for 2 rows\n",
    "#### >>>> par(mfrow = c(2, 2)) <<<<"
   ]
  },
  {
   "cell_type": "code",
   "execution_count": 18,
   "id": "08e029c4-ce38-4e98-b40e-92fb68e122ba",
   "metadata": {},
   "outputs": [
    {
     "data": {
      "image/png": "[encoded data removed]",
      "text/plain": [
       "Plot with title \"Histogram of Used Car Mileage\""
      ]
     },
     "metadata": {
      "image/png": {
       "height": 420,
       "width": 420
      }
     },
     "output_type": "display_data"
    }
   ],
   "source": [
    "par(mfrow = c(2, 2))\n",
    "\n",
    "# boxplot of used car prices and mileage\n",
    "boxplot(usedcars$price, main=\"Boxplot of Used Car Prices\",\n",
    "        ylab=\"Price ($)\")\n",
    "\n",
    "boxplot(usedcars$mileage, main=\"Boxplot of Used Car Mileage\",\n",
    "        ylab=\"Odometer (mi.)\")\n",
    "\n",
    "# histograms of used car prices and mileage\n",
    "hist(usedcars$price, main = \"Histogram of Used Car Prices\",\n",
    "     xlab = \"Price ($)\")\n",
    "\n",
    "hist(usedcars$mileage, main = \"Histogram of Used Car Mileage\",\n",
    "     xlab = \"Odometer (mi.)\")"
   ]
  },
  {
   "cell_type": "code",
   "execution_count": 9,
   "id": "7c7031ea-dfc1-4ef4-9f15-84c07e5d0102",
   "metadata": {},
   "outputs": [
    {
     "data": {
      "text/plain": [
       "\n",
       "FALSE  TRUE \n",
       "   51    99 "
      ]
     },
     "metadata": {},
     "output_type": "display_data"
    }
   ],
   "source": [
    "# new variable indicating conservative colors\n",
    "usedcars$conservative <-  usedcars$color %in% c(\"Black\", \"Gray\", \"Silver\", \"White\")\n",
    "\n",
    "# checking our variable\n",
    "table(usedcars$conservative)"
   ]
  },
  {
   "cell_type": "code",
   "execution_count": 10,
   "id": "0699821d-f2d4-4127-837c-d490d8722ecc",
   "metadata": {},
   "outputs": [
    {
     "name": "stdout",
     "output_type": "stream",
     "text": [
      "package 'gmodels' successfully unpacked and MD5 sums checked\n",
      "\n",
      "The downloaded binary packages are in\n",
      "\tC:\\Users\\devops\\AppData\\Local\\Temp\\2\\RtmpUzAewy\\downloaded_packages\n",
      "\n",
      " \n",
      "   Cell Contents\n",
      "|-------------------------|\n",
      "|                       N |\n",
      "| Chi-square contribution |\n",
      "|           N / Row Total |\n",
      "|           N / Col Total |\n",
      "|         N / Table Total |\n",
      "|-------------------------|\n",
      "\n",
      " \n",
      "Total Observations in Table:  150 \n",
      "\n",
      " \n",
      "               | usedcars$conservative \n",
      "usedcars$model |     FALSE |      TRUE | Row Total | \n",
      "---------------|-----------|-----------|-----------|\n",
      "            SE |        27 |        51 |        78 | \n",
      "               |     0.009 |     0.004 |           | \n",
      "               |     0.346 |     0.654 |     0.520 | \n",
      "               |     0.529 |     0.515 |           | \n",
      "               |     0.180 |     0.340 |           | \n",
      "---------------|-----------|-----------|-----------|\n",
      "           SEL |         7 |        16 |        23 | \n",
      "               |     0.086 |     0.044 |           | \n",
      "               |     0.304 |     0.696 |     0.153 | \n",
      "               |     0.137 |     0.162 |           | \n",
      "               |     0.047 |     0.107 |           | \n",
      "---------------|-----------|-----------|-----------|\n",
      "           SES |        17 |        32 |        49 | \n",
      "               |     0.007 |     0.004 |           | \n",
      "               |     0.347 |     0.653 |     0.327 | \n",
      "               |     0.333 |     0.323 |           | \n",
      "               |     0.113 |     0.213 |           | \n",
      "---------------|-----------|-----------|-----------|\n",
      "  Column Total |        51 |        99 |       150 | \n",
      "               |     0.340 |     0.660 |           | \n",
      "---------------|-----------|-----------|-----------|\n",
      "\n",
      " \n"
     ]
    }
   ],
   "source": [
    "install.packages(\"gmodels\")\n",
    "\n",
    "# Crosstab of conservative by model\n",
    "library(gmodels)\n",
    "CrossTable(x = usedcars$model, y = usedcars$conservative)"
   ]
  },
  {
   "cell_type": "code",
   "execution_count": null,
   "id": "38b65a9e-477b-4a03-b513-c3586f5b0dcf",
   "metadata": {},
   "outputs": [],
   "source": []
  }
 ],
 "metadata": {
  "kernelspec": {
   "display_name": "R",
   "language": "R",
   "name": "ir"
  },
  "language_info": {
   "codemirror_mode": "r",
   "file_extension": ".r",
   "mimetype": "text/x-r-source",
   "name": "R",
   "pygments_lexer": "r",
   "version": "4.2.2"
  },
  "widgets": {
   "application/vnd.jupyter.widget-state+json": {
    "state": {},
    "version_major": 2,
    "version_minor": 0
   }
  }
 },
 "nbformat": 4,
 "nbformat_minor": 5
}
