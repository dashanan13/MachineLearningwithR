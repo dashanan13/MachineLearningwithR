{
 "cells": [
  {
   "cell_type": "code",
   "execution_count": 35,
   "id": "eb534012-c809-4541-82c4-4b45ba9d7821",
   "metadata": {},
   "outputs": [],
   "source": [
    "setwd(\"C:/Users/devops/MachineLearningwithR/Day0-Statistics\")  #setting work directory (\\ does not work on windows so it is replaced with /)"
   ]
  },
  {
   "cell_type": "markdown",
   "id": "3ca79398-3308-4ba7-9687-12505da1f025",
   "metadata": {},
   "source": [
    "#### Conditions, Loops and Functions"
   ]
  },
  {
   "cell_type": "markdown",
   "id": "61f20995-f971-4feb-8f7c-0ae73aedcc95",
   "metadata": {},
   "source": [
    "#### Condition"
   ]
  },
  {
   "cell_type": "code",
   "execution_count": 36,
   "id": "e27d9731-b1d2-487f-b1b7-df3662ddb845",
   "metadata": {},
   "outputs": [
    {
     "name": "stdout",
     "output_type": "stream",
     "text": [
      "[1] \"Movie year is greater than 2000\"\n"
     ]
    }
   ],
   "source": [
    "movie_year <- 2001\n",
    "\n",
    "if(movie_year > 2000) { \n",
    "    print(\"Movie year is greater than 2000\") \n",
    "} else { \n",
    "    print(\"Movie year is less than 2000\") \n",
    "}"
   ]
  },
  {
   "cell_type": "markdown",
   "id": "8baca01b-5354-4e84-8f1f-009ed60f4bc3",
   "metadata": {},
   "source": [
    "#### Loops"
   ]
  },
  {
   "cell_type": "code",
   "execution_count": 37,
   "id": "2242bb8b-a8b3-405a-b940-9a83b91d4643",
   "metadata": {},
   "outputs": [
    {
     "name": "stdout",
     "output_type": "stream",
     "text": [
      "[1] \"New movie\"\n",
      "[1] \"New movie\"\n",
      "[1] \"New movie\"\n",
      "[1] \"Old movie\"\n",
      "[1] \"New movie\"\n",
      "[1] \"New movie\"\n"
     ]
    }
   ],
   "source": [
    "years <- c(1995, 1998, 2000, 1985, 2022, 1999)\n",
    "for (yr in years){\n",
    "    #print(yr)\n",
    "    if(yr < 1990){\n",
    "        print(\"Old movie\")\n",
    "    } else {\n",
    "        print(\"New movie\")\n",
    "    }\n",
    "}"
   ]
  },
  {
   "cell_type": "code",
   "execution_count": 38,
   "id": "a2bfbea7-d7e3-4331-a051-b862ed777d1b",
   "metadata": {},
   "outputs": [
    {
     "name": "stdout",
     "output_type": "stream",
     "text": [
      "[1] \"Iteration number:\" \"1\"                \n",
      "[1] \"Iteration number:\" \"2\"                \n",
      "[1] \"Iteration number:\" \"3\"                \n",
      "[1] \"Iteration number:\" \"4\"                \n",
      "[1] \"Iteration number:\" \"5\"                \n"
     ]
    }
   ],
   "source": [
    "count <- 1\n",
    "while(count <= 5) {\n",
    "    print(c(\"Iteration number:\", count))\n",
    "    count <- count +1\n",
    "}"
   ]
  },
  {
   "cell_type": "markdown",
   "id": "afaefc75-a581-4055-bd62-67590bd61ce1",
   "metadata": {},
   "source": [
    "#### Functions"
   ]
  },
  {
   "cell_type": "code",
   "execution_count": 39,
   "id": "047a4156-2175-4539-b2dc-01496145fd9a",
   "metadata": {},
   "outputs": [
    {
     "data": {
      "text/html": [
       "8.03333333333333"
      ],
      "text/latex": [
       "8.03333333333333"
      ],
      "text/markdown": [
       "8.03333333333333"
      ],
      "text/plain": [
       "[1] 8.033333"
      ]
     },
     "metadata": {},
     "output_type": "display_data"
    },
    {
     "data": {
      "text/html": [
       "<style>\n",
       ".list-inline {list-style: none; margin:0; padding: 0}\n",
       ".list-inline>li {display: inline-block}\n",
       ".list-inline>li:not(:last-child)::after {content: \"\\00b7\"; padding: 0 .5ex}\n",
       "</style>\n",
       "<ol class=list-inline><li>8.7</li><li>8.5</li><li>6.9</li></ol>\n"
      ],
      "text/latex": [
       "\\begin{enumerate*}\n",
       "\\item 8.7\n",
       "\\item 8.5\n",
       "\\item 6.9\n",
       "\\end{enumerate*}\n"
      ],
      "text/markdown": [
       "1. 8.7\n",
       "2. 8.5\n",
       "3. 6.9\n",
       "\n",
       "\n"
      ],
      "text/plain": [
       "[1] 8.7 8.5 6.9"
      ]
     },
     "metadata": {},
     "output_type": "display_data"
    }
   ],
   "source": [
    "# Pre Defined\n",
    "ratings <- c(8.7, 6.9, 8.5)\n",
    "mean(ratings)\n",
    "sort(ratings, decreasing = TRUE)"
   ]
  },
  {
   "cell_type": "code",
   "execution_count": 40,
   "id": "79af26c9-27bc-4911-8c63-ee26222f9009",
   "metadata": {},
   "outputs": [
    {
     "data": {
      "text/html": [
       "7"
      ],
      "text/latex": [
       "7"
      ],
      "text/markdown": [
       "7"
      ],
      "text/plain": [
       "[1] 7"
      ]
     },
     "metadata": {},
     "output_type": "display_data"
    },
    {
     "data": {
      "text/html": [
       "10"
      ],
      "text/latex": [
       "10"
      ],
      "text/markdown": [
       "10"
      ],
      "text/plain": [
       "[1] 10"
      ]
     },
     "metadata": {},
     "output_type": "display_data"
    }
   ],
   "source": [
    "# User Defined\n",
    "printSum <- function(x,y=7) {\n",
    "    return(x+y)\n",
    "}\n",
    "\n",
    "printSum(3,4) #overriding default value\n",
    "printSum(3) #default value used "
   ]
  },
  {
   "cell_type": "code",
   "execution_count": 41,
   "id": "a6ed8d91-23b6-4ebf-b2d6-e68cfdf027df",
   "metadata": {},
   "outputs": [
    {
     "name": "stdout",
     "output_type": "stream",
     "text": [
      "[1] \"Global Variables are available outside and inside the function\"\n",
      "[1] \"Local Variables are NOT available outside their scope, in this case the function\"\n"
     ]
    },
    {
     "data": {
      "text/html": [
       "'Global Variables are available outside and inside the function'"
      ],
      "text/latex": [
       "'Global Variables are available outside and inside the function'"
      ],
      "text/markdown": [
       "'Global Variables are available outside and inside the function'"
      ],
      "text/plain": [
       "[1] \"Global Variables are available outside and inside the function\""
      ]
     },
     "metadata": {},
     "output_type": "display_data"
    },
    {
     "ename": "ERROR",
     "evalue": "Error in eval(expr, envir, enclos): object 'local_var' not found\n",
     "output_type": "error",
     "traceback": [
      "Error in eval(expr, envir, enclos): object 'local_var' not found\nTraceback:\n"
     ]
    }
   ],
   "source": [
    "# global and local variable\n",
    "\n",
    "myfunction <- function() {\n",
    "    global_var <<- \"Global Variables are available outside and inside the function\"\n",
    "    local_var <- \"Local Variables are NOT available outside their scope, in this case the function\"\n",
    "    \n",
    "    print(global_var)\n",
    "    print(local_var)\n",
    "    temp <- \"oops\"\n",
    "}\n",
    "\n",
    "myfunction()\n",
    "\n",
    "global_var\n",
    "local_var\n"
   ]
  }
 ],
 "metadata": {
  "kernelspec": {
   "display_name": "R",
   "language": "R",
   "name": "ir"
  },
  "language_info": {
   "codemirror_mode": "r",
   "file_extension": ".r",
   "mimetype": "text/x-r-source",
   "name": "R",
   "pygments_lexer": "r",
   "version": "4.2.2"
  },
  "widgets": {
   "application/vnd.jupyter.widget-state+json": {
    "state": {},
    "version_major": 2,
    "version_minor": 0
   }
  }
 },
 "nbformat": 4,
 "nbformat_minor": 5
}
