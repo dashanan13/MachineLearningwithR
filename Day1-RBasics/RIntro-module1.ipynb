{
 "cells": [
  {
   "cell_type": "code",
   "execution_count": 139,
   "id": "0767b3fc-2ed4-469e-be32-70cac436fe72",
   "metadata": {},
   "outputs": [],
   "source": [
    "setwd(\"C:/Users/devops/MachineLearningwithR/Day0-Statistics\")  #setting work directory (\\ does not work on windows so it is replaced with /)"
   ]
  },
  {
   "cell_type": "markdown",
   "id": "521b5ca5-b5e1-428d-9a28-d08312cd890d",
   "metadata": {},
   "source": [
    "#### Data structures in R"
   ]
  },
  {
   "cell_type": "code",
   "execution_count": 117,
   "id": "6cfe23ea-79ec-4963-b918-6229f64a3a06",
   "metadata": {},
   "outputs": [
    {
     "data": {
      "text/html": [
       "<style>\n",
       ".list-inline {list-style: none; margin:0; padding: 0}\n",
       ".list-inline>li {display: inline-block}\n",
       ".list-inline>li:not(:last-child)::after {content: \"\\00b7\"; padding: 0 .5ex}\n",
       "</style>\n",
       "<ol class=list-inline><li>FALSE</li><li>FALSE</li><li>TRUE</li><li>TRUE</li></ol>\n"
      ],
      "text/latex": [
       "\\begin{enumerate*}\n",
       "\\item FALSE\n",
       "\\item FALSE\n",
       "\\item TRUE\n",
       "\\item TRUE\n",
       "\\end{enumerate*}\n"
      ],
      "text/markdown": [
       "1. FALSE\n",
       "2. FALSE\n",
       "3. TRUE\n",
       "4. TRUE\n",
       "\n",
       "\n"
      ],
      "text/plain": [
       "[1] FALSE FALSE  TRUE  TRUE"
      ]
     },
     "metadata": {},
     "output_type": "display_data"
    },
    {
     "data": {
      "text/html": [
       "<style>\n",
       ".list-inline {list-style: none; margin:0; padding: 0}\n",
       ".list-inline>li {display: inline-block}\n",
       ".list-inline>li:not(:last-child)::after {content: \"\\00b7\"; padding: 0 .5ex}\n",
       "</style>\n",
       "<ol class=list-inline><li>15</li><li>86</li><li>99.999</li><li>86</li><li>&lt;NA&gt;</li><li>&lt;NA&gt;</li></ol>\n"
      ],
      "text/latex": [
       "\\begin{enumerate*}\n",
       "\\item 15\n",
       "\\item 86\n",
       "\\item 99.999\n",
       "\\item 86\n",
       "\\item <NA>\n",
       "\\item <NA>\n",
       "\\end{enumerate*}\n"
      ],
      "text/markdown": [
       "1. 15\n",
       "2. 86\n",
       "3. 99.999\n",
       "4. 86\n",
       "5. &lt;NA&gt;\n",
       "6. &lt;NA&gt;\n",
       "\n",
       "\n"
      ],
      "text/plain": [
       "[1] 15.000 86.000 99.999 86.000     NA     NA"
      ]
     },
     "metadata": {},
     "output_type": "display_data"
    },
    {
     "data": {
      "text/html": [
       "<style>\n",
       ".list-inline {list-style: none; margin:0; padding: 0}\n",
       ".list-inline>li {display: inline-block}\n",
       ".list-inline>li:not(:last-child)::after {content: \"\\00b7\"; padding: 0 .5ex}\n",
       "</style>\n",
       "<ol class=list-inline><li>'mohit'</li><li>'darsh'</li><li>'vishnu'</li><li>'mohit'</li><li>'sumit'</li><li>'darsh'</li><li>'vishnu'</li></ol>\n"
      ],
      "text/latex": [
       "\\begin{enumerate*}\n",
       "\\item 'mohit'\n",
       "\\item 'darsh'\n",
       "\\item 'vishnu'\n",
       "\\item 'mohit'\n",
       "\\item 'sumit'\n",
       "\\item 'darsh'\n",
       "\\item 'vishnu'\n",
       "\\end{enumerate*}\n"
      ],
      "text/markdown": [
       "1. 'mohit'\n",
       "2. 'darsh'\n",
       "3. 'vishnu'\n",
       "4. 'mohit'\n",
       "5. 'sumit'\n",
       "6. 'darsh'\n",
       "7. 'vishnu'\n",
       "\n",
       "\n"
      ],
      "text/plain": [
       "[1] \"mohit\"  \"darsh\"  \"vishnu\" \"mohit\"  \"sumit\"  \"darsh\"  \"vishnu\""
      ]
     },
     "metadata": {},
     "output_type": "display_data"
    },
    {
     "data": {
      "text/plain": [
       "   Min. 1st Qu.  Median    Mean 3rd Qu.    Max.    NA's \n",
       "  15.00   73.25   86.00  135.17   96.50  455.00       1 "
      ]
     },
     "metadata": {},
     "output_type": "display_data"
    },
    {
     "name": "stdout",
     "output_type": "stream",
     "text": [
      "[1] \"functions for vectors\"\n"
     ]
    },
    {
     "data": {
      "text/html": [
       "<style>\n",
       ".dl-inline {width: auto; margin:0; padding: 0}\n",
       ".dl-inline>dt, .dl-inline>dd {float: none; width: auto; display: inline-block}\n",
       ".dl-inline>dt::after {content: \":\\0020\"; padding-right: .5ex}\n",
       ".dl-inline>dt:not(:first-of-type) {padding-left: .5ex}\n",
       "</style><dl class=dl-inline><dt>movie1</dt><dd>1985</dd><dt>movie2</dt><dd>1999</dd><dt>movie3</dt><dd>2010</dd><dt>movie4</dt><dd>2002</dd></dl>\n"
      ],
      "text/latex": [
       "\\begin{description*}\n",
       "\\item[movie1] 1985\n",
       "\\item[movie2] 1999\n",
       "\\item[movie3] 2010\n",
       "\\item[movie4] 2002\n",
       "\\end{description*}\n"
      ],
      "text/markdown": [
       "movie1\n",
       ":   1985movie2\n",
       ":   1999movie3\n",
       ":   2010movie4\n",
       ":   2002\n",
       "\n"
      ],
      "text/plain": [
       "movie1 movie2 movie3 movie4 \n",
       "  1985   1999   2010   2002 "
      ]
     },
     "metadata": {},
     "output_type": "display_data"
    },
    {
     "data": {
      "text/html": [
       "4"
      ],
      "text/latex": [
       "4"
      ],
      "text/markdown": [
       "4"
      ],
      "text/plain": [
       "[1] 4"
      ]
     },
     "metadata": {},
     "output_type": "display_data"
    },
    {
     "data": {
      "text/html": [
       "<style>\n",
       ".dl-inline {width: auto; margin:0; padding: 0}\n",
       ".dl-inline>dt, .dl-inline>dd {float: none; width: auto; display: inline-block}\n",
       ".dl-inline>dt::after {content: \":\\0020\"; padding-right: .5ex}\n",
       ".dl-inline>dt:not(:first-of-type) {padding-left: .5ex}\n",
       "</style><dl class=dl-inline><dt>movie1</dt><dd>1985</dd><dt>movie2</dt><dd>1999</dd><dt>movie4</dt><dd>2002</dd><dt>movie3</dt><dd>2010</dd></dl>\n"
      ],
      "text/latex": [
       "\\begin{description*}\n",
       "\\item[movie1] 1985\n",
       "\\item[movie2] 1999\n",
       "\\item[movie4] 2002\n",
       "\\item[movie3] 2010\n",
       "\\end{description*}\n"
      ],
      "text/markdown": [
       "movie1\n",
       ":   1985movie2\n",
       ":   1999movie4\n",
       ":   2002movie3\n",
       ":   2010\n",
       "\n"
      ],
      "text/plain": [
       "movie1 movie2 movie4 movie3 \n",
       "  1985   1999   2002   2010 "
      ]
     },
     "metadata": {},
     "output_type": "display_data"
    },
    {
     "data": {
      "text/html": [
       "1985"
      ],
      "text/latex": [
       "1985"
      ],
      "text/markdown": [
       "1985"
      ],
      "text/plain": [
       "[1] 1985"
      ]
     },
     "metadata": {},
     "output_type": "display_data"
    },
    {
     "data": {
      "text/html": [
       "2010"
      ],
      "text/latex": [
       "2010"
      ],
      "text/markdown": [
       "2010"
      ],
      "text/plain": [
       "[1] 2010"
      ]
     },
     "metadata": {},
     "output_type": "display_data"
    },
    {
     "data": {
      "text/html": [
       "1999"
      ],
      "text/latex": [
       "1999"
      ],
      "text/markdown": [
       "1999"
      ],
      "text/plain": [
       "[1] 1999"
      ]
     },
     "metadata": {},
     "output_type": "display_data"
    },
    {
     "data": {
      "text/html": [
       "<style>\n",
       ".dl-inline {width: auto; margin:0; padding: 0}\n",
       ".dl-inline>dt, .dl-inline>dd {float: none; width: auto; display: inline-block}\n",
       ".dl-inline>dt::after {content: \":\\0020\"; padding-right: .5ex}\n",
       ".dl-inline>dt:not(:first-of-type) {padding-left: .5ex}\n",
       "</style><dl class=dl-inline><dt>movie1</dt><dd>FALSE</dd><dt>movie2</dt><dd>FALSE</dd><dt>movie3</dt><dd>TRUE</dd><dt>movie4</dt><dd>TRUE</dd></dl>\n"
      ],
      "text/latex": [
       "\\begin{description*}\n",
       "\\item[movie1] FALSE\n",
       "\\item[movie2] FALSE\n",
       "\\item[movie3] TRUE\n",
       "\\item[movie4] TRUE\n",
       "\\end{description*}\n"
      ],
      "text/markdown": [
       "movie1\n",
       ":   FALSEmovie2\n",
       ":   FALSEmovie3\n",
       ":   TRUEmovie4\n",
       ":   TRUE\n",
       "\n"
      ],
      "text/plain": [
       "movie1 movie2 movie3 movie4 \n",
       " FALSE  FALSE   TRUE   TRUE "
      ]
     },
     "metadata": {},
     "output_type": "display_data"
    },
    {
     "data": {
      "text/html": [
       "<style>\n",
       ".dl-inline {width: auto; margin:0; padding: 0}\n",
       ".dl-inline>dt, .dl-inline>dd {float: none; width: auto; display: inline-block}\n",
       ".dl-inline>dt::after {content: \":\\0020\"; padding-right: .5ex}\n",
       ".dl-inline>dt:not(:first-of-type) {padding-left: .5ex}\n",
       "</style><dl class=dl-inline><dt>movie3</dt><dd>2010</dd><dt>movie4</dt><dd>2002</dd></dl>\n"
      ],
      "text/latex": [
       "\\begin{description*}\n",
       "\\item[movie3] 2010\n",
       "\\item[movie4] 2002\n",
       "\\end{description*}\n"
      ],
      "text/markdown": [
       "movie3\n",
       ":   2010movie4\n",
       ":   2002\n",
       "\n"
      ],
      "text/plain": [
       "movie3 movie4 \n",
       "  2010   2002 "
      ]
     },
     "metadata": {},
     "output_type": "display_data"
    }
   ],
   "source": [
    "#Vectors: ORDERED set of similar type of elements, only text or only numbers (!!! ORDER BEGINS at 1 not 0!!!)\n",
    "#Logical Vectors\n",
    "logical_vector <- c(TRUE,FALSE,FALSE,TRUE,TRUE,FALSE,FALSE,TRUE)\n",
    "logical_vector[2:5]\n",
    "#Numeric Vectors\n",
    "numeical_vector <- c(15, 86, 99.999, 69, 455, 86, NA, NULL)  # NA = missing value, NULL = absence of any value (nothing is or can be there)\n",
    "numeical_vector[c(TRUE,TRUE,TRUE,FALSE,FALSE,TRUE,TRUE,TRUE)] #selecting value based on Boolean place value or index number, false will not render\n",
    "#Integer Vectors\n",
    "integral_vector <- c(15L, 86L, 99L, 15L, 86L, 8, NA, NULL)\n",
    "#String Vectors\n",
    "string_vectors <- c(\"mohit\", \"sumit\", \"darsh\", \"vishnu\", \"mohit\", \"sumit\", \"darsh\", \"vishnu\")\n",
    "string_vectors[-2] #neglecting 2nd value\n",
    "\n",
    "# summary of variable\n",
    "summary(numeical_vector)\n",
    "\n",
    "# functions for vectors\n",
    "print(\"functions for vectors\")\n",
    "year <- c(1985, 1999, 2010, 2002)\n",
    "names(year) <- c(\"movie1\", \"movie2\", \"movie3\", \"movie4\")   # naming the elements for vectors\n",
    "year # title and value mapped\n",
    "\n",
    "length(year) # vector length\n",
    "\n",
    "sort(year)\n",
    "\n",
    "min(year)\n",
    "max(year)\n",
    "\n",
    "mean(year)\n",
    "\n",
    "#logical operation on elements\n",
    "year > 2000 # returns the true and false for each element based on condition\n",
    "year[year > 2000] # returns only the elements that have year greated than 2000"
   ]
  },
  {
   "cell_type": "code",
   "execution_count": 118,
   "id": "2124e286-21a3-46c8-bb51-f32f02c799ef",
   "metadata": {},
   "outputs": [
    {
     "data": {
      "text/html": [
       "<style>\n",
       ".list-inline {list-style: none; margin:0; padding: 0}\n",
       ".list-inline>li {display: inline-block}\n",
       ".list-inline>li:not(:last-child)::after {content: \"\\00b7\"; padding: 0 .5ex}\n",
       "</style>\n",
       "<ol class=list-inline><li>Very short</li><li>Short</li><li>Medium</li><li>Short</li><li>Long</li><li>Very short</li><li>&lt;NA&gt;</li></ol>\n",
       "\n",
       "<details>\n",
       "\t<summary style=display:list-item;cursor:pointer>\n",
       "\t\t<strong>Levels</strong>:\n",
       "\t</summary>\n",
       "\t<style>\n",
       "\t.list-inline {list-style: none; margin:0; padding: 0}\n",
       "\t.list-inline>li {display: inline-block}\n",
       "\t.list-inline>li:not(:last-child)::after {content: \"\\00b7\"; padding: 0 .5ex}\n",
       "\t</style>\n",
       "\t<ol class=list-inline><li>'Very short'</li><li>'Short'</li><li>'Medium'</li><li>'Long'</li><li>'ery long'</li></ol>\n",
       "</details>"
      ],
      "text/latex": [
       "\\begin{enumerate*}\n",
       "\\item Very short\n",
       "\\item Short\n",
       "\\item Medium\n",
       "\\item Short\n",
       "\\item Long\n",
       "\\item Very short\n",
       "\\item <NA>\n",
       "\\end{enumerate*}\n",
       "\n",
       "\\emph{Levels}: \\begin{enumerate*}\n",
       "\\item 'Very short'\n",
       "\\item 'Short'\n",
       "\\item 'Medium'\n",
       "\\item 'Long'\n",
       "\\item 'ery long'\n",
       "\\end{enumerate*}\n"
      ],
      "text/markdown": [
       "1. Very short\n",
       "2. Short\n",
       "3. Medium\n",
       "4. Short\n",
       "5. Long\n",
       "6. Very short\n",
       "7. &lt;NA&gt;\n",
       "\n",
       "\n",
       "\n",
       "**Levels**: 1. 'Very short'\n",
       "2. 'Short'\n",
       "3. 'Medium'\n",
       "4. 'Long'\n",
       "5. 'ery long'\n",
       "\n",
       "\n"
      ],
      "text/plain": [
       "[1] Very short Short      Medium     Short      Long       Very short <NA>      \n",
       "Levels: Very short < Short < Medium < Long < ery long"
      ]
     },
     "metadata": {},
     "output_type": "display_data"
    },
    {
     "data": {
      "text/html": [
       "O\n",
       "<details>\n",
       "\t<summary style=display:list-item;cursor:pointer>\n",
       "\t\t<strong>Levels</strong>:\n",
       "\t</summary>\n",
       "\t<style>\n",
       "\t.list-inline {list-style: none; margin:0; padding: 0}\n",
       "\t.list-inline>li {display: inline-block}\n",
       "\t.list-inline>li:not(:last-child)::after {content: \"\\00b7\"; padding: 0 .5ex}\n",
       "\t</style>\n",
       "\t<ol class=list-inline><li>'A'</li><li>'B'</li><li>'AB'</li><li>'O'</li></ol>\n",
       "</details>"
      ],
      "text/latex": [
       "O\n",
       "\\emph{Levels}: \\begin{enumerate*}\n",
       "\\item 'A'\n",
       "\\item 'B'\n",
       "\\item 'AB'\n",
       "\\item 'O'\n",
       "\\end{enumerate*}\n"
      ],
      "text/markdown": [
       "O\n",
       "**Levels**: 1. 'A'\n",
       "2. 'B'\n",
       "3. 'AB'\n",
       "4. 'O'\n",
       "\n",
       "\n"
      ],
      "text/plain": [
       "[1] O\n",
       "Levels: A B AB O"
      ]
     },
     "metadata": {},
     "output_type": "display_data"
    },
    {
     "data": {
      "text/html": [
       "<style>\n",
       ".list-inline {list-style: none; margin:0; padding: 0}\n",
       ".list-inline>li {display: inline-block}\n",
       ".list-inline>li:not(:last-child)::after {content: \"\\00b7\"; padding: 0 .5ex}\n",
       "</style>\n",
       "<ol class=list-inline><li>O</li><li>AB</li><li>A</li></ol>\n",
       "\n",
       "<details>\n",
       "\t<summary style=display:list-item;cursor:pointer>\n",
       "\t\t<strong>Levels</strong>:\n",
       "\t</summary>\n",
       "\t<style>\n",
       "\t.list-inline {list-style: none; margin:0; padding: 0}\n",
       "\t.list-inline>li {display: inline-block}\n",
       "\t.list-inline>li:not(:last-child)::after {content: \"\\00b7\"; padding: 0 .5ex}\n",
       "\t</style>\n",
       "\t<ol class=list-inline><li>'A'</li><li>'B'</li><li>'AB'</li><li>'O'</li></ol>\n",
       "</details>"
      ],
      "text/latex": [
       "\\begin{enumerate*}\n",
       "\\item O\n",
       "\\item AB\n",
       "\\item A\n",
       "\\end{enumerate*}\n",
       "\n",
       "\\emph{Levels}: \\begin{enumerate*}\n",
       "\\item 'A'\n",
       "\\item 'B'\n",
       "\\item 'AB'\n",
       "\\item 'O'\n",
       "\\end{enumerate*}\n"
      ],
      "text/markdown": [
       "1. O\n",
       "2. AB\n",
       "3. A\n",
       "\n",
       "\n",
       "\n",
       "**Levels**: 1. 'A'\n",
       "2. 'B'\n",
       "3. 'AB'\n",
       "4. 'O'\n",
       "\n",
       "\n"
      ],
      "text/plain": [
       "[1] O  AB A \n",
       "Levels: A B AB O"
      ]
     },
     "metadata": {},
     "output_type": "display_data"
    },
    {
     "data": {
      "text/html": [
       "<style>\n",
       ".list-inline {list-style: none; margin:0; padding: 0}\n",
       ".list-inline>li {display: inline-block}\n",
       ".list-inline>li:not(:last-child)::after {content: \"\\00b7\"; padding: 0 .5ex}\n",
       "</style>\n",
       "<ol class=list-inline><li>O</li><li>AB</li><li>A</li></ol>\n",
       "\n",
       "<details>\n",
       "\t<summary style=display:list-item;cursor:pointer>\n",
       "\t\t<strong>Levels</strong>:\n",
       "\t</summary>\n",
       "\t<style>\n",
       "\t.list-inline {list-style: none; margin:0; padding: 0}\n",
       "\t.list-inline>li {display: inline-block}\n",
       "\t.list-inline>li:not(:last-child)::after {content: \"\\00b7\"; padding: 0 .5ex}\n",
       "\t</style>\n",
       "\t<ol class=list-inline><li>'A'</li><li>'B'</li><li>'AB'</li><li>'O'</li></ol>\n",
       "</details>"
      ],
      "text/latex": [
       "\\begin{enumerate*}\n",
       "\\item O\n",
       "\\item AB\n",
       "\\item A\n",
       "\\end{enumerate*}\n",
       "\n",
       "\\emph{Levels}: \\begin{enumerate*}\n",
       "\\item 'A'\n",
       "\\item 'B'\n",
       "\\item 'AB'\n",
       "\\item 'O'\n",
       "\\end{enumerate*}\n"
      ],
      "text/markdown": [
       "1. O\n",
       "2. AB\n",
       "3. A\n",
       "\n",
       "\n",
       "\n",
       "**Levels**: 1. 'A'\n",
       "2. 'B'\n",
       "3. 'AB'\n",
       "4. 'O'\n",
       "\n",
       "\n"
      ],
      "text/plain": [
       "[1] O  AB A \n",
       "Levels: A < B < AB < O"
      ]
     },
     "metadata": {},
     "output_type": "display_data"
    },
    {
     "data": {
      "text/html": [
       "<style>\n",
       ".dl-inline {width: auto; margin:0; padding: 0}\n",
       ".dl-inline>dt, .dl-inline>dd {float: none; width: auto; display: inline-block}\n",
       ".dl-inline>dt::after {content: \":\\0020\"; padding-right: .5ex}\n",
       ".dl-inline>dt:not(:first-of-type) {padding-left: .5ex}\n",
       "</style><dl class=dl-inline><dt>A</dt><dd>1</dd><dt>B</dt><dd>0</dd><dt>AB</dt><dd>1</dd><dt>O</dt><dd>1</dd></dl>\n"
      ],
      "text/latex": [
       "\\begin{description*}\n",
       "\\item[A] 1\n",
       "\\item[B] 0\n",
       "\\item[AB] 1\n",
       "\\item[O] 1\n",
       "\\end{description*}\n"
      ],
      "text/markdown": [
       "A\n",
       ":   1B\n",
       ":   0AB\n",
       ":   1O\n",
       ":   1\n",
       "\n"
      ],
      "text/plain": [
       " A  B AB  O \n",
       " 1  0  1  1 "
      ]
     },
     "metadata": {},
     "output_type": "display_data"
    },
    {
     "data": {
      "text/html": [
       "<style>\n",
       ".dl-inline {width: auto; margin:0; padding: 0}\n",
       ".dl-inline>dt, .dl-inline>dd {float: none; width: auto; display: inline-block}\n",
       ".dl-inline>dt::after {content: \":\\0020\"; padding-right: .5ex}\n",
       ".dl-inline>dt:not(:first-of-type) {padding-left: .5ex}\n",
       "</style><dl class=dl-inline><dt>A</dt><dd>1</dd><dt>B</dt><dd>0</dd><dt>AB</dt><dd>1</dd><dt>O</dt><dd>1</dd></dl>\n"
      ],
      "text/latex": [
       "\\begin{description*}\n",
       "\\item[A] 1\n",
       "\\item[B] 0\n",
       "\\item[AB] 1\n",
       "\\item[O] 1\n",
       "\\end{description*}\n"
      ],
      "text/markdown": [
       "A\n",
       ":   1B\n",
       ":   0AB\n",
       ":   1O\n",
       ":   1\n",
       "\n"
      ],
      "text/plain": [
       " A  B AB  O \n",
       " 1  0  1  1 "
      ]
     },
     "metadata": {},
     "output_type": "display_data"
    }
   ],
   "source": [
    "#Factors: Optimized to store category labels, the labels are always stored as strings but in memory that values have numeric representation\n",
    "#c() function gives the vales and the levels argument gives the acceptable values\n",
    "movielength_vector <- c(\"Very short\", \"Short\", \"Medium\", \"Short\", \"Long\", \"Very short\", \"Very long\")\n",
    "movielength_factor <- factor(movielength_vector, ordered = TRUE, levels = c(\"Very short\", \"Short\", \"Medium\", \"Long\", \"ery long\"))\n",
    "movielength_factor\n",
    "\n",
    "factors_bloodtypes <- factor(c(\"O\", \"AB\", \"A\"), levels = c(\"A\", \"B\", \"AB\", \"O\"))\n",
    "factors_bloodtypes_ordered <- factor(c(\"O\", \"AB\", \"A\"), levels = c(\"A\", \"B\", \"AB\", \"O\"), ordered = TRUE)\n",
    "factors_bloodtypes[1]\n",
    "factors_bloodtypes\n",
    "factors_bloodtypes_ordered\n",
    "\n",
    "# summary of variable\n",
    "summary(factors_bloodtypes) # shows occurances\n",
    "summary(factors_bloodtypes_ordered)"
   ]
  },
  {
   "cell_type": "code",
   "execution_count": 119,
   "id": "38fac429-be9a-49aa-94f9-f8703c2c847e",
   "metadata": {},
   "outputs": [
    {
     "data": {
      "text/html": [
       "<dl>\n",
       "\t<dt>$fullname</dt>\n",
       "\t\t<dd>'mohit sharma'</dd>\n",
       "\t<dt>$temperature</dt>\n",
       "\t\t<dd>98.7</dd>\n",
       "\t<dt>$age</dt>\n",
       "\t\t<dd>35</dd>\n",
       "\t<dt>$gender</dt>\n",
       "\t\t<dd>'male'</dd>\n",
       "\t<dt>$favorite_movie</dt>\n",
       "\t\t<dd><style>\n",
       ".list-inline {list-style: none; margin:0; padding: 0}\n",
       ".list-inline>li {display: inline-block}\n",
       ".list-inline>li:not(:last-child)::after {content: \"\\00b7\"; padding: 0 .5ex}\n",
       "</style>\n",
       "<ol class=list-inline><li>'matrix'</li><li>'avengers endgame'</li><li>'trolls'</li></ol>\n",
       "</dd>\n",
       "\t<dt>$canDrive</dt>\n",
       "\t\t<dd>TRUE</dd>\n",
       "</dl>\n"
      ],
      "text/latex": [
       "\\begin{description}\n",
       "\\item[\\$fullname] 'mohit sharma'\n",
       "\\item[\\$temperature] 98.7\n",
       "\\item[\\$age] 35\n",
       "\\item[\\$gender] 'male'\n",
       "\\item[\\$favorite\\_movie] \\begin{enumerate*}\n",
       "\\item 'matrix'\n",
       "\\item 'avengers endgame'\n",
       "\\item 'trolls'\n",
       "\\end{enumerate*}\n",
       "\n",
       "\\item[\\$canDrive] TRUE\n",
       "\\end{description}\n"
      ],
      "text/markdown": [
       "$fullname\n",
       ":   'mohit sharma'\n",
       "$temperature\n",
       ":   98.7\n",
       "$age\n",
       ":   35\n",
       "$gender\n",
       ":   'male'\n",
       "$favorite_movie\n",
       ":   1. 'matrix'\n",
       "2. 'avengers endgame'\n",
       "3. 'trolls'\n",
       "\n",
       "\n",
       "\n",
       "$canDrive\n",
       ":   TRUE\n",
       "\n",
       "\n"
      ],
      "text/plain": [
       "$fullname\n",
       "[1] \"mohit sharma\"\n",
       "\n",
       "$temperature\n",
       "[1] 98.7\n",
       "\n",
       "$age\n",
       "[1] 35\n",
       "\n",
       "$gender\n",
       "[1] \"male\"\n",
       "\n",
       "$favorite_movie\n",
       "[1] \"matrix\"           \"avengers endgame\" \"trolls\"          \n",
       "\n",
       "$canDrive\n",
       "[1] TRUE\n"
      ]
     },
     "metadata": {},
     "output_type": "display_data"
    },
    {
     "data": {
      "text/html": [
       "'mohit sharma'"
      ],
      "text/latex": [
       "'mohit sharma'"
      ],
      "text/markdown": [
       "'mohit sharma'"
      ],
      "text/plain": [
       "[1] \"mohit sharma\""
      ]
     },
     "metadata": {},
     "output_type": "display_data"
    },
    {
     "data": {
      "text/html": [
       "'male'"
      ],
      "text/latex": [
       "'male'"
      ],
      "text/markdown": [
       "'male'"
      ],
      "text/plain": [
       "[1] \"male\""
      ]
     },
     "metadata": {},
     "output_type": "display_data"
    },
    {
     "data": {
      "text/html": [
       "<style>\n",
       ".list-inline {list-style: none; margin:0; padding: 0}\n",
       ".list-inline>li {display: inline-block}\n",
       ".list-inline>li:not(:last-child)::after {content: \"\\00b7\"; padding: 0 .5ex}\n",
       "</style>\n",
       "<ol class=list-inline><li>'matrix'</li><li>'avengers endgame'</li><li>'trolls'</li></ol>\n"
      ],
      "text/latex": [
       "\\begin{enumerate*}\n",
       "\\item 'matrix'\n",
       "\\item 'avengers endgame'\n",
       "\\item 'trolls'\n",
       "\\end{enumerate*}\n"
      ],
      "text/markdown": [
       "1. 'matrix'\n",
       "2. 'avengers endgame'\n",
       "3. 'trolls'\n",
       "\n",
       "\n"
      ],
      "text/plain": [
       "[1] \"matrix\"           \"avengers endgame\" \"trolls\"          "
      ]
     },
     "metadata": {},
     "output_type": "display_data"
    },
    {
     "data": {
      "text/html": [
       "<dl>\n",
       "\t<dt>$temperature</dt>\n",
       "\t\t<dd>98.7</dd>\n",
       "\t<dt>$age</dt>\n",
       "\t\t<dd>35</dd>\n",
       "\t<dt>$gender</dt>\n",
       "\t\t<dd>'male'</dd>\n",
       "</dl>\n"
      ],
      "text/latex": [
       "\\begin{description}\n",
       "\\item[\\$temperature] 98.7\n",
       "\\item[\\$age] 35\n",
       "\\item[\\$gender] 'male'\n",
       "\\end{description}\n"
      ],
      "text/markdown": [
       "$temperature\n",
       ":   98.7\n",
       "$age\n",
       ":   35\n",
       "$gender\n",
       ":   'male'\n",
       "\n",
       "\n"
      ],
      "text/plain": [
       "$temperature\n",
       "[1] 98.7\n",
       "\n",
       "$age\n",
       "[1] 35\n",
       "\n",
       "$gender\n",
       "[1] \"male\"\n"
      ]
     },
     "metadata": {},
     "output_type": "display_data"
    },
    {
     "data": {
      "text/html": [
       "<dl>\n",
       "\t<dt>$&lt;NA&gt;</dt>\n",
       "\t\t<dd>NULL</dd>\n",
       "\t<dt>$&lt;NA&gt;</dt>\n",
       "\t\t<dd>NULL</dd>\n",
       "\t<dt>$&lt;NA&gt;</dt>\n",
       "\t\t<dd>NULL</dd>\n",
       "\t<dt>$&lt;NA&gt;</dt>\n",
       "\t\t<dd>NULL</dd>\n",
       "</dl>\n"
      ],
      "text/latex": [
       "\\begin{description}\n",
       "\\item[\\$<NA>] NULL\n",
       "\\item[\\$<NA>] NULL\n",
       "\\item[\\$<NA>] NULL\n",
       "\\item[\\$<NA>] NULL\n",
       "\\end{description}\n"
      ],
      "text/markdown": [
       "$&lt;NA&gt;\n",
       ":   NULL\n",
       "$&lt;NA&gt;\n",
       ":   NULL\n",
       "$&lt;NA&gt;\n",
       ":   NULL\n",
       "$&lt;NA&gt;\n",
       ":   NULL\n",
       "\n",
       "\n"
      ],
      "text/plain": [
       "$<NA>\n",
       "NULL\n",
       "\n",
       "$<NA>\n",
       "NULL\n",
       "\n",
       "$<NA>\n",
       "NULL\n",
       "\n",
       "$<NA>\n",
       "NULL\n"
      ]
     },
     "metadata": {},
     "output_type": "display_data"
    }
   ],
   "source": [
    "#Lists: ORDERED set of similar or dissimilar elements (!!! ORDER BEGINS at 1 not 0!!!)\n",
    "list_example <- list(\n",
    "  fullname=\"mohit sharma\",\n",
    "  temperature=98.7,\n",
    "  age=35,\n",
    "  gender=\"male\",\n",
    "  favorite_movie = c(\"matrix\", \"avengers endgame\", \"trolls\")\n",
    ")\n",
    "\n",
    "list_example[\"canDrive\"] <- TRUE \n",
    "\n",
    "list_example\n",
    "list_example$fullname\n",
    "list_example$gender\n",
    "list_example$favorite_movie\n",
    "list_example[2:4]\n",
    "list_example[gender]"
   ]
  },
  {
   "cell_type": "code",
   "execution_count": 120,
   "id": "d4a1ccb0-0ed5-4b55-b57f-38377d60cf39",
   "metadata": {},
   "outputs": [
    {
     "data": {
      "text/html": [
       "<table class=\"dataframe\">\n",
       "<caption>A matrix: 5 × 4 of type int</caption>\n",
       "<tbody>\n",
       "\t<tr><td> 6</td><td>11</td><td>16</td><td>21</td></tr>\n",
       "\t<tr><td> 7</td><td>12</td><td>17</td><td>22</td></tr>\n",
       "\t<tr><td> 8</td><td>13</td><td>18</td><td>23</td></tr>\n",
       "\t<tr><td> 9</td><td>14</td><td>19</td><td>24</td></tr>\n",
       "\t<tr><td>10</td><td>15</td><td>20</td><td>25</td></tr>\n",
       "</tbody>\n",
       "</table>\n"
      ],
      "text/latex": [
       "A matrix: 5 × 4 of type int\n",
       "\\begin{tabular}{llll}\n",
       "\t  6 & 11 & 16 & 21\\\\\n",
       "\t  7 & 12 & 17 & 22\\\\\n",
       "\t  8 & 13 & 18 & 23\\\\\n",
       "\t  9 & 14 & 19 & 24\\\\\n",
       "\t 10 & 15 & 20 & 25\\\\\n",
       "\\end{tabular}\n"
      ],
      "text/markdown": [
       "\n",
       "A matrix: 5 × 4 of type int\n",
       "\n",
       "|  6 | 11 | 16 | 21 |\n",
       "|  7 | 12 | 17 | 22 |\n",
       "|  8 | 13 | 18 | 23 |\n",
       "|  9 | 14 | 19 | 24 |\n",
       "| 10 | 15 | 20 | 25 |\n",
       "\n"
      ],
      "text/plain": [
       "     [,1] [,2] [,3] [,4]\n",
       "[1,]  6   11   16   21  \n",
       "[2,]  7   12   17   22  \n",
       "[3,]  8   13   18   23  \n",
       "[4,]  9   14   19   24  \n",
       "[5,] 10   15   20   25  "
      ]
     },
     "metadata": {},
     "output_type": "display_data"
    },
    {
     "data": {
      "text/html": [
       "<table class=\"dataframe\">\n",
       "<caption>A matrix: 5 × 4 of type int</caption>\n",
       "<tbody>\n",
       "\t<tr><td> 6</td><td> 7</td><td> 8</td><td> 9</td></tr>\n",
       "\t<tr><td>10</td><td>11</td><td>12</td><td>13</td></tr>\n",
       "\t<tr><td>14</td><td>15</td><td>16</td><td>17</td></tr>\n",
       "\t<tr><td>18</td><td>19</td><td>20</td><td>21</td></tr>\n",
       "\t<tr><td>22</td><td>23</td><td>24</td><td>25</td></tr>\n",
       "</tbody>\n",
       "</table>\n"
      ],
      "text/latex": [
       "A matrix: 5 × 4 of type int\n",
       "\\begin{tabular}{llll}\n",
       "\t  6 &  7 &  8 &  9\\\\\n",
       "\t 10 & 11 & 12 & 13\\\\\n",
       "\t 14 & 15 & 16 & 17\\\\\n",
       "\t 18 & 19 & 20 & 21\\\\\n",
       "\t 22 & 23 & 24 & 25\\\\\n",
       "\\end{tabular}\n"
      ],
      "text/markdown": [
       "\n",
       "A matrix: 5 × 4 of type int\n",
       "\n",
       "|  6 |  7 |  8 |  9 |\n",
       "| 10 | 11 | 12 | 13 |\n",
       "| 14 | 15 | 16 | 17 |\n",
       "| 18 | 19 | 20 | 21 |\n",
       "| 22 | 23 | 24 | 25 |\n",
       "\n"
      ],
      "text/plain": [
       "     [,1] [,2] [,3] [,4]\n",
       "[1,]  6    7    8    9  \n",
       "[2,] 10   11   12   13  \n",
       "[3,] 14   15   16   17  \n",
       "[4,] 18   19   20   21  \n",
       "[5,] 22   23   24   25  "
      ]
     },
     "metadata": {},
     "output_type": "display_data"
    },
    {
     "data": {
      "text/html": [
       "17"
      ],
      "text/latex": [
       "17"
      ],
      "text/markdown": [
       "17"
      ],
      "text/plain": [
       "[1] 17"
      ]
     },
     "metadata": {},
     "output_type": "display_data"
    },
    {
     "data": {
      "text/html": [
       "<style>\n",
       ".list-inline {list-style: none; margin:0; padding: 0}\n",
       ".list-inline>li {display: inline-block}\n",
       ".list-inline>li:not(:last-child)::after {content: \"\\00b7\"; padding: 0 .5ex}\n",
       "</style>\n",
       "<ol class=list-inline><li>'a'</li><li>'c'</li></ol>\n"
      ],
      "text/latex": [
       "\\begin{enumerate*}\n",
       "\\item 'a'\n",
       "\\item 'c'\n",
       "\\end{enumerate*}\n"
      ],
      "text/markdown": [
       "1. 'a'\n",
       "2. 'c'\n",
       "\n",
       "\n"
      ],
      "text/plain": [
       "[1] \"a\" \"c\""
      ]
     },
     "metadata": {},
     "output_type": "display_data"
    },
    {
     "data": {
      "text/html": [
       "<style>\n",
       ".list-inline {list-style: none; margin:0; padding: 0}\n",
       ".list-inline>li {display: inline-block}\n",
       ".list-inline>li:not(:last-child)::after {content: \"\\00b7\"; padding: 0 .5ex}\n",
       "</style>\n",
       "<ol class=list-inline><li>11</li><li>12</li><li>13</li><li>14</li><li>15</li></ol>\n"
      ],
      "text/latex": [
       "\\begin{enumerate*}\n",
       "\\item 11\n",
       "\\item 12\n",
       "\\item 13\n",
       "\\item 14\n",
       "\\item 15\n",
       "\\end{enumerate*}\n"
      ],
      "text/markdown": [
       "1. 11\n",
       "2. 12\n",
       "3. 13\n",
       "4. 14\n",
       "5. 15\n",
       "\n",
       "\n"
      ],
      "text/plain": [
       "[1] 11 12 13 14 15"
      ]
     },
     "metadata": {},
     "output_type": "display_data"
    },
    {
     "data": {
      "text/html": [
       "<table class=\"dataframe\">\n",
       "<caption>A matrix: 2 × 2 of type int</caption>\n",
       "<tbody>\n",
       "\t<tr><td>11</td><td>16</td></tr>\n",
       "\t<tr><td>12</td><td>17</td></tr>\n",
       "</tbody>\n",
       "</table>\n"
      ],
      "text/latex": [
       "A matrix: 2 × 2 of type int\n",
       "\\begin{tabular}{ll}\n",
       "\t 11 & 16\\\\\n",
       "\t 12 & 17\\\\\n",
       "\\end{tabular}\n"
      ],
      "text/markdown": [
       "\n",
       "A matrix: 2 × 2 of type int\n",
       "\n",
       "| 11 | 16 |\n",
       "| 12 | 17 |\n",
       "\n"
      ],
      "text/plain": [
       "     [,1] [,2]\n",
       "[1,] 11   16  \n",
       "[2,] 12   17  "
      ]
     },
     "metadata": {},
     "output_type": "display_data"
    },
    {
     "data": {
      "text/html": [
       "<table class=\"dataframe\">\n",
       "<caption>A matrix: 4 × 5 of type int</caption>\n",
       "<tbody>\n",
       "\t<tr><td> 6</td><td> 7</td><td> 8</td><td> 9</td><td>10</td></tr>\n",
       "\t<tr><td>11</td><td>12</td><td>13</td><td>14</td><td>15</td></tr>\n",
       "\t<tr><td>16</td><td>17</td><td>18</td><td>19</td><td>20</td></tr>\n",
       "\t<tr><td>21</td><td>22</td><td>23</td><td>24</td><td>25</td></tr>\n",
       "</tbody>\n",
       "</table>\n"
      ],
      "text/latex": [
       "A matrix: 4 × 5 of type int\n",
       "\\begin{tabular}{lllll}\n",
       "\t  6 &  7 &  8 &  9 & 10\\\\\n",
       "\t 11 & 12 & 13 & 14 & 15\\\\\n",
       "\t 16 & 17 & 18 & 19 & 20\\\\\n",
       "\t 21 & 22 & 23 & 24 & 25\\\\\n",
       "\\end{tabular}\n"
      ],
      "text/markdown": [
       "\n",
       "A matrix: 4 × 5 of type int\n",
       "\n",
       "|  6 |  7 |  8 |  9 | 10 |\n",
       "| 11 | 12 | 13 | 14 | 15 |\n",
       "| 16 | 17 | 18 | 19 | 20 |\n",
       "| 21 | 22 | 23 | 24 | 25 |\n",
       "\n"
      ],
      "text/plain": [
       "     [,1] [,2] [,3] [,4] [,5]\n",
       "[1,]  6    7    8    9   10  \n",
       "[2,] 11   12   13   14   15  \n",
       "[3,] 16   17   18   19   20  \n",
       "[4,] 21   22   23   24   25  "
      ]
     },
     "metadata": {},
     "output_type": "display_data"
    }
   ],
   "source": [
    "#Matrix: 2 dimension table\n",
    "matrix_row_col_specified <- matrix(c(6:25),nrow=5,ncol=4) # default arrangements happen by column: each column is filled first with values\n",
    "matrix_row_col_specified_rowarrangment <- matrix(c(6:25),nrow=5,ncol=4, byrow = TRUE) # forcing arrangement by row:  each row is filled first with values\n",
    "matrix_row_specified <- matrix(c('a', 'b', 'c', 'd', 'e', 'f'), nrow = 2)\n",
    "matrix_col_specified <- matrix(c('a', 'b', 'c', 'd'), ncol = 2)\n",
    "\n",
    "matrix_row_col_specified\n",
    "matrix_row_col_specified_rowarrangment\n",
    "matrix_row_col_specified[2,3]\n",
    "matrix_col_specified[1,] #first row\n",
    "matrix_row_col_specified[,2] #second column\n",
    "matrix_row_col_specified[1:2,2:3] #select sub matrix\n",
    "\n",
    "t(matrix_row_col_specified) # transpose a matrix\n"
   ]
  },
  {
   "cell_type": "code",
   "execution_count": 121,
   "id": "803154e3-90d4-44aa-84b6-2afbf5498369",
   "metadata": {},
   "outputs": [
    {
     "data": {
      "text/html": [
       "<table class=\"dataframe\">\n",
       "<caption>A matrix: 4 × 3 of type chr</caption>\n",
       "<tbody>\n",
       "\t<tr><td>Akira    </td><td>Whiplash  </td><td>Jumanji  </td></tr>\n",
       "\t<tr><td>Toy story</td><td>Star wars </td><td>Akira    </td></tr>\n",
       "\t<tr><td>Room     </td><td>The Ring  </td><td>Toy story</td></tr>\n",
       "\t<tr><td>The Wave </td><td>The Artist</td><td>Room     </td></tr>\n",
       "</tbody>\n",
       "</table>\n"
      ],
      "text/latex": [
       "A matrix: 4 × 3 of type chr\n",
       "\\begin{tabular}{lll}\n",
       "\t Akira     & Whiplash   & Jumanji  \\\\\n",
       "\t Toy story & Star wars  & Akira    \\\\\n",
       "\t Room      & The Ring   & Toy story\\\\\n",
       "\t The Wave  & The Artist & Room     \\\\\n",
       "\\end{tabular}\n"
      ],
      "text/markdown": [
       "\n",
       "A matrix: 4 × 3 of type chr\n",
       "\n",
       "| Akira     | Whiplash   | Jumanji   |\n",
       "| Toy story | Star wars  | Akira     |\n",
       "| Room      | The Ring   | Toy story |\n",
       "| The Wave  | The Artist | Room      |\n",
       "\n"
      ],
      "text/plain": [
       "     [,1]      [,2]       [,3]     \n",
       "[1,] Akira     Whiplash   Jumanji  \n",
       "[2,] Toy story Star wars  Akira    \n",
       "[3,] Room      The Ring   Toy story\n",
       "[4,] The Wave  The Artist Room     "
      ]
     },
     "metadata": {},
     "output_type": "display_data"
    },
    {
     "data": {
      "text/html": [
       "<style>\n",
       ".list-inline {list-style: none; margin:0; padding: 0}\n",
       ".list-inline>li {display: inline-block}\n",
       ".list-inline>li:not(:last-child)::after {content: \"\\00b7\"; padding: 0 .5ex}\n",
       "</style>\n",
       "<ol class=list-inline><li>'Akira'</li><li>'Whiplash'</li><li>'Jumanji'</li></ol>\n"
      ],
      "text/latex": [
       "\\begin{enumerate*}\n",
       "\\item 'Akira'\n",
       "\\item 'Whiplash'\n",
       "\\item 'Jumanji'\n",
       "\\end{enumerate*}\n"
      ],
      "text/markdown": [
       "1. 'Akira'\n",
       "2. 'Whiplash'\n",
       "3. 'Jumanji'\n",
       "\n",
       "\n"
      ],
      "text/plain": [
       "[1] \"Akira\"    \"Whiplash\" \"Jumanji\" "
      ]
     },
     "metadata": {},
     "output_type": "display_data"
    },
    {
     "data": {
      "text/html": [
       "<style>\n",
       ".list-inline {list-style: none; margin:0; padding: 0}\n",
       ".list-inline>li {display: inline-block}\n",
       ".list-inline>li:not(:last-child)::after {content: \"\\00b7\"; padding: 0 .5ex}\n",
       "</style>\n",
       "<ol class=list-inline><li>'Whiplash'</li><li>'Star wars'</li><li>'The Ring'</li><li>'The Artist'</li></ol>\n"
      ],
      "text/latex": [
       "\\begin{enumerate*}\n",
       "\\item 'Whiplash'\n",
       "\\item 'Star wars'\n",
       "\\item 'The Ring'\n",
       "\\item 'The Artist'\n",
       "\\end{enumerate*}\n"
      ],
      "text/markdown": [
       "1. 'Whiplash'\n",
       "2. 'Star wars'\n",
       "3. 'The Ring'\n",
       "4. 'The Artist'\n",
       "\n",
       "\n"
      ],
      "text/plain": [
       "[1] \"Whiplash\"   \"Star wars\"  \"The Ring\"   \"The Artist\""
      ]
     },
     "metadata": {},
     "output_type": "display_data"
    }
   ],
   "source": [
    "#Array: 2 or more than 2 dimension layer   ***** \n",
    "movie_vector <- c(\"Akira\", \"Toy story\", \"Room\", \"The Wave\", \"Whiplash\", \"Star wars\", \"The Ring\", \"The Artist\", \"Jumanji\")\n",
    "movie_array <- array(movie_vector, dim= c(4,3))\n",
    "movie_array\n",
    "movie_array[1, ]\n",
    "movie_array[,2]"
   ]
  },
  {
   "cell_type": "code",
   "execution_count": 141,
   "id": "35a6daac-477e-40b8-8452-f25ca329c14c",
   "metadata": {},
   "outputs": [
    {
     "data": {
      "text/html": [
       "<table class=\"dataframe\">\n",
       "<caption>A data.frame: 4 × 4</caption>\n",
       "<thead>\n",
       "\t<tr><th scope=col>name</th><th scope=col>temperature</th><th scope=col>flu</th><th scope=col>gender</th></tr>\n",
       "\t<tr><th scope=col>&lt;chr&gt;</th><th scope=col>&lt;dbl&gt;</th><th scope=col>&lt;lgl&gt;</th><th scope=col>&lt;chr&gt;</th></tr>\n",
       "</thead>\n",
       "<tbody>\n",
       "\t<tr><td>mohit   </td><td> 98.6</td><td> TRUE</td><td>male</td></tr>\n",
       "\t<tr><td>dashanan</td><td>104.0</td><td>FALSE</td><td>male</td></tr>\n",
       "\t<tr><td>vishnu  </td><td> 96.1</td><td>FALSE</td><td>male</td></tr>\n",
       "\t<tr><td>raghav  </td><td> 98.4</td><td>FALSE</td><td>male</td></tr>\n",
       "</tbody>\n",
       "</table>\n"
      ],
      "text/latex": [
       "A data.frame: 4 × 4\n",
       "\\begin{tabular}{llll}\n",
       " name & temperature & flu & gender\\\\\n",
       " <chr> & <dbl> & <lgl> & <chr>\\\\\n",
       "\\hline\n",
       "\t mohit    &  98.6 &  TRUE & male\\\\\n",
       "\t dashanan & 104.0 & FALSE & male\\\\\n",
       "\t vishnu   &  96.1 & FALSE & male\\\\\n",
       "\t raghav   &  98.4 & FALSE & male\\\\\n",
       "\\end{tabular}\n"
      ],
      "text/markdown": [
       "\n",
       "A data.frame: 4 × 4\n",
       "\n",
       "| name &lt;chr&gt; | temperature &lt;dbl&gt; | flu &lt;lgl&gt; | gender &lt;chr&gt; |\n",
       "|---|---|---|---|\n",
       "| mohit    |  98.6 |  TRUE | male |\n",
       "| dashanan | 104.0 | FALSE | male |\n",
       "| vishnu   |  96.1 | FALSE | male |\n",
       "| raghav   |  98.4 | FALSE | male |\n",
       "\n"
      ],
      "text/plain": [
       "  name     temperature flu   gender\n",
       "1 mohit     98.6        TRUE male  \n",
       "2 dashanan 104.0       FALSE male  \n",
       "3 vishnu    96.1       FALSE male  \n",
       "4 raghav    98.4       FALSE male  "
      ]
     },
     "metadata": {},
     "output_type": "display_data"
    },
    {
     "data": {
      "text/html": [
       "<table class=\"dataframe\">\n",
       "<caption>A data.frame: 4 × 5</caption>\n",
       "<thead>\n",
       "\t<tr><th scope=col>name</th><th scope=col>temperature</th><th scope=col>flu</th><th scope=col>gender</th><th scope=col>blood</th></tr>\n",
       "\t<tr><th scope=col>&lt;chr&gt;</th><th scope=col>&lt;dbl&gt;</th><th scope=col>&lt;lgl&gt;</th><th scope=col>&lt;chr&gt;</th><th scope=col>&lt;fct&gt;</th></tr>\n",
       "</thead>\n",
       "<tbody>\n",
       "\t<tr><td>mohit   </td><td> 98.6</td><td> TRUE</td><td>male</td><td>O+</td></tr>\n",
       "\t<tr><td>dashanan</td><td>104.0</td><td>FALSE</td><td>male</td><td>AB</td></tr>\n",
       "\t<tr><td>vishnu  </td><td> 96.1</td><td>FALSE</td><td>male</td><td>A </td></tr>\n",
       "\t<tr><td>raghav  </td><td> 98.4</td><td>FALSE</td><td>male</td><td>B </td></tr>\n",
       "</tbody>\n",
       "</table>\n"
      ],
      "text/latex": [
       "A data.frame: 4 × 5\n",
       "\\begin{tabular}{lllll}\n",
       " name & temperature & flu & gender & blood\\\\\n",
       " <chr> & <dbl> & <lgl> & <chr> & <fct>\\\\\n",
       "\\hline\n",
       "\t mohit    &  98.6 &  TRUE & male & O+\\\\\n",
       "\t dashanan & 104.0 & FALSE & male & AB\\\\\n",
       "\t vishnu   &  96.1 & FALSE & male & A \\\\\n",
       "\t raghav   &  98.4 & FALSE & male & B \\\\\n",
       "\\end{tabular}\n"
      ],
      "text/markdown": [
       "\n",
       "A data.frame: 4 × 5\n",
       "\n",
       "| name &lt;chr&gt; | temperature &lt;dbl&gt; | flu &lt;lgl&gt; | gender &lt;chr&gt; | blood &lt;fct&gt; |\n",
       "|---|---|---|---|---|\n",
       "| mohit    |  98.6 |  TRUE | male | O+ |\n",
       "| dashanan | 104.0 | FALSE | male | AB |\n",
       "| vishnu   |  96.1 | FALSE | male | A  |\n",
       "| raghav   |  98.4 | FALSE | male | B  |\n",
       "\n"
      ],
      "text/plain": [
       "  name     temperature flu   gender blood\n",
       "1 mohit     98.6        TRUE male   O+   \n",
       "2 dashanan 104.0       FALSE male   AB   \n",
       "3 vishnu    96.1       FALSE male   A    \n",
       "4 raghav    98.4       FALSE male   B    "
      ]
     },
     "metadata": {},
     "output_type": "display_data"
    },
    {
     "data": {
      "text/html": [
       "<table class=\"dataframe\">\n",
       "<caption>A data.frame: 5 × 5</caption>\n",
       "<thead>\n",
       "\t<tr><th scope=col>name</th><th scope=col>temperature</th><th scope=col>flu</th><th scope=col>gender</th><th scope=col>blood</th></tr>\n",
       "\t<tr><th scope=col>&lt;chr&gt;</th><th scope=col>&lt;chr&gt;</th><th scope=col>&lt;chr&gt;</th><th scope=col>&lt;chr&gt;</th><th scope=col>&lt;fct&gt;</th></tr>\n",
       "</thead>\n",
       "<tbody>\n",
       "\t<tr><td>mohit     </td><td>98.6</td><td>TRUE </td><td>male</td><td>O+</td></tr>\n",
       "\t<tr><td>dashanan  </td><td>104 </td><td>FALSE</td><td>male</td><td>AB</td></tr>\n",
       "\t<tr><td>vishnu    </td><td>96.1</td><td>FALSE</td><td>male</td><td>A </td></tr>\n",
       "\t<tr><td>raghav    </td><td>98.4</td><td>FALSE</td><td>male</td><td>B </td></tr>\n",
       "\t<tr><td>mr. Nobody</td><td>98.5</td><td>FALSE</td><td>male</td><td>B </td></tr>\n",
       "</tbody>\n",
       "</table>\n"
      ],
      "text/latex": [
       "A data.frame: 5 × 5\n",
       "\\begin{tabular}{lllll}\n",
       " name & temperature & flu & gender & blood\\\\\n",
       " <chr> & <chr> & <chr> & <chr> & <fct>\\\\\n",
       "\\hline\n",
       "\t mohit      & 98.6 & TRUE  & male & O+\\\\\n",
       "\t dashanan   & 104  & FALSE & male & AB\\\\\n",
       "\t vishnu     & 96.1 & FALSE & male & A \\\\\n",
       "\t raghav     & 98.4 & FALSE & male & B \\\\\n",
       "\t mr. Nobody & 98.5 & FALSE & male & B \\\\\n",
       "\\end{tabular}\n"
      ],
      "text/markdown": [
       "\n",
       "A data.frame: 5 × 5\n",
       "\n",
       "| name &lt;chr&gt; | temperature &lt;chr&gt; | flu &lt;chr&gt; | gender &lt;chr&gt; | blood &lt;fct&gt; |\n",
       "|---|---|---|---|---|\n",
       "| mohit      | 98.6 | TRUE  | male | O+ |\n",
       "| dashanan   | 104  | FALSE | male | AB |\n",
       "| vishnu     | 96.1 | FALSE | male | A  |\n",
       "| raghav     | 98.4 | FALSE | male | B  |\n",
       "| mr. Nobody | 98.5 | FALSE | male | B  |\n",
       "\n"
      ],
      "text/plain": [
       "  name       temperature flu   gender blood\n",
       "1 mohit      98.6        TRUE  male   O+   \n",
       "2 dashanan   104         FALSE male   AB   \n",
       "3 vishnu     96.1        FALSE male   A    \n",
       "4 raghav     98.4        FALSE male   B    \n",
       "5 mr. Nobody 98.5        FALSE male   B    "
      ]
     },
     "metadata": {},
     "output_type": "display_data"
    }
   ],
   "source": [
    "#Data Frame: sort of a 2 dimensional array, corelated information\n",
    "# A data frame can be understood as a list of vectors or factors, each having exactly the same number of values\n",
    "name <- c(\"mohit\", \"dashanan\", \"vishnu\", \"raghav\")\n",
    "temperature <- c(98.6, 104, 96.1, 98.4)\n",
    "flu <- c(TRUE, FALSE, FALSE, FALSE)\n",
    "gender <- c(\"male\", \"male\", \"male\", \"male\")\n",
    "blood  <- factor(c(\"O+\", \"AB\", \"A\", \"B\"), levels = c(\"A\", \"B\", \"AB\", \"O+\"))\n",
    "\n",
    "dataframe_example <- data.frame(name, temperature, flu, gender,  stringsAsFactors = FALSE)\n",
    "dataframe_example\n",
    "\n",
    "dataframe_example[\"blood\"] <- blood  # assigning a new coulmn\n",
    "dataframe_example\n",
    "\n",
    "dataframe_example <- rbind(dataframe_example, c(name=\"mr. Nobody\",temperature=98.5, flu=FALSE, gender= \"male\", blood=\"B\")) # adding a new row\n",
    "dataframe_example\n"
   ]
  },
  {
   "cell_type": "code",
   "execution_count": 142,
   "id": "d6eda9de-3103-4842-8455-c4bd5766b587",
   "metadata": {},
   "outputs": [
    {
     "data": {
      "text/html": [
       "<table class=\"dataframe\">\n",
       "<caption>A data.frame: 5 × 5</caption>\n",
       "<thead>\n",
       "\t<tr><th scope=col>name</th><th scope=col>temperature</th><th scope=col>flu</th><th scope=col>gender</th><th scope=col>blood</th></tr>\n",
       "\t<tr><th scope=col>&lt;chr&gt;</th><th scope=col>&lt;chr&gt;</th><th scope=col>&lt;chr&gt;</th><th scope=col>&lt;chr&gt;</th><th scope=col>&lt;fct&gt;</th></tr>\n",
       "</thead>\n",
       "<tbody>\n",
       "\t<tr><td>mohit     </td><td>98.6</td><td>TRUE </td><td>male</td><td>O+</td></tr>\n",
       "\t<tr><td>dashanan  </td><td>104 </td><td>FALSE</td><td>male</td><td>AB</td></tr>\n",
       "\t<tr><td>vishnu    </td><td>96.1</td><td>FALSE</td><td>male</td><td>A </td></tr>\n",
       "\t<tr><td>raghav    </td><td>98.4</td><td>FALSE</td><td>male</td><td>B </td></tr>\n",
       "\t<tr><td>mr. Nobody</td><td>98.5</td><td>FALSE</td><td>male</td><td>B </td></tr>\n",
       "</tbody>\n",
       "</table>\n"
      ],
      "text/latex": [
       "A data.frame: 5 × 5\n",
       "\\begin{tabular}{lllll}\n",
       " name & temperature & flu & gender & blood\\\\\n",
       " <chr> & <chr> & <chr> & <chr> & <fct>\\\\\n",
       "\\hline\n",
       "\t mohit      & 98.6 & TRUE  & male & O+\\\\\n",
       "\t dashanan   & 104  & FALSE & male & AB\\\\\n",
       "\t vishnu     & 96.1 & FALSE & male & A \\\\\n",
       "\t raghav     & 98.4 & FALSE & male & B \\\\\n",
       "\t mr. Nobody & 98.5 & FALSE & male & B \\\\\n",
       "\\end{tabular}\n"
      ],
      "text/markdown": [
       "\n",
       "A data.frame: 5 × 5\n",
       "\n",
       "| name &lt;chr&gt; | temperature &lt;chr&gt; | flu &lt;chr&gt; | gender &lt;chr&gt; | blood &lt;fct&gt; |\n",
       "|---|---|---|---|---|\n",
       "| mohit      | 98.6 | TRUE  | male | O+ |\n",
       "| dashanan   | 104  | FALSE | male | AB |\n",
       "| vishnu     | 96.1 | FALSE | male | A  |\n",
       "| raghav     | 98.4 | FALSE | male | B  |\n",
       "| mr. Nobody | 98.5 | FALSE | male | B  |\n",
       "\n"
      ],
      "text/plain": [
       "  name       temperature flu   gender blood\n",
       "1 mohit      98.6        TRUE  male   O+   \n",
       "2 dashanan   104         FALSE male   AB   \n",
       "3 vishnu     96.1        FALSE male   A    \n",
       "4 raghav     98.4        FALSE male   B    \n",
       "5 mr. Nobody 98.5        FALSE male   B    "
      ]
     },
     "metadata": {},
     "output_type": "display_data"
    },
    {
     "data": {
      "text/plain": [
       "NULL"
      ]
     },
     "metadata": {},
     "output_type": "display_data"
    },
    {
     "data": {
      "text/html": [
       "<table class=\"dataframe\">\n",
       "<caption>A data.frame: 5 × 2</caption>\n",
       "<thead>\n",
       "\t<tr><th scope=col>name</th><th scope=col>temperature</th></tr>\n",
       "\t<tr><th scope=col>&lt;chr&gt;</th><th scope=col>&lt;chr&gt;</th></tr>\n",
       "</thead>\n",
       "<tbody>\n",
       "\t<tr><td>mohit     </td><td>98.6</td></tr>\n",
       "\t<tr><td>dashanan  </td><td>104 </td></tr>\n",
       "\t<tr><td>vishnu    </td><td>96.1</td></tr>\n",
       "\t<tr><td>raghav    </td><td>98.4</td></tr>\n",
       "\t<tr><td>mr. Nobody</td><td>98.5</td></tr>\n",
       "</tbody>\n",
       "</table>\n"
      ],
      "text/latex": [
       "A data.frame: 5 × 2\n",
       "\\begin{tabular}{ll}\n",
       " name & temperature\\\\\n",
       " <chr> & <chr>\\\\\n",
       "\\hline\n",
       "\t mohit      & 98.6\\\\\n",
       "\t dashanan   & 104 \\\\\n",
       "\t vishnu     & 96.1\\\\\n",
       "\t raghav     & 98.4\\\\\n",
       "\t mr. Nobody & 98.5\\\\\n",
       "\\end{tabular}\n"
      ],
      "text/markdown": [
       "\n",
       "A data.frame: 5 × 2\n",
       "\n",
       "| name &lt;chr&gt; | temperature &lt;chr&gt; |\n",
       "|---|---|\n",
       "| mohit      | 98.6 |\n",
       "| dashanan   | 104  |\n",
       "| vishnu     | 96.1 |\n",
       "| raghav     | 98.4 |\n",
       "| mr. Nobody | 98.5 |\n",
       "\n"
      ],
      "text/plain": [
       "  name       temperature\n",
       "1 mohit      98.6       \n",
       "2 dashanan   104        \n",
       "3 vishnu     96.1       \n",
       "4 raghav     98.4       \n",
       "5 mr. Nobody 98.5       "
      ]
     },
     "metadata": {},
     "output_type": "display_data"
    },
    {
     "data": {
      "text/html": [
       "<table class=\"dataframe\">\n",
       "<caption>A data.frame: 2 × 2</caption>\n",
       "<thead>\n",
       "\t<tr><th></th><th scope=col>temperature</th><th scope=col>gender</th></tr>\n",
       "\t<tr><th></th><th scope=col>&lt;chr&gt;</th><th scope=col>&lt;chr&gt;</th></tr>\n",
       "</thead>\n",
       "<tbody>\n",
       "\t<tr><th scope=row>1</th><td>98.6</td><td>male</td></tr>\n",
       "\t<tr><th scope=row>3</th><td>96.1</td><td>male</td></tr>\n",
       "</tbody>\n",
       "</table>\n"
      ],
      "text/latex": [
       "A data.frame: 2 × 2\n",
       "\\begin{tabular}{r|ll}\n",
       "  & temperature & gender\\\\\n",
       "  & <chr> & <chr>\\\\\n",
       "\\hline\n",
       "\t1 & 98.6 & male\\\\\n",
       "\t3 & 96.1 & male\\\\\n",
       "\\end{tabular}\n"
      ],
      "text/markdown": [
       "\n",
       "A data.frame: 2 × 2\n",
       "\n",
       "| <!--/--> | temperature &lt;chr&gt; | gender &lt;chr&gt; |\n",
       "|---|---|---|\n",
       "| 1 | 98.6 | male |\n",
       "| 3 | 96.1 | male |\n",
       "\n"
      ],
      "text/plain": [
       "  temperature gender\n",
       "1 98.6        male  \n",
       "3 96.1        male  "
      ]
     },
     "metadata": {},
     "output_type": "display_data"
    },
    {
     "data": {
      "text/html": [
       "<style>\n",
       ".list-inline {list-style: none; margin:0; padding: 0}\n",
       ".list-inline>li {display: inline-block}\n",
       ".list-inline>li:not(:last-child)::after {content: \"\\00b7\"; padding: 0 .5ex}\n",
       "</style>\n",
       "<ol class=list-inline><li>'mohit'</li><li>'dashanan'</li><li>'vishnu'</li><li>'raghav'</li><li>'mr. Nobody'</li></ol>\n"
      ],
      "text/latex": [
       "\\begin{enumerate*}\n",
       "\\item 'mohit'\n",
       "\\item 'dashanan'\n",
       "\\item 'vishnu'\n",
       "\\item 'raghav'\n",
       "\\item 'mr. Nobody'\n",
       "\\end{enumerate*}\n"
      ],
      "text/markdown": [
       "1. 'mohit'\n",
       "2. 'dashanan'\n",
       "3. 'vishnu'\n",
       "4. 'raghav'\n",
       "5. 'mr. Nobody'\n",
       "\n",
       "\n"
      ],
      "text/plain": [
       "[1] \"mohit\"      \"dashanan\"   \"vishnu\"     \"raghav\"     \"mr. Nobody\""
      ]
     },
     "metadata": {},
     "output_type": "display_data"
    },
    {
     "data": {
      "text/html": [
       "<table class=\"dataframe\">\n",
       "<caption>A data.frame: 1 × 5</caption>\n",
       "<thead>\n",
       "\t<tr><th></th><th scope=col>name</th><th scope=col>temperature</th><th scope=col>flu</th><th scope=col>gender</th><th scope=col>blood</th></tr>\n",
       "\t<tr><th></th><th scope=col>&lt;chr&gt;</th><th scope=col>&lt;chr&gt;</th><th scope=col>&lt;chr&gt;</th><th scope=col>&lt;chr&gt;</th><th scope=col>&lt;fct&gt;</th></tr>\n",
       "</thead>\n",
       "<tbody>\n",
       "\t<tr><th scope=row>1</th><td>mohit</td><td>98.6</td><td>TRUE</td><td>male</td><td>O+</td></tr>\n",
       "</tbody>\n",
       "</table>\n"
      ],
      "text/latex": [
       "A data.frame: 1 × 5\n",
       "\\begin{tabular}{r|lllll}\n",
       "  & name & temperature & flu & gender & blood\\\\\n",
       "  & <chr> & <chr> & <chr> & <chr> & <fct>\\\\\n",
       "\\hline\n",
       "\t1 & mohit & 98.6 & TRUE & male & O+\\\\\n",
       "\\end{tabular}\n"
      ],
      "text/markdown": [
       "\n",
       "A data.frame: 1 × 5\n",
       "\n",
       "| <!--/--> | name &lt;chr&gt; | temperature &lt;chr&gt; | flu &lt;chr&gt; | gender &lt;chr&gt; | blood &lt;fct&gt; |\n",
       "|---|---|---|---|---|---|\n",
       "| 1 | mohit | 98.6 | TRUE | male | O+ |\n",
       "\n"
      ],
      "text/plain": [
       "  name  temperature flu  gender blood\n",
       "1 mohit 98.6        TRUE male   O+   "
      ]
     },
     "metadata": {},
     "output_type": "display_data"
    }
   ],
   "source": [
    "dataframe_example\n",
    "dataframe_example$subject_name\n",
    "dataframe_example[c(\"name\", \"temperature\")]  #calling out with column name\n",
    "dataframe_example[c(1,3),c(2,4)] #calling via rows, column sequences\n",
    "dataframe_example[,1] #calling all rows of column one\n",
    "dataframe_example[1,] #calling all columns of row one"
   ]
  },
  {
   "cell_type": "code",
   "execution_count": 143,
   "id": "b02ffd86-f651-4fc6-a6e0-81661e9f26b7",
   "metadata": {},
   "outputs": [
    {
     "name": "stdout",
     "output_type": "stream",
     "text": [
      "'data.frame':\t5 obs. of  5 variables:\n",
      " $ name       : chr  \"mohit\" \"dashanan\" \"vishnu\" \"raghav\" ...\n",
      " $ temperature: chr  \"98.6\" \"104\" \"96.1\" \"98.4\" ...\n",
      " $ flu        : chr  \"TRUE\" \"FALSE\" \"FALSE\" \"FALSE\" ...\n",
      " $ gender     : chr  \"male\" \"male\" \"male\" \"male\" ...\n",
      " $ blood      : Factor w/ 4 levels \"A\",\"B\",\"AB\",\"O+\": 4 3 1 2 2\n"
     ]
    },
    {
     "data": {
      "text/html": [
       "<table class=\"dataframe\">\n",
       "<caption>A data.frame: 5 × 5</caption>\n",
       "<thead>\n",
       "\t<tr><th></th><th scope=col>name</th><th scope=col>temperature</th><th scope=col>flu</th><th scope=col>gender</th><th scope=col>blood</th></tr>\n",
       "\t<tr><th></th><th scope=col>&lt;chr&gt;</th><th scope=col>&lt;chr&gt;</th><th scope=col>&lt;chr&gt;</th><th scope=col>&lt;chr&gt;</th><th scope=col>&lt;fct&gt;</th></tr>\n",
       "</thead>\n",
       "<tbody>\n",
       "\t<tr><th scope=row>1</th><td>mohit     </td><td>98.6</td><td>TRUE </td><td>male</td><td>O+</td></tr>\n",
       "\t<tr><th scope=row>2</th><td>dashanan  </td><td>104 </td><td>FALSE</td><td>male</td><td>AB</td></tr>\n",
       "\t<tr><th scope=row>3</th><td>vishnu    </td><td>96.1</td><td>FALSE</td><td>male</td><td>A </td></tr>\n",
       "\t<tr><th scope=row>4</th><td>raghav    </td><td>98.4</td><td>FALSE</td><td>male</td><td>B </td></tr>\n",
       "\t<tr><th scope=row>5</th><td>mr. Nobody</td><td>98.5</td><td>FALSE</td><td>male</td><td>B </td></tr>\n",
       "</tbody>\n",
       "</table>\n"
      ],
      "text/latex": [
       "A data.frame: 5 × 5\n",
       "\\begin{tabular}{r|lllll}\n",
       "  & name & temperature & flu & gender & blood\\\\\n",
       "  & <chr> & <chr> & <chr> & <chr> & <fct>\\\\\n",
       "\\hline\n",
       "\t1 & mohit      & 98.6 & TRUE  & male & O+\\\\\n",
       "\t2 & dashanan   & 104  & FALSE & male & AB\\\\\n",
       "\t3 & vishnu     & 96.1 & FALSE & male & A \\\\\n",
       "\t4 & raghav     & 98.4 & FALSE & male & B \\\\\n",
       "\t5 & mr. Nobody & 98.5 & FALSE & male & B \\\\\n",
       "\\end{tabular}\n"
      ],
      "text/markdown": [
       "\n",
       "A data.frame: 5 × 5\n",
       "\n",
       "| <!--/--> | name &lt;chr&gt; | temperature &lt;chr&gt; | flu &lt;chr&gt; | gender &lt;chr&gt; | blood &lt;fct&gt; |\n",
       "|---|---|---|---|---|---|\n",
       "| 1 | mohit      | 98.6 | TRUE  | male | O+ |\n",
       "| 2 | dashanan   | 104  | FALSE | male | AB |\n",
       "| 3 | vishnu     | 96.1 | FALSE | male | A  |\n",
       "| 4 | raghav     | 98.4 | FALSE | male | B  |\n",
       "| 5 | mr. Nobody | 98.5 | FALSE | male | B  |\n",
       "\n"
      ],
      "text/plain": [
       "  name       temperature flu   gender blood\n",
       "1 mohit      98.6        TRUE  male   O+   \n",
       "2 dashanan   104         FALSE male   AB   \n",
       "3 vishnu     96.1        FALSE male   A    \n",
       "4 raghav     98.4        FALSE male   B    \n",
       "5 mr. Nobody 98.5        FALSE male   B    "
      ]
     },
     "metadata": {},
     "output_type": "display_data"
    },
    {
     "data": {
      "text/html": [
       "<table class=\"dataframe\">\n",
       "<caption>A data.frame: 5 × 5</caption>\n",
       "<thead>\n",
       "\t<tr><th></th><th scope=col>name</th><th scope=col>temperature</th><th scope=col>flu</th><th scope=col>gender</th><th scope=col>blood</th></tr>\n",
       "\t<tr><th></th><th scope=col>&lt;chr&gt;</th><th scope=col>&lt;chr&gt;</th><th scope=col>&lt;chr&gt;</th><th scope=col>&lt;chr&gt;</th><th scope=col>&lt;fct&gt;</th></tr>\n",
       "</thead>\n",
       "<tbody>\n",
       "\t<tr><th scope=row>1</th><td>mohit     </td><td>98.6</td><td>TRUE </td><td>male</td><td>O+</td></tr>\n",
       "\t<tr><th scope=row>2</th><td>dashanan  </td><td>104 </td><td>FALSE</td><td>male</td><td>AB</td></tr>\n",
       "\t<tr><th scope=row>3</th><td>vishnu    </td><td>96.1</td><td>FALSE</td><td>male</td><td>A </td></tr>\n",
       "\t<tr><th scope=row>4</th><td>raghav    </td><td>98.4</td><td>FALSE</td><td>male</td><td>B </td></tr>\n",
       "\t<tr><th scope=row>5</th><td>mr. Nobody</td><td>98.5</td><td>FALSE</td><td>male</td><td>B </td></tr>\n",
       "</tbody>\n",
       "</table>\n"
      ],
      "text/latex": [
       "A data.frame: 5 × 5\n",
       "\\begin{tabular}{r|lllll}\n",
       "  & name & temperature & flu & gender & blood\\\\\n",
       "  & <chr> & <chr> & <chr> & <chr> & <fct>\\\\\n",
       "\\hline\n",
       "\t1 & mohit      & 98.6 & TRUE  & male & O+\\\\\n",
       "\t2 & dashanan   & 104  & FALSE & male & AB\\\\\n",
       "\t3 & vishnu     & 96.1 & FALSE & male & A \\\\\n",
       "\t4 & raghav     & 98.4 & FALSE & male & B \\\\\n",
       "\t5 & mr. Nobody & 98.5 & FALSE & male & B \\\\\n",
       "\\end{tabular}\n"
      ],
      "text/markdown": [
       "\n",
       "A data.frame: 5 × 5\n",
       "\n",
       "| <!--/--> | name &lt;chr&gt; | temperature &lt;chr&gt; | flu &lt;chr&gt; | gender &lt;chr&gt; | blood &lt;fct&gt; |\n",
       "|---|---|---|---|---|---|\n",
       "| 1 | mohit      | 98.6 | TRUE  | male | O+ |\n",
       "| 2 | dashanan   | 104  | FALSE | male | AB |\n",
       "| 3 | vishnu     | 96.1 | FALSE | male | A  |\n",
       "| 4 | raghav     | 98.4 | FALSE | male | B  |\n",
       "| 5 | mr. Nobody | 98.5 | FALSE | male | B  |\n",
       "\n"
      ],
      "text/plain": [
       "  name       temperature flu   gender blood\n",
       "1 mohit      98.6        TRUE  male   O+   \n",
       "2 dashanan   104         FALSE male   AB   \n",
       "3 vishnu     96.1        FALSE male   A    \n",
       "4 raghav     98.4        FALSE male   B    \n",
       "5 mr. Nobody 98.5        FALSE male   B    "
      ]
     },
     "metadata": {},
     "output_type": "display_data"
    }
   ],
   "source": [
    "str(dataframe_example)\n",
    "head(dataframe_example)\n",
    "tail(dataframe_example)"
   ]
  },
  {
   "cell_type": "code",
   "execution_count": 145,
   "id": "c7a935f4-5c05-4117-9a36-74e8b9a47d85",
   "metadata": {},
   "outputs": [
    {
     "data": {
      "text/html": [
       "<table class=\"dataframe\">\n",
       "<caption>A data.frame: 4 × 5</caption>\n",
       "<thead>\n",
       "\t<tr><th></th><th scope=col>name</th><th scope=col>temperature</th><th scope=col>flu</th><th scope=col>gender</th><th scope=col>blood</th></tr>\n",
       "\t<tr><th></th><th scope=col>&lt;chr&gt;</th><th scope=col>&lt;chr&gt;</th><th scope=col>&lt;chr&gt;</th><th scope=col>&lt;chr&gt;</th><th scope=col>&lt;fct&gt;</th></tr>\n",
       "</thead>\n",
       "<tbody>\n",
       "\t<tr><th scope=row>1</th><td>mohit   </td><td>98.6</td><td>TRUE </td><td>male</td><td>O+</td></tr>\n",
       "\t<tr><th scope=row>2</th><td>dashanan</td><td>104 </td><td>FALSE</td><td>male</td><td>AB</td></tr>\n",
       "\t<tr><th scope=row>3</th><td>vishnu  </td><td>96.1</td><td>FALSE</td><td>male</td><td>A </td></tr>\n",
       "\t<tr><th scope=row>4</th><td>raghav  </td><td>98.4</td><td>FALSE</td><td>male</td><td>B </td></tr>\n",
       "</tbody>\n",
       "</table>\n"
      ],
      "text/latex": [
       "A data.frame: 4 × 5\n",
       "\\begin{tabular}{r|lllll}\n",
       "  & name & temperature & flu & gender & blood\\\\\n",
       "  & <chr> & <chr> & <chr> & <chr> & <fct>\\\\\n",
       "\\hline\n",
       "\t1 & mohit    & 98.6 & TRUE  & male & O+\\\\\n",
       "\t2 & dashanan & 104  & FALSE & male & AB\\\\\n",
       "\t3 & vishnu   & 96.1 & FALSE & male & A \\\\\n",
       "\t4 & raghav   & 98.4 & FALSE & male & B \\\\\n",
       "\\end{tabular}\n"
      ],
      "text/markdown": [
       "\n",
       "A data.frame: 4 × 5\n",
       "\n",
       "| <!--/--> | name &lt;chr&gt; | temperature &lt;chr&gt; | flu &lt;chr&gt; | gender &lt;chr&gt; | blood &lt;fct&gt; |\n",
       "|---|---|---|---|---|---|\n",
       "| 1 | mohit    | 98.6 | TRUE  | male | O+ |\n",
       "| 2 | dashanan | 104  | FALSE | male | AB |\n",
       "| 3 | vishnu   | 96.1 | FALSE | male | A  |\n",
       "| 4 | raghav   | 98.4 | FALSE | male | B  |\n",
       "\n"
      ],
      "text/plain": [
       "  name     temperature flu   gender blood\n",
       "1 mohit    98.6        TRUE  male   O+   \n",
       "2 dashanan 104         FALSE male   AB   \n",
       "3 vishnu   96.1        FALSE male   A    \n",
       "4 raghav   98.4        FALSE male   B    "
      ]
     },
     "metadata": {},
     "output_type": "display_data"
    },
    {
     "data": {
      "text/html": [
       "<table class=\"dataframe\">\n",
       "<caption>A data.frame: 5 × 4</caption>\n",
       "<thead>\n",
       "\t<tr><th scope=col>name</th><th scope=col>temperature</th><th scope=col>flu</th><th scope=col>gender</th></tr>\n",
       "\t<tr><th scope=col>&lt;chr&gt;</th><th scope=col>&lt;chr&gt;</th><th scope=col>&lt;chr&gt;</th><th scope=col>&lt;chr&gt;</th></tr>\n",
       "</thead>\n",
       "<tbody>\n",
       "\t<tr><td>mohit     </td><td>98.6</td><td>TRUE </td><td>male</td></tr>\n",
       "\t<tr><td>dashanan  </td><td>104 </td><td>FALSE</td><td>male</td></tr>\n",
       "\t<tr><td>vishnu    </td><td>96.1</td><td>FALSE</td><td>male</td></tr>\n",
       "\t<tr><td>raghav    </td><td>98.4</td><td>FALSE</td><td>male</td></tr>\n",
       "\t<tr><td>mr. Nobody</td><td>98.5</td><td>FALSE</td><td>male</td></tr>\n",
       "</tbody>\n",
       "</table>\n"
      ],
      "text/latex": [
       "A data.frame: 5 × 4\n",
       "\\begin{tabular}{llll}\n",
       " name & temperature & flu & gender\\\\\n",
       " <chr> & <chr> & <chr> & <chr>\\\\\n",
       "\\hline\n",
       "\t mohit      & 98.6 & TRUE  & male\\\\\n",
       "\t dashanan   & 104  & FALSE & male\\\\\n",
       "\t vishnu     & 96.1 & FALSE & male\\\\\n",
       "\t raghav     & 98.4 & FALSE & male\\\\\n",
       "\t mr. Nobody & 98.5 & FALSE & male\\\\\n",
       "\\end{tabular}\n"
      ],
      "text/markdown": [
       "\n",
       "A data.frame: 5 × 4\n",
       "\n",
       "| name &lt;chr&gt; | temperature &lt;chr&gt; | flu &lt;chr&gt; | gender &lt;chr&gt; |\n",
       "|---|---|---|---|\n",
       "| mohit      | 98.6 | TRUE  | male |\n",
       "| dashanan   | 104  | FALSE | male |\n",
       "| vishnu     | 96.1 | FALSE | male |\n",
       "| raghav     | 98.4 | FALSE | male |\n",
       "| mr. Nobody | 98.5 | FALSE | male |\n",
       "\n"
      ],
      "text/plain": [
       "  name       temperature flu   gender\n",
       "1 mohit      98.6        TRUE  male  \n",
       "2 dashanan   104         FALSE male  \n",
       "3 vishnu     96.1        FALSE male  \n",
       "4 raghav     98.4        FALSE male  \n",
       "5 mr. Nobody 98.5        FALSE male  "
      ]
     },
     "metadata": {},
     "output_type": "display_data"
    }
   ],
   "source": [
    "dataframe_example[-5,]  #remove row 5\n",
    "#dataframe_example[\"blood\"] <- NULL  # removes column blood\n",
    "dataframe_example$blood <- NULL\n",
    "dataframe_example\n"
   ]
  },
  {
   "cell_type": "markdown",
   "id": "61a6bcda-a324-403b-8278-9fbb859f2330",
   "metadata": {},
   "source": [
    "### Data types"
   ]
  },
  {
   "cell_type": "code",
   "execution_count": 126,
   "id": "586aa161-1d99-49d1-810e-23126be0df49",
   "metadata": {},
   "outputs": [
    {
     "name": "stdout",
     "output_type": "stream",
     "text": [
      "[1] \"====Numeric====\"\n",
      "[1] \"numeric\"\n",
      "[1] \"double\"\n"
     ]
    }
   ],
   "source": [
    "# Data types\n",
    "\n",
    "# Numeric: Set of all real numbers\n",
    "print(\"====Numeric====\")\n",
    "# Assign a decimal value to x\n",
    "x = 5\n",
    " \n",
    "# print the class name of variable\n",
    "print(class(x))\n",
    " \n",
    "# print the type of variable\n",
    "print(typeof(x))"
   ]
  },
  {
   "cell_type": "code",
   "execution_count": 127,
   "id": "31e03c56-5942-45e7-a1d3-bd0da659e329",
   "metadata": {},
   "outputs": [
    {
     "name": "stdout",
     "output_type": "stream",
     "text": [
      "[1] \"====Integer====\"\n",
      "[1] \"integer\"\n",
      "[1] \"integer\"\n",
      "[1] FALSE\n",
      "[1] TRUE\n"
     ]
    }
   ],
   "source": [
    "# Integer: Set of all integers, Z\n",
    "print(\"====Integer====\")\n",
    "# Assign an integer value to y\n",
    "y = as.integer(5)\n",
    " \n",
    "# print the class name of variable\n",
    "print(class(y))\n",
    " \n",
    "# print the type of variable\n",
    "print(typeof(y))\n",
    "\n",
    "# When R stores a number in a variable, it converts the number into a “double” value or a decimal type with at least two decimal places. This means that a value such as “5” here, is stored as 5.00 with a type of double and a class of numeric.\n",
    "# is y an integer?\n",
    "print(is.integer(x))\n",
    "print(is.integer(y))"
   ]
  },
  {
   "cell_type": "code",
   "execution_count": 128,
   "id": "651f51a4-f93d-4e6e-9b0e-f05d7662e984",
   "metadata": {},
   "outputs": [
    {
     "name": "stdout",
     "output_type": "stream",
     "text": [
      "[1] \"====Logical====\"\n",
      "[1] TRUE\n",
      "[1] \"logical\"\n",
      "[1] \"logical\"\n"
     ]
    }
   ],
   "source": [
    "# Logical: TRUE and FALSE\n",
    "print(\"====Logical====\")\n",
    "# Sample values\n",
    "x = 4\n",
    "y = 3\n",
    " \n",
    "# Comparing two values\n",
    "z = x > y\n",
    " \n",
    "# print the logical value\n",
    "print(z)\n",
    " \n",
    "# print the class name of z\n",
    "print(class(z))\n",
    " \n",
    "# print the type of z\n",
    "print(typeof(z))"
   ]
  },
  {
   "cell_type": "code",
   "execution_count": 129,
   "id": "bc5c2ad1-f8ae-4c5d-a6bf-39bcda65ad0a",
   "metadata": {},
   "outputs": [
    {
     "name": "stdout",
     "output_type": "stream",
     "text": [
      "[1] \"====Complex====\"\n",
      "[1] \"complex\"\n",
      "[1] \"complex\"\n"
     ]
    }
   ],
   "source": [
    "# Complex: Set of complex numbers\n",
    "print(\"====Complex====\")\n",
    "# Assign a complex value to x\n",
    "x = 4 + 3i\n",
    " \n",
    "# print the class name of x\n",
    "print(class(x))\n",
    " \n",
    "# print the type of x\n",
    "print(typeof(x))"
   ]
  },
  {
   "cell_type": "code",
   "execution_count": 130,
   "id": "40f7efd2-7c8e-4fd9-9206-067c1f2988c3",
   "metadata": {},
   "outputs": [
    {
     "name": "stdout",
     "output_type": "stream",
     "text": [
      "[1] \"====Character====\"\n",
      "[1] \"character\"\n",
      "[1] \"character\"\n"
     ]
    }
   ],
   "source": [
    "# Character: “a”, “b”, “c”, …, “@”, “#”, “$”, …., “1”, “2”, …etc\n",
    "print(\"====Character====\")\n",
    "# Assign a character value to char\n",
    "char = \"Geeksforgeeks\" #as.character can be used\n",
    " \n",
    "# print the class name of char\n",
    "print(class(char))\n",
    " \n",
    "# print the type of char\n",
    "print(typeof(char))"
   ]
  },
  {
   "cell_type": "code",
   "execution_count": 131,
   "id": "bb67c619-42ab-4439-83fc-e73c2e70374e",
   "metadata": {},
   "outputs": [
    {
     "name": "stdout",
     "output_type": "stream",
     "text": [
      "[1] TRUE\n",
      "[1] TRUE\n",
      "[1] TRUE\n",
      "[1] TRUE\n",
      "[1] TRUE\n",
      "[1] FALSE\n",
      "[1] FALSE\n"
     ]
    }
   ],
   "source": [
    "# Type verification\n",
    "# is.data_type(object)\n",
    "# Logical\n",
    "print(is.logical(TRUE))\n",
    " \n",
    "# Integer\n",
    "print(is.integer(3L))\n",
    " \n",
    "# Numeric\n",
    "print(is.numeric(10.5))\n",
    " \n",
    "# Complex\n",
    "print(is.complex(1+2i))\n",
    " \n",
    "# Character\n",
    "print(is.character(\"12-04-2020\"))\n",
    "print(is.integer(\"a\"))\n",
    "print(is.numeric(2+3i))"
   ]
  },
  {
   "cell_type": "code",
   "execution_count": 132,
   "id": "32cd8f7a-bd49-4396-9a08-081bce508835",
   "metadata": {},
   "outputs": [
    {
     "name": "stdout",
     "output_type": "stream",
     "text": [
      "[1] 1\n",
      "[1] 3+0i\n",
      "[1] TRUE\n",
      "[1] \"1+2i\"\n"
     ]
    },
    {
     "name": "stderr",
     "output_type": "stream",
     "text": [
      "Warning message in print(as.numeric(\"12-04-2020\")):\n",
      "\"NAs introduced by coercion\"\n"
     ]
    },
    {
     "name": "stdout",
     "output_type": "stream",
     "text": [
      "[1] NA\n"
     ]
    }
   ],
   "source": [
    "# Type conversion\n",
    "# as.data_type(object) \n",
    "# Logical\n",
    "print(as.numeric(TRUE))\n",
    " \n",
    "# Integer\n",
    "print(as.complex(3L))\n",
    " \n",
    "# Numeric\n",
    "print(as.logical(10.5))\n",
    " \n",
    "# Complex\n",
    "print(as.character(1+2i))\n",
    " \n",
    "# Not possible\n",
    "print(as.numeric(\"12-04-2020\"))"
   ]
  },
  {
   "cell_type": "markdown",
   "id": "ce584cdb-7224-42df-ae63-287122370967",
   "metadata": {},
   "source": [
    "#### Operators"
   ]
  },
  {
   "cell_type": "code",
   "execution_count": 133,
   "id": "08b067b8-7123-4ca2-a3ac-ba93ec4dba05",
   "metadata": {},
   "outputs": [
    {
     "data": {
      "text/html": [
       "6"
      ],
      "text/latex": [
       "6"
      ],
      "text/markdown": [
       "6"
      ],
      "text/plain": [
       "[1] 6"
      ]
     },
     "metadata": {},
     "output_type": "display_data"
    },
    {
     "data": {
      "text/html": [
       "2"
      ],
      "text/latex": [
       "2"
      ],
      "text/markdown": [
       "2"
      ],
      "text/plain": [
       "[1] 2"
      ]
     },
     "metadata": {},
     "output_type": "display_data"
    },
    {
     "data": {
      "text/html": [
       "8"
      ],
      "text/latex": [
       "8"
      ],
      "text/markdown": [
       "8"
      ],
      "text/plain": [
       "[1] 8"
      ]
     },
     "metadata": {},
     "output_type": "display_data"
    },
    {
     "data": {
      "text/html": [
       "2"
      ],
      "text/latex": [
       "2"
      ],
      "text/markdown": [
       "2"
      ],
      "text/plain": [
       "[1] 2"
      ]
     },
     "metadata": {},
     "output_type": "display_data"
    },
    {
     "data": {
      "text/html": [
       "16"
      ],
      "text/latex": [
       "16"
      ],
      "text/markdown": [
       "16"
      ],
      "text/plain": [
       "[1] 16"
      ]
     },
     "metadata": {},
     "output_type": "display_data"
    },
    {
     "data": {
      "text/html": [
       "0"
      ],
      "text/latex": [
       "0"
      ],
      "text/markdown": [
       "0"
      ],
      "text/plain": [
       "[1] 0"
      ]
     },
     "metadata": {},
     "output_type": "display_data"
    },
    {
     "data": {
      "text/html": [
       "12"
      ],
      "text/latex": [
       "12"
      ],
      "text/markdown": [
       "12"
      ],
      "text/plain": [
       "[1] 12"
      ]
     },
     "metadata": {},
     "output_type": "display_data"
    }
   ],
   "source": [
    "# Arithmetic Operators\n",
    "\n",
    "a <- 4   #variable assignment\n",
    "b <- 2   #variable assignment\n",
    "\n",
    "a+b #add\n",
    "a-b #subtract\n",
    "a*b #multiply\n",
    "a/b #divide\n",
    "a^b #power or exponential\n",
    "a%%b #modulus operator or remainer operator\n",
    "((a+b)*a)/b  #combining operators"
   ]
  },
  {
   "cell_type": "code",
   "execution_count": 134,
   "id": "f06c1ebe-0277-4c3f-8d31-49f5d7ab2fc9",
   "metadata": {},
   "outputs": [
    {
     "name": "stdout",
     "output_type": "stream",
     "text": [
      "[1] FALSE  TRUE\n",
      "[1] TRUE TRUE\n",
      "[1] TRUE TRUE\n"
     ]
    },
    {
     "name": "stderr",
     "output_type": "stream",
     "text": [
      "Warning message in list1 && list2:\n",
      "\"'length(x) = 2 > 1' in coercion to 'logical(1)'\"\n",
      "Warning message in list1 && list2:\n",
      "\"'length(x) = 2 > 1' in coercion to 'logical(1)'\"\n"
     ]
    },
    {
     "name": "stdout",
     "output_type": "stream",
     "text": [
      "[1] FALSE\n"
     ]
    },
    {
     "name": "stderr",
     "output_type": "stream",
     "text": [
      "Warning message in list1 || list2:\n",
      "\"'length(x) = 2 > 1' in coercion to 'logical(1)'\"\n"
     ]
    },
    {
     "name": "stdout",
     "output_type": "stream",
     "text": [
      "[1] TRUE\n"
     ]
    }
   ],
   "source": [
    "# Logical Operators\n",
    "\n",
    "# Element-wise Logical AND operator (&): Returns True if both the operands are True.\n",
    "# Any non zero integer value is considered as a TRUE value, be it complex or real number. \n",
    "list1 <- c(TRUE, 0.1)\n",
    "list2 <- c(0,4+3i)\n",
    "print(list1 & list2)\n",
    "\n",
    "# Element-wise Logical OR operator (|): Returns True if either of the operands is True.\n",
    "list1 <- c(TRUE, 0.1)\n",
    "list2 <- c(0,4+3i)\n",
    "print(list1|list2)\n",
    "\n",
    "# NOT operator (!): A unary operator that negates the status of the elements of the operand.\n",
    "list1 <- c(0,FALSE)\n",
    "print(!list1)    \n",
    "\n",
    "# Logical AND operator (&&): Returns True if both the first elements of the operands are True.\n",
    "# Compares just the first elements of both the lists.\n",
    "list1 <- c(TRUE, 0.1)\n",
    "list2 <- c(0,4+3i)\n",
    "print(list1 && list2)\n",
    "\n",
    "# Logical OR operator (||): Returns True if either of the first elements of the operands is True.\n",
    "list1 <- c(TRUE, 0.1)\n",
    "list2 <- c(0,4+3i)\n",
    "print(list1||list2)"
   ]
  },
  {
   "cell_type": "code",
   "execution_count": 135,
   "id": "7e06d126-653f-47af-ad39-49c78b65fdb6",
   "metadata": {},
   "outputs": [
    {
     "name": "stdout",
     "output_type": "stream",
     "text": [
      "Vector1 less than Vector2 : TRUE TRUE \n",
      "Vector1 less than equal to Vector2 : TRUE TRUE \n",
      "Vector1 greater than Vector2 : FALSE FALSE \n",
      "Vector1 greater than equal to Vector2 : FALSE FALSE \n",
      "Vector1 not equal to Vector2 : TRUE TRUE \n"
     ]
    }
   ],
   "source": [
    "# Relational Operators\n",
    "vec1 <- c(0, 2)\n",
    "vec2 <- c(2, 3)\n",
    " \n",
    "# Performing operations on Operands\n",
    "cat (\"Vector1 less than Vector2 :\", vec1 < vec2, \"\\n\") # Less than (<): \n",
    "cat (\"Vector1 less than equal to Vector2 :\", vec1 <= vec2, \"\\n\") # Less than equal to (<=): \n",
    "cat (\"Vector1 greater than Vector2 :\", vec1 > vec2, \"\\n\") # Greater than (>): \n",
    "cat (\"Vector1 greater than equal to Vector2 :\", vec1 >= vec2, \"\\n\") # Greater than equal to (>=): \n",
    "cat (\"Vector1 not equal to Vector2 :\", vec1 != vec2, \"\\n\") # Not equal to (!=)"
   ]
  },
  {
   "cell_type": "markdown",
   "id": "76a483d8-e898-4bf6-969e-03c67f21e73b",
   "metadata": {},
   "source": [
    "#### Confusion Matrix for understanding\n",
    "![image.png](./logic_operators.PNG)"
   ]
  },
  {
   "cell_type": "code",
   "execution_count": 136,
   "id": "595e24c0-754b-4221-8ebc-580bc3044bb0",
   "metadata": {},
   "outputs": [
    {
     "name": "stdout",
     "output_type": "stream",
     "text": [
      "vector 1 : 2 3 4 5 \n",
      "vector 2 : 2 3 4 5 \n",
      "vector 3 : 2 3 4 5 \n",
      "vector 4 : 2 3 4 5 \n",
      "vector 5 : 2 3 4 5"
     ]
    }
   ],
   "source": [
    "# Assignment Operators\n",
    "\n",
    "vec1 <- c(2:5) # Left Assignment (<- or <<- or =): Assigns a value to a vector.\n",
    "c(2:5) ->> vec2 # Right Assignment (-> or ->>): Assigns value to a vector.\n",
    "vec3 <<- c(2:5) # Left Assignment (<- or <<- or =): Assigns a value to a vector.\n",
    "vec4 = c(2:5) # Left Assignment (<- or <<- or =): Assigns a value to a vector.\n",
    "c(2:5) -> vec5 # Right Assignment (-> or ->>): Assigns value to a vector.\n",
    " \n",
    "# Performing operations on Operands\n",
    "cat (\"vector 1 :\", vec1, \"\\n\")\n",
    "cat(\"vector 2 :\", vec2, \"\\n\")\n",
    "cat (\"vector 3 :\", vec3, \"\\n\")\n",
    "cat(\"vector 4 :\", vec4, \"\\n\")\n",
    "cat(\"vector 5 :\", vec5)"
   ]
  },
  {
   "cell_type": "code",
   "execution_count": 137,
   "id": "cb45336f-75cd-491b-815f-fcc21573579f",
   "metadata": {},
   "outputs": [
    {
     "name": "stdout",
     "output_type": "stream",
     "text": [
      "[1] TRUE\n",
      "[1] 1 2 3 4 5\n",
      "[1] \"Matrix elements using : \"\n",
      "     [,1] [,2] [,3] [,4]\n",
      "[1,]    1    2    3    4\n",
      "[1] \"Product of matrices\"\n",
      "     [,1]\n",
      "[1,]   30\n",
      "does 1 exist in prod matrix : FALSE"
     ]
    }
   ],
   "source": [
    "# Miscellaneous Operator\n",
    "\n",
    "# %in% Operator: Checks if an element belongs to a list and returns a boolean value TRUE if the value is present  else FALSE.\n",
    "val <- 0.1\n",
    "list1 <- c(TRUE, 0.1,\"apple\")\n",
    "print (val %in% list1)\n",
    "\n",
    "# Colon Operator(:): Prints a list of elements starting with the element before the colon to the element after it.\n",
    "print (1:5)\n",
    "\n",
    "# %*% Operator: This operator is used to multiply a matrix with its transpose. \n",
    "mat <- matrix (1:4, nrow = 1, ncol = 4)\n",
    "print(\"Matrix elements using : \")\n",
    "print(mat)\n",
    " \n",
    "product = mat %*% t(mat)\n",
    "print(\"Product of matrices\")\n",
    "print(product,)\n",
    "cat (\"does 1 exist in prod matrix :\", \"1\" %in% product)"
   ]
  },
  {
   "cell_type": "markdown",
   "id": "c0a3bc1b-66d7-456f-9711-8988bb4e8938",
   "metadata": {},
   "source": [
    "### Extra functions"
   ]
  },
  {
   "cell_type": "code",
   "execution_count": 138,
   "id": "0cd74a17-cacf-4cf9-8cad-74719c4079d8",
   "metadata": {},
   "outputs": [
    {
     "data": {
      "text/html": [
       "<style>\n",
       ".list-inline {list-style: none; margin:0; padding: 0}\n",
       ".list-inline>li {display: inline-block}\n",
       ".list-inline>li:not(:last-child)::after {content: \"\\00b7\"; padding: 0 .5ex}\n",
       "</style>\n",
       "<ol class=list-inline><li>'a'</li><li>'array_example'</li><li>'b'</li><li>'blood'</li><li>'char'</li><li>'dataframe_example'</li><li>'dim'</li><li>'factors_bloodtypes'</li><li>'factors_bloodtypes_ordered'</li><li>'flu'</li><li>'flu_status'</li><li>'gender'</li><li>'h'</li><li>'i'</li><li>'integral_vector'</li><li>'j'</li><li>'k'</li><li>'l'</li><li>'list_example'</li><li>'list1'</li><li>'list2'</li><li>'logical_vector'</li><li>'mat'</li><li>'matrix_col_specified'</li><li>'matrix_row_col_specified'</li><li>'matrix_row_col_specified_rowarrangment'</li><li>'matrix_row_specified'</li><li>'mivie_array'</li><li>'movie_array'</li><li>'movie_vector'</li><li>'movielength_factor'</li><li>'movielength_vector'</li><li>'name'</li><li>'numeical_vector'</li><li>'pro'</li><li>'product'</li><li>'string_vectors'</li><li>'subject_name'</li><li>'temperature'</li><li>'val'</li><li>'vec1'</li><li>'vec2'</li><li>'vec3'</li><li>'vec4'</li><li>'vec5'</li><li>'x'</li><li>'y'</li><li>'year'</li><li>'z'</li></ol>\n"
      ],
      "text/latex": [
       "\\begin{enumerate*}\n",
       "\\item 'a'\n",
       "\\item 'array\\_example'\n",
       "\\item 'b'\n",
       "\\item 'blood'\n",
       "\\item 'char'\n",
       "\\item 'dataframe\\_example'\n",
       "\\item 'dim'\n",
       "\\item 'factors\\_bloodtypes'\n",
       "\\item 'factors\\_bloodtypes\\_ordered'\n",
       "\\item 'flu'\n",
       "\\item 'flu\\_status'\n",
       "\\item 'gender'\n",
       "\\item 'h'\n",
       "\\item 'i'\n",
       "\\item 'integral\\_vector'\n",
       "\\item 'j'\n",
       "\\item 'k'\n",
       "\\item 'l'\n",
       "\\item 'list\\_example'\n",
       "\\item 'list1'\n",
       "\\item 'list2'\n",
       "\\item 'logical\\_vector'\n",
       "\\item 'mat'\n",
       "\\item 'matrix\\_col\\_specified'\n",
       "\\item 'matrix\\_row\\_col\\_specified'\n",
       "\\item 'matrix\\_row\\_col\\_specified\\_rowarrangment'\n",
       "\\item 'matrix\\_row\\_specified'\n",
       "\\item 'mivie\\_array'\n",
       "\\item 'movie\\_array'\n",
       "\\item 'movie\\_vector'\n",
       "\\item 'movielength\\_factor'\n",
       "\\item 'movielength\\_vector'\n",
       "\\item 'name'\n",
       "\\item 'numeical\\_vector'\n",
       "\\item 'pro'\n",
       "\\item 'product'\n",
       "\\item 'string\\_vectors'\n",
       "\\item 'subject\\_name'\n",
       "\\item 'temperature'\n",
       "\\item 'val'\n",
       "\\item 'vec1'\n",
       "\\item 'vec2'\n",
       "\\item 'vec3'\n",
       "\\item 'vec4'\n",
       "\\item 'vec5'\n",
       "\\item 'x'\n",
       "\\item 'y'\n",
       "\\item 'year'\n",
       "\\item 'z'\n",
       "\\end{enumerate*}\n"
      ],
      "text/markdown": [
       "1. 'a'\n",
       "2. 'array_example'\n",
       "3. 'b'\n",
       "4. 'blood'\n",
       "5. 'char'\n",
       "6. 'dataframe_example'\n",
       "7. 'dim'\n",
       "8. 'factors_bloodtypes'\n",
       "9. 'factors_bloodtypes_ordered'\n",
       "10. 'flu'\n",
       "11. 'flu_status'\n",
       "12. 'gender'\n",
       "13. 'h'\n",
       "14. 'i'\n",
       "15. 'integral_vector'\n",
       "16. 'j'\n",
       "17. 'k'\n",
       "18. 'l'\n",
       "19. 'list_example'\n",
       "20. 'list1'\n",
       "21. 'list2'\n",
       "22. 'logical_vector'\n",
       "23. 'mat'\n",
       "24. 'matrix_col_specified'\n",
       "25. 'matrix_row_col_specified'\n",
       "26. 'matrix_row_col_specified_rowarrangment'\n",
       "27. 'matrix_row_specified'\n",
       "28. 'mivie_array'\n",
       "29. 'movie_array'\n",
       "30. 'movie_vector'\n",
       "31. 'movielength_factor'\n",
       "32. 'movielength_vector'\n",
       "33. 'name'\n",
       "34. 'numeical_vector'\n",
       "35. 'pro'\n",
       "36. 'product'\n",
       "37. 'string_vectors'\n",
       "38. 'subject_name'\n",
       "39. 'temperature'\n",
       "40. 'val'\n",
       "41. 'vec1'\n",
       "42. 'vec2'\n",
       "43. 'vec3'\n",
       "44. 'vec4'\n",
       "45. 'vec5'\n",
       "46. 'x'\n",
       "47. 'y'\n",
       "48. 'year'\n",
       "49. 'z'\n",
       "\n",
       "\n"
      ],
      "text/plain": [
       " [1] \"a\"                                     \n",
       " [2] \"array_example\"                         \n",
       " [3] \"b\"                                     \n",
       " [4] \"blood\"                                 \n",
       " [5] \"char\"                                  \n",
       " [6] \"dataframe_example\"                     \n",
       " [7] \"dim\"                                   \n",
       " [8] \"factors_bloodtypes\"                    \n",
       " [9] \"factors_bloodtypes_ordered\"            \n",
       "[10] \"flu\"                                   \n",
       "[11] \"flu_status\"                            \n",
       "[12] \"gender\"                                \n",
       "[13] \"h\"                                     \n",
       "[14] \"i\"                                     \n",
       "[15] \"integral_vector\"                       \n",
       "[16] \"j\"                                     \n",
       "[17] \"k\"                                     \n",
       "[18] \"l\"                                     \n",
       "[19] \"list_example\"                          \n",
       "[20] \"list1\"                                 \n",
       "[21] \"list2\"                                 \n",
       "[22] \"logical_vector\"                        \n",
       "[23] \"mat\"                                   \n",
       "[24] \"matrix_col_specified\"                  \n",
       "[25] \"matrix_row_col_specified\"              \n",
       "[26] \"matrix_row_col_specified_rowarrangment\"\n",
       "[27] \"matrix_row_specified\"                  \n",
       "[28] \"mivie_array\"                           \n",
       "[29] \"movie_array\"                           \n",
       "[30] \"movie_vector\"                          \n",
       "[31] \"movielength_factor\"                    \n",
       "[32] \"movielength_vector\"                    \n",
       "[33] \"name\"                                  \n",
       "[34] \"numeical_vector\"                       \n",
       "[35] \"pro\"                                   \n",
       "[36] \"product\"                               \n",
       "[37] \"string_vectors\"                        \n",
       "[38] \"subject_name\"                          \n",
       "[39] \"temperature\"                           \n",
       "[40] \"val\"                                   \n",
       "[41] \"vec1\"                                  \n",
       "[42] \"vec2\"                                  \n",
       "[43] \"vec3\"                                  \n",
       "[44] \"vec4\"                                  \n",
       "[45] \"vec5\"                                  \n",
       "[46] \"x\"                                     \n",
       "[47] \"y\"                                     \n",
       "[48] \"year\"                                  \n",
       "[49] \"z\"                                     "
      ]
     },
     "metadata": {},
     "output_type": "display_data"
    }
   ],
   "source": [
    "## saving, loading, and removing R data structures\n",
    "#show all data structures in memory\n",
    "ls()\n",
    "#remove the named object\n",
    "rm(a,b) #remove vaiable from memory\n",
    "#remove all objects\n",
    "rm(list=ls())"
   ]
  },
  {
   "cell_type": "code",
   "execution_count": null,
   "id": "185bb9d8-b320-44f6-b611-2d4358a57e4d",
   "metadata": {},
   "outputs": [],
   "source": []
  },
  {
   "cell_type": "code",
   "execution_count": null,
   "id": "f490a08a-14f5-4ae3-8768-91a75ad4f7e2",
   "metadata": {},
   "outputs": [],
   "source": [
    "#Important Functions\n",
    "#View data in a visual and searchable\n",
    "View(dataframe_example)\n",
    "#Get the class of a variable\n",
    "class(string_vectors)\n",
    "#Get working directory\n",
    "getwd()\n",
    "#Set working directory\n",
    "setwd(\"./MachineLearningwithR/Day1\")"
   ]
  }
 ],
 "metadata": {
  "kernelspec": {
   "display_name": "R",
   "language": "R",
   "name": "ir"
  },
  "language_info": {
   "codemirror_mode": "r",
   "file_extension": ".r",
   "mimetype": "text/x-r-source",
   "name": "R",
   "pygments_lexer": "r",
   "version": "4.2.2"
  },
  "widgets": {
   "application/vnd.jupyter.widget-state+json": {
    "state": {},
    "version_major": 2,
    "version_minor": 0
   }
  }
 },
 "nbformat": 4,
 "nbformat_minor": 5
}
