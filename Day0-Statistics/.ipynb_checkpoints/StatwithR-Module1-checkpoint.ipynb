{
 "cells": [
  {
   "cell_type": "code",
   "execution_count": null,
   "id": "cd746c26-fa46-4f51-bc3e-edf6a2238d3b",
   "metadata": {},
   "outputs": [],
   "source": []
  },
  {
   "cell_type": "code",
   "execution_count": 5,
   "id": "36a67d29-e500-44aa-b2ec-228992d24463",
   "metadata": {},
   "outputs": [],
   "source": [
    "setwd(\"C:/Users/devops/MachineLearningwithR/Day0-Statistics\")  #setting work directory (\\ does not work on windows so it is replaced with /)"
   ]
  },
  {
   "cell_type": "code",
   "execution_count": 6,
   "id": "107c5fd7-f8a9-484e-bcaf-f42c5bb1399d",
   "metadata": {},
   "outputs": [],
   "source": [
    "##### What is bias?\n",
    "##### Bias is the difference between the average prediction of our model and the correct value which we are trying to predict. Model with high bias pays very little attention to the training data and oversimplifies the model. It always leads to high error on training and test data.\n",
    "\n",
    "##### What is variance?\n",
    "##### Variance is the variability of model prediction for a given data point or a value which tells us spread of our data. Model with high variance pays a lot of attention to training data and does not generalize on the data which it hasn’t seen before. As a result, such models perform very well on training data but has high error rates on test data."
   ]
  },
  {
   "cell_type": "markdown",
   "id": "f42473b5-1d09-42e5-922e-98b129ccbc06",
   "metadata": {},
   "source": [
    "![image.png](./biasVSvariance.PNG)"
   ]
  },
  {
   "cell_type": "code",
   "execution_count": null,
   "id": "441e5914-0285-40b6-aa0c-2e0e5af1dfeb",
   "metadata": {},
   "outputs": [],
   "source": [
    "##### Having a high bias underfits the data and produces a model that is overly generalized, while having high variance overfits the data and produces a model that is overly complex. "
   ]
  }
 ],
 "metadata": {
  "kernelspec": {
   "display_name": "R",
   "language": "R",
   "name": "ir"
  },
  "language_info": {
   "codemirror_mode": "r",
   "file_extension": ".r",
   "mimetype": "text/x-r-source",
   "name": "R",
   "pygments_lexer": "r",
   "version": "4.2.2"
  },
  "widgets": {
   "application/vnd.jupyter.widget-state+json": {
    "state": {},
    "version_major": 2,
    "version_minor": 0
   }
  }
 },
 "nbformat": 4,
 "nbformat_minor": 5
}
