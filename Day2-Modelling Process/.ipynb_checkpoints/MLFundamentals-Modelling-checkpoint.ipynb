{
 "cells": [
  {
   "cell_type": "markdown",
   "id": "210714f9-e523-47d3-8045-5cc44197e7cb",
   "metadata": {},
   "source": [
    "<ol>\n",
    "<p><b>This is formatting example.</b></p>\n",
    "<li>This is question one.</li>\n",
    "<p>This is more info.</p>\n",
    "<li>This is question two.</li>\n",
    "</ol>"
   ]
  },
  {
   "cell_type": "code",
   "execution_count": 7,
   "id": "fab15eb5-da01-4e5d-a916-b11b90d44edd",
   "metadata": {},
   "outputs": [],
   "source": [
    "setwd(\"C:/Users/devops/MachineLearningwithR/Day1.1\")  #setting work directory (\\ does not work on windows so it is replaced with /)"
   ]
  },
  {
   "cell_type": "markdown",
   "id": "1d650293-b3de-45fa-b62a-c5e33d7d6cea",
   "metadata": {},
   "source": [
    "#### A predictive model is used for tasks that involve the prediction of a given output (or target) using other variables (or features) in the data set. "
   ]
  },
  {
   "cell_type": "markdown",
   "id": "c0454ef0-cf2d-4315-9fe3-73e935776ab0",
   "metadata": {},
   "source": [
    "#### Supervised Learning\n",
    "<ol>\n",
    "<li> In supervised learning, the training data you feed the algorithm includes the target values. Consequently, the solutions can be used to help supervise the training process to find the optimal algorithm parameters.</li>\n",
    "<li>Most supervised learning problems can be bucketed into one of two categories, regression or classification.</li>\n",
    "</ol>\n"
   ]
  },
  {
   "cell_type": "markdown",
   "id": "af009ba3-4137-46ac-a0bd-344d717f6315",
   "metadata": {},
   "source": [
    "#### Unsupervised Learning\n",
    "<ol>\n",
    "<li> Unsupervised learning, in contrast to supervised learning, includes a set of statistical tools to better understand and describe your data, but performs the analysis without a target variable. In essence, unsupervised learning is concerned with identifying groups in a data set. The groups may be defined by the rows (i.e., clustering) or the columns (i.e., dimension reduction); however, the motive in each case is quite different. </li>\n",
    "<li> Unsupervised learning is often performed as part of an exploratory data analysis (EDA). However, the exercise tends to be more subjective, and there is no simple goal for the analysis, such as prediction of a response. </li>\n",
    "<li>The goal of clustering is to segment observations into similar groups based on the observed variables; for example, to divide consumers into different homogeneous groups, a process known as market segmentation.</li>\n",
    "<li>In dimension reduction, we are often concerned with reducing the number of variables in a data set. For example, classical linear regression models break down in the presence of highly correlated features.</li>\n",
    "</ol>\n"
   ]
  },
  {
   "cell_type": "markdown",
   "id": "41cad7ce-cad5-490f-b67c-3b905dc3bef4",
   "metadata": {},
   "source": [
    "<b>Modelling process<b>\n",
    "<p> Approaching ML modeling correctly means approaching it strategically by spending our data wisely on learning and validation procedures, properly pre-processing the feature and target variables, minimizing data leakage, tuning hyperparameters, and assessing model performance. <p>\n",
    "<p> Many books and courses portray the modeling process as a short sprint. A better analogy would be a marathon where many iterations of these steps are repeated before eventually finding the final optimal model. <p>"
   ]
  },
  {
   "cell_type": "markdown",
   "id": "1c168b0e-c4ef-47d7-848d-ba226b314795",
   "metadata": {},
   "source": [
    "![image.png](./modeling_process.png)"
   ]
  },
  {
   "cell_type": "code",
   "execution_count": 14,
   "id": "ddac263f-6b7b-4869-815d-6e0f0e6b6601",
   "metadata": {},
   "outputs": [
    {
     "name": "stderr",
     "output_type": "stream",
     "text": [
      "-- \u001b[1mAttaching packages\u001b[22m ------------------------------------------------------------------------------- tidyverse 1.3.2 --\n",
      "\u001b[32mv\u001b[39m \u001b[34mtibble \u001b[39m 3.1.8     \u001b[32mv\u001b[39m \u001b[34mpurrr  \u001b[39m 0.3.5\n",
      "\u001b[32mv\u001b[39m \u001b[34mtidyr  \u001b[39m 1.2.1     \u001b[32mv\u001b[39m \u001b[34mstringr\u001b[39m 1.4.1\n",
      "\u001b[32mv\u001b[39m \u001b[34mreadr  \u001b[39m 2.1.3     \u001b[32mv\u001b[39m \u001b[34mforcats\u001b[39m 0.5.2\n",
      "-- \u001b[1mConflicts\u001b[22m ---------------------------------------------------------------------------------- tidyverse_conflicts() --\n",
      "\u001b[31mx\u001b[39m \u001b[34mdplyr\u001b[39m::\u001b[32mfilter()\u001b[39m masks \u001b[34mstats\u001b[39m::filter()\n",
      "\u001b[31mx\u001b[39m \u001b[34mdplyr\u001b[39m::\u001b[32mlag()\u001b[39m    masks \u001b[34mstats\u001b[39m::lag()\n",
      "\u001b[31mx\u001b[39m \u001b[34mpurrr\u001b[39m::\u001b[32mlift()\u001b[39m   masks \u001b[34mcaret\u001b[39m::lift()\n"
     ]
    }
   ],
   "source": [
    "knitr::opts_chunk$set(\n",
    "  echo = TRUE,\n",
    "  fig.align = \"center\",\n",
    "  message = FALSE,\n",
    "  warning = FALSE,\n",
    "  collapse = TRUE,\n",
    "  cache = FALSE\n",
    ")\n",
    "\n",
    "# underlying code dependencies\n",
    "library(tidyverse)\n",
    "\n",
    "# Set the graphical theme\n",
    "theme_set(theme_light())"
   ]
  },
  {
   "cell_type": "code",
   "execution_count": 17,
   "id": "3d47c062-f33f-4bae-8920-720604f4d579",
   "metadata": {},
   "outputs": [
    {
     "name": "stderr",
     "output_type": "stream",
     "text": [
      "Warning message:\n",
      "\"package 'dplyr' is in use and will not be installed\"\n",
      "Warning message:\n",
      "\"package 'ggplot2' is in use and will not be installed\"\n",
      "Warning message:\n",
      "\"package 'rsample' is in use and will not be installed\"\n",
      "Warning message:\n",
      "\"package 'caret' is in use and will not be installed\"\n",
      "Warning message:\n",
      "\"package 'h2o' is in use and will not be installed\"\n"
     ]
    }
   ],
   "source": [
    "install.packages(\"dplyr\")\n",
    "install.packages(\"ggplot2\")\n",
    "install.packages(\"rsample\")\n",
    "install.packages(\"caret\")\n",
    "install.packages(\"h2o\")"
   ]
  },
  {
   "cell_type": "code",
   "execution_count": 18,
   "id": "cf92947d-b24e-47ae-8bf2-4734ce580851",
   "metadata": {},
   "outputs": [
    {
     "name": "stdout",
     "output_type": "stream",
     "text": [
      " Connection successful!\n",
      "\n",
      "R is connected to the H2O cluster: \n",
      "    H2O cluster uptime:         4 minutes 52 seconds \n",
      "    H2O cluster timezone:       UTC \n",
      "    H2O data parsing timezone:  UTC \n",
      "    H2O cluster version:        3.38.0.1 \n",
      "    H2O cluster version age:    4 months and 27 days !!! \n",
      "    H2O cluster name:           H2O_started_from_R_devops_xra069 \n",
      "    H2O cluster total nodes:    1 \n",
      "    H2O cluster total memory:   1.77 GB \n",
      "    H2O cluster total cores:    4 \n",
      "    H2O cluster allowed cores:  4 \n",
      "    H2O cluster healthy:        TRUE \n",
      "    H2O Connection ip:          localhost \n",
      "    H2O Connection port:        54321 \n",
      "    H2O Connection proxy:       NA \n",
      "    H2O Internal Security:      FALSE \n",
      "    R Version:                  R version 4.2.2 (2022-10-31 ucrt) \n"
     ]
    },
    {
     "name": "stderr",
     "output_type": "stream",
     "text": [
      "Warning message in h2o.clusterInfo():\n",
      "\"\n",
      "Your H2O cluster version is too old (4 months and 27 days)!\n",
      "Please download and install the latest version from http://h2o.ai/download/\"\n"
     ]
    },
    {
     "name": "stdout",
     "output_type": "stream",
     "text": [
      "\n"
     ]
    }
   ],
   "source": [
    "# Helper packages\n",
    "library(dplyr)     # for data manipulation\n",
    "library(ggplot2)   # for awesome graphics\n",
    "\n",
    "# Modeling process packages\n",
    "library(rsample)   # for resampling procedures\n",
    "library(caret)     # for resampling and model training\n",
    "library(h2o)       # for resampling and model training\n",
    "\n",
    "# h2o set-up \n",
    "h2o.no_progress()  # turn off h2o progress bars\n",
    "h2o.init()         # launch h2o"
   ]
  },
  {
   "cell_type": "markdown",
   "id": "732c0557-ca55-46e3-b4d8-0a1bd3d18185",
   "metadata": {},
   "source": [
    "<b> Datasets <b>"
   ]
  },
  {
   "cell_type": "code",
   "execution_count": 19,
   "id": "3f7ea082-86ae-4542-b8f7-1570c1d3289d",
   "metadata": {},
   "outputs": [
    {
     "ename": "ERROR",
     "evalue": "Error in loadNamespace(x): there is no package called 'AmesHousing'\n",
     "output_type": "error",
     "traceback": [
      "Error in loadNamespace(x): there is no package called 'AmesHousing'\nTraceback:\n",
      "1. loadNamespace(x)",
      "2. withRestarts(stop(cond), retry_loadNamespace = function() NULL)",
      "3. withOneRestart(expr, restarts[[1L]])",
      "4. doWithOneRestart(return(expr), restart)"
     ]
    }
   ],
   "source": [
    "# Ames housing data\n",
    "ames <- AmesHousing::make_ames()\n",
    "ames.h2o <- as.h2o(ames)\n",
    "\n",
    "# Job attrition data\n",
    "churn <- rsample::attrition %>% \n",
    "  mutate_if(is.ordered, .funs = factor, ordered = FALSE)\n",
    "churn.h2o <- as.h2o(churn)"
   ]
  },
  {
   "cell_type": "code",
   "execution_count": null,
   "id": "79577d41-04c2-4ec5-b9e5-1a8c55bbcb77",
   "metadata": {},
   "outputs": [],
   "source": []
  }
 ],
 "metadata": {
  "kernelspec": {
   "display_name": "R",
   "language": "R",
   "name": "ir"
  },
  "language_info": {
   "codemirror_mode": "r",
   "file_extension": ".r",
   "mimetype": "text/x-r-source",
   "name": "R",
   "pygments_lexer": "r",
   "version": "4.2.2"
  },
  "widgets": {
   "application/vnd.jupyter.widget-state+json": {
    "state": {},
    "version_major": 2,
    "version_minor": 0
   }
  }
 },
 "nbformat": 4,
 "nbformat_minor": 5
}
