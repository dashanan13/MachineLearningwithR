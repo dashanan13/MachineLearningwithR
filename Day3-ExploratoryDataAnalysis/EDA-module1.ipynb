{
 "cells": [
  {
   "cell_type": "markdown",
   "id": "074b9ec7-b22a-4509-a9dd-7bafd3e3f59a",
   "metadata": {},
   "source": [
    "#### Exploratory Data Analysis"
   ]
  },
  {
   "cell_type": "markdown",
   "id": "78312e49-7f53-41c9-8207-ac530fd49d2b",
   "metadata": {},
   "source": [
    "##### Exploratory Data Analysis refers to the critical process of performing initial investigations on data so as to discover patterns,to spot anomalies,to test hypothesis and to check assumptions with the help of summary statistics and graphical representations.\n",
    "##### It is a good practice to understand the data first and try to gather as many insights from it. EDA is all about making sense of data in hand,before getting them dirty with it."
   ]
  },
  {
   "cell_type": "markdown",
   "id": "fb988c91-b3fb-48cc-a8b4-bab53726413c",
   "metadata": {},
   "source": [
    "setwd(\"C:/Users/devops/MachineLearningwithR/Day3-ExploratoryDataAnalysis\")  #setting work directory (\\ does not work on windows so it is replaced with /)#### Housing Data Exploratory Analysis"
   ]
  },
  {
   "cell_type": "code",
   "execution_count": 10,
   "id": "70e9e235-3ad6-454b-8747-ec55cb0f7c80",
   "metadata": {},
   "outputs": [],
   "source": [
    "setwd(\"C:/Users/devops/MachineLearningwithR/Day3-ExploratoryDataAnalysis\")  #setting work directory (\\ does not work on windows so it is replaced with /)"
   ]
  },
  {
   "cell_type": "raw",
   "id": "c93d7bf4-b470-4081-8cb2-7a8768aaf6ee",
   "metadata": {
    "tags": []
   },
   "source": [
    "install.packages(\"ggvis\")\n",
    "install.packages(\"ggplot2\")\n",
    "install.packages(\"cellranger\")\n",
    "install.packages(\"tidyverse\")"
   ]
  },
  {
   "cell_type": "markdown",
   "id": "c552e61b-2761-4dab-8994-6117c08786a0",
   "metadata": {},
   "source": [
    "#### EDA process visually\n",
    "![image.png](./EDA.PNG)"
   ]
  },
  {
   "cell_type": "code",
   "execution_count": 11,
   "id": "858c28bc-a81b-453f-bc92-cab182cc59ba",
   "metadata": {},
   "outputs": [],
   "source": [
    "library('ggvis')\n",
    "library('ggplot2')\n",
    "library('tidyverse')"
   ]
  },
  {
   "cell_type": "code",
   "execution_count": 1,
   "id": "c6c9756d-812a-4c0e-9bb8-e21b430e7222",
   "metadata": {},
   "outputs": [
    {
     "data": {
      "text/html": [
       "<table class=\"dataframe\">\n",
       "<caption>A data.frame: 6 × 13</caption>\n",
       "<thead>\n",
       "\t<tr><th></th><th scope=col>ï..ID</th><th scope=col>Marital.Status</th><th scope=col>Gender</th><th scope=col>Income</th><th scope=col>Children</th><th scope=col>Education</th><th scope=col>Occupation</th><th scope=col>Home.Owner</th><th scope=col>Cars</th><th scope=col>Commute.Distance</th><th scope=col>Region</th><th scope=col>Age</th><th scope=col>Purchased.Bike</th></tr>\n",
       "\t<tr><th></th><th scope=col>&lt;int&gt;</th><th scope=col>&lt;fct&gt;</th><th scope=col>&lt;fct&gt;</th><th scope=col>&lt;int&gt;</th><th scope=col>&lt;int&gt;</th><th scope=col>&lt;fct&gt;</th><th scope=col>&lt;fct&gt;</th><th scope=col>&lt;fct&gt;</th><th scope=col>&lt;int&gt;</th><th scope=col>&lt;fct&gt;</th><th scope=col>&lt;fct&gt;</th><th scope=col>&lt;int&gt;</th><th scope=col>&lt;fct&gt;</th></tr>\n",
       "</thead>\n",
       "<tbody>\n",
       "\t<tr><th scope=row>1</th><td>12496</td><td>Married</td><td>Female</td><td>40000</td><td>1</td><td>Bachelors      </td><td>Skilled Manual</td><td>Yes</td><td>0</td><td>0-1 Miles </td><td>Europe </td><td>42</td><td>No </td></tr>\n",
       "\t<tr><th scope=row>2</th><td>24107</td><td>Married</td><td>Male  </td><td>30000</td><td>3</td><td>Partial College</td><td>Clerical      </td><td>Yes</td><td>1</td><td>0-1 Miles </td><td>Europe </td><td>43</td><td>No </td></tr>\n",
       "\t<tr><th scope=row>3</th><td>14177</td><td>Married</td><td>Male  </td><td>80000</td><td>5</td><td>Partial College</td><td>Professional  </td><td>No </td><td>2</td><td>2-5 Miles </td><td>Europe </td><td>60</td><td>No </td></tr>\n",
       "\t<tr><th scope=row>4</th><td>24381</td><td>Single </td><td>NA    </td><td>70000</td><td>0</td><td>Bachelors      </td><td>Professional  </td><td>Yes</td><td>1</td><td>5-10 Miles</td><td>Pacific</td><td>41</td><td>Yes</td></tr>\n",
       "\t<tr><th scope=row>5</th><td>25597</td><td>Single </td><td>Male  </td><td>30000</td><td>0</td><td>Bachelors      </td><td>Clerical      </td><td>No </td><td>0</td><td>0-1 Miles </td><td>Europe </td><td>36</td><td>Yes</td></tr>\n",
       "\t<tr><th scope=row>6</th><td>13507</td><td>Married</td><td>Female</td><td>10000</td><td>2</td><td>Partial College</td><td>Manual        </td><td>Yes</td><td>0</td><td>1-2 Miles </td><td>Europe </td><td>50</td><td>No </td></tr>\n",
       "</tbody>\n",
       "</table>\n"
      ],
      "text/latex": [
       "A data.frame: 6 × 13\n",
       "\\begin{tabular}{r|lllllllllllll}\n",
       "  & ï..ID & Marital.Status & Gender & Income & Children & Education & Occupation & Home.Owner & Cars & Commute.Distance & Region & Age & Purchased.Bike\\\\\n",
       "  & <int> & <fct> & <fct> & <int> & <int> & <fct> & <fct> & <fct> & <int> & <fct> & <fct> & <int> & <fct>\\\\\n",
       "\\hline\n",
       "\t1 & 12496 & Married & Female & 40000 & 1 & Bachelors       & Skilled Manual & Yes & 0 & 0-1 Miles  & Europe  & 42 & No \\\\\n",
       "\t2 & 24107 & Married & Male   & 30000 & 3 & Partial College & Clerical       & Yes & 1 & 0-1 Miles  & Europe  & 43 & No \\\\\n",
       "\t3 & 14177 & Married & Male   & 80000 & 5 & Partial College & Professional   & No  & 2 & 2-5 Miles  & Europe  & 60 & No \\\\\n",
       "\t4 & 24381 & Single  & NA     & 70000 & 0 & Bachelors       & Professional   & Yes & 1 & 5-10 Miles & Pacific & 41 & Yes\\\\\n",
       "\t5 & 25597 & Single  & Male   & 30000 & 0 & Bachelors       & Clerical       & No  & 0 & 0-1 Miles  & Europe  & 36 & Yes\\\\\n",
       "\t6 & 13507 & Married & Female & 10000 & 2 & Partial College & Manual         & Yes & 0 & 1-2 Miles  & Europe  & 50 & No \\\\\n",
       "\\end{tabular}\n"
      ],
      "text/markdown": [
       "\n",
       "A data.frame: 6 × 13\n",
       "\n",
       "| <!--/--> | ï..ID &lt;int&gt; | Marital.Status &lt;fct&gt; | Gender &lt;fct&gt; | Income &lt;int&gt; | Children &lt;int&gt; | Education &lt;fct&gt; | Occupation &lt;fct&gt; | Home.Owner &lt;fct&gt; | Cars &lt;int&gt; | Commute.Distance &lt;fct&gt; | Region &lt;fct&gt; | Age &lt;int&gt; | Purchased.Bike &lt;fct&gt; |\n",
       "|---|---|---|---|---|---|---|---|---|---|---|---|---|---|\n",
       "| 1 | 12496 | Married | Female | 40000 | 1 | Bachelors       | Skilled Manual | Yes | 0 | 0-1 Miles  | Europe  | 42 | No  |\n",
       "| 2 | 24107 | Married | Male   | 30000 | 3 | Partial College | Clerical       | Yes | 1 | 0-1 Miles  | Europe  | 43 | No  |\n",
       "| 3 | 14177 | Married | Male   | 80000 | 5 | Partial College | Professional   | No  | 2 | 2-5 Miles  | Europe  | 60 | No  |\n",
       "| 4 | 24381 | Single  | NA     | 70000 | 0 | Bachelors       | Professional   | Yes | 1 | 5-10 Miles | Pacific | 41 | Yes |\n",
       "| 5 | 25597 | Single  | Male   | 30000 | 0 | Bachelors       | Clerical       | No  | 0 | 0-1 Miles  | Europe  | 36 | Yes |\n",
       "| 6 | 13507 | Married | Female | 10000 | 2 | Partial College | Manual         | Yes | 0 | 1-2 Miles  | Europe  | 50 | No  |\n",
       "\n"
      ],
      "text/plain": [
       "  ï..ID Marital.Status Gender Income Children Education       Occupation    \n",
       "1 12496 Married        Female 40000  1        Bachelors       Skilled Manual\n",
       "2 24107 Married        Male   30000  3        Partial College Clerical      \n",
       "3 14177 Married        Male   80000  5        Partial College Professional  \n",
       "4 24381 Single         NA     70000  0        Bachelors       Professional  \n",
       "5 25597 Single         Male   30000  0        Bachelors       Clerical      \n",
       "6 13507 Married        Female 10000  2        Partial College Manual        \n",
       "  Home.Owner Cars Commute.Distance Region  Age Purchased.Bike\n",
       "1 Yes        0    0-1 Miles        Europe  42  No            \n",
       "2 Yes        1    0-1 Miles        Europe  43  No            \n",
       "3 No         2    2-5 Miles        Europe  60  No            \n",
       "4 Yes        1    5-10 Miles       Pacific 41  Yes           \n",
       "5 No         0    0-1 Miles        Europe  36  Yes           \n",
       "6 Yes        0    1-2 Miles        Europe  50  No            "
      ]
     },
     "metadata": {},
     "output_type": "display_data"
    }
   ],
   "source": [
    "# data retrival\n",
    "bike_buyers = read.csv('./data/bikes/bike_buyers.csv', header=T, na.strings='', stringsAsFactors =  TRUE)  # as factor true to automatically change strings (non numerical catagorical) data to factors \n",
    "head(bike_buyers)"
   ]
  },
  {
   "cell_type": "code",
   "execution_count": 13,
   "id": "8f8aa3ac-1b53-4145-98f5-affef2d2cb48",
   "metadata": {},
   "outputs": [
    {
     "data": {
      "text/html": [
       "'data.frame'"
      ],
      "text/latex": [
       "'data.frame'"
      ],
      "text/markdown": [
       "'data.frame'"
      ],
      "text/plain": [
       "[1] \"data.frame\""
      ]
     },
     "metadata": {},
     "output_type": "display_data"
    }
   ],
   "source": [
    "class(bike_buyers)"
   ]
  },
  {
   "cell_type": "code",
   "execution_count": 14,
   "id": "3cab391a-dc85-4e3d-9d55-429736784493",
   "metadata": {},
   "outputs": [
    {
     "name": "stdout",
     "output_type": "stream",
     "text": [
      "'data.frame':\t1000 obs. of  13 variables:\n",
      " $ ï..ID           : int  12496 24107 14177 24381 25597 13507 27974 19364 22155 19280 ...\n",
      " $ Marital.Status  : Factor w/ 2 levels \"Married\",\"Single\": 1 1 1 2 2 1 2 1 NA 1 ...\n",
      " $ Gender          : Factor w/ 2 levels \"Female\",\"Male\": 1 2 2 NA 2 1 2 2 2 2 ...\n",
      " $ Income          : int  40000 30000 80000 70000 30000 10000 160000 40000 20000 NA ...\n",
      " $ Children        : int  1 3 5 0 0 2 2 1 2 2 ...\n",
      " $ Education       : Factor w/ 5 levels \"Bachelors\",\"Graduate Degree\",..: 1 4 4 1 1 4 3 1 5 4 ...\n",
      " $ Occupation      : Factor w/ 5 levels \"Clerical\",\"Management\",..: 5 1 4 4 1 3 2 5 1 3 ...\n",
      " $ Home.Owner      : Factor w/ 2 levels \"No\",\"Yes\": 2 2 1 2 1 2 NA 2 2 2 ...\n",
      " $ Cars            : int  0 1 2 1 0 0 4 0 2 1 ...\n",
      " $ Commute.Distance: Factor w/ 5 levels \"0-1 Miles\",\"1-2 Miles\",..: 1 1 4 5 1 2 1 1 5 1 ...\n",
      " $ Region          : Factor w/ 3 levels \"Europe\",\"North America\",..: 1 1 1 3 1 1 3 1 3 1 ...\n",
      " $ Age             : int  42 43 60 41 36 50 33 43 58 NA ...\n",
      " $ Purchased.Bike  : Factor w/ 2 levels \"No\",\"Yes\": 1 1 1 2 2 1 2 2 1 2 ...\n"
     ]
    }
   ],
   "source": [
    "str(bike_buyers)"
   ]
  },
  {
   "cell_type": "code",
   "execution_count": 2,
   "id": "ff5e827f-2b57-48ea-b202-fef71544bdd9",
   "metadata": {},
   "outputs": [
    {
     "data": {
      "text/html": [
       "<style>\n",
       ".dl-inline {width: auto; margin:0; padding: 0}\n",
       ".dl-inline>dt, .dl-inline>dd {float: none; width: auto; display: inline-block}\n",
       ".dl-inline>dt::after {content: \":\\0020\"; padding-right: .5ex}\n",
       ".dl-inline>dt:not(:first-of-type) {padding-left: .5ex}\n",
       "</style><dl class=dl-inline><dt>ï..ID</dt><dd>0</dd><dt>Marital.Status</dt><dd>7</dd><dt>Gender</dt><dd>11</dd><dt>Income</dt><dd>6</dd><dt>Children</dt><dd>8</dd><dt>Education</dt><dd>0</dd><dt>Occupation</dt><dd>0</dd><dt>Home.Owner</dt><dd>4</dd><dt>Cars</dt><dd>9</dd><dt>Commute.Distance</dt><dd>0</dd><dt>Region</dt><dd>0</dd><dt>Age</dt><dd>8</dd><dt>Purchased.Bike</dt><dd>0</dd></dl>\n"
      ],
      "text/latex": [
       "\\begin{description*}\n",
       "\\item[ï..ID] 0\n",
       "\\item[Marital.Status] 7\n",
       "\\item[Gender] 11\n",
       "\\item[Income] 6\n",
       "\\item[Children] 8\n",
       "\\item[Education] 0\n",
       "\\item[Occupation] 0\n",
       "\\item[Home.Owner] 4\n",
       "\\item[Cars] 9\n",
       "\\item[Commute.Distance] 0\n",
       "\\item[Region] 0\n",
       "\\item[Age] 8\n",
       "\\item[Purchased.Bike] 0\n",
       "\\end{description*}\n"
      ],
      "text/markdown": [
       "ï..ID\n",
       ":   0Marital.Status\n",
       ":   7Gender\n",
       ":   11Income\n",
       ":   6Children\n",
       ":   8Education\n",
       ":   0Occupation\n",
       ":   0Home.Owner\n",
       ":   4Cars\n",
       ":   9Commute.Distance\n",
       ":   0Region\n",
       ":   0Age\n",
       ":   8Purchased.Bike\n",
       ":   0\n",
       "\n"
      ],
      "text/plain": [
       "           ï..ID   Marital.Status           Gender           Income \n",
       "               0                7               11                6 \n",
       "        Children        Education       Occupation       Home.Owner \n",
       "               8                0                0                4 \n",
       "            Cars Commute.Distance           Region              Age \n",
       "               9                0                0                8 \n",
       "  Purchased.Bike \n",
       "               0 "
      ]
     },
     "metadata": {},
     "output_type": "display_data"
    },
    {
     "data": {
      "text/plain": [
       "     ï..ID       Marital.Status    Gender        Income          Children   \n",
       " Min.   :11000   Married:535    Female:489   Min.   : 10000   Min.   :0.00  \n",
       " 1st Qu.:15291   Single :458    Male  :500   1st Qu.: 30000   1st Qu.:0.00  \n",
       " Median :19744   NA's   :  7    NA's  : 11   Median : 60000   Median :2.00  \n",
       " Mean   :19966                               Mean   : 56268   Mean   :1.91  \n",
       " 3rd Qu.:24471                               3rd Qu.: 70000   3rd Qu.:3.00  \n",
       " Max.   :29447                               Max.   :170000   Max.   :5.00  \n",
       "                                             NA's   :6        NA's   :8     \n",
       "               Education            Occupation  Home.Owner      Cars      \n",
       " Bachelors          :306   Clerical      :177   No  :314   Min.   :0.000  \n",
       " Graduate Degree    :174   Management    :173   Yes :682   1st Qu.:1.000  \n",
       " High School        :179   Manual        :119   NA's:  4   Median :1.000  \n",
       " Partial College    :265   Professional  :276              Mean   :1.455  \n",
       " Partial High School: 76   Skilled Manual:255              3rd Qu.:2.000  \n",
       "                                                           Max.   :4.000  \n",
       "                                                           NA's   :9      \n",
       "   Commute.Distance           Region         Age        Purchased.Bike\n",
       " 0-1 Miles :366     Europe       :300   Min.   :25.00   No :519       \n",
       " 1-2 Miles :169     North America:508   1st Qu.:35.00   Yes:481       \n",
       " 10+ Miles :111     Pacific      :192   Median :43.00                 \n",
       " 2-5 Miles :162                         Mean   :44.18                 \n",
       " 5-10 Miles:192                         3rd Qu.:52.00                 \n",
       "                                        Max.   :89.00                 \n",
       "                                        NA's   :8                     "
      ]
     },
     "metadata": {},
     "output_type": "display_data"
    }
   ],
   "source": [
    "# quality check\n",
    "# it is observed that \"Marital.Status\", \"Gender\", \"Income\", \"Children\", \"Home.Owner\", \"Cars\" and \"Age\" have NULL values, not good for models\n",
    "# these values either need ot be mitigated or deleted.\n",
    "colSums(is.na(bike_buyers))\n",
    "summary(bike_buyers)"
   ]
  },
  {
   "cell_type": "code",
   "execution_count": 16,
   "id": "bcc6e68c-2a2a-4228-b05c-10cb59432831",
   "metadata": {},
   "outputs": [
    {
     "data": {
      "text/html": [
       "<style>\n",
       ".list-inline {list-style: none; margin:0; padding: 0}\n",
       ".list-inline>li {display: inline-block}\n",
       ".list-inline>li:not(:last-child)::after {content: \"\\00b7\"; padding: 0 .5ex}\n",
       "</style>\n",
       "<ol class=list-inline><li>'Female'</li><li>'Male'</li></ol>\n"
      ],
      "text/latex": [
       "\\begin{enumerate*}\n",
       "\\item 'Female'\n",
       "\\item 'Male'\n",
       "\\end{enumerate*}\n"
      ],
      "text/markdown": [
       "1. 'Female'\n",
       "2. 'Male'\n",
       "\n",
       "\n"
      ],
      "text/plain": [
       "[1] \"Female\" \"Male\"  "
      ]
     },
     "metadata": {},
     "output_type": "display_data"
    },
    {
     "data": {
      "text/html": [
       "<style>\n",
       ".list-inline {list-style: none; margin:0; padding: 0}\n",
       ".list-inline>li {display: inline-block}\n",
       ".list-inline>li:not(:last-child)::after {content: \"\\00b7\"; padding: 0 .5ex}\n",
       "</style>\n",
       "<ol class=list-inline><li>'Married'</li><li>'Single'</li></ol>\n"
      ],
      "text/latex": [
       "\\begin{enumerate*}\n",
       "\\item 'Married'\n",
       "\\item 'Single'\n",
       "\\end{enumerate*}\n"
      ],
      "text/markdown": [
       "1. 'Married'\n",
       "2. 'Single'\n",
       "\n",
       "\n"
      ],
      "text/plain": [
       "[1] \"Married\" \"Single\" "
      ]
     },
     "metadata": {},
     "output_type": "display_data"
    },
    {
     "data": {
      "text/html": [
       "<style>\n",
       ".list-inline {list-style: none; margin:0; padding: 0}\n",
       ".list-inline>li {display: inline-block}\n",
       ".list-inline>li:not(:last-child)::after {content: \"\\00b7\"; padding: 0 .5ex}\n",
       "</style>\n",
       "<ol class=list-inline><li>'Bachelors'</li><li>'Graduate Degree'</li><li>'High School'</li><li>'Partial College'</li><li>'Partial High School'</li></ol>\n"
      ],
      "text/latex": [
       "\\begin{enumerate*}\n",
       "\\item 'Bachelors'\n",
       "\\item 'Graduate Degree'\n",
       "\\item 'High School'\n",
       "\\item 'Partial College'\n",
       "\\item 'Partial High School'\n",
       "\\end{enumerate*}\n"
      ],
      "text/markdown": [
       "1. 'Bachelors'\n",
       "2. 'Graduate Degree'\n",
       "3. 'High School'\n",
       "4. 'Partial College'\n",
       "5. 'Partial High School'\n",
       "\n",
       "\n"
      ],
      "text/plain": [
       "[1] \"Bachelors\"           \"Graduate Degree\"     \"High School\"        \n",
       "[4] \"Partial College\"     \"Partial High School\""
      ]
     },
     "metadata": {},
     "output_type": "display_data"
    },
    {
     "data": {
      "text/html": [
       "<style>\n",
       ".list-inline {list-style: none; margin:0; padding: 0}\n",
       ".list-inline>li {display: inline-block}\n",
       ".list-inline>li:not(:last-child)::after {content: \"\\00b7\"; padding: 0 .5ex}\n",
       "</style>\n",
       "<ol class=list-inline><li>'Clerical'</li><li>'Management'</li><li>'Manual'</li><li>'Professional'</li><li>'Skilled Manual'</li></ol>\n"
      ],
      "text/latex": [
       "\\begin{enumerate*}\n",
       "\\item 'Clerical'\n",
       "\\item 'Management'\n",
       "\\item 'Manual'\n",
       "\\item 'Professional'\n",
       "\\item 'Skilled Manual'\n",
       "\\end{enumerate*}\n"
      ],
      "text/markdown": [
       "1. 'Clerical'\n",
       "2. 'Management'\n",
       "3. 'Manual'\n",
       "4. 'Professional'\n",
       "5. 'Skilled Manual'\n",
       "\n",
       "\n"
      ],
      "text/plain": [
       "[1] \"Clerical\"       \"Management\"     \"Manual\"         \"Professional\"  \n",
       "[5] \"Skilled Manual\""
      ]
     },
     "metadata": {},
     "output_type": "display_data"
    },
    {
     "data": {
      "text/html": [
       "<style>\n",
       ".list-inline {list-style: none; margin:0; padding: 0}\n",
       ".list-inline>li {display: inline-block}\n",
       ".list-inline>li:not(:last-child)::after {content: \"\\00b7\"; padding: 0 .5ex}\n",
       "</style>\n",
       "<ol class=list-inline><li>'No'</li><li>'Yes'</li></ol>\n"
      ],
      "text/latex": [
       "\\begin{enumerate*}\n",
       "\\item 'No'\n",
       "\\item 'Yes'\n",
       "\\end{enumerate*}\n"
      ],
      "text/markdown": [
       "1. 'No'\n",
       "2. 'Yes'\n",
       "\n",
       "\n"
      ],
      "text/plain": [
       "[1] \"No\"  \"Yes\""
      ]
     },
     "metadata": {},
     "output_type": "display_data"
    },
    {
     "data": {
      "text/html": [
       "<style>\n",
       ".list-inline {list-style: none; margin:0; padding: 0}\n",
       ".list-inline>li {display: inline-block}\n",
       ".list-inline>li:not(:last-child)::after {content: \"\\00b7\"; padding: 0 .5ex}\n",
       "</style>\n",
       "<ol class=list-inline><li>'0-1 Miles'</li><li>'1-2 Miles'</li><li>'10+ Miles'</li><li>'2-5 Miles'</li><li>'5-10 Miles'</li></ol>\n"
      ],
      "text/latex": [
       "\\begin{enumerate*}\n",
       "\\item '0-1 Miles'\n",
       "\\item '1-2 Miles'\n",
       "\\item '10+ Miles'\n",
       "\\item '2-5 Miles'\n",
       "\\item '5-10 Miles'\n",
       "\\end{enumerate*}\n"
      ],
      "text/markdown": [
       "1. '0-1 Miles'\n",
       "2. '1-2 Miles'\n",
       "3. '10+ Miles'\n",
       "4. '2-5 Miles'\n",
       "5. '5-10 Miles'\n",
       "\n",
       "\n"
      ],
      "text/plain": [
       "[1] \"0-1 Miles\"  \"1-2 Miles\"  \"10+ Miles\"  \"2-5 Miles\"  \"5-10 Miles\""
      ]
     },
     "metadata": {},
     "output_type": "display_data"
    },
    {
     "data": {
      "text/html": [
       "<style>\n",
       ".list-inline {list-style: none; margin:0; padding: 0}\n",
       ".list-inline>li {display: inline-block}\n",
       ".list-inline>li:not(:last-child)::after {content: \"\\00b7\"; padding: 0 .5ex}\n",
       "</style>\n",
       "<ol class=list-inline><li>'Europe'</li><li>'North America'</li><li>'Pacific'</li></ol>\n"
      ],
      "text/latex": [
       "\\begin{enumerate*}\n",
       "\\item 'Europe'\n",
       "\\item 'North America'\n",
       "\\item 'Pacific'\n",
       "\\end{enumerate*}\n"
      ],
      "text/markdown": [
       "1. 'Europe'\n",
       "2. 'North America'\n",
       "3. 'Pacific'\n",
       "\n",
       "\n"
      ],
      "text/plain": [
       "[1] \"Europe\"        \"North America\" \"Pacific\"      "
      ]
     },
     "metadata": {},
     "output_type": "display_data"
    },
    {
     "data": {
      "text/html": [
       "<style>\n",
       ".list-inline {list-style: none; margin:0; padding: 0}\n",
       ".list-inline>li {display: inline-block}\n",
       ".list-inline>li:not(:last-child)::after {content: \"\\00b7\"; padding: 0 .5ex}\n",
       "</style>\n",
       "<ol class=list-inline><li>'No'</li><li>'Yes'</li></ol>\n"
      ],
      "text/latex": [
       "\\begin{enumerate*}\n",
       "\\item 'No'\n",
       "\\item 'Yes'\n",
       "\\end{enumerate*}\n"
      ],
      "text/markdown": [
       "1. 'No'\n",
       "2. 'Yes'\n",
       "\n",
       "\n"
      ],
      "text/plain": [
       "[1] \"No\"  \"Yes\""
      ]
     },
     "metadata": {},
     "output_type": "display_data"
    }
   ],
   "source": [
    "levels(bike_buyers$Gender)\n",
    "levels(bike_buyers$Marital.Status)\n",
    "levels(bike_buyers$Education)\n",
    "levels(bike_buyers$Occupation)\n",
    "levels(bike_buyers$Home.Owner)\n",
    "levels(bike_buyers$Commute.Distance)\n",
    "levels(bike_buyers$Region)\n",
    "levels(bike_buyers$Purchased.Bike)"
   ]
  },
  {
   "cell_type": "code",
   "execution_count": 18,
   "id": "de01bd3f-5192-40f5-9165-52660f1e4207",
   "metadata": {},
   "outputs": [
    {
     "data": {
      "image/png": "[encoded data removed]",
      "text/plain": [
       "Plot with title \"Histogram of bike_buyers$Children\""
      ]
     },
     "metadata": {
      "image/png": {
       "height": 840,
       "width": 840
      }
     },
     "output_type": "display_data"
    },
    {
     "data": {
      "image/png": "[encoded data removed]",
      "text/plain": [
       "Plot with title \"Histogram of bike_buyers$Age\""
      ]
     },
     "metadata": {
      "image/png": {
       "height": 840,
       "width": 840
      }
     },
     "output_type": "display_data"
    }
   ],
   "source": [
    "options(jupyter.plot_scale=1)\n",
    "par(mfrow=c(1,2))\n",
    "hist(bike_buyers$Income)\n",
    "hist(bike_buyers$Children, breaks = 20)\n",
    "hist(bike_buyers$Cars, breaks = 15)\n",
    "hist(bike_buyers$Age)"
   ]
  },
  {
   "cell_type": "code",
   "execution_count": null,
   "id": "68fc9fdc-9b96-4690-84b1-00a904077c87",
   "metadata": {},
   "outputs": [],
   "source": []
  }
 ],
 "metadata": {
  "kernelspec": {
   "display_name": "R",
   "language": "R",
   "name": "ir"
  },
  "language_info": {
   "codemirror_mode": "r",
   "file_extension": ".r",
   "mimetype": "text/x-r-source",
   "name": "R",
   "pygments_lexer": "r",
   "version": "4.2.2"
  },
  "widgets": {
   "application/vnd.jupyter.widget-state+json": {
    "state": {},
    "version_major": 2,
    "version_minor": 0
   }
  }
 },
 "nbformat": 4,
 "nbformat_minor": 5
}
