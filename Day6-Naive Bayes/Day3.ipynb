{
 "cells": [
  {
   "cell_type": "markdown",
   "id": "09d30d3d",
   "metadata": {},
   "source": [
    "##### Chapter 4: Classification using Naive Bayes --------------------"
   ]
  },
  {
   "cell_type": "code",
   "execution_count": 1,
   "id": "8bb0ab0d",
   "metadata": {},
   "outputs": [],
   "source": [
    "setwd(\"/home/devops/MachineLearningwithR/Day3\")"
   ]
  },
  {
   "cell_type": "code",
   "execution_count": 5,
   "id": "d9531f36",
   "metadata": {},
   "outputs": [],
   "source": [
    "sms_raw <- read.csv(\"sms_spam.csv\", stringsAsFactors = FALSE)"
   ]
  },
  {
   "cell_type": "code",
   "execution_count": 7,
   "id": "3033c5be",
   "metadata": {},
   "outputs": [
    {
     "name": "stdout",
     "output_type": "stream",
     "text": [
      "'data.frame':\t5559 obs. of  2 variables:\n",
      " $ type: chr  \"ham\" \"ham\" \"ham\" \"spam\" ...\n",
      " $ text: chr  \"Hope you are having a good week. Just checking in\" \"K..give back my thanks.\" \"Am also doing in cbe only. But have to pay.\" \"complimentary 4 STAR Ibiza Holiday or £10,000 cash needs your URGENT collection. 09066364349 NOW from Landline \"| __truncated__ ...\n"
     ]
    }
   ],
   "source": [
    "str(sms_raw)"
   ]
  },
  {
   "cell_type": "code",
   "execution_count": 9,
   "id": "240e8993",
   "metadata": {},
   "outputs": [
    {
     "name": "stdout",
     "output_type": "stream",
     "text": [
      " chr [1:5559] \"ham\" \"ham\" \"ham\" \"spam\" \"spam\" \"ham\" \"ham\" \"ham\" \"spam\" ...\n"
     ]
    },
    {
     "data": {
      "text/plain": [
       "\n",
       " ham spam \n",
       "4812  747 "
      ]
     },
     "metadata": {},
     "output_type": "display_data"
    }
   ],
   "source": [
    "str(sms_raw$type)\n",
    "table(sms_raw$type)"
   ]
  },
  {
   "cell_type": "code",
   "execution_count": 10,
   "id": "7705d61e",
   "metadata": {},
   "outputs": [
    {
     "name": "stderr",
     "output_type": "stream",
     "text": [
      "Installing package into ‘/home/devops/R/x86_64-pc-linux-gnu-library/4.2’\n",
      "(as ‘lib’ is unspecified)\n",
      "\n",
      "Installing package into ‘/home/devops/R/x86_64-pc-linux-gnu-library/4.2’\n",
      "(as ‘lib’ is unspecified)\n",
      "\n",
      "Loading required package: NLP\n",
      "\n"
     ]
    }
   ],
   "source": [
    "# build a corpus using the text mining (tm) package\n",
    "install.packages(\"NLP\") # Solves XML2 package missing issue\n",
    "install.packages(\"tm\")\n",
    "library(tm)"
   ]
  },
  {
   "cell_type": "code",
   "execution_count": null,
   "id": "e92e9c97",
   "metadata": {},
   "outputs": [],
   "source": []
  }
 ],
 "metadata": {
  "kernelspec": {
   "display_name": "R",
   "language": "R",
   "name": "ir"
  },
  "language_info": {
   "codemirror_mode": "r",
   "file_extension": ".r",
   "mimetype": "text/x-r-source",
   "name": "R",
   "pygments_lexer": "r",
   "version": "4.2.2"
  }
 },
 "nbformat": 4,
 "nbformat_minor": 5
}
