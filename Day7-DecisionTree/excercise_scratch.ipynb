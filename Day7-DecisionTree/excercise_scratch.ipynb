{
 "cells": [
  {
   "cell_type": "code",
   "execution_count": null,
   "id": "5b0b37bb-b454-4020-b52f-c70591589eb7",
   "metadata": {},
   "outputs": [],
   "source": []
  },
  {
   "cell_type": "markdown",
   "id": "6c023658-4ba7-473a-8fc4-010ce8280e04",
   "metadata": {},
   "source": [
    "#### 2. Apply the OneR and RIPPER algorithms to classify credit (yes/no) in credit.csv. \n",
    "#### Apply the C50, algorithm to classify poisonous vs. edible mushrooms in mushroom.csv. \n",
    "#### How does the accuracy of the three models (i.e. including the models in the book) compare for each of the datasets?"
   ]
  },
  {
   "cell_type": "code",
   "execution_count": 1,
   "id": "b140dddd-26b1-48d3-a458-f176e6acd60a",
   "metadata": {},
   "outputs": [
    {
     "name": "stdout",
     "output_type": "stream",
     "text": [
      "'data.frame':\t1000 obs. of  17 variables:\n",
      " $ checking_balance    : Factor w/ 4 levels \"< 0 DM\",\"> 200 DM\",..: 1 3 4 1 1 4 4 3 4 3 ...\n",
      " $ months_loan_duration: int  6 48 12 42 24 36 24 36 12 30 ...\n",
      " $ credit_history      : Factor w/ 5 levels \"critical\",\"good\",..: 1 2 1 2 4 2 2 2 2 1 ...\n",
      " $ purpose             : Factor w/ 6 levels \"business\",\"car\",..: 5 5 4 5 2 4 5 2 5 2 ...\n",
      " $ amount              : int  1169 5951 2096 7882 4870 9055 2835 6948 3059 5234 ...\n",
      " $ savings_balance     : Factor w/ 5 levels \"< 100 DM\",\"> 1000 DM\",..: 5 1 1 1 1 5 4 1 2 1 ...\n",
      " $ employment_duration : Factor w/ 5 levels \"< 1 year\",\"> 7 years\",..: 2 3 4 4 3 3 2 3 4 5 ...\n",
      " $ percent_of_income   : int  4 2 2 2 3 2 3 2 2 4 ...\n",
      " $ years_at_residence  : int  4 2 3 4 4 4 4 2 4 2 ...\n",
      " $ age                 : int  67 22 49 45 53 35 53 35 61 28 ...\n",
      " $ other_credit        : Factor w/ 3 levels \"bank\",\"none\",..: 2 2 2 2 2 2 2 2 2 2 ...\n",
      " $ housing             : Factor w/ 3 levels \"other\",\"own\",..: 2 2 2 1 1 1 2 3 2 2 ...\n",
      " $ existing_loans_count: int  2 1 1 1 2 1 1 1 1 2 ...\n",
      " $ job                 : Factor w/ 4 levels \"management\",\"skilled\",..: 2 2 4 2 2 4 2 1 4 1 ...\n",
      " $ dependents          : int  1 1 2 2 2 2 1 1 1 1 ...\n",
      " $ phone               : Factor w/ 2 levels \"no\",\"yes\": 2 1 1 1 1 2 1 2 1 1 ...\n",
      " $ default             : Factor w/ 2 levels \"no\",\"yes\": 1 2 1 1 2 1 1 1 1 2 ...\n"
     ]
    }
   ],
   "source": [
    "credit <- read.csv(\"./credit.csv\", stringsAsFactors = TRUE)\n",
    "str(credit) #structure of data"
   ]
  },
  {
   "cell_type": "code",
   "execution_count": 2,
   "id": "e633a579-0dc4-43f0-bacb-ecc657802656",
   "metadata": {},
   "outputs": [
    {
     "name": "stderr",
     "output_type": "stream",
     "text": [
      "Loading required package: usethis\n",
      "\n"
     ]
    }
   ],
   "source": [
    "\n",
    "# Rule Learner\n",
    "library(devtools)\n",
    "# delete this line? install_github(\"vonjd/OneR\")\n",
    "library(rJava)\n",
    "library(OneR)\n"
   ]
  },
  {
   "cell_type": "code",
   "execution_count": 3,
   "id": "9912c262-5937-4b1b-834c-6ac9d34ee761",
   "metadata": {},
   "outputs": [],
   "source": [
    "#randomizing data and confirming that it is done\n",
    "set.seed(12345)\n",
    "credit_random <- credit[order(runif(nrow(credit))),]"
   ]
  },
  {
   "cell_type": "code",
   "execution_count": 4,
   "id": "40bf05df-8525-470b-a0e6-5058294a64a8",
   "metadata": {},
   "outputs": [],
   "source": [
    "# Rule Learner\n",
    "library(devtools)\n",
    "# delete this line? install_github(\"vonjd/OneR\")\n",
    "library(rJava)\n",
    "library(OneR)"
   ]
  },
  {
   "cell_type": "code",
   "execution_count": null,
   "id": "ae6e9a8b-a174-4aba-bec7-c182fa60b2e2",
   "metadata": {},
   "outputs": [],
   "source": []
  },
  {
   "cell_type": "code",
   "execution_count": 5,
   "id": "cfca7bb0-0ef8-40e6-85dd-db9c11f777f5",
   "metadata": {},
   "outputs": [
    {
     "name": "stdout",
     "output_type": "stream",
     "text": [
      "'data.frame':\t1000 obs. of  17 variables:\n",
      " $ checking_balance    : Factor w/ 4 levels \"< 0 DM\",\"> 200 DM\",..: 1 3 3 1 3 4 1 3 3 1 ...\n",
      " $ months_loan_duration: int  24 7 12 24 9 18 33 9 20 15 ...\n",
      " $ credit_history      : Factor w/ 5 levels \"critical\",\"good\",..: 1 2 2 2 1 2 1 2 4 2 ...\n",
      " $ purpose             : Factor w/ 6 levels \"business\",\"car\",..: 2 5 5 5 4 1 5 5 3 5 ...\n",
      " $ amount              : int  1199 2576 1103 4020 1501 1568 4281 918 2629 1845 ...\n",
      " $ savings_balance     : Factor w/ 5 levels \"< 100 DM\",\"> 1000 DM\",..: 1 1 1 1 1 3 4 1 1 1 ...\n",
      " $ employment_duration : Factor w/ 5 levels \"< 1 year\",\"> 7 years\",..: 2 3 4 3 2 3 3 3 3 1 ...\n",
      " $ percent_of_income   : int  4 2 4 2 2 3 1 4 2 4 ...\n",
      " $ years_at_residence  : int  4 2 3 2 3 4 4 1 3 1 ...\n",
      " $ age                 : int  60 35 29 27 34 24 23 30 29 46 ...\n",
      " $ other_credit        : Factor w/ 3 levels \"bank\",\"none\",..: 2 2 2 3 2 2 2 2 1 2 ...\n",
      " $ housing             : Factor w/ 3 levels \"other\",\"own\",..: 2 2 2 2 2 3 2 2 2 3 ...\n",
      " $ existing_loans_count: Factor w/ 4 levels \"1\",\"2\",\"3\",\"4\": 2 1 2 1 2 1 2 1 2 1 ...\n",
      " $ job                 : Factor w/ 4 levels \"management\",\"skilled\",..: 4 2 2 2 1 4 2 2 2 2 ...\n",
      " $ dependents          : Factor w/ 2 levels \"1\",\"2\": 1 1 1 1 1 1 1 1 1 1 ...\n",
      " $ phone               : Factor w/ 2 levels \"no\",\"yes\": 1 1 1 1 2 1 1 1 2 1 ...\n",
      " $ default             : Factor w/ 2 levels \"no\",\"yes\": 2 1 1 1 2 1 2 2 1 1 ...\n"
     ]
    }
   ],
   "source": [
    "# encoding catagorical data as factors as C50, OneR and Ripper algorithms are susseptile to that.\n",
    "credit_random$checking_balance <- as.factor(credit_random$checking_balance)\n",
    "credit_random$credit_history <- as.factor(credit_random$credit_history)\n",
    "credit_random$purpose <- as.factor(credit_random$purpose)\n",
    "credit_random$savings_balance <- as.factor(credit_random$savings_balance)\n",
    "credit_random$employment_duration <- as.factor(credit_random$employment_duration)\n",
    "credit_random$other_credit <- as.factor(credit_random$other_credit)\n",
    "credit_random$housing <- as.factor(credit_random$housing)\n",
    "credit_random$job <- as.factor(credit_random$job)\n",
    "credit_random$phone <- as.factor(credit_random$phone)\n",
    "credit_random$default <- as.factor(credit_random$default)\n",
    "credit_random$existing_loans_count <- as.factor(credit_random$existing_loans_count)\n",
    "credit_random$dependents <- as.factor(credit_random$dependents)\n",
    "str(credit_random) #structure of data"
   ]
  },
  {
   "cell_type": "code",
   "execution_count": 6,
   "id": "a630e355-d3e7-473f-b515-f3d1706bf062",
   "metadata": {},
   "outputs": [],
   "source": [
    "# train OneR() on the data\n",
    "# model relationship between 'type' againstal all predictors '.' or mention their names like x1 + x2 +x3 and so on\n",
    "credit_1R <- OneR(default ~ ., data = credit_random)"
   ]
  },
  {
   "cell_type": "code",
   "execution_count": 7,
   "id": "966ea530-a5bb-4561-a6ee-27bcab52553d",
   "metadata": {},
   "outputs": [
    {
     "data": {
      "text/plain": [
       "\n",
       "Call:\n",
       "OneR.formula(formula = default ~ ., data = credit_random)\n",
       "\n",
       "Rules:\n",
       "If credit_history = critical  then default = no\n",
       "If credit_history = good      then default = no\n",
       "If credit_history = perfect   then default = yes\n",
       "If credit_history = poor      then default = no\n",
       "If credit_history = very good then default = yes\n",
       "\n",
       "Accuracy:\n",
       "717 of 1000 instances classified correctly (71.7%)\n"
      ]
     },
     "metadata": {},
     "output_type": "display_data"
    }
   ],
   "source": [
    "credit_1R"
   ]
  },
  {
   "cell_type": "code",
   "execution_count": null,
   "id": "97e38b3b-a0bd-4ed0-ae8b-b1b9544a9165",
   "metadata": {},
   "outputs": [],
   "source": []
  }
 ],
 "metadata": {
  "kernelspec": {
   "display_name": "R",
   "language": "R",
   "name": "ir"
  },
  "language_info": {
   "codemirror_mode": "r",
   "file_extension": ".r",
   "mimetype": "text/x-r-source",
   "name": "R",
   "pygments_lexer": "r",
   "version": "4.2.2"
  },
  "widgets": {
   "application/vnd.jupyter.widget-state+json": {
    "state": {},
    "version_major": 2,
    "version_minor": 0
   }
  }
 },
 "nbformat": 4,
 "nbformat_minor": 5
}
