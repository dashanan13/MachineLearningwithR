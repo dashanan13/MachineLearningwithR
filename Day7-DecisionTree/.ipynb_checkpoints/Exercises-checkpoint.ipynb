{
 "cells": [
  {
   "cell_type": "markdown",
   "id": "edb7faca-0c52-4da0-90c1-b7e52f85e496",
   "metadata": {},
   "source": [
    "### Classification Excercise with Decision tree"
   ]
  },
  {
   "cell_type": "markdown",
   "id": "75060ff5-bdf1-450f-9b2d-dcf8f9c50bb8",
   "metadata": {},
   "source": [
    "#### 1. Use Decision Trees on the iris dataset to classify the three types of iris – setosa, versicolor, virginica. What are the decision rules?"
   ]
  },
  {
   "cell_type": "code",
   "execution_count": 17,
   "id": "112e2206-6a27-430a-865e-e5ff37b49680",
   "metadata": {},
   "outputs": [
    {
     "data": {
      "text/html": [
       "<table class=\"dataframe\">\n",
       "<caption>A data.frame: 6 × 5</caption>\n",
       "<thead>\n",
       "\t<tr><th></th><th scope=col>Sepal.Length</th><th scope=col>Sepal.Width</th><th scope=col>Petal.Length</th><th scope=col>Petal.Width</th><th scope=col>Species</th></tr>\n",
       "\t<tr><th></th><th scope=col>&lt;dbl&gt;</th><th scope=col>&lt;dbl&gt;</th><th scope=col>&lt;dbl&gt;</th><th scope=col>&lt;dbl&gt;</th><th scope=col>&lt;fct&gt;</th></tr>\n",
       "</thead>\n",
       "<tbody>\n",
       "\t<tr><th scope=row>1</th><td>5.1</td><td>3.5</td><td>1.4</td><td>0.2</td><td>setosa</td></tr>\n",
       "\t<tr><th scope=row>2</th><td>4.9</td><td>3.0</td><td>1.4</td><td>0.2</td><td>setosa</td></tr>\n",
       "\t<tr><th scope=row>3</th><td>4.7</td><td>3.2</td><td>1.3</td><td>0.2</td><td>setosa</td></tr>\n",
       "\t<tr><th scope=row>4</th><td>4.6</td><td>3.1</td><td>1.5</td><td>0.2</td><td>setosa</td></tr>\n",
       "\t<tr><th scope=row>5</th><td>5.0</td><td>3.6</td><td>1.4</td><td>0.2</td><td>setosa</td></tr>\n",
       "\t<tr><th scope=row>6</th><td>5.4</td><td>3.9</td><td>1.7</td><td>0.4</td><td>setosa</td></tr>\n",
       "</tbody>\n",
       "</table>\n"
      ],
      "text/latex": [
       "A data.frame: 6 × 5\n",
       "\\begin{tabular}{r|lllll}\n",
       "  & Sepal.Length & Sepal.Width & Petal.Length & Petal.Width & Species\\\\\n",
       "  & <dbl> & <dbl> & <dbl> & <dbl> & <fct>\\\\\n",
       "\\hline\n",
       "\t1 & 5.1 & 3.5 & 1.4 & 0.2 & setosa\\\\\n",
       "\t2 & 4.9 & 3.0 & 1.4 & 0.2 & setosa\\\\\n",
       "\t3 & 4.7 & 3.2 & 1.3 & 0.2 & setosa\\\\\n",
       "\t4 & 4.6 & 3.1 & 1.5 & 0.2 & setosa\\\\\n",
       "\t5 & 5.0 & 3.6 & 1.4 & 0.2 & setosa\\\\\n",
       "\t6 & 5.4 & 3.9 & 1.7 & 0.4 & setosa\\\\\n",
       "\\end{tabular}\n"
      ],
      "text/markdown": [
       "\n",
       "A data.frame: 6 × 5\n",
       "\n",
       "| <!--/--> | Sepal.Length &lt;dbl&gt; | Sepal.Width &lt;dbl&gt; | Petal.Length &lt;dbl&gt; | Petal.Width &lt;dbl&gt; | Species &lt;fct&gt; |\n",
       "|---|---|---|---|---|---|\n",
       "| 1 | 5.1 | 3.5 | 1.4 | 0.2 | setosa |\n",
       "| 2 | 4.9 | 3.0 | 1.4 | 0.2 | setosa |\n",
       "| 3 | 4.7 | 3.2 | 1.3 | 0.2 | setosa |\n",
       "| 4 | 4.6 | 3.1 | 1.5 | 0.2 | setosa |\n",
       "| 5 | 5.0 | 3.6 | 1.4 | 0.2 | setosa |\n",
       "| 6 | 5.4 | 3.9 | 1.7 | 0.4 | setosa |\n",
       "\n"
      ],
      "text/plain": [
       "  Sepal.Length Sepal.Width Petal.Length Petal.Width Species\n",
       "1 5.1          3.5         1.4          0.2         setosa \n",
       "2 4.9          3.0         1.4          0.2         setosa \n",
       "3 4.7          3.2         1.3          0.2         setosa \n",
       "4 4.6          3.1         1.5          0.2         setosa \n",
       "5 5.0          3.6         1.4          0.2         setosa \n",
       "6 5.4          3.9         1.7          0.4         setosa "
      ]
     },
     "metadata": {},
     "output_type": "display_data"
    }
   ],
   "source": [
    "library(datasets)\n",
    "head(iris)\n",
    "\n",
    "iris_data <- iris # iris data"
   ]
  },
  {
   "cell_type": "code",
   "execution_count": 18,
   "id": "03786a1c-f1c5-481b-aba2-ca94f5256299",
   "metadata": {
    "tags": []
   },
   "outputs": [
    {
     "name": "stdout",
     "output_type": "stream",
     "text": [
      "'data.frame':\t150 obs. of  5 variables:\n",
      " $ Sepal.Length: num  5.1 4.9 4.7 4.6 5 5.4 4.6 5 4.4 4.9 ...\n",
      " $ Sepal.Width : num  3.5 3 3.2 3.1 3.6 3.9 3.4 3.4 2.9 3.1 ...\n",
      " $ Petal.Length: num  1.4 1.4 1.3 1.5 1.4 1.7 1.4 1.5 1.4 1.5 ...\n",
      " $ Petal.Width : num  0.2 0.2 0.2 0.2 0.2 0.4 0.3 0.2 0.2 0.1 ...\n",
      " $ Species     : Factor w/ 3 levels \"setosa\",\"versicolor\",..: 1 1 1 1 1 1 1 1 1 1 ...\n"
     ]
    }
   ],
   "source": [
    "str(iris_data)"
   ]
  },
  {
   "cell_type": "code",
   "execution_count": 19,
   "id": "f3b4f145-ec57-4827-b778-0358af58e6e7",
   "metadata": {},
   "outputs": [],
   "source": [
    "set.seed(12345)\n",
    "iris_random <- iris_data[order(runif(nrow(iris_data))),]"
   ]
  },
  {
   "cell_type": "code",
   "execution_count": 20,
   "id": "6eb3e01f-6df0-43ee-81c6-82032a29ff7c",
   "metadata": {},
   "outputs": [
    {
     "data": {
      "text/html": [
       "<table class=\"dataframe\">\n",
       "<caption>A data.frame: 6 × 2</caption>\n",
       "<thead>\n",
       "\t<tr><th></th><th scope=col>iris_random.Species</th><th scope=col>iris_data.Species</th></tr>\n",
       "\t<tr><th></th><th scope=col>&lt;fct&gt;</th><th scope=col>&lt;fct&gt;</th></tr>\n",
       "</thead>\n",
       "<tbody>\n",
       "\t<tr><th scope=row>1</th><td>setosa    </td><td>setosa</td></tr>\n",
       "\t<tr><th scope=row>2</th><td>setosa    </td><td>setosa</td></tr>\n",
       "\t<tr><th scope=row>3</th><td>versicolor</td><td>setosa</td></tr>\n",
       "\t<tr><th scope=row>4</th><td>virginica </td><td>setosa</td></tr>\n",
       "\t<tr><th scope=row>5</th><td>versicolor</td><td>setosa</td></tr>\n",
       "\t<tr><th scope=row>6</th><td>virginica </td><td>setosa</td></tr>\n",
       "</tbody>\n",
       "</table>\n"
      ],
      "text/latex": [
       "A data.frame: 6 × 2\n",
       "\\begin{tabular}{r|ll}\n",
       "  & iris\\_random.Species & iris\\_data.Species\\\\\n",
       "  & <fct> & <fct>\\\\\n",
       "\\hline\n",
       "\t1 & setosa     & setosa\\\\\n",
       "\t2 & setosa     & setosa\\\\\n",
       "\t3 & versicolor & setosa\\\\\n",
       "\t4 & virginica  & setosa\\\\\n",
       "\t5 & versicolor & setosa\\\\\n",
       "\t6 & virginica  & setosa\\\\\n",
       "\\end{tabular}\n"
      ],
      "text/markdown": [
       "\n",
       "A data.frame: 6 × 2\n",
       "\n",
       "| <!--/--> | iris_random.Species &lt;fct&gt; | iris_data.Species &lt;fct&gt; |\n",
       "|---|---|---|\n",
       "| 1 | setosa     | setosa |\n",
       "| 2 | setosa     | setosa |\n",
       "| 3 | versicolor | setosa |\n",
       "| 4 | virginica  | setosa |\n",
       "| 5 | versicolor | setosa |\n",
       "| 6 | virginica  | setosa |\n",
       "\n"
      ],
      "text/plain": [
       "  iris_random.Species iris_data.Species\n",
       "1 setosa              setosa           \n",
       "2 setosa              setosa           \n",
       "3 versicolor          setosa           \n",
       "4 virginica           setosa           \n",
       "5 versicolor          setosa           \n",
       "6 virginica           setosa           "
      ]
     },
     "metadata": {},
     "output_type": "display_data"
    },
    {
     "data": {
      "text/html": [
       "<style>\n",
       ".list-inline {list-style: none; margin:0; padding: 0}\n",
       ".list-inline>li {display: inline-block}\n",
       ".list-inline>li:not(:last-child)::after {content: \"\\00b7\"; padding: 0 .5ex}\n",
       "</style>\n",
       "<ol class=list-inline><li>150</li><li>5</li></ol>\n"
      ],
      "text/latex": [
       "\\begin{enumerate*}\n",
       "\\item 150\n",
       "\\item 5\n",
       "\\end{enumerate*}\n"
      ],
      "text/markdown": [
       "1. 150\n",
       "2. 5\n",
       "\n",
       "\n"
      ],
      "text/plain": [
       "[1] 150   5"
      ]
     },
     "metadata": {},
     "output_type": "display_data"
    },
    {
     "data": {
      "text/html": [
       "<style>\n",
       ".list-inline {list-style: none; margin:0; padding: 0}\n",
       ".list-inline>li {display: inline-block}\n",
       ".list-inline>li:not(:last-child)::after {content: \"\\00b7\"; padding: 0 .5ex}\n",
       "</style>\n",
       "<ol class=list-inline><li>'Sepal.Length'</li><li>'Sepal.Width'</li><li>'Petal.Length'</li><li>'Petal.Width'</li><li>'Species'</li></ol>\n"
      ],
      "text/latex": [
       "\\begin{enumerate*}\n",
       "\\item 'Sepal.Length'\n",
       "\\item 'Sepal.Width'\n",
       "\\item 'Petal.Length'\n",
       "\\item 'Petal.Width'\n",
       "\\item 'Species'\n",
       "\\end{enumerate*}\n"
      ],
      "text/markdown": [
       "1. 'Sepal.Length'\n",
       "2. 'Sepal.Width'\n",
       "3. 'Petal.Length'\n",
       "4. 'Petal.Width'\n",
       "5. 'Species'\n",
       "\n",
       "\n"
      ],
      "text/plain": [
       "[1] \"Sepal.Length\" \"Sepal.Width\"  \"Petal.Length\" \"Petal.Width\"  \"Species\"     "
      ]
     },
     "metadata": {},
     "output_type": "display_data"
    },
    {
     "data": {
      "text/plain": [
       "\n",
       "    setosa versicolor  virginica \n",
       "        50         50         50 "
      ]
     },
     "metadata": {},
     "output_type": "display_data"
    }
   ],
   "source": [
    "# checking if randomization worked\n",
    "head(data.frame(iris_random$Species, iris_data$Species))\n",
    "dim(iris_random) #dimension of data\n",
    "names(iris_random) #column names\n",
    "table(iris_random$Species)"
   ]
  },
  {
   "cell_type": "raw",
   "id": "239770ac-c5ad-4871-8584-6ca0810c73c9",
   "metadata": {},
   "source": [
    "#visualize data\n",
    "\n",
    "hist(iris_random$Petal.Length, col='red')\n",
    "hist(iris_random$Petal.Width, col='blue')\n",
    "hist(iris_random$Sepal.Length, col='green')\n",
    "hist(iris_random$Sepal.Width, col='yellow')\n",
    "\n",
    "plot(iris_random$Petal.Length, iris_random$Species, col='steelblue', main='Scatterplot', xlab='Petal Length', ylab='Species', pch=19)\n",
    "plot(iris_random$Petal.Width, iris_random$Species, col='steelblue', main='Scatterplot', xlab='Petal Width', ylab='Species', pch=19)\n",
    "plot(iris_random$Sepal.Length, iris_random$Species, col='steelblue', main='Scatterplot', xlab='Sepal Length', ylab='Species', pch=19)\n",
    "plot(iris_random$Sepal.Width, iris_random$Species, col='steelblue', main='Scatterplot', xlab='Sepal Width', ylab='Species', pch=19)\n",
    "\n",
    "boxplot(Petal.Length~Species, data=iris, main='Petal Length by Species', xlab='Species', ylab='Petal Length', col='steelblue', border='black')\n",
    "boxplot(Petal.Width~Species, data=iris, main='Petal Width by Species', xlab='Species', ylab='Petal Width', col='steelblue', border='black')\n",
    "boxplot(Sepal.Length~Species, data=iris, main='Sepal Length by Species', xlab='Species', ylab='Sepal Length', col='steelblue', border='black')\n",
    "boxplot(Sepal.Width~Species, data=iris, main='Sepal Width by Species', xlab='Species', ylab='Sepal Width', col='steelblue', border='black')"
   ]
  },
  {
   "cell_type": "code",
   "execution_count": 21,
   "id": "cab2ebf4-b073-4e5b-8634-b15b18e48e3d",
   "metadata": {},
   "outputs": [
    {
     "data": {
      "image/png": "[encoded data removed]",
      "text/plain": [
       "Plot with title \"Boxplot of Iris data by attributes\""
      ]
     },
     "metadata": {
      "image/png": {
       "height": 420,
       "width": 420
      }
     },
     "output_type": "display_data"
    },
    {
     "data": {
      "image/png": "[encoded data removed]",
      "text/plain": [
       "plot without title"
      ]
     },
     "metadata": {
      "image/png": {
       "height": 420,
       "width": 420
      }
     },
     "output_type": "display_data"
    }
   ],
   "source": [
    "boxplot(iris[-5], main = 'Boxplot of Iris data by attributes') \n",
    "pairs(iris[,-5], main=\"iris Data\", pch=21, bg = c(\"black\", \"red\", \"blue\")[unclass(iris$Classification)], col = rainbow(3)) "
   ]
  },
  {
   "cell_type": "code",
   "execution_count": 22,
   "id": "cad9196f-6519-4179-a5b6-d160e7385256",
   "metadata": {},
   "outputs": [
    {
     "data": {
      "text/plain": [
       "  Sepal.Length    Sepal.Width     Petal.Length    Petal.Width   \n",
       " Min.   :4.300   Min.   :2.000   Min.   :1.000   Min.   :0.100  \n",
       " 1st Qu.:5.100   1st Qu.:2.800   1st Qu.:1.600   1st Qu.:0.300  \n",
       " Median :5.800   Median :3.000   Median :4.350   Median :1.300  \n",
       " Mean   :5.843   Mean   :3.057   Mean   :3.758   Mean   :1.199  \n",
       " 3rd Qu.:6.400   3rd Qu.:3.300   3rd Qu.:5.100   3rd Qu.:1.800  \n",
       " Max.   :7.900   Max.   :4.400   Max.   :6.900   Max.   :2.500  \n",
       "       Species  \n",
       " setosa    :50  \n",
       " versicolor:50  \n",
       " virginica :50  \n",
       "                \n",
       "                \n",
       "                "
      ]
     },
     "metadata": {},
     "output_type": "display_data"
    }
   ],
   "source": [
    "summary(iris_random) #summarize"
   ]
  },
  {
   "cell_type": "code",
   "execution_count": 23,
   "id": "a4f0ab80-4583-4c7d-ac9c-b0ced740b043",
   "metadata": {},
   "outputs": [
    {
     "name": "stdout",
     "output_type": "stream",
     "text": [
      "'data.frame':\t150 obs. of  5 variables:\n",
      " $ Sepal.Length: num  4.3 5.4 5.8 7.7 6 7.4 5.4 4.6 6.4 5.3 ...\n",
      " $ Sepal.Width : num  3 3.4 2.7 2.6 2.7 2.8 3.7 3.2 2.9 3.7 ...\n",
      " $ Petal.Length: num  1.1 1.5 3.9 6.9 5.1 6.1 1.5 1.4 4.3 1.5 ...\n",
      " $ Petal.Width : num  0.1 0.4 1.2 2.3 1.6 1.9 0.2 0.2 1.3 0.2 ...\n",
      " $ Species     : Factor w/ 3 levels \"setosa\",\"versicolor\",..: 1 1 2 3 2 3 1 1 2 1 ...\n"
     ]
    }
   ],
   "source": [
    "#change the Species field type to factor from character, so that they represent catagorical data\n",
    "iris_random$Species <- as.factor(iris_random$Species)\n",
    "str(iris_random)"
   ]
  },
  {
   "cell_type": "code",
   "execution_count": 24,
   "id": "e14395a1-c220-4988-8ae0-65e9ecec31d4",
   "metadata": {},
   "outputs": [],
   "source": [
    "# divide data in training and testing\n",
    "numofcol <- ncol(iris_random)\n",
    "numofrow <- nrow(iris_random)\n",
    "n80 <- round(numofrow*.8)\n",
    "\n",
    "iris_random_train <- iris_random[1:n80,] #train set\n",
    "iris_random_test <- iris_random[(n80+1):numofrow,] #test set\n",
    "\n",
    "iris_random_train_lbel <- iris_random[1:n80, numofcol] #train labels\n",
    "iris_random_test_label <- iris_random[(n80+1):numofrow, numofcol] #test labels"
   ]
  },
  {
   "cell_type": "code",
   "execution_count": 25,
   "id": "0feebdaa-bdee-40a5-9ea2-2494beb496f2",
   "metadata": {},
   "outputs": [
    {
     "data": {
      "text/html": [
       "<style>\n",
       ".list-inline {list-style: none; margin:0; padding: 0}\n",
       ".list-inline>li {display: inline-block}\n",
       ".list-inline>li:not(:last-child)::after {content: \"\\00b7\"; padding: 0 .5ex}\n",
       "</style>\n",
       "<ol class=list-inline><li>120</li><li>4</li></ol>\n"
      ],
      "text/latex": [
       "\\begin{enumerate*}\n",
       "\\item 120\n",
       "\\item 4\n",
       "\\end{enumerate*}\n"
      ],
      "text/markdown": [
       "1. 120\n",
       "2. 4\n",
       "\n",
       "\n"
      ],
      "text/plain": [
       "[1] 120   4"
      ]
     },
     "metadata": {},
     "output_type": "display_data"
    }
   ],
   "source": [
    "dim(iris_random_train[,-numofcol])"
   ]
  },
  {
   "cell_type": "code",
   "execution_count": 26,
   "id": "438cd274-a9af-4ef2-a447-d6eee16a8693",
   "metadata": {},
   "outputs": [
    {
     "data": {
      "text/html": [
       "<style>\n",
       ".list-inline {list-style: none; margin:0; padding: 0}\n",
       ".list-inline>li {display: inline-block}\n",
       ".list-inline>li:not(:last-child)::after {content: \"\\00b7\"; padding: 0 .5ex}\n",
       "</style>\n",
       "<ol class=list-inline><li>120</li><li>5</li></ol>\n"
      ],
      "text/latex": [
       "\\begin{enumerate*}\n",
       "\\item 120\n",
       "\\item 5\n",
       "\\end{enumerate*}\n"
      ],
      "text/markdown": [
       "1. 120\n",
       "2. 5\n",
       "\n",
       "\n"
      ],
      "text/plain": [
       "[1] 120   5"
      ]
     },
     "metadata": {},
     "output_type": "display_data"
    }
   ],
   "source": [
    "dim(iris_random_train)"
   ]
  },
  {
   "cell_type": "code",
   "execution_count": 27,
   "id": "0594a2d4-88a3-4f14-a2ba-a878714175a5",
   "metadata": {},
   "outputs": [
    {
     "data": {
      "text/plain": [
       "\n",
       "    setosa versicolor  virginica \n",
       "        42         40         38 "
      ]
     },
     "metadata": {},
     "output_type": "display_data"
    },
    {
     "data": {
      "text/plain": [
       "\n",
       "    setosa versicolor  virginica \n",
       "         8         10         12 "
      ]
     },
     "metadata": {},
     "output_type": "display_data"
    }
   ],
   "source": [
    "table(iris_random_train$Species)\n",
    "table(iris_random_test$Species)"
   ]
  },
  {
   "cell_type": "code",
   "execution_count": 28,
   "id": "f4c164ff-b427-4611-aa5b-f04fe72b91b6",
   "metadata": {},
   "outputs": [
    {
     "name": "stdout",
     "output_type": "stream",
     "text": [
      "package 'C50' successfully unpacked and MD5 sums checked\n",
      "\n",
      "The downloaded binary packages are in\n",
      "\tC:\\Users\\devops\\AppData\\Local\\Temp\\2\\Rtmpi8EYqU\\downloaded_packages\n"
     ]
    }
   ],
   "source": [
    "install.packages(\"C50\")\n",
    "library(C50)"
   ]
  },
  {
   "cell_type": "code",
   "execution_count": 29,
   "id": "b1162dc7-5eba-4454-b1ca-d5cf12351158",
   "metadata": {},
   "outputs": [
    {
     "data": {
      "text/plain": [
       "\n",
       "Call:\n",
       "C5.0.default(x = iris_random_train[, -numofcol], y = iris_random_train$Species)\n",
       "\n",
       "Classification Tree\n",
       "Number of samples: 120 \n",
       "Number of predictors: 4 \n",
       "\n",
       "Tree size: 4 \n",
       "\n",
       "Non-standard options: attempt to group attributes\n"
      ]
     },
     "metadata": {},
     "output_type": "display_data"
    }
   ],
   "source": [
    "# executing the model\n",
    "dtmodel <- C5.0(iris_random_train[,-numofcol], iris_random_train$Species)\n",
    "dtmodel"
   ]
  },
  {
   "cell_type": "code",
   "execution_count": 30,
   "id": "e038fbc8-5f0c-453b-9c89-ef8be916fda2",
   "metadata": {},
   "outputs": [
    {
     "data": {
      "text/plain": [
       "\n",
       "Call:\n",
       "C5.0.default(x = iris_random_train[, -numofcol], y = iris_random_train$Species)\n",
       "\n",
       "\n",
       "C5.0 [Release 2.07 GPL Edition]  \tMon Feb 20 23:06:05 2023\n",
       "-------------------------------\n",
       "\n",
       "Class specified by attribute `outcome'\n",
       "\n",
       "Read 120 cases (5 attributes) from undefined.data\n",
       "\n",
       "Decision tree:\n",
       "\n",
       "Petal.Length <= 1.9: setosa (42)\n",
       "Petal.Length > 1.9:\n",
       ":...Petal.Width > 1.7: virginica (35/1)\n",
       "    Petal.Width <= 1.7:\n",
       "    :...Petal.Length <= 4.9: versicolor (38/1)\n",
       "        Petal.Length > 4.9: virginica (5/2)\n",
       "\n",
       "\n",
       "Evaluation on training data (120 cases):\n",
       "\n",
       "\t    Decision Tree   \n",
       "\t  ----------------  \n",
       "\t  Size      Errors  \n",
       "\n",
       "\t     4    4( 3.3%)   <<\n",
       "\n",
       "\n",
       "\t   (a)   (b)   (c)    <-classified as\n",
       "\t  ----  ----  ----\n",
       "\t    42                (a): class setosa\n",
       "\t          37     3    (b): class versicolor\n",
       "\t           1    37    (c): class virginica\n",
       "\n",
       "\n",
       "\tAttribute usage:\n",
       "\n",
       "\t100.00%\tPetal.Length\n",
       "\t 65.00%\tPetal.Width\n",
       "\n",
       "\n",
       "Time: 0.0 secs\n"
      ]
     },
     "metadata": {},
     "output_type": "display_data"
    }
   ],
   "source": [
    "summary(dtmodel) # listing decision tree rules"
   ]
  },
  {
   "cell_type": "code",
   "execution_count": 31,
   "id": "10fb726a-0016-4295-9dcf-51b8d58c6a63",
   "metadata": {},
   "outputs": [
    {
     "data": {
      "image/png": "[encoded data removed]",
      "text/plain": [
       "plot without title"
      ]
     },
     "metadata": {
      "image/png": {
       "height": 420,
       "width": 420
      }
     },
     "output_type": "display_data"
    }
   ],
   "source": [
    "plot(dtmodel)"
   ]
  },
  {
   "cell_type": "code",
   "execution_count": 32,
   "id": "8d28ca7b-b7f3-436b-a291-efc0dcef5f3b",
   "metadata": {},
   "outputs": [],
   "source": [
    "#model prediction\n",
    "dtmodel_predicted <- predict(dtmodel, iris_random_test)"
   ]
  },
  {
   "cell_type": "code",
   "execution_count": 33,
   "id": "a2eab5f3-7f5d-444e-9632-9552f158b97f",
   "metadata": {},
   "outputs": [],
   "source": [
    "# cross tabulation of predicted versus actual classes\n",
    "library(gmodels)"
   ]
  },
  {
   "cell_type": "code",
   "execution_count": 34,
   "id": "e732e6bb-cc0e-4f87-b02c-33bdc2405f6a",
   "metadata": {},
   "outputs": [
    {
     "name": "stdout",
     "output_type": "stream",
     "text": [
      "\n",
      " \n",
      "   Cell Contents\n",
      "|-------------------------|\n",
      "|                       N |\n",
      "|         N / Table Total |\n",
      "|-------------------------|\n",
      "\n",
      " \n",
      "Total Observations in Table:  30 \n",
      "\n",
      " \n",
      "               | predicted Species \n",
      "actual Species |     setosa | versicolor |  virginica |  Row Total | \n",
      "---------------|------------|------------|------------|------------|\n",
      "        setosa |          8 |          0 |          0 |          8 | \n",
      "               |      0.267 |      0.000 |      0.000 |            | \n",
      "---------------|------------|------------|------------|------------|\n",
      "    versicolor |          0 |         10 |          0 |         10 | \n",
      "               |      0.000 |      0.333 |      0.000 |            | \n",
      "---------------|------------|------------|------------|------------|\n",
      "     virginica |          0 |          0 |         12 |         12 | \n",
      "               |      0.000 |      0.000 |      0.400 |            | \n",
      "---------------|------------|------------|------------|------------|\n",
      "  Column Total |          8 |         10 |         12 |         30 | \n",
      "---------------|------------|------------|------------|------------|\n",
      "\n",
      " \n"
     ]
    }
   ],
   "source": [
    "CrossTable(iris_random_test$Species, dtmodel_predicted, prop.chisq = FALSE, prop.c = FALSE, prop.r = FALSE, dnn = c('actual Species', 'predicted Species'))"
   ]
  },
  {
   "cell_type": "code",
   "execution_count": 35,
   "id": "9d6be654-4ec5-4bc1-a87c-1dc0c0f3acf2",
   "metadata": {},
   "outputs": [],
   "source": [
    "# Boost not needed as it is already 100% accurate"
   ]
  },
  {
   "cell_type": "markdown",
   "id": "ee012ffb-65d4-4459-b7cb-4f1d0a2741d4",
   "metadata": {},
   "source": [
    "#### 2. Apply the OneR and RIPPER algorithms to classify credit (yes/no) in credit.csv. \n",
    "#### Apply the C50, algorithm to classify poisonous vs. edible mushrooms in mushroom.csv. \n",
    "#### How does the accuracy of the three models (i.e. including the models in the book) compare for each of the datasets?"
   ]
  },
  {
   "cell_type": "markdown",
   "id": "fa49e2ed-85fa-403e-969c-d79e67389b41",
   "metadata": {},
   "source": [
    "##### >>>>>>>>>>preparing the data<<<<<<<<<<"
   ]
  },
  {
   "cell_type": "code",
   "execution_count": 36,
   "id": "12bb04f9-f9ac-48ec-999d-c1426d197a6b",
   "metadata": {},
   "outputs": [
    {
     "name": "stdout",
     "output_type": "stream",
     "text": [
      "'data.frame':\t1000 obs. of  17 variables:\n",
      " $ checking_balance    : chr  \"< 0 DM\" \"1 - 200 DM\" \"unknown\" \"< 0 DM\" ...\n",
      " $ months_loan_duration: int  6 48 12 42 24 36 24 36 12 30 ...\n",
      " $ credit_history      : chr  \"critical\" \"good\" \"critical\" \"good\" ...\n",
      " $ purpose             : chr  \"furniture/appliances\" \"furniture/appliances\" \"education\" \"furniture/appliances\" ...\n",
      " $ amount              : int  1169 5951 2096 7882 4870 9055 2835 6948 3059 5234 ...\n",
      " $ savings_balance     : chr  \"unknown\" \"< 100 DM\" \"< 100 DM\" \"< 100 DM\" ...\n",
      " $ employment_duration : chr  \"> 7 years\" \"1 - 4 years\" \"4 - 7 years\" \"4 - 7 years\" ...\n",
      " $ percent_of_income   : int  4 2 2 2 3 2 3 2 2 4 ...\n",
      " $ years_at_residence  : int  4 2 3 4 4 4 4 2 4 2 ...\n",
      " $ age                 : int  67 22 49 45 53 35 53 35 61 28 ...\n",
      " $ other_credit        : chr  \"none\" \"none\" \"none\" \"none\" ...\n",
      " $ housing             : chr  \"own\" \"own\" \"own\" \"other\" ...\n",
      " $ existing_loans_count: int  2 1 1 1 2 1 1 1 1 2 ...\n",
      " $ job                 : chr  \"skilled\" \"skilled\" \"unskilled\" \"skilled\" ...\n",
      " $ dependents          : int  1 1 2 2 2 2 1 1 1 1 ...\n",
      " $ phone               : chr  \"yes\" \"no\" \"no\" \"no\" ...\n",
      " $ default             : chr  \"no\" \"yes\" \"no\" \"no\" ...\n"
     ]
    }
   ],
   "source": [
    "# credit data\n",
    "credit <- read.csv(\"./data/credit.csv\", stringsAsFactors = FALSE)\n",
    "str(credit) #structure of data\n",
    "\n",
    "#randomizing data and confirming that it is done\n",
    "set.seed(12345)\n",
    "credit_random <- credit[order(runif(nrow(credit))),]"
   ]
  },
  {
   "cell_type": "code",
   "execution_count": 37,
   "id": "09f0bc76-7081-47bb-b07e-54f624ca6df3",
   "metadata": {},
   "outputs": [
    {
     "name": "stdout",
     "output_type": "stream",
     "text": [
      "'data.frame':\t1000 obs. of  17 variables:\n",
      " $ checking_balance    : Factor w/ 4 levels \"< 0 DM\",\"> 200 DM\",..: 1 3 3 1 3 4 1 3 3 1 ...\n",
      " $ months_loan_duration: int  24 7 12 24 9 18 33 9 20 15 ...\n",
      " $ credit_history      : Factor w/ 5 levels \"critical\",\"good\",..: 1 2 2 2 1 2 1 2 4 2 ...\n",
      " $ purpose             : Factor w/ 6 levels \"business\",\"car\",..: 2 5 5 5 4 1 5 5 3 5 ...\n",
      " $ amount              : int  1199 2576 1103 4020 1501 1568 4281 918 2629 1845 ...\n",
      " $ savings_balance     : Factor w/ 5 levels \"< 100 DM\",\"> 1000 DM\",..: 1 1 1 1 1 3 4 1 1 1 ...\n",
      " $ employment_duration : Factor w/ 5 levels \"< 1 year\",\"> 7 years\",..: 2 3 4 3 2 3 3 3 3 1 ...\n",
      " $ percent_of_income   : int  4 2 4 2 2 3 1 4 2 4 ...\n",
      " $ years_at_residence  : int  4 2 3 2 3 4 4 1 3 1 ...\n",
      " $ age                 : int  60 35 29 27 34 24 23 30 29 46 ...\n",
      " $ other_credit        : Factor w/ 3 levels \"bank\",\"none\",..: 2 2 2 3 2 2 2 2 1 2 ...\n",
      " $ housing             : Factor w/ 3 levels \"other\",\"own\",..: 2 2 2 2 2 3 2 2 2 3 ...\n",
      " $ existing_loans_count: Factor w/ 4 levels \"1\",\"2\",\"3\",\"4\": 2 1 2 1 2 1 2 1 2 1 ...\n",
      " $ job                 : Factor w/ 4 levels \"management\",\"skilled\",..: 4 2 2 2 1 4 2 2 2 2 ...\n",
      " $ dependents          : Factor w/ 2 levels \"1\",\"2\": 1 1 1 1 1 1 1 1 1 1 ...\n",
      " $ phone               : Factor w/ 2 levels \"no\",\"yes\": 1 1 1 1 2 1 1 1 2 1 ...\n",
      " $ default             : Factor w/ 2 levels \"no\",\"yes\": 2 1 1 1 2 1 2 2 1 1 ...\n"
     ]
    }
   ],
   "source": [
    "# encoding catagorical data as factors as C50, OneR and Ripper algorithms are susseptile to that.\n",
    "credit_random$checking_balance <- as.factor(credit_random$checking_balance)\n",
    "credit_random$credit_history <- as.factor(credit_random$credit_history)\n",
    "credit_random$purpose <- as.factor(credit_random$purpose)\n",
    "credit_random$savings_balance <- as.factor(credit_random$savings_balance)\n",
    "credit_random$employment_duration <- as.factor(credit_random$employment_duration)\n",
    "credit_random$other_credit <- as.factor(credit_random$other_credit)\n",
    "credit_random$housing <- as.factor(credit_random$housing)\n",
    "credit_random$job <- as.factor(credit_random$job)\n",
    "credit_random$phone <- as.factor(credit_random$phone)\n",
    "credit_random$default <- as.factor(credit_random$default)\n",
    "credit_random$existing_loans_count <- as.factor(credit_random$existing_loans_count)\n",
    "credit_random$dependents <- as.factor(credit_random$dependents)\n",
    "str(credit_random) #structure of data"
   ]
  },
  {
   "cell_type": "code",
   "execution_count": 38,
   "id": "9cbf46ef-b7f5-4102-a6f6-4a920e43714d",
   "metadata": {},
   "outputs": [
    {
     "data": {
      "text/html": [
       "<table class=\"dataframe\">\n",
       "<caption>A data.frame: 6 × 17</caption>\n",
       "<thead>\n",
       "\t<tr><th></th><th scope=col>checking_balance</th><th scope=col>months_loan_duration</th><th scope=col>credit_history</th><th scope=col>purpose</th><th scope=col>amount</th><th scope=col>savings_balance</th><th scope=col>employment_duration</th><th scope=col>percent_of_income</th><th scope=col>years_at_residence</th><th scope=col>age</th><th scope=col>other_credit</th><th scope=col>housing</th><th scope=col>existing_loans_count</th><th scope=col>job</th><th scope=col>dependents</th><th scope=col>phone</th><th scope=col>default</th></tr>\n",
       "\t<tr><th></th><th scope=col>&lt;fct&gt;</th><th scope=col>&lt;int&gt;</th><th scope=col>&lt;fct&gt;</th><th scope=col>&lt;fct&gt;</th><th scope=col>&lt;int&gt;</th><th scope=col>&lt;fct&gt;</th><th scope=col>&lt;fct&gt;</th><th scope=col>&lt;int&gt;</th><th scope=col>&lt;int&gt;</th><th scope=col>&lt;int&gt;</th><th scope=col>&lt;fct&gt;</th><th scope=col>&lt;fct&gt;</th><th scope=col>&lt;fct&gt;</th><th scope=col>&lt;fct&gt;</th><th scope=col>&lt;fct&gt;</th><th scope=col>&lt;fct&gt;</th><th scope=col>&lt;fct&gt;</th></tr>\n",
       "</thead>\n",
       "<tbody>\n",
       "\t<tr><th scope=row>14</th><td><span style=white-space:pre-wrap>&lt; 0 DM    </span></td><td>24</td><td>critical</td><td><span style=white-space:pre-wrap>car                 </span></td><td>1199</td><td><span style=white-space:pre-wrap>&lt; 100 DM    </span></td><td><span style=white-space:pre-wrap>&gt; 7 years  </span></td><td>4</td><td>4</td><td>60</td><td>none </td><td>own </td><td>2</td><td>unskilled </td><td>1</td><td>no </td><td>yes</td></tr>\n",
       "\t<tr><th scope=row>448</th><td>1 - 200 DM</td><td> 7</td><td><span style=white-space:pre-wrap>good    </span></td><td>furniture/appliances</td><td>2576</td><td><span style=white-space:pre-wrap>&lt; 100 DM    </span></td><td>1 - 4 years</td><td>2</td><td>2</td><td>35</td><td>none </td><td>own </td><td>1</td><td><span style=white-space:pre-wrap>skilled   </span></td><td>1</td><td>no </td><td>no </td></tr>\n",
       "\t<tr><th scope=row>697</th><td>1 - 200 DM</td><td>12</td><td><span style=white-space:pre-wrap>good    </span></td><td>furniture/appliances</td><td>1103</td><td><span style=white-space:pre-wrap>&lt; 100 DM    </span></td><td>4 - 7 years</td><td>4</td><td>3</td><td>29</td><td>none </td><td>own </td><td>2</td><td><span style=white-space:pre-wrap>skilled   </span></td><td>1</td><td>no </td><td>no </td></tr>\n",
       "\t<tr><th scope=row>32</th><td><span style=white-space:pre-wrap>&lt; 0 DM    </span></td><td>24</td><td><span style=white-space:pre-wrap>good    </span></td><td>furniture/appliances</td><td>4020</td><td><span style=white-space:pre-wrap>&lt; 100 DM    </span></td><td>1 - 4 years</td><td>2</td><td>2</td><td>27</td><td>store</td><td>own </td><td>1</td><td><span style=white-space:pre-wrap>skilled   </span></td><td>1</td><td>no </td><td>no </td></tr>\n",
       "\t<tr><th scope=row>196</th><td>1 - 200 DM</td><td> 9</td><td>critical</td><td><span style=white-space:pre-wrap>education           </span></td><td>1501</td><td><span style=white-space:pre-wrap>&lt; 100 DM    </span></td><td><span style=white-space:pre-wrap>&gt; 7 years  </span></td><td>2</td><td>3</td><td>34</td><td>none </td><td>own </td><td>2</td><td>management</td><td>1</td><td>yes</td><td>yes</td></tr>\n",
       "\t<tr><th scope=row>83</th><td>unknown   </td><td>18</td><td>good    </td><td>business            </td><td>1568</td><td>100 - 500 DM</td><td>1 - 4 years</td><td>3</td><td>4</td><td>24</td><td>none </td><td>rent</td><td>1</td><td>unskilled </td><td>1</td><td>no </td><td>no </td></tr>\n",
       "</tbody>\n",
       "</table>\n"
      ],
      "text/latex": [
       "A data.frame: 6 × 17\n",
       "\\begin{tabular}{r|lllllllllllllllll}\n",
       "  & checking\\_balance & months\\_loan\\_duration & credit\\_history & purpose & amount & savings\\_balance & employment\\_duration & percent\\_of\\_income & years\\_at\\_residence & age & other\\_credit & housing & existing\\_loans\\_count & job & dependents & phone & default\\\\\n",
       "  & <fct> & <int> & <fct> & <fct> & <int> & <fct> & <fct> & <int> & <int> & <int> & <fct> & <fct> & <fct> & <fct> & <fct> & <fct> & <fct>\\\\\n",
       "\\hline\n",
       "\t14 & < 0 DM     & 24 & critical & car                  & 1199 & < 100 DM     & > 7 years   & 4 & 4 & 60 & none  & own  & 2 & unskilled  & 1 & no  & yes\\\\\n",
       "\t448 & 1 - 200 DM &  7 & good     & furniture/appliances & 2576 & < 100 DM     & 1 - 4 years & 2 & 2 & 35 & none  & own  & 1 & skilled    & 1 & no  & no \\\\\n",
       "\t697 & 1 - 200 DM & 12 & good     & furniture/appliances & 1103 & < 100 DM     & 4 - 7 years & 4 & 3 & 29 & none  & own  & 2 & skilled    & 1 & no  & no \\\\\n",
       "\t32 & < 0 DM     & 24 & good     & furniture/appliances & 4020 & < 100 DM     & 1 - 4 years & 2 & 2 & 27 & store & own  & 1 & skilled    & 1 & no  & no \\\\\n",
       "\t196 & 1 - 200 DM &  9 & critical & education            & 1501 & < 100 DM     & > 7 years   & 2 & 3 & 34 & none  & own  & 2 & management & 1 & yes & yes\\\\\n",
       "\t83 & unknown    & 18 & good     & business             & 1568 & 100 - 500 DM & 1 - 4 years & 3 & 4 & 24 & none  & rent & 1 & unskilled  & 1 & no  & no \\\\\n",
       "\\end{tabular}\n"
      ],
      "text/markdown": [
       "\n",
       "A data.frame: 6 × 17\n",
       "\n",
       "| <!--/--> | checking_balance &lt;fct&gt; | months_loan_duration &lt;int&gt; | credit_history &lt;fct&gt; | purpose &lt;fct&gt; | amount &lt;int&gt; | savings_balance &lt;fct&gt; | employment_duration &lt;fct&gt; | percent_of_income &lt;int&gt; | years_at_residence &lt;int&gt; | age &lt;int&gt; | other_credit &lt;fct&gt; | housing &lt;fct&gt; | existing_loans_count &lt;fct&gt; | job &lt;fct&gt; | dependents &lt;fct&gt; | phone &lt;fct&gt; | default &lt;fct&gt; |\n",
       "|---|---|---|---|---|---|---|---|---|---|---|---|---|---|---|---|---|---|\n",
       "| 14 | &lt; 0 DM     | 24 | critical | car                  | 1199 | &lt; 100 DM     | &gt; 7 years   | 4 | 4 | 60 | none  | own  | 2 | unskilled  | 1 | no  | yes |\n",
       "| 448 | 1 - 200 DM |  7 | good     | furniture/appliances | 2576 | &lt; 100 DM     | 1 - 4 years | 2 | 2 | 35 | none  | own  | 1 | skilled    | 1 | no  | no  |\n",
       "| 697 | 1 - 200 DM | 12 | good     | furniture/appliances | 1103 | &lt; 100 DM     | 4 - 7 years | 4 | 3 | 29 | none  | own  | 2 | skilled    | 1 | no  | no  |\n",
       "| 32 | &lt; 0 DM     | 24 | good     | furniture/appliances | 4020 | &lt; 100 DM     | 1 - 4 years | 2 | 2 | 27 | store | own  | 1 | skilled    | 1 | no  | no  |\n",
       "| 196 | 1 - 200 DM |  9 | critical | education            | 1501 | &lt; 100 DM     | &gt; 7 years   | 2 | 3 | 34 | none  | own  | 2 | management | 1 | yes | yes |\n",
       "| 83 | unknown    | 18 | good     | business             | 1568 | 100 - 500 DM | 1 - 4 years | 3 | 4 | 24 | none  | rent | 1 | unskilled  | 1 | no  | no  |\n",
       "\n"
      ],
      "text/plain": [
       "    checking_balance months_loan_duration credit_history purpose             \n",
       "14  < 0 DM           24                   critical       car                 \n",
       "448 1 - 200 DM        7                   good           furniture/appliances\n",
       "697 1 - 200 DM       12                   good           furniture/appliances\n",
       "32  < 0 DM           24                   good           furniture/appliances\n",
       "196 1 - 200 DM        9                   critical       education           \n",
       "83  unknown          18                   good           business            \n",
       "    amount savings_balance employment_duration percent_of_income\n",
       "14  1199   < 100 DM        > 7 years           4                \n",
       "448 2576   < 100 DM        1 - 4 years         2                \n",
       "697 1103   < 100 DM        4 - 7 years         4                \n",
       "32  4020   < 100 DM        1 - 4 years         2                \n",
       "196 1501   < 100 DM        > 7 years           2                \n",
       "83  1568   100 - 500 DM    1 - 4 years         3                \n",
       "    years_at_residence age other_credit housing existing_loans_count job       \n",
       "14  4                  60  none         own     2                    unskilled \n",
       "448 2                  35  none         own     1                    skilled   \n",
       "697 3                  29  none         own     2                    skilled   \n",
       "32  2                  27  store        own     1                    skilled   \n",
       "196 3                  34  none         own     2                    management\n",
       "83  4                  24  none         rent    1                    unskilled \n",
       "    dependents phone default\n",
       "14  1          no    yes    \n",
       "448 1          no    no     \n",
       "697 1          no    no     \n",
       "32  1          no    no     \n",
       "196 1          yes   yes    \n",
       "83  1          no    no     "
      ]
     },
     "metadata": {},
     "output_type": "display_data"
    }
   ],
   "source": [
    "head(credit_random)"
   ]
  },
  {
   "cell_type": "raw",
   "id": "db99dbf0-a1aa-45f5-bbb8-fb90ded1adc6",
   "metadata": {
    "tags": []
   },
   "source": [
    "pairs(credit_random[,c(2,5,8:10)], lower.panel = panel.smooth,) # work in progress"
   ]
  },
  {
   "cell_type": "code",
   "execution_count": 39,
   "id": "98f2af21-ce59-4ffb-afdb-1ff0f0478748",
   "metadata": {},
   "outputs": [
    {
     "name": "stdout",
     "output_type": "stream",
     "text": [
      "'data.frame':\t8124 obs. of  23 variables:\n",
      " $ type                    : Factor w/ 2 levels \"edible\",\"poisonous\": 2 1 1 2 1 1 1 1 2 1 ...\n",
      " $ cap_shape               : Factor w/ 6 levels \"bell\",\"conical\",..: 3 3 1 3 3 3 1 1 3 1 ...\n",
      " $ cap_surface             : Factor w/ 4 levels \"fibrous\",\"grooves\",..: 4 4 4 3 4 3 4 3 3 4 ...\n",
      " $ cap_color               : Factor w/ 10 levels \"brown\",\"buff\",..: 1 10 9 9 4 10 9 9 9 10 ...\n",
      " $ bruises                 : Factor w/ 2 levels \"no\",\"yes\": 2 2 2 2 1 2 2 2 2 2 ...\n",
      " $ odor                    : Factor w/ 9 levels \"almond\",\"anise\",..: 8 1 2 8 7 1 1 2 8 1 ...\n",
      " $ gill_attachment         : Factor w/ 2 levels \"attached\",\"free\": 2 2 2 2 2 2 2 2 2 2 ...\n",
      " $ gill_spacing            : Factor w/ 2 levels \"close\",\"crowded\": 1 1 1 1 2 1 1 1 1 1 ...\n",
      " $ gill_size               : Factor w/ 2 levels \"broad\",\"narrow\": 2 1 1 2 1 1 1 1 2 1 ...\n",
      " $ gill_color              : Factor w/ 12 levels \"black\",\"brown\",..: 1 1 2 2 1 2 5 2 8 5 ...\n",
      " $ stalk_shape             : Factor w/ 2 levels \"enlarging\",\"tapering\": 1 1 1 1 2 1 1 1 1 1 ...\n",
      " $ stalk_root              : Factor w/ 5 levels \"bulbous\",\"club\",..: 3 2 2 3 3 2 2 2 3 2 ...\n",
      " $ stalk_surface_above_ring: Factor w/ 4 levels \"fibrous\",\"scaly\",..: 4 4 4 4 4 4 4 4 4 4 ...\n",
      " $ stalk_surface_below_ring: Factor w/ 4 levels \"fibrous\",\"scaly\",..: 4 4 4 4 4 4 4 4 4 4 ...\n",
      " $ stalk_color_above_ring  : Factor w/ 9 levels \"brown\",\"buff\",..: 8 8 8 8 8 8 8 8 8 8 ...\n",
      " $ stalk_color_below_ring  : Factor w/ 9 levels \"brown\",\"buff\",..: 8 8 8 8 8 8 8 8 8 8 ...\n",
      " $ veil_type               : Factor w/ 1 level \"partial\": 1 1 1 1 1 1 1 1 1 1 ...\n",
      " $ veil_color              : Factor w/ 4 levels \"brown\",\"orange\",..: 3 3 3 3 3 3 3 3 3 3 ...\n",
      " $ ring_number             : Factor w/ 3 levels \"none\",\"one\",\"two\": 2 2 2 2 2 2 2 2 2 2 ...\n",
      " $ ring_type               : Factor w/ 5 levels \"evanescent\",\"flaring\",..: 5 5 5 5 1 5 5 5 5 5 ...\n",
      " $ spore_print_color       : Factor w/ 9 levels \"black\",\"brown\",..: 1 2 2 1 2 1 1 2 1 1 ...\n",
      " $ population              : Factor w/ 6 levels \"abundant\",\"clustered\",..: 4 3 3 4 1 3 3 4 5 4 ...\n",
      " $ habitat                 : Factor w/ 7 levels \"grasses\",\"leaves\",..: 5 1 3 5 1 1 3 3 1 3 ...\n"
     ]
    }
   ],
   "source": [
    "# mushroom data\n",
    "mushrooms <- read.csv(\"./data/mushrooms.csv\", stringsAsFactors = TRUE) # encodinf as factor to make sure it is acceptable to algorithms\n",
    "str(mushrooms) #structure of data "
   ]
  },
  {
   "cell_type": "code",
   "execution_count": 40,
   "id": "4b210b71-dd5d-463e-8a60-5851b52f1bbd",
   "metadata": {},
   "outputs": [
    {
     "data": {
      "text/html": [
       "<table class=\"dataframe\">\n",
       "<caption>A data.frame: 6 × 23</caption>\n",
       "<thead>\n",
       "\t<tr><th></th><th scope=col>type</th><th scope=col>cap_shape</th><th scope=col>cap_surface</th><th scope=col>cap_color</th><th scope=col>bruises</th><th scope=col>odor</th><th scope=col>gill_attachment</th><th scope=col>gill_spacing</th><th scope=col>gill_size</th><th scope=col>gill_color</th><th scope=col>⋯</th><th scope=col>stalk_surface_below_ring</th><th scope=col>stalk_color_above_ring</th><th scope=col>stalk_color_below_ring</th><th scope=col>veil_type</th><th scope=col>veil_color</th><th scope=col>ring_number</th><th scope=col>ring_type</th><th scope=col>spore_print_color</th><th scope=col>population</th><th scope=col>habitat</th></tr>\n",
       "\t<tr><th></th><th scope=col>&lt;fct&gt;</th><th scope=col>&lt;fct&gt;</th><th scope=col>&lt;fct&gt;</th><th scope=col>&lt;fct&gt;</th><th scope=col>&lt;fct&gt;</th><th scope=col>&lt;fct&gt;</th><th scope=col>&lt;fct&gt;</th><th scope=col>&lt;fct&gt;</th><th scope=col>&lt;fct&gt;</th><th scope=col>&lt;fct&gt;</th><th scope=col>⋯</th><th scope=col>&lt;fct&gt;</th><th scope=col>&lt;fct&gt;</th><th scope=col>&lt;fct&gt;</th><th scope=col>&lt;fct&gt;</th><th scope=col>&lt;fct&gt;</th><th scope=col>&lt;fct&gt;</th><th scope=col>&lt;fct&gt;</th><th scope=col>&lt;fct&gt;</th><th scope=col>&lt;fct&gt;</th><th scope=col>&lt;fct&gt;</th></tr>\n",
       "</thead>\n",
       "<tbody>\n",
       "\t<tr><th scope=row>7339</th><td>poisonous</td><td>knobbed</td><td>scaly  </td><td>brown </td><td>no </td><td>foul   </td><td>free</td><td>close</td><td>narrow</td><td>buff     </td><td>⋯</td><td>silky </td><td>pink </td><td>pink </td><td>partial</td><td>white</td><td>one</td><td>evanescent</td><td>white    </td><td>several  </td><td>paths  </td></tr>\n",
       "\t<tr><th scope=row>2723</th><td>edible   </td><td>flat   </td><td>fibrous</td><td>gray  </td><td>yes</td><td>none   </td><td>free</td><td>close</td><td>broad </td><td>pink     </td><td>⋯</td><td>smooth</td><td>gray </td><td>pink </td><td>partial</td><td>white</td><td>one</td><td>pendant   </td><td>brown    </td><td>solitary </td><td>woods  </td></tr>\n",
       "\t<tr><th scope=row>1100</th><td>poisonous</td><td>convex </td><td>scaly  </td><td>brown </td><td>yes</td><td>pungent</td><td>free</td><td>close</td><td>narrow</td><td>brown    </td><td>⋯</td><td>smooth</td><td>white</td><td>white</td><td>partial</td><td>white</td><td>one</td><td>pendant   </td><td>brown    </td><td>scattered</td><td>grasses</td></tr>\n",
       "\t<tr><th scope=row>6467</th><td>poisonous</td><td>knobbed</td><td>scaly  </td><td>brown </td><td>no </td><td>fishy  </td><td>free</td><td>close</td><td>narrow</td><td>buff     </td><td>⋯</td><td>smooth</td><td>pink </td><td>white</td><td>partial</td><td>white</td><td>one</td><td>evanescent</td><td>white    </td><td>several  </td><td>paths  </td></tr>\n",
       "\t<tr><th scope=row>4479</th><td>poisonous</td><td>flat   </td><td>fibrous</td><td>yellow</td><td>no </td><td>foul   </td><td>free</td><td>close</td><td>broad </td><td>chocolate</td><td>⋯</td><td>silky </td><td>buff </td><td>buff </td><td>partial</td><td>white</td><td>one</td><td>large     </td><td>chocolate</td><td>solitary </td><td>paths  </td></tr>\n",
       "\t<tr><th scope=row>3599</th><td>edible   </td><td>flat   </td><td>scaly  </td><td>brown </td><td>yes</td><td>none   </td><td>free</td><td>close</td><td>broad </td><td>brown    </td><td>⋯</td><td>smooth</td><td>pink </td><td>gray </td><td>partial</td><td>white</td><td>one</td><td>pendant   </td><td>black    </td><td>solitary </td><td>woods  </td></tr>\n",
       "</tbody>\n",
       "</table>\n"
      ],
      "text/latex": [
       "A data.frame: 6 × 23\n",
       "\\begin{tabular}{r|lllllllllllllllllllll}\n",
       "  & type & cap\\_shape & cap\\_surface & cap\\_color & bruises & odor & gill\\_attachment & gill\\_spacing & gill\\_size & gill\\_color & ⋯ & stalk\\_surface\\_below\\_ring & stalk\\_color\\_above\\_ring & stalk\\_color\\_below\\_ring & veil\\_type & veil\\_color & ring\\_number & ring\\_type & spore\\_print\\_color & population & habitat\\\\\n",
       "  & <fct> & <fct> & <fct> & <fct> & <fct> & <fct> & <fct> & <fct> & <fct> & <fct> & ⋯ & <fct> & <fct> & <fct> & <fct> & <fct> & <fct> & <fct> & <fct> & <fct> & <fct>\\\\\n",
       "\\hline\n",
       "\t7339 & poisonous & knobbed & scaly   & brown  & no  & foul    & free & close & narrow & buff      & ⋯ & silky  & pink  & pink  & partial & white & one & evanescent & white     & several   & paths  \\\\\n",
       "\t2723 & edible    & flat    & fibrous & gray   & yes & none    & free & close & broad  & pink      & ⋯ & smooth & gray  & pink  & partial & white & one & pendant    & brown     & solitary  & woods  \\\\\n",
       "\t1100 & poisonous & convex  & scaly   & brown  & yes & pungent & free & close & narrow & brown     & ⋯ & smooth & white & white & partial & white & one & pendant    & brown     & scattered & grasses\\\\\n",
       "\t6467 & poisonous & knobbed & scaly   & brown  & no  & fishy   & free & close & narrow & buff      & ⋯ & smooth & pink  & white & partial & white & one & evanescent & white     & several   & paths  \\\\\n",
       "\t4479 & poisonous & flat    & fibrous & yellow & no  & foul    & free & close & broad  & chocolate & ⋯ & silky  & buff  & buff  & partial & white & one & large      & chocolate & solitary  & paths  \\\\\n",
       "\t3599 & edible    & flat    & scaly   & brown  & yes & none    & free & close & broad  & brown     & ⋯ & smooth & pink  & gray  & partial & white & one & pendant    & black     & solitary  & woods  \\\\\n",
       "\\end{tabular}\n"
      ],
      "text/markdown": [
       "\n",
       "A data.frame: 6 × 23\n",
       "\n",
       "| <!--/--> | type &lt;fct&gt; | cap_shape &lt;fct&gt; | cap_surface &lt;fct&gt; | cap_color &lt;fct&gt; | bruises &lt;fct&gt; | odor &lt;fct&gt; | gill_attachment &lt;fct&gt; | gill_spacing &lt;fct&gt; | gill_size &lt;fct&gt; | gill_color &lt;fct&gt; | ⋯ ⋯ | stalk_surface_below_ring &lt;fct&gt; | stalk_color_above_ring &lt;fct&gt; | stalk_color_below_ring &lt;fct&gt; | veil_type &lt;fct&gt; | veil_color &lt;fct&gt; | ring_number &lt;fct&gt; | ring_type &lt;fct&gt; | spore_print_color &lt;fct&gt; | population &lt;fct&gt; | habitat &lt;fct&gt; |\n",
       "|---|---|---|---|---|---|---|---|---|---|---|---|---|---|---|---|---|---|---|---|---|---|\n",
       "| 7339 | poisonous | knobbed | scaly   | brown  | no  | foul    | free | close | narrow | buff      | ⋯ | silky  | pink  | pink  | partial | white | one | evanescent | white     | several   | paths   |\n",
       "| 2723 | edible    | flat    | fibrous | gray   | yes | none    | free | close | broad  | pink      | ⋯ | smooth | gray  | pink  | partial | white | one | pendant    | brown     | solitary  | woods   |\n",
       "| 1100 | poisonous | convex  | scaly   | brown  | yes | pungent | free | close | narrow | brown     | ⋯ | smooth | white | white | partial | white | one | pendant    | brown     | scattered | grasses |\n",
       "| 6467 | poisonous | knobbed | scaly   | brown  | no  | fishy   | free | close | narrow | buff      | ⋯ | smooth | pink  | white | partial | white | one | evanescent | white     | several   | paths   |\n",
       "| 4479 | poisonous | flat    | fibrous | yellow | no  | foul    | free | close | broad  | chocolate | ⋯ | silky  | buff  | buff  | partial | white | one | large      | chocolate | solitary  | paths   |\n",
       "| 3599 | edible    | flat    | scaly   | brown  | yes | none    | free | close | broad  | brown     | ⋯ | smooth | pink  | gray  | partial | white | one | pendant    | black     | solitary  | woods   |\n",
       "\n"
      ],
      "text/plain": [
       "     type      cap_shape cap_surface cap_color bruises odor    gill_attachment\n",
       "7339 poisonous knobbed   scaly       brown     no      foul    free           \n",
       "2723 edible    flat      fibrous     gray      yes     none    free           \n",
       "1100 poisonous convex    scaly       brown     yes     pungent free           \n",
       "6467 poisonous knobbed   scaly       brown     no      fishy   free           \n",
       "4479 poisonous flat      fibrous     yellow    no      foul    free           \n",
       "3599 edible    flat      scaly       brown     yes     none    free           \n",
       "     gill_spacing gill_size gill_color <U+22EF>        stalk_surface_below_ring\n",
       "7339 close        narrow    buff       <U+22EF> silky                   \n",
       "2723 close        broad     pink       <U+22EF> smooth                  \n",
       "1100 close        narrow    brown      <U+22EF> smooth                  \n",
       "6467 close        narrow    buff       <U+22EF> smooth                  \n",
       "4479 close        broad     chocolate  <U+22EF> silky                   \n",
       "3599 close        broad     brown      <U+22EF> smooth                  \n",
       "     stalk_color_above_ring stalk_color_below_ring veil_type veil_color\n",
       "7339 pink                   pink                   partial   white     \n",
       "2723 gray                   pink                   partial   white     \n",
       "1100 white                  white                  partial   white     \n",
       "6467 pink                   white                  partial   white     \n",
       "4479 buff                   buff                   partial   white     \n",
       "3599 pink                   gray                   partial   white     \n",
       "     ring_number ring_type  spore_print_color population habitat\n",
       "7339 one         evanescent white             several    paths  \n",
       "2723 one         pendant    brown             solitary   woods  \n",
       "1100 one         pendant    brown             scattered  grasses\n",
       "6467 one         evanescent white             several    paths  \n",
       "4479 one         large      chocolate         solitary   paths  \n",
       "3599 one         pendant    black             solitary   woods  "
      ]
     },
     "metadata": {},
     "output_type": "display_data"
    }
   ],
   "source": [
    "#randomizing data and confirming that it is done\n",
    "set.seed(12345)\n",
    "mushrooms_random <- mushrooms[order(runif(nrow(mushrooms))),]\n",
    "head(mushrooms_random)"
   ]
  },
  {
   "cell_type": "code",
   "execution_count": 41,
   "id": "b4a54922-f1c1-4d6e-a697-54cbc865f269",
   "metadata": {},
   "outputs": [
    {
     "data": {
      "text/plain": [
       "\n",
       " no yes \n",
       "700 300 "
      ]
     },
     "metadata": {},
     "output_type": "display_data"
    },
    {
     "data": {
      "text/plain": [
       "\n",
       "   edible poisonous \n",
       "     4208      3916 "
      ]
     },
     "metadata": {},
     "output_type": "display_data"
    }
   ],
   "source": [
    "table(credit_random$default)  # partition of classification uneven\n",
    "table(mushrooms_random$type)  # partition of classification is almost even"
   ]
  },
  {
   "cell_type": "markdown",
   "id": "d12e4edf-3704-4299-8286-21660eb816aa",
   "metadata": {},
   "source": [
    "##### >>>>>>>>>>using Rule Learner models on the data<<<<<<<<<<\n",
    "##### Note: Can not initalize all agorithms together as they conflict so going through them one at a time"
   ]
  },
  {
   "cell_type": "code",
   "execution_count": 42,
   "id": "93cd4a43-c863-4c7b-8a59-06b3e5821716",
   "metadata": {},
   "outputs": [],
   "source": [
    "# using all data as we are trying to detect rules and not preparing for unforseen data.\n",
    "# model relationship between 'type' against all predictors '.' or mention their names like x1 + x2 +x3 and so on"
   ]
  },
  {
   "cell_type": "code",
   "execution_count": 43,
   "id": "ef769b02-4a8d-460b-8364-a6cd11377bab",
   "metadata": {},
   "outputs": [
    {
     "name": "stderr",
     "output_type": "stream",
     "text": [
      "Loading required package: usethis\n",
      "\n"
     ]
    },
    {
     "name": "stdout",
     "output_type": "stream",
     "text": [
      "package 'rJava' successfully unpacked and MD5 sums checked\n",
      "\n",
      "The downloaded binary packages are in\n",
      "\tC:\\Users\\devops\\AppData\\Local\\Temp\\2\\Rtmpi8EYqU\\downloaded_packages\n"
     ]
    }
   ],
   "source": [
    "# initializing OneR\n",
    "library(devtools)\n",
    "install.packages(\"rJava\")\n",
    "library(rJava)\n",
    "library(OneR)"
   ]
  },
  {
   "cell_type": "code",
   "execution_count": 44,
   "id": "6408ebd9-b772-4885-b86e-2358e1276fbc",
   "metadata": {},
   "outputs": [
    {
     "data": {
      "text/plain": [
       "\n",
       "Call:\n",
       "OneR.formula(formula = default ~ ., data = credit_random)\n",
       "\n",
       "Rules:\n",
       "If credit_history = critical  then default = no\n",
       "If credit_history = good      then default = no\n",
       "If credit_history = perfect   then default = yes\n",
       "If credit_history = poor      then default = no\n",
       "If credit_history = very good then default = yes\n",
       "\n",
       "Accuracy:\n",
       "717 of 1000 instances classified correctly (71.7%)\n"
      ]
     },
     "metadata": {},
     "output_type": "display_data"
    },
    {
     "data": {
      "text/plain": [
       "\n",
       "Call:\n",
       "OneR.formula(formula = type ~ ., data = mushrooms_random)\n",
       "\n",
       "Rules:\n",
       "If odor = almond   then type = edible\n",
       "If odor = anise    then type = edible\n",
       "If odor = creosote then type = poisonous\n",
       "If odor = fishy    then type = poisonous\n",
       "If odor = foul     then type = poisonous\n",
       "If odor = musty    then type = poisonous\n",
       "If odor = none     then type = edible\n",
       "If odor = pungent  then type = poisonous\n",
       "If odor = spicy    then type = poisonous\n",
       "\n",
       "Accuracy:\n",
       "8004 of 8124 instances classified correctly (98.52%)\n"
      ]
     },
     "metadata": {},
     "output_type": "display_data"
    }
   ],
   "source": [
    "# Working with OneR on CREDIT data and MUSHROOM data\n",
    "credit_1R <- OneR(default ~ ., data = credit_random) \n",
    "mushrooms_1R <- OneR(type ~ ., data = mushrooms_random) \n",
    "\n",
    "# checking for rules generated\n",
    "credit_1R \n",
    "mushrooms_1R"
   ]
  },
  {
   "cell_type": "code",
   "execution_count": 45,
   "id": "e6b3e7ff-10f2-467f-8703-34b455dc4958",
   "metadata": {},
   "outputs": [],
   "source": [
    "# making predictions for comparision later\n",
    "credit_1R_pred <- predict(credit_1R, credit_random)\n",
    "mushrooms_1R_pred <- predict(mushrooms_1R, mushrooms_random)"
   ]
  },
  {
   "cell_type": "code",
   "execution_count": 46,
   "id": "0ff5ab61-127b-445f-ae1d-abaac9867de3",
   "metadata": {},
   "outputs": [
    {
     "name": "stdout",
     "output_type": "stream",
     "text": [
      "package 'RWeka' successfully unpacked and MD5 sums checked\n",
      "\n",
      "The downloaded binary packages are in\n",
      "\tC:\\Users\\devops\\AppData\\Local\\Temp\\2\\Rtmpi8EYqU\\downloaded_packages\n"
     ]
    },
    {
     "name": "stderr",
     "output_type": "stream",
     "text": [
      "\n",
      "Attaching package: 'RWeka'\n",
      "\n",
      "\n",
      "The following object is masked from 'package:OneR':\n",
      "\n",
      "    OneR\n",
      "\n",
      "\n"
     ]
    }
   ],
   "source": [
    "# initializing Ripper\n",
    "install.packages(\"RWeka\")\n",
    "library(RWeka)"
   ]
  },
  {
   "cell_type": "code",
   "execution_count": 47,
   "id": "8da94817-10c7-4e59-adc0-9e0b03e96824",
   "metadata": {},
   "outputs": [
    {
     "data": {
      "text/plain": [
       "JRIP rules:\n",
       "===========\n",
       "\n",
       "(checking_balance = < 0 DM) and (months_loan_duration >= 16) => default=yes (166.0/68.0)\n",
       "(checking_balance = 1 - 200 DM) and (months_loan_duration >= 24) and (savings_balance = < 100 DM) => default=yes (61.0/19.0)\n",
       " => default=no (773.0/160.0)\n",
       "\n",
       "Number of Rules : 3\n"
      ]
     },
     "metadata": {},
     "output_type": "display_data"
    },
    {
     "data": {
      "text/plain": [
       "JRIP rules:\n",
       "===========\n",
       "\n",
       "(odor = foul) => type=poisonous (2160.0/0.0)\n",
       "(gill_size = narrow) and (gill_color = buff) => type=poisonous (1152.0/0.0)\n",
       "(gill_size = narrow) and (odor = pungent) => type=poisonous (256.0/0.0)\n",
       "(odor = creosote) => type=poisonous (192.0/0.0)\n",
       "(spore_print_color = green) => type=poisonous (72.0/0.0)\n",
       "(stalk_surface_below_ring = scaly) and (stalk_surface_above_ring = silky) => type=poisonous (68.0/0.0)\n",
       "(stalk_color_above_ring = yellow) => type=poisonous (8.0/0.0)\n",
       "(habitat = leaves) and (cap_color = white) => type=poisonous (8.0/0.0)\n",
       " => type=edible (4208.0/0.0)\n",
       "\n",
       "Number of Rules : 9\n"
      ]
     },
     "metadata": {},
     "output_type": "display_data"
    }
   ],
   "source": [
    "# Working with Ripper on CREDIT data and MUSHROOM data\n",
    "credit_JRip <- JRip(default ~ ., data = credit_random)\n",
    "mushrooms_JRip <- JRip(type ~ ., data = mushrooms_random)\n",
    "\n",
    "# checking for rules generated\n",
    "credit_JRip\n",
    "mushrooms_JRip"
   ]
  },
  {
   "cell_type": "code",
   "execution_count": 48,
   "id": "a5a73606-4699-40ae-afe1-664149afc7ca",
   "metadata": {},
   "outputs": [],
   "source": [
    "# making predictions for comparision later\n",
    "credit_JRip_pred <- predict(credit_JRip, credit_random)\n",
    "mushrooms_JRip_pred <- predict(mushrooms_JRip, mushrooms_random)"
   ]
  },
  {
   "cell_type": "code",
   "execution_count": 49,
   "id": "b45eaa8f-1251-4a2b-a23c-c554993552c4",
   "metadata": {},
   "outputs": [
    {
     "name": "stderr",
     "output_type": "stream",
     "text": [
      "Warning message:\n",
      "\"package 'C50' is in use and will not be installed\"\n"
     ]
    }
   ],
   "source": [
    "# initializing C50\n",
    "install.packages(\"C50\")\n",
    "library(C50) "
   ]
  },
  {
   "cell_type": "code",
   "execution_count": 50,
   "id": "c68844a1-1c3e-4046-add1-154ee9e8bf92",
   "metadata": {},
   "outputs": [
    {
     "data": {
      "text/plain": [
       "\n",
       "Call:\n",
       "C5.0.formula(formula = default ~ ., data = credit_random, rules = TRUE)\n",
       "\n",
       "Rule-Based Model\n",
       "Number of samples: 1000 \n",
       "Number of predictors: 16 \n",
       "\n",
       "Number of Rules: 24 \n",
       "\n",
       "Non-standard options: attempt to group attributes\n"
      ]
     },
     "metadata": {},
     "output_type": "display_data"
    }
   ],
   "source": [
    "# Working with C50 decision tree algo on CREDIT data\n",
    "credit_c5rules <- C5.0(default ~ ., data = credit_random, rules = TRUE)\n",
    "\n",
    "# checking for rules generated\n",
    "(credit_c5rules)"
   ]
  },
  {
   "cell_type": "code",
   "execution_count": 51,
   "id": "519f67fd-562f-4029-b70d-b7533e6d75e5",
   "metadata": {},
   "outputs": [
    {
     "data": {
      "text/plain": [
       "\n",
       "Call:\n",
       "C5.0.formula(formula = type ~ ., data = mushrooms_random[, -17], rules = TRUE)\n",
       "\n",
       "\n",
       "C5.0 [Release 2.07 GPL Edition]  \tMon Feb 20 23:06:30 2023\n",
       "-------------------------------\n",
       "\n",
       "Class specified by attribute `outcome'\n",
       "\n",
       "Read 8124 cases (22 attributes) from undefined.data\n",
       "\n",
       "Rules:\n",
       "\n",
       "Rule 1: (4148/4, lift 1.9)\n",
       "\tcap_surface in {fibrous, scaly, smooth}\n",
       "\todor in {almond, anise, none}\n",
       "\tstalk_color_below_ring in {gray, orange, pink, red, white}\n",
       "\tspore_print_color in {black, brown, buff, chocolate, orange, purple,\n",
       "                              white, yellow}\n",
       "\t->  class edible  [0.999]\n",
       "\n",
       "Rule 2: (3500/12, lift 1.9)\n",
       "\tcap_surface in {fibrous, scaly, smooth}\n",
       "\todor in {almond, anise, none}\n",
       "\tstalk_root in {bulbous, club, equal, rooted}\n",
       "\tspore_print_color in {black, brown, purple, white}\n",
       "\t->  class edible  [0.996]\n",
       "\n",
       "Rule 3: (3796, lift 2.1)\n",
       "\todor in {creosote, fishy, foul, musty, pungent, spicy}\n",
       "\t->  class poisonous  [1.000]\n",
       "\n",
       "Rule 4: (72, lift 2.0)\n",
       "\tspore_print_color = green\n",
       "\t->  class poisonous  [0.986]\n",
       "\n",
       "Rule 5: (24, lift 2.0)\n",
       "\tstalk_color_below_ring = yellow\n",
       "\t->  class poisonous  [0.962]\n",
       "\n",
       "Rule 6: (16, lift 2.0)\n",
       "\tstalk_root = missing\n",
       "\tstalk_color_below_ring = brown\n",
       "\t->  class poisonous  [0.944]\n",
       "\n",
       "Rule 7: (4, lift 1.7)\n",
       "\tcap_surface = grooves\n",
       "\t->  class poisonous  [0.833]\n",
       "\n",
       "Default class: edible\n",
       "\n",
       "\n",
       "Evaluation on training data (8124 cases):\n",
       "\n",
       "\t        Rules     \n",
       "\t  ----------------\n",
       "\t    No      Errors\n",
       "\n",
       "\t     7   12( 0.1%)   <<\n",
       "\n",
       "\n",
       "\t   (a)   (b)    <-classified as\n",
       "\t  ----  ----\n",
       "\t  4208          (a): class edible\n",
       "\t    12  3904    (b): class poisonous\n",
       "\n",
       "\n",
       "\tAttribute usage:\n",
       "\n",
       "\t 98.67%\todor\n",
       "\t 52.83%\tspore_print_color\n",
       "\t 51.99%\tcap_surface\n",
       "\t 51.55%\tstalk_color_below_ring\n",
       "\t 43.28%\tstalk_root\n",
       "\n",
       "\n",
       "Time: 0.0 secs\n"
      ]
     },
     "metadata": {},
     "output_type": "display_data"
    }
   ],
   "source": [
    "# Working with C50 decision tree algo on MUSHROOM data\n",
    "#>>>> NOTE: \n",
    "# decision tree with rule learner fails with complete dataset as attribute 'veil type' has only one level 'partial' and so it exits with exit code 1.\n",
    "# in summary of the result it shouws this message so i removed that column or property from the data.\n",
    "# this decision does not affect the result as it never served any variation.\n",
    "\n",
    "mushrooms_c5rules <- C5.0(type ~ ., data = mushrooms_random[,-17], rules = TRUE) # gets error \n",
    "\n",
    "# checking for rules generated\n",
    "summary(mushrooms_c5rules)"
   ]
  },
  {
   "cell_type": "code",
   "execution_count": 52,
   "id": "fa39f44c-ec2b-4741-a71e-3cfa261ee57d",
   "metadata": {},
   "outputs": [],
   "source": [
    "# making predictions for comparision later\n",
    "credit_c5rules_pred <- predict(credit_c5rules, credit_random)\n",
    "mushrooms_c5rules_pred <- predict(mushrooms_c5rules, mushrooms_random)"
   ]
  },
  {
   "cell_type": "markdown",
   "id": "ad92ccf2-7041-4f84-aa99-d8ae95963369",
   "metadata": {},
   "source": [
    "##### >>>>>>>>>>comparing the accuracy of rules generated by the models<<<<<<<<<<"
   ]
  },
  {
   "cell_type": "code",
   "execution_count": 53,
   "id": "f1ecbe31-572a-4bce-b975-a56d058e1c89",
   "metadata": {},
   "outputs": [
    {
     "name": "stdout",
     "output_type": "stream",
     "text": [
      "package 'MLmetrics' successfully unpacked and MD5 sums checked\n",
      "\n",
      "The downloaded binary packages are in\n",
      "\tC:\\Users\\devops\\AppData\\Local\\Temp\\2\\Rtmpi8EYqU\\downloaded_packages\n"
     ]
    },
    {
     "name": "stderr",
     "output_type": "stream",
     "text": [
      "\n",
      "Attaching package: 'MLmetrics'\n",
      "\n",
      "\n",
      "The following object is masked from 'package:base':\n",
      "\n",
      "    Recall\n",
      "\n",
      "\n"
     ]
    }
   ],
   "source": [
    "install.packages('MLmetrics')\n",
    "library(MLmetrics)"
   ]
  },
  {
   "cell_type": "code",
   "execution_count": 54,
   "id": "3b50c7bd-8064-43d4-abdc-1e9a90dac705",
   "metadata": {},
   "outputs": [
    {
     "name": "stdout",
     "output_type": "stream",
     "text": [
      "[1] \"========== CREDIT DATA RESULTS ==========\"\n"
     ]
    },
    {
     "data": {
      "text/html": [
       "'OneR accuracy for credit data: 71.700000'"
      ],
      "text/latex": [
       "'OneR accuracy for credit data: 71.700000'"
      ],
      "text/markdown": [
       "'OneR accuracy for credit data: 71.700000'"
      ],
      "text/plain": [
       "[1] \"OneR accuracy for credit data: 71.700000\""
      ]
     },
     "metadata": {},
     "output_type": "display_data"
    },
    {
     "data": {
      "text/html": [
       "'RIPPER accuracy for credit data: 75.300000'"
      ],
      "text/latex": [
       "'RIPPER accuracy for credit data: 75.300000'"
      ],
      "text/markdown": [
       "'RIPPER accuracy for credit data: 75.300000'"
      ],
      "text/plain": [
       "[1] \"RIPPER accuracy for credit data: 75.300000\""
      ]
     },
     "metadata": {},
     "output_type": "display_data"
    },
    {
     "data": {
      "text/html": [
       "'C50 Decision tree rule learner accuracy for credit data: 85.300000'"
      ],
      "text/latex": [
       "'C50 Decision tree rule learner accuracy for credit data: 85.300000'"
      ],
      "text/markdown": [
       "'C50 Decision tree rule learner accuracy for credit data: 85.300000'"
      ],
      "text/plain": [
       "[1] \"C50 Decision tree rule learner accuracy for credit data: 85.300000\""
      ]
     },
     "metadata": {},
     "output_type": "display_data"
    },
    {
     "data": {
      "text/html": [
       "<span style=white-space:pre-wrap>'    '</span>"
      ],
      "text/latex": [
       "'    '"
      ],
      "text/markdown": [
       "<span style=white-space:pre-wrap>'    '</span>"
      ],
      "text/plain": [
       "[1] \"    \""
      ]
     },
     "metadata": {},
     "output_type": "display_data"
    },
    {
     "name": "stdout",
     "output_type": "stream",
     "text": [
      "[1] \"========== MUSHROOM DATA RESULTS ==========\"\n"
     ]
    },
    {
     "data": {
      "text/html": [
       "'OneR accuracy for mushroom data: 98.522895'"
      ],
      "text/latex": [
       "'OneR accuracy for mushroom data: 98.522895'"
      ],
      "text/markdown": [
       "'OneR accuracy for mushroom data: 98.522895'"
      ],
      "text/plain": [
       "[1] \"OneR accuracy for mushroom data: 98.522895\""
      ]
     },
     "metadata": {},
     "output_type": "display_data"
    },
    {
     "data": {
      "text/html": [
       "'RIPPER accuracy for mushroom data: 100.000000'"
      ],
      "text/latex": [
       "'RIPPER accuracy for mushroom data: 100.000000'"
      ],
      "text/markdown": [
       "'RIPPER accuracy for mushroom data: 100.000000'"
      ],
      "text/plain": [
       "[1] \"RIPPER accuracy for mushroom data: 100.000000\""
      ]
     },
     "metadata": {},
     "output_type": "display_data"
    },
    {
     "data": {
      "text/html": [
       "'C50 Decision tree rule learner accuracy for mushroom data: 99.852290'"
      ],
      "text/latex": [
       "'C50 Decision tree rule learner accuracy for mushroom data: 99.852290'"
      ],
      "text/markdown": [
       "'C50 Decision tree rule learner accuracy for mushroom data: 99.852290'"
      ],
      "text/plain": [
       "[1] \"C50 Decision tree rule learner accuracy for mushroom data: 99.852290\""
      ]
     },
     "metadata": {},
     "output_type": "display_data"
    }
   ],
   "source": [
    "print(\"========== CREDIT DATA RESULTS ==========\")\n",
    "sprintf(\"OneR accuracy for credit data: %f\", (MLmetrics::Accuracy(credit_1R_pred, credit_random$default)*100))\n",
    "sprintf(\"RIPPER accuracy for credit data: %f\", (MLmetrics::Accuracy(credit_JRip_pred, credit_random$default)*100))\n",
    "sprintf(\"C50 Decision tree rule learner accuracy for credit data: %f\", (MLmetrics::Accuracy(credit_c5rules_pred, credit_random$default)*100))\n",
    "sprintf(\"    \")\n",
    "print(\"========== MUSHROOM DATA RESULTS ==========\")\n",
    "sprintf(\"OneR accuracy for mushroom data: %f\", (MLmetrics::Accuracy(mushrooms_1R_pred, mushrooms_random$type)*100))\n",
    "sprintf(\"RIPPER accuracy for mushroom data: %f\", (MLmetrics::Accuracy(mushrooms_JRip_pred, mushrooms_random$type)*100))\n",
    "sprintf(\"C50 Decision tree rule learner accuracy for mushroom data: %f\", (MLmetrics::Accuracy(mushrooms_c5rules_pred, mushrooms_random$type)*100))"
   ]
  },
  {
   "cell_type": "code",
   "execution_count": 55,
   "id": "2e7c1dfb-546d-47e2-b4ad-6c3ddef38183",
   "metadata": {},
   "outputs": [
    {
     "name": "stdout",
     "output_type": "stream",
     "text": [
      "\n",
      " \n",
      "   Cell Contents\n",
      "|-------------------------|\n",
      "|                       N |\n",
      "|         N / Table Total |\n",
      "|-------------------------|\n",
      "\n",
      " \n",
      "Total Observations in Table:  1000 \n",
      "\n",
      " \n",
      "             | predicted \n",
      "      actual |        no |       yes | Row Total | \n",
      "-------------|-----------|-----------|-----------|\n",
      "          no |       664 |        36 |       700 | \n",
      "             |     0.664 |     0.036 |           | \n",
      "-------------|-----------|-----------|-----------|\n",
      "         yes |       247 |        53 |       300 | \n",
      "             |     0.247 |     0.053 |           | \n",
      "-------------|-----------|-----------|-----------|\n",
      "Column Total |       911 |        89 |      1000 | \n",
      "-------------|-----------|-----------|-----------|\n",
      "\n",
      " \n"
     ]
    },
    {
     "data": {
      "text/plain": [
       "      predicted\n",
       "actual  no yes\n",
       "   no  664  36\n",
       "   yes 247  53"
      ]
     },
     "metadata": {},
     "output_type": "display_data"
    },
    {
     "data": {
      "text/plain": [
       "      predicted\n",
       "actual  no yes\n",
       "   no  613  87\n",
       "   yes 160 140"
      ]
     },
     "metadata": {},
     "output_type": "display_data"
    },
    {
     "data": {
      "text/plain": [
       "      predicted\n",
       "actual  no yes\n",
       "   no  668  32\n",
       "   yes 115 185"
      ]
     },
     "metadata": {},
     "output_type": "display_data"
    },
    {
     "data": {
      "text/plain": [
       "           predicted\n",
       "actual      edible poisonous\n",
       "  edible      4208         0\n",
       "  poisonous    120      3796"
      ]
     },
     "metadata": {},
     "output_type": "display_data"
    },
    {
     "data": {
      "text/plain": [
       "           predicted\n",
       "actual      edible poisonous\n",
       "  edible      4208         0\n",
       "  poisonous      0      3916"
      ]
     },
     "metadata": {},
     "output_type": "display_data"
    },
    {
     "data": {
      "text/plain": [
       "           predicted\n",
       "actual      edible poisonous\n",
       "  edible      4208         0\n",
       "  poisonous     12      3904"
      ]
     },
     "metadata": {},
     "output_type": "display_data"
    }
   ],
   "source": [
    "# sample validation table\n",
    "CrossTable(credit_random$default, credit_1R_pred, prop.chisq = FALSE, prop.c = FALSE, prop.r = FALSE, dnn = c('actual', 'predicted'))\n",
    "\n",
    "\n",
    "table(actual = credit_random$default, predicted = credit_1R_pred)\n",
    "table(actual = credit_random$default, predicted = credit_JRip_pred)\n",
    "table(actual = credit_random$default, predicted = credit_c5rules_pred)\n",
    "table(actual = mushrooms_random$type, predicted = mushrooms_1R_pred)\n",
    "table(actual = mushrooms_random$type, predicted = mushrooms_JRip_pred)\n",
    "table(actual = mushrooms_random$type, predicted = mushrooms_c5rules_pred)"
   ]
  },
  {
   "cell_type": "markdown",
   "id": "e9666e53-3e51-423a-99d9-17f5957cbfb6",
   "metadata": {},
   "source": [
    "#### 3. Use the caret package and evaluate the models in 1 and 2 above in terms of accuracy, kappa statistic, sensitivity, specificity, and the F-measure. "
   ]
  },
  {
   "cell_type": "code",
   "execution_count": 56,
   "id": "4c5305ee-6cc0-479e-9dc8-00fb7e108f0e",
   "metadata": {},
   "outputs": [],
   "source": [
    "# Learn more about Caret package.\n",
    "# Source: https://daviddalpiaz.github.io/r4sl/the-caret-package.html\n",
    "\n",
    "# Problem, At face value it would seem like it should be easy to repeat this process for a number of different methods, however we have run into a number of difficulties attempting to do so with R.\n",
    "\n",
    "# The predict() function seems to have a different behavior for each new method we see.\n",
    "# Many methods have different cross-validation functions, or worse yet, no built-in process for cross-validation.\n",
    "# Not all methods expect the same data format. Some methods do not use formula syntax.\n",
    "# Different methods have different handling of categorical predictors. Some methods cannot handle factor variables.\n",
    "\n",
    "\n",
    "# Solution ? \n",
    "# Thankfully, the R community has essentially provided a silver bullet for these issues, the caret package. Returning to the above list, we will see that a number of these tasks are directly addressed in the caret package.\n",
    "\n",
    "# Test-train split the available data: createDataPartition() will take the place of our manual data splitting. It will also do some extra work to ensure that the train and test samples are somewhat similar.\n",
    "# Specify possible tuning parameters for method: expand.grid() is not a function in caret, but we will get in the habit of using it to specify a grid of tuning parameters.\n",
    "\n",
    "# Use resampling to find the “best model” by choosing the values of the tuning parameters: \n",
    "# - trainControl() will specify the resampling scheme\n",
    "# - train() is the workhorse of caret. It takes the following information then trains (tunes) the requested model:\n",
    "# - - form, a formula, such as y ~ . : This specifies the response and which predictors (or transformations of) should be used.\n",
    "# - - data, the data used for training\n",
    "# - - trControl which specifies the resampling scheme, that is, how cross-validation should be performed to find the best values of the tuning parameters\n",
    "# - - preProcess which allows for specification of data pre-processing such as centering and scaling\n",
    "# - - method, a statistical learning method from a long list of availible models\n",
    "# - - tuneGrid which specifies the tuning parameters to train over\n",
    "\n",
    "# - Use chosen model to make predictions: predict() used on objects of type train will be truly magical!"
   ]
  },
  {
   "cell_type": "code",
   "execution_count": 64,
   "id": "7fcd7e13-f9cf-4f69-8272-f3d3e5b468bb",
   "metadata": {},
   "outputs": [],
   "source": [
    "# Revision: \n",
    "\n",
    "# In machine learning and statistical classification, multiclass classification or multinomial classification is the problem of classifying instances into one of three or more classes (classifying instances into one of two classes is called binary classification).\n",
    "\n",
    "# True positive (TP): Prediction is +ve and X is diabetic, Hit, this is what we desire.\n",
    "# True negative (TN): Prediction is -ve and X is healthy, Correct Rejection, this is what we desire too.\n",
    "# False positive (FP): Prediction is +ve and X is healthy, false alarm, bad, Over-Estimation (Type I error).\n",
    "# False negative (FN): Prediction is -ve and X is diabetic, miss, the worst, Under-Estimation (Type II error).\n",
    "\n",
    "# Accuracy= (TN + TP)/ (TN + TP + FN + FP) : Out of all the predicted samples (correct and incorrect), how many of them were correct?\n",
    "# Yes, accuracy is a great measure but only when you have symmetric datasets (false negatives & false positives counts are close), also, false negatives & false positives have similar costs.\n",
    "\n",
    "# notes: https://towardsdatascience.com/accuracy-recall-precision-f-score-specificity-which-to-optimize-on-867d3f11124\n",
    "# Precision is how sure you are of your true positives predictions whilst recall is how sure you are that you are not missing any positives.\n",
    "# Precision = TP / (TP + FP)   : Out of all the samples that were predicted as positive, how many are really positive?\n",
    "# Recall = TP / (TP + FN)      : Out of all the positive samples, how many are predicted as positive?\n",
    "# Sensitivity = TP / (TP + FN) : Out of all the positive samples, how many are predicted as positive?  (not a mistake, this is same as recall)\n",
    "# Specificity = TN / (TN + FP) : Out of all the negative samples, how many are predicted as negative?\n",
    "\n",
    "# F-measure = : 2*TP / (2TP + FP + FN)\n",
    "# The F1 score is the harmonic mean of the precision and recall. It thus symmetrically represents both precision and recall in one metric. \n",
    "#The highest possible value of an F-score is 1.0, indicating perfect precision and recall, and the lowest possible value is 0, if either precision or recall are zero.\n",
    "\n",
    "# Kappa statistic = (observed accuracy - expected accuracy)/(1 - expected accuracy)\n",
    "# simple explaination at: https://stats.stackexchange.com/questions/82162/cohens-kappa-in-plain-english\n",
    "# https://towardsdatascience.com/cohens-kappa-what-it-is-when-to-use-it-and-how-to-avoid-its-pitfalls-e42447962bbc\n",
    "# This is more reliable than the others as if one of the class is more heavily involved, it can affect the metric"
   ]
  },
  {
   "cell_type": "markdown",
   "id": "ba6efdde-2ebf-4867-884e-eeac79b1be24",
   "metadata": {},
   "source": [
    "#### Confusion Matrix for understanding\n",
    "![image.png](./confusionmatrix.PNG)"
   ]
  },
  {
   "cell_type": "code",
   "execution_count": null,
   "id": "aab03c6b-4962-4e61-9959-e62b87a89b92",
   "metadata": {},
   "outputs": [],
   "source": []
  },
  {
   "cell_type": "code",
   "execution_count": 58,
   "id": "76b50f51-5176-4180-9b0c-f9ac8591cebd",
   "metadata": {
    "scrolled": true,
    "tags": []
   },
   "outputs": [
    {
     "name": "stdout",
     "output_type": "stream",
     "text": [
      "package 'caret' successfully unpacked and MD5 sums checked\n",
      "\n",
      "The downloaded binary packages are in\n",
      "\tC:\\Users\\devops\\AppData\\Local\\Temp\\2\\Rtmpi8EYqU\\downloaded_packages\n"
     ]
    }
   ],
   "source": [
    "install.packages(\"caret\", dependencies = c(\"Depends\", \"Suggests\"))"
   ]
  },
  {
   "cell_type": "code",
   "execution_count": 59,
   "id": "29f2af0c-ce01-49fc-a1ad-56418c3d82e4",
   "metadata": {},
   "outputs": [
    {
     "name": "stderr",
     "output_type": "stream",
     "text": [
      "Loading required package: ggplot2\n",
      "\n",
      "Loading required package: lattice\n",
      "\n",
      "\n",
      "Attaching package: 'caret'\n",
      "\n",
      "\n",
      "The following objects are masked from 'package:MLmetrics':\n",
      "\n",
      "    MAE, RMSE\n",
      "\n",
      "\n",
      "Loading required package: MASS\n",
      "\n"
     ]
    }
   ],
   "source": [
    "library(caret)\n",
    "library(klaR)"
   ]
  },
  {
   "cell_type": "code",
   "execution_count": 60,
   "id": "e83c659b-c9da-42c5-8495-c2b2790e9808",
   "metadata": {
    "scrolled": true,
    "tags": []
   },
   "outputs": [
    {
     "data": {
      "text/html": [
       "\n",
       "<table style=\"width: 100%;\"><tr><td>confusionMatrix {caret}</td><td style=\"text-align: right;\">R Documentation</td></tr></table>\n",
       "\n",
       "<h2>Create a confusion matrix</h2>\n",
       "\n",
       "<h3>Description</h3>\n",
       "\n",
       "<p>Calculates a cross-tabulation of observed and predicted classes with\n",
       "associated statistics.\n",
       "</p>\n",
       "\n",
       "\n",
       "<h3>Usage</h3>\n",
       "\n",
       "<pre><code class='language-R'>confusionMatrix(data, ...)\n",
       "\n",
       "## Default S3 method:\n",
       "confusionMatrix(\n",
       "  data,\n",
       "  reference,\n",
       "  positive = NULL,\n",
       "  dnn = c(\"Prediction\", \"Reference\"),\n",
       "  prevalence = NULL,\n",
       "  mode = \"sens_spec\",\n",
       "  ...\n",
       ")\n",
       "\n",
       "## S3 method for class 'matrix'\n",
       "confusionMatrix(\n",
       "  data,\n",
       "  positive = NULL,\n",
       "  prevalence = NULL,\n",
       "  mode = \"sens_spec\",\n",
       "  ...\n",
       ")\n",
       "\n",
       "## S3 method for class 'table'\n",
       "confusionMatrix(\n",
       "  data,\n",
       "  positive = NULL,\n",
       "  prevalence = NULL,\n",
       "  mode = \"sens_spec\",\n",
       "  ...\n",
       ")\n",
       "</code></pre>\n",
       "\n",
       "\n",
       "<h3>Arguments</h3>\n",
       "\n",
       "<table>\n",
       "<tr style=\"vertical-align: top;\"><td><code>data</code></td>\n",
       "<td>\n",
       "<p>a factor of predicted classes (for the default method) or an\n",
       "object of class <code>table</code>.</p>\n",
       "</td></tr>\n",
       "<tr style=\"vertical-align: top;\"><td><code>...</code></td>\n",
       "<td>\n",
       "<p>options to be passed to <code>table</code>. NOTE: do not include\n",
       "<code>dnn</code> here</p>\n",
       "</td></tr>\n",
       "<tr style=\"vertical-align: top;\"><td><code>reference</code></td>\n",
       "<td>\n",
       "<p>a factor of classes to be used as the true results</p>\n",
       "</td></tr>\n",
       "<tr style=\"vertical-align: top;\"><td><code>positive</code></td>\n",
       "<td>\n",
       "<p>an optional character string for the factor level that\n",
       "corresponds to a &quot;positive&quot; result (if that makes sense for your data). If\n",
       "there are only two factor levels, the first level will be used as the\n",
       "&quot;positive&quot; result. When <code>mode = \"prec_recall\"</code>, <code>positive</code> is the\n",
       "same value used for <code>relevant</code> for functions <code>precision</code>,\n",
       "<code>recall</code>, and <code>F_meas.table</code>.</p>\n",
       "</td></tr>\n",
       "<tr style=\"vertical-align: top;\"><td><code>dnn</code></td>\n",
       "<td>\n",
       "<p>a character vector of dimnames for the table</p>\n",
       "</td></tr>\n",
       "<tr style=\"vertical-align: top;\"><td><code>prevalence</code></td>\n",
       "<td>\n",
       "<p>a numeric value or matrix for the rate of the &quot;positive&quot;\n",
       "class of the data. When <code>data</code> has two levels, <code>prevalence</code> should\n",
       "be a single numeric value. Otherwise, it should be a vector of numeric\n",
       "values with elements for each class. The vector should have names\n",
       "corresponding to the classes.</p>\n",
       "</td></tr>\n",
       "<tr style=\"vertical-align: top;\"><td><code>mode</code></td>\n",
       "<td>\n",
       "<p>a single character string either &quot;sens_spec&quot;, &quot;prec_recall&quot;, or\n",
       "&quot;everything&quot;</p>\n",
       "</td></tr>\n",
       "</table>\n",
       "\n",
       "\n",
       "<h3>Details</h3>\n",
       "\n",
       "<p>The functions requires that the factors have exactly the same levels.\n",
       "</p>\n",
       "<p>For two class problems, the sensitivity, specificity, positive predictive\n",
       "value and negative predictive value is calculated using the <code>positive</code>\n",
       "argument. Also, the prevalence of the &quot;event&quot; is computed from the data\n",
       "(unless passed in as an argument), the detection rate (the rate of true\n",
       "events also predicted to be events) and the detection prevalence (the\n",
       "prevalence of predicted events).\n",
       "</p>\n",
       "<p>Suppose a 2x2 table with notation\n",
       "</p>\n",
       "\n",
       "<table>\n",
       "<tr>\n",
       " <td style=\"text-align: right;\"> </td><td style=\"text-align: center;\"> Reference </td><td style=\"text-align: center;\"> </td>\n",
       "</tr>\n",
       "<tr>\n",
       " <td style=\"text-align: right;\"> Predicted </td><td style=\"text-align: center;\"> Event </td><td style=\"text-align: center;\"> No Event\n",
       "</td>\n",
       "</tr>\n",
       "<tr>\n",
       " <td style=\"text-align: right;\"> Event </td><td style=\"text-align: center;\"> A </td><td style=\"text-align: center;\"> B </td>\n",
       "</tr>\n",
       "<tr>\n",
       " <td style=\"text-align: right;\"> No Event </td><td style=\"text-align: center;\"> C </td><td style=\"text-align: center;\"> D </td>\n",
       "</tr>\n",
       "<tr>\n",
       " <td style=\"text-align: right;\"> </td>\n",
       "</tr>\n",
       "\n",
       "</table>\n",
       "\n",
       "<p>The formulas used here are: </p>\n",
       "<p style=\"text-align: center;\"><code class=\"reqn\">Sensitivity = A/(A+C)</code>\n",
       "</p>\n",
       " <p style=\"text-align: center;\"><code class=\"reqn\">Specificity =\n",
       "D/(B+D)</code>\n",
       "</p>\n",
       " <p style=\"text-align: center;\"><code class=\"reqn\">Prevalence = (A+C)/(A+B+C+D)</code>\n",
       "</p>\n",
       " <p style=\"text-align: center;\"><code class=\"reqn\">PPV = (sensitivity *\n",
       "prevalence)/((sensitivity*prevalence) + ((1-specificity)*(1-prevalence)))</code>\n",
       "</p>\n",
       "\n",
       "<p style=\"text-align: center;\"><code class=\"reqn\">NPV = (specificity * (1-prevalence))/(((1-sensitivity)*prevalence) +\n",
       "((specificity)*(1-prevalence)))</code>\n",
       "</p>\n",
       " <p style=\"text-align: center;\"><code class=\"reqn\">Detection Rate = A/(A+B+C+D)</code>\n",
       "</p>\n",
       "\n",
       "<p style=\"text-align: center;\"><code class=\"reqn\">Detection Prevalence = (A+B)/(A+B+C+D)</code>\n",
       "</p>\n",
       " <p style=\"text-align: center;\"><code class=\"reqn\">Balanced Accuracy =\n",
       "(sensitivity+specificity)/2</code>\n",
       "</p>\n",
       "\n",
       "<p style=\"text-align: center;\"><code class=\"reqn\">Precision = A/(A+B)</code>\n",
       "</p>\n",
       " <p style=\"text-align: center;\"><code class=\"reqn\">Recall = A/(A+C)</code>\n",
       "</p>\n",
       " <p style=\"text-align: center;\"><code class=\"reqn\">F1 =\n",
       "(1+beta^2)*precision*recall/((beta^2 * precision)+recall)</code>\n",
       "</p>\n",
       "\n",
       "<p>where <code>beta = 1</code> for this function.\n",
       "</p>\n",
       "<p>See the references for discussions of the first five formulas.\n",
       "</p>\n",
       "<p>For more than two classes, these results are calculated comparing each\n",
       "factor level to the remaining levels (i.e. a &quot;one versus all&quot; approach).\n",
       "</p>\n",
       "<p>The overall accuracy and unweighted Kappa statistic are calculated. A\n",
       "p-value from McNemar's test is also computed using\n",
       "<code>mcnemar.test</code> (which can produce <code>NA</code> values with\n",
       "sparse tables).\n",
       "</p>\n",
       "<p>The overall accuracy rate is computed along with a 95 percent confidence\n",
       "interval for this rate (using <code>binom.test</code>) and a\n",
       "one-sided test to see if the accuracy is better than the &quot;no information\n",
       "rate,&quot; which is taken to be the largest class percentage in the data.\n",
       "</p>\n",
       "\n",
       "\n",
       "<h3>Value</h3>\n",
       "\n",
       "<p>a list with elements </p>\n",
       "<table>\n",
       "<tr style=\"vertical-align: top;\"><td><code>table</code></td>\n",
       "<td>\n",
       "<p>the results of <code>table</code> on\n",
       "<code>data</code> and <code>reference</code></p>\n",
       "</td></tr> <tr style=\"vertical-align: top;\"><td><code>positive</code></td>\n",
       "<td>\n",
       "<p>the positive result level</p>\n",
       "</td></tr>\n",
       "<tr style=\"vertical-align: top;\"><td><code>overall</code></td>\n",
       "<td>\n",
       "<p>a numeric vector with overall accuracy and Kappa statistic\n",
       "values</p>\n",
       "</td></tr> <tr style=\"vertical-align: top;\"><td><code>byClass</code></td>\n",
       "<td>\n",
       "<p>the sensitivity, specificity, positive predictive\n",
       "value, negative predictive value, precision, recall, F1, prevalence,\n",
       "detection rate, detection prevalence and balanced accuracy for each class.\n",
       "For two class systems, this is calculated once using the <code>positive</code>\n",
       "argument</p>\n",
       "</td></tr>\n",
       "</table>\n",
       "\n",
       "\n",
       "<h3>Note</h3>\n",
       "\n",
       "<p>If the reference and data factors have the same levels, but in the\n",
       "incorrect order, the function will reorder them to the order of the data and\n",
       "issue a warning.\n",
       "</p>\n",
       "\n",
       "\n",
       "<h3>Author(s)</h3>\n",
       "\n",
       "<p>Max Kuhn\n",
       "</p>\n",
       "\n",
       "\n",
       "<h3>References</h3>\n",
       "\n",
       "<p>Kuhn, M. (2008), &ldquo;Building predictive models in R using the\n",
       "caret package, &rdquo; <em>Journal of Statistical Software</em>,\n",
       "(<a href=\"https://doi.org/10.18637/jss.v028.i05\">doi:10.18637/jss.v028.i05</a>).\n",
       "</p>\n",
       "<p>Altman, D.G., Bland, J.M. (1994) &ldquo;Diagnostic tests 1: sensitivity and\n",
       "specificity,&rdquo; <em>British Medical Journal</em>, vol 308, 1552.\n",
       "</p>\n",
       "<p>Altman, D.G., Bland, J.M. (1994) &ldquo;Diagnostic tests 2: predictive values,&rdquo;\n",
       "<em>British Medical Journal</em>, vol 309, 102.\n",
       "</p>\n",
       "<p>Velez, D.R., et. al. (2008) &ldquo;A balanced accuracy function for epistasis\n",
       "modeling in imbalanced datasets using multifactor dimensionality\n",
       "reduction.,&rdquo; <em>Genetic Epidemiology</em>, vol 4, 306.\n",
       "</p>\n",
       "\n",
       "\n",
       "<h3>See Also</h3>\n",
       "\n",
       "<p><code>as.table.confusionMatrix</code>,\n",
       "<code>as.matrix.confusionMatrix</code>, <code>sensitivity</code>,\n",
       "<code>specificity</code>, <code>posPredValue</code>,\n",
       "<code>negPredValue</code>, <code>print.confusionMatrix</code>,\n",
       "<code>binom.test</code>\n",
       "</p>\n",
       "\n",
       "\n",
       "<h3>Examples</h3>\n",
       "\n",
       "<pre><code class='language-R'>\n",
       "###################\n",
       "## 2 class example\n",
       "\n",
       "lvs &lt;- c(\"normal\", \"abnormal\")\n",
       "truth &lt;- factor(rep(lvs, times = c(86, 258)),\n",
       "                levels = rev(lvs))\n",
       "pred &lt;- factor(\n",
       "               c(\n",
       "                 rep(lvs, times = c(54, 32)),\n",
       "                 rep(lvs, times = c(27, 231))),\n",
       "               levels = rev(lvs))\n",
       "\n",
       "xtab &lt;- table(pred, truth)\n",
       "\n",
       "confusionMatrix(xtab)\n",
       "confusionMatrix(pred, truth)\n",
       "confusionMatrix(xtab, prevalence = 0.25)\n",
       "\n",
       "###################\n",
       "## 3 class example\n",
       "\n",
       "confusionMatrix(iris$Species, sample(iris$Species))\n",
       "\n",
       "newPrior &lt;- c(.05, .8, .15)\n",
       "names(newPrior) &lt;- levels(iris$Species)\n",
       "\n",
       "confusionMatrix(iris$Species, sample(iris$Species))\n",
       "\n",
       "\n",
       "</code></pre>\n",
       "\n",
       "<hr /><div style=\"text-align: center;\">[Package <em>caret</em> version 6.0-93 ]</div>\n",
       "</div>"
      ],
      "text/latex": [
       "\\inputencoding{utf8}\n",
       "\\HeaderA{confusionMatrix}{Create a confusion matrix}{confusionMatrix}\n",
       "\\methaliasA{confusionMatrix.default}{confusionMatrix}{confusionMatrix.default}\n",
       "\\methaliasA{confusionMatrix.matrix}{confusionMatrix}{confusionMatrix.matrix}\n",
       "\\methaliasA{confusionMatrix.table}{confusionMatrix}{confusionMatrix.table}\n",
       "\\keyword{utilities}{confusionMatrix}\n",
       "%\n",
       "\\begin{Description}\\relax\n",
       "Calculates a cross-tabulation of observed and predicted classes with\n",
       "associated statistics.\n",
       "\\end{Description}\n",
       "%\n",
       "\\begin{Usage}\n",
       "\\begin{verbatim}\n",
       "confusionMatrix(data, ...)\n",
       "\n",
       "## Default S3 method:\n",
       "confusionMatrix(\n",
       "  data,\n",
       "  reference,\n",
       "  positive = NULL,\n",
       "  dnn = c(\"Prediction\", \"Reference\"),\n",
       "  prevalence = NULL,\n",
       "  mode = \"sens_spec\",\n",
       "  ...\n",
       ")\n",
       "\n",
       "## S3 method for class 'matrix'\n",
       "confusionMatrix(\n",
       "  data,\n",
       "  positive = NULL,\n",
       "  prevalence = NULL,\n",
       "  mode = \"sens_spec\",\n",
       "  ...\n",
       ")\n",
       "\n",
       "## S3 method for class 'table'\n",
       "confusionMatrix(\n",
       "  data,\n",
       "  positive = NULL,\n",
       "  prevalence = NULL,\n",
       "  mode = \"sens_spec\",\n",
       "  ...\n",
       ")\n",
       "\\end{verbatim}\n",
       "\\end{Usage}\n",
       "%\n",
       "\\begin{Arguments}\n",
       "\\begin{ldescription}\n",
       "\\item[\\code{data}] a factor of predicted classes (for the default method) or an\n",
       "object of class \\code{\\LinkA{table}{table}}.\n",
       "\n",
       "\\item[\\code{...}] options to be passed to \\code{table}. NOTE: do not include\n",
       "\\code{dnn} here\n",
       "\n",
       "\\item[\\code{reference}] a factor of classes to be used as the true results\n",
       "\n",
       "\\item[\\code{positive}] an optional character string for the factor level that\n",
       "corresponds to a \"positive\" result (if that makes sense for your data). If\n",
       "there are only two factor levels, the first level will be used as the\n",
       "\"positive\" result. When \\code{mode = \"prec\\_recall\"}, \\code{positive} is the\n",
       "same value used for \\code{relevant} for functions \\code{\\LinkA{precision}{precision}},\n",
       "\\code{\\LinkA{recall}{recall}}, and \\code{\\LinkA{F\\_meas.table}{F.Rul.meas.table}}.\n",
       "\n",
       "\\item[\\code{dnn}] a character vector of dimnames for the table\n",
       "\n",
       "\\item[\\code{prevalence}] a numeric value or matrix for the rate of the \"positive\"\n",
       "class of the data. When \\code{data} has two levels, \\code{prevalence} should\n",
       "be a single numeric value. Otherwise, it should be a vector of numeric\n",
       "values with elements for each class. The vector should have names\n",
       "corresponding to the classes.\n",
       "\n",
       "\\item[\\code{mode}] a single character string either \"sens\\_spec\", \"prec\\_recall\", or\n",
       "\"everything\"\n",
       "\\end{ldescription}\n",
       "\\end{Arguments}\n",
       "%\n",
       "\\begin{Details}\\relax\n",
       "The functions requires that the factors have exactly the same levels.\n",
       "\n",
       "For two class problems, the sensitivity, specificity, positive predictive\n",
       "value and negative predictive value is calculated using the \\code{positive}\n",
       "argument. Also, the prevalence of the \"event\" is computed from the data\n",
       "(unless passed in as an argument), the detection rate (the rate of true\n",
       "events also predicted to be events) and the detection prevalence (the\n",
       "prevalence of predicted events).\n",
       "\n",
       "Suppose a 2x2 table with notation\n",
       "\n",
       "\n",
       "\\Tabular{rcc}{ & Reference & \\\\{} Predicted & Event & No Event\n",
       "\\\\{} Event & A & B \\\\{} No Event & C & D \\\\{} }\n",
       "\n",
       "The formulas used here are: \\deqn{Sensitivity = A/(A+C)}{} \\deqn{Specificity =\n",
       "D/(B+D)}{} \\deqn{Prevalence = (A+C)/(A+B+C+D)}{} \\deqn{PPV = (sensitivity *\n",
       "prevalence)/((sensitivity*prevalence) + ((1-specificity)*(1-prevalence)))}{}\n",
       "\\deqn{NPV = (specificity * (1-prevalence))/(((1-sensitivity)*prevalence) +\n",
       "((specificity)*(1-prevalence)))}{} \\deqn{Detection Rate = A/(A+B+C+D)}{}\n",
       "\\deqn{Detection Prevalence = (A+B)/(A+B+C+D)}{} \\deqn{Balanced Accuracy =\n",
       "(sensitivity+specificity)/2}{}\n",
       "\n",
       "\\deqn{Precision = A/(A+B)}{} \\deqn{Recall = A/(A+C)}{} \\deqn{F1 =\n",
       "(1+beta^2)*precision*recall/((beta^2 * precision)+recall)}{}\n",
       "\n",
       "where \\code{beta = 1} for this function.\n",
       "\n",
       "See the references for discussions of the first five formulas.\n",
       "\n",
       "For more than two classes, these results are calculated comparing each\n",
       "factor level to the remaining levels (i.e. a \"one versus all\" approach).\n",
       "\n",
       "The overall accuracy and unweighted Kappa statistic are calculated. A\n",
       "p-value from McNemar's test is also computed using\n",
       "\\code{\\LinkA{mcnemar.test}{mcnemar.test}} (which can produce \\code{NA} values with\n",
       "sparse tables).\n",
       "\n",
       "The overall accuracy rate is computed along with a 95 percent confidence\n",
       "interval for this rate (using \\code{\\LinkA{binom.test}{binom.test}}) and a\n",
       "one-sided test to see if the accuracy is better than the \"no information\n",
       "rate,\" which is taken to be the largest class percentage in the data.\n",
       "\\end{Details}\n",
       "%\n",
       "\\begin{Value}\n",
       "a list with elements \\begin{ldescription}\n",
       "\\item[\\code{table}] the results of \\code{table} on\n",
       "\\code{data} and \\code{reference}\\item[\\code{positive}] the positive result level\n",
       "\\item[\\code{overall}] a numeric vector with overall accuracy and Kappa statistic\n",
       "values\\item[\\code{byClass}] the sensitivity, specificity, positive predictive\n",
       "value, negative predictive value, precision, recall, F1, prevalence,\n",
       "detection rate, detection prevalence and balanced accuracy for each class.\n",
       "For two class systems, this is calculated once using the \\code{positive}\n",
       "argument\n",
       "\\end{ldescription}\n",
       "\\end{Value}\n",
       "%\n",
       "\\begin{Note}\\relax\n",
       "If the reference and data factors have the same levels, but in the\n",
       "incorrect order, the function will reorder them to the order of the data and\n",
       "issue a warning.\n",
       "\\end{Note}\n",
       "%\n",
       "\\begin{Author}\\relax\n",
       "Max Kuhn\n",
       "\\end{Author}\n",
       "%\n",
       "\\begin{References}\\relax\n",
       "Kuhn, M. (2008), ``Building predictive models in R using the\n",
       "caret package, '' \\emph{Journal of Statistical Software},\n",
       "(\\Rhref{https://doi.org/10.18637/jss.v028.i05}{doi:10.18637\\slash{}jss.v028.i05}).\n",
       "\n",
       "Altman, D.G., Bland, J.M. (1994) ``Diagnostic tests 1: sensitivity and\n",
       "specificity,'' \\emph{British Medical Journal}, vol 308, 1552.\n",
       "\n",
       "Altman, D.G., Bland, J.M. (1994) ``Diagnostic tests 2: predictive values,''\n",
       "\\emph{British Medical Journal}, vol 309, 102.\n",
       "\n",
       "Velez, D.R., et. al. (2008) ``A balanced accuracy function for epistasis\n",
       "modeling in imbalanced datasets using multifactor dimensionality\n",
       "reduction.,'' \\emph{Genetic Epidemiology}, vol 4, 306.\n",
       "\\end{References}\n",
       "%\n",
       "\\begin{SeeAlso}\\relax\n",
       "\\code{\\LinkA{as.table.confusionMatrix}{as.table.confusionMatrix}},\n",
       "\\code{\\LinkA{as.matrix.confusionMatrix}{as.matrix.confusionMatrix}}, \\code{\\LinkA{sensitivity}{sensitivity}},\n",
       "\\code{\\LinkA{specificity}{specificity}}, \\code{\\LinkA{posPredValue}{posPredValue}},\n",
       "\\code{\\LinkA{negPredValue}{negPredValue}}, \\code{\\LinkA{print.confusionMatrix}{print.confusionMatrix}},\n",
       "\\code{\\LinkA{binom.test}{binom.test}}\n",
       "\\end{SeeAlso}\n",
       "%\n",
       "\\begin{Examples}\n",
       "\\begin{ExampleCode}\n",
       "\n",
       "###################\n",
       "## 2 class example\n",
       "\n",
       "lvs <- c(\"normal\", \"abnormal\")\n",
       "truth <- factor(rep(lvs, times = c(86, 258)),\n",
       "                levels = rev(lvs))\n",
       "pred <- factor(\n",
       "               c(\n",
       "                 rep(lvs, times = c(54, 32)),\n",
       "                 rep(lvs, times = c(27, 231))),\n",
       "               levels = rev(lvs))\n",
       "\n",
       "xtab <- table(pred, truth)\n",
       "\n",
       "confusionMatrix(xtab)\n",
       "confusionMatrix(pred, truth)\n",
       "confusionMatrix(xtab, prevalence = 0.25)\n",
       "\n",
       "###################\n",
       "## 3 class example\n",
       "\n",
       "confusionMatrix(iris$Species, sample(iris$Species))\n",
       "\n",
       "newPrior <- c(.05, .8, .15)\n",
       "names(newPrior) <- levels(iris$Species)\n",
       "\n",
       "confusionMatrix(iris$Species, sample(iris$Species))\n",
       "\n",
       "\n",
       "\\end{ExampleCode}\n",
       "\\end{Examples}"
      ],
      "text/plain": [
       "confusionMatrix             package:caret              R Documentation\n",
       "\n",
       "_\bC_\br_\be_\ba_\bt_\be _\ba _\bc_\bo_\bn_\bf_\bu_\bs_\bi_\bo_\bn _\bm_\ba_\bt_\br_\bi_\bx\n",
       "\n",
       "_\bD_\be_\bs_\bc_\br_\bi_\bp_\bt_\bi_\bo_\bn:\n",
       "\n",
       "     Calculates a cross-tabulation of observed and predicted classes\n",
       "     with associated statistics.\n",
       "\n",
       "_\bU_\bs_\ba_\bg_\be:\n",
       "\n",
       "     confusionMatrix(data, ...)\n",
       "     \n",
       "     ## Default S3 method:\n",
       "     confusionMatrix(\n",
       "       data,\n",
       "       reference,\n",
       "       positive = NULL,\n",
       "       dnn = c(\"Prediction\", \"Reference\"),\n",
       "       prevalence = NULL,\n",
       "       mode = \"sens_spec\",\n",
       "       ...\n",
       "     )\n",
       "     \n",
       "     ## S3 method for class 'matrix'\n",
       "     confusionMatrix(\n",
       "       data,\n",
       "       positive = NULL,\n",
       "       prevalence = NULL,\n",
       "       mode = \"sens_spec\",\n",
       "       ...\n",
       "     )\n",
       "     \n",
       "     ## S3 method for class 'table'\n",
       "     confusionMatrix(\n",
       "       data,\n",
       "       positive = NULL,\n",
       "       prevalence = NULL,\n",
       "       mode = \"sens_spec\",\n",
       "       ...\n",
       "     )\n",
       "     \n",
       "_\bA_\br_\bg_\bu_\bm_\be_\bn_\bt_\bs:\n",
       "\n",
       "    data: a factor of predicted classes (for the default method) or an\n",
       "          object of class 'table'.\n",
       "\n",
       "     ...: options to be passed to 'table'. NOTE: do not include 'dnn'\n",
       "          here\n",
       "\n",
       "reference: a factor of classes to be used as the true results\n",
       "\n",
       "positive: an optional character string for the factor level that\n",
       "          corresponds to a \"positive\" result (if that makes sense for\n",
       "          your data). If there are only two factor levels, the first\n",
       "          level will be used as the \"positive\" result. When 'mode =\n",
       "          \"prec_recall\"', 'positive' is the same value used for\n",
       "          'relevant' for functions 'precision', 'recall', and\n",
       "          'F_meas.table'.\n",
       "\n",
       "     dnn: a character vector of dimnames for the table\n",
       "\n",
       "prevalence: a numeric value or matrix for the rate of the \"positive\"\n",
       "          class of the data. When 'data' has two levels, 'prevalence'\n",
       "          should be a single numeric value. Otherwise, it should be a\n",
       "          vector of numeric values with elements for each class. The\n",
       "          vector should have names corresponding to the classes.\n",
       "\n",
       "    mode: a single character string either \"sens_spec\", \"prec_recall\",\n",
       "          or \"everything\"\n",
       "\n",
       "_\bD_\be_\bt_\ba_\bi_\bl_\bs:\n",
       "\n",
       "     The functions requires that the factors have exactly the same\n",
       "     levels.\n",
       "\n",
       "     For two class problems, the sensitivity, specificity, positive\n",
       "     predictive value and negative predictive value is calculated using\n",
       "     the 'positive' argument. Also, the prevalence of the \"event\" is\n",
       "     computed from the data (unless passed in as an argument), the\n",
       "     detection rate (the rate of true events also predicted to be\n",
       "     events) and the detection prevalence (the prevalence of predicted\n",
       "     events).\n",
       "\n",
       "     Suppose a 2x2 table with notation\n",
       "\n",
       "                  Reference           \n",
       "       Predicted    Event    No Event \n",
       "           Event      A         B     \n",
       "        No Event      C         D     \n",
       "      \n",
       "     The formulas used here are:\n",
       "\n",
       "                            Sensitivity = A/(A+C)                       \n",
       "     \n",
       "                            Specificity =D/(B+D)                        \n",
       "     \n",
       "                        Prevalence = (A+C)/(A+B+C+D)                    \n",
       "     \n",
       "     PPV = (sensitivity *\n",
       "     prevalence)/((sensitivity*prevalence) + ((1-specificity)*(1-prevalence)))\n",
       "     \n",
       "     NPV = (specificity * (1-prevalence))/(((1-sensitivity)*prevalence) +\n",
       "     ((specificity)*(1-prevalence)))\n",
       "     \n",
       "                        Detection Rate = A/(A+B+C+D)                    \n",
       "     \n",
       "                   Detection Prevalence = (A+B)/(A+B+C+D)               \n",
       "     \n",
       "               Balanced Accuracy =(sensitivity+specificity)/2           \n",
       "     \n",
       "                             Precision = A/(A+B)                        \n",
       "     \n",
       "                              Recall = A/(A+C)                          \n",
       "     \n",
       "        F1 =(1+beta^2)*precision*recall/((beta^2 * precision)+recall)   \n",
       "     \n",
       "     where 'beta = 1' for this function.\n",
       "\n",
       "     See the references for discussions of the first five formulas.\n",
       "\n",
       "     For more than two classes, these results are calculated comparing\n",
       "     each factor level to the remaining levels (i.e. a \"one versus all\"\n",
       "     approach).\n",
       "\n",
       "     The overall accuracy and unweighted Kappa statistic are\n",
       "     calculated. A p-value from McNemar's test is also computed using\n",
       "     'mcnemar.test' (which can produce 'NA' values with sparse tables).\n",
       "\n",
       "     The overall accuracy rate is computed along with a 95 percent\n",
       "     confidence interval for this rate (using 'binom.test') and a\n",
       "     one-sided test to see if the accuracy is better than the \"no\n",
       "     information rate,\" which is taken to be the largest class\n",
       "     percentage in the data.\n",
       "\n",
       "_\bV_\ba_\bl_\bu_\be:\n",
       "\n",
       "     a list with elements\n",
       "\n",
       "   table: the results of 'table' on 'data' and 'reference'\n",
       "\n",
       "positive: the positive result level\n",
       "\n",
       " overall: a numeric vector with overall accuracy and Kappa statistic\n",
       "          values\n",
       "\n",
       " byClass: the sensitivity, specificity, positive predictive value,\n",
       "          negative predictive value, precision, recall, F1, prevalence,\n",
       "          detection rate, detection prevalence and balanced accuracy\n",
       "          for each class. For two class systems, this is calculated\n",
       "          once using the 'positive' argument\n",
       "\n",
       "_\bN_\bo_\bt_\be:\n",
       "\n",
       "     If the reference and data factors have the same levels, but in the\n",
       "     incorrect order, the function will reorder them to the order of\n",
       "     the data and issue a warning.\n",
       "\n",
       "_\bA_\bu_\bt_\bh_\bo_\br(_\bs):\n",
       "\n",
       "     Max Kuhn\n",
       "\n",
       "_\bR_\be_\bf_\be_\br_\be_\bn_\bc_\be_\bs:\n",
       "\n",
       "     Kuhn, M. (2008), ``Building predictive models in R using the caret\n",
       "     package, '' _Journal of Statistical Software_,\n",
       "     (doi:10.18637/jss.v028.i05\n",
       "     <https://doi.org/10.18637/jss.v028.i05>).\n",
       "\n",
       "     Altman, D.G., Bland, J.M. (1994) ``Diagnostic tests 1: sensitivity\n",
       "     and specificity,'' _British Medical Journal_, vol 308, 1552.\n",
       "\n",
       "     Altman, D.G., Bland, J.M. (1994) ``Diagnostic tests 2: predictive\n",
       "     values,'' _British Medical Journal_, vol 309, 102.\n",
       "\n",
       "     Velez, D.R., et. al. (2008) ``A balanced accuracy function for\n",
       "     epistasis modeling in imbalanced datasets using multifactor\n",
       "     dimensionality reduction.,'' _Genetic Epidemiology_, vol 4, 306.\n",
       "\n",
       "_\bS_\be_\be _\bA_\bl_\bs_\bo:\n",
       "\n",
       "     'as.table.confusionMatrix', 'as.matrix.confusionMatrix',\n",
       "     'sensitivity', 'specificity', 'posPredValue', 'negPredValue',\n",
       "     'print.confusionMatrix', 'binom.test'\n",
       "\n",
       "_\bE_\bx_\ba_\bm_\bp_\bl_\be_\bs:\n",
       "\n",
       "     ###################\n",
       "     ## 2 class example\n",
       "     \n",
       "     lvs <- c(\"normal\", \"abnormal\")\n",
       "     truth <- factor(rep(lvs, times = c(86, 258)),\n",
       "                     levels = rev(lvs))\n",
       "     pred <- factor(\n",
       "                    c(\n",
       "                      rep(lvs, times = c(54, 32)),\n",
       "                      rep(lvs, times = c(27, 231))),\n",
       "                    levels = rev(lvs))\n",
       "     \n",
       "     xtab <- table(pred, truth)\n",
       "     \n",
       "     confusionMatrix(xtab)\n",
       "     confusionMatrix(pred, truth)\n",
       "     confusionMatrix(xtab, prevalence = 0.25)\n",
       "     \n",
       "     ###################\n",
       "     ## 3 class example\n",
       "     \n",
       "     confusionMatrix(iris$Species, sample(iris$Species))\n",
       "     \n",
       "     newPrior <- c(.05, .8, .15)\n",
       "     names(newPrior) <- levels(iris$Species)\n",
       "     \n",
       "     confusionMatrix(iris$Species, sample(iris$Species))\n",
       "     "
      ]
     },
     "metadata": {},
     "output_type": "display_data"
    }
   ],
   "source": [
    "?confusionMatrix"
   ]
  },
  {
   "cell_type": "code",
   "execution_count": 61,
   "id": "60ed63ef-fd04-4192-a213-cbe4e1854875",
   "metadata": {},
   "outputs": [
    {
     "name": "stdout",
     "output_type": "stream",
     "text": [
      "[1] \"------------------------------------------------\"\n"
     ]
    },
    {
     "data": {
      "text/plain": [
       "Confusion Matrix and Statistics\n",
       "\n",
       "          Reference\n",
       "Prediction  no yes\n",
       "       no  664  36\n",
       "       yes 247  53\n",
       "                                         \n",
       "               Accuracy : 0.717          \n",
       "                 95% CI : (0.688, 0.7447)\n",
       "    No Information Rate : 0.911          \n",
       "    P-Value [Acc > NIR] : 1              \n",
       "                                         \n",
       "                  Kappa : 0.1567         \n",
       "                                         \n",
       " Mcnemar's Test P-Value : <2e-16         \n",
       "                                         \n",
       "            Sensitivity : 0.7289         \n",
       "            Specificity : 0.5955         \n",
       "         Pos Pred Value : 0.9486         \n",
       "         Neg Pred Value : 0.1767         \n",
       "              Precision : 0.9486         \n",
       "                 Recall : 0.7289         \n",
       "                     F1 : 0.8243         \n",
       "             Prevalence : 0.9110         \n",
       "         Detection Rate : 0.6640         \n",
       "   Detection Prevalence : 0.7000         \n",
       "      Balanced Accuracy : 0.6622         \n",
       "                                         \n",
       "       'Positive' Class : no             \n",
       "                                         "
      ]
     },
     "metadata": {},
     "output_type": "display_data"
    },
    {
     "name": "stdout",
     "output_type": "stream",
     "text": [
      "[1] \"------------------------------------------------\"\n"
     ]
    },
    {
     "data": {
      "text/plain": [
       "Confusion Matrix and Statistics\n",
       "\n",
       "          Reference\n",
       "Prediction  no yes\n",
       "       no  613  87\n",
       "       yes 160 140\n",
       "                                         \n",
       "               Accuracy : 0.753          \n",
       "                 95% CI : (0.725, 0.7795)\n",
       "    No Information Rate : 0.773          \n",
       "    P-Value [Acc > NIR] : 0.938          \n",
       "                                         \n",
       "                  Kappa : 0.368          \n",
       "                                         \n",
       " Mcnemar's Test P-Value : 4.622e-06      \n",
       "                                         \n",
       "            Sensitivity : 0.7930         \n",
       "            Specificity : 0.6167         \n",
       "         Pos Pred Value : 0.8757         \n",
       "         Neg Pred Value : 0.4667         \n",
       "              Precision : 0.8757         \n",
       "                 Recall : 0.7930         \n",
       "                     F1 : 0.8323         \n",
       "             Prevalence : 0.7730         \n",
       "         Detection Rate : 0.6130         \n",
       "   Detection Prevalence : 0.7000         \n",
       "      Balanced Accuracy : 0.7049         \n",
       "                                         \n",
       "       'Positive' Class : no             \n",
       "                                         "
      ]
     },
     "metadata": {},
     "output_type": "display_data"
    },
    {
     "name": "stdout",
     "output_type": "stream",
     "text": [
      "[1] \"------------------------------------------------\"\n"
     ]
    },
    {
     "data": {
      "text/plain": [
       "Confusion Matrix and Statistics\n",
       "\n",
       "          Reference\n",
       "Prediction  no yes\n",
       "       no  668  32\n",
       "       yes 115 185\n",
       "                                          \n",
       "               Accuracy : 0.853           \n",
       "                 95% CI : (0.8295, 0.8744)\n",
       "    No Information Rate : 0.783           \n",
       "    P-Value [Acc > NIR] : 1.281e-08       \n",
       "                                          \n",
       "                  Kappa : 0.62            \n",
       "                                          \n",
       " Mcnemar's Test P-Value : 1.349e-11       \n",
       "                                          \n",
       "            Sensitivity : 0.8531          \n",
       "            Specificity : 0.8525          \n",
       "         Pos Pred Value : 0.9543          \n",
       "         Neg Pred Value : 0.6167          \n",
       "              Precision : 0.9543          \n",
       "                 Recall : 0.8531          \n",
       "                     F1 : 0.9009          \n",
       "             Prevalence : 0.7830          \n",
       "         Detection Rate : 0.6680          \n",
       "   Detection Prevalence : 0.7000          \n",
       "      Balanced Accuracy : 0.8528          \n",
       "                                          \n",
       "       'Positive' Class : no              \n",
       "                                          "
      ]
     },
     "metadata": {},
     "output_type": "display_data"
    }
   ],
   "source": [
    "# the partition of data was uneven, so accuracy is accuracy may not be the best measure.\n",
    "# the bank does not want to engage potential defaulters so a false positive is tolerable but not false negative\n",
    "# precision may be the metric here.\n",
    "#also, Kappa for C50 is more and its F1 score is also better, indicating that the method has high precision and also the data is balanced.\n",
    "\n",
    "print(\"------------------------------------------------\")\n",
    "confusionMatrix(credit_random$default, credit_1R_pred, mode='everything')\n",
    "print(\"------------------------------------------------\")\n",
    "confusionMatrix(credit_random$default, credit_JRip_pred, mode='everything')\n",
    "print(\"------------------------------------------------\")\n",
    "confusionMatrix(credit_random$default, credit_c5rules_pred, mode='everything')\n"
   ]
  },
  {
   "cell_type": "code",
   "execution_count": 65,
   "id": "f39c83f0-2d43-4357-8c5c-5336ac4bc0aa",
   "metadata": {},
   "outputs": [
    {
     "data": {
      "text/plain": [
       "Confusion Matrix and Statistics\n",
       "\n",
       "           Reference\n",
       "Prediction  edible poisonous\n",
       "  edible      4208         0\n",
       "  poisonous    120      3796\n",
       "                                          \n",
       "               Accuracy : 0.9852          \n",
       "                 95% CI : (0.9824, 0.9877)\n",
       "    No Information Rate : 0.5327          \n",
       "    P-Value [Acc > NIR] : < 2.2e-16       \n",
       "                                          \n",
       "                  Kappa : 0.9704          \n",
       "                                          \n",
       " Mcnemar's Test P-Value : < 2.2e-16       \n",
       "                                          \n",
       "            Sensitivity : 0.9723          \n",
       "            Specificity : 1.0000          \n",
       "         Pos Pred Value : 1.0000          \n",
       "         Neg Pred Value : 0.9694          \n",
       "              Precision : 1.0000          \n",
       "                 Recall : 0.9723          \n",
       "                     F1 : 0.9859          \n",
       "             Prevalence : 0.5327          \n",
       "         Detection Rate : 0.5180          \n",
       "   Detection Prevalence : 0.5180          \n",
       "      Balanced Accuracy : 0.9861          \n",
       "                                          \n",
       "       'Positive' Class : edible          \n",
       "                                          "
      ]
     },
     "metadata": {},
     "output_type": "display_data"
    },
    {
     "name": "stdout",
     "output_type": "stream",
     "text": [
      "[1] \"------------------------------------------------\"\n"
     ]
    },
    {
     "data": {
      "text/plain": [
       "Confusion Matrix and Statistics\n",
       "\n",
       "           Reference\n",
       "Prediction  edible poisonous\n",
       "  edible      4208         0\n",
       "  poisonous      0      3916\n",
       "                                     \n",
       "               Accuracy : 1          \n",
       "                 95% CI : (0.9995, 1)\n",
       "    No Information Rate : 0.518      \n",
       "    P-Value [Acc > NIR] : < 2.2e-16  \n",
       "                                     \n",
       "                  Kappa : 1          \n",
       "                                     \n",
       " Mcnemar's Test P-Value : NA         \n",
       "                                     \n",
       "            Sensitivity : 1.000      \n",
       "            Specificity : 1.000      \n",
       "         Pos Pred Value : 1.000      \n",
       "         Neg Pred Value : 1.000      \n",
       "              Precision : 1.000      \n",
       "                 Recall : 1.000      \n",
       "                     F1 : 1.000      \n",
       "             Prevalence : 0.518      \n",
       "         Detection Rate : 0.518      \n",
       "   Detection Prevalence : 0.518      \n",
       "      Balanced Accuracy : 1.000      \n",
       "                                     \n",
       "       'Positive' Class : edible     \n",
       "                                     "
      ]
     },
     "metadata": {},
     "output_type": "display_data"
    },
    {
     "name": "stdout",
     "output_type": "stream",
     "text": [
      "[1] \"------------------------------------------------\"\n"
     ]
    },
    {
     "data": {
      "text/plain": [
       "Confusion Matrix and Statistics\n",
       "\n",
       "           Reference\n",
       "Prediction  edible poisonous\n",
       "  edible      4208         0\n",
       "  poisonous     12      3904\n",
       "                                          \n",
       "               Accuracy : 0.9985          \n",
       "                 95% CI : (0.9974, 0.9992)\n",
       "    No Information Rate : 0.5194          \n",
       "    P-Value [Acc > NIR] : < 2.2e-16       \n",
       "                                          \n",
       "                  Kappa : 0.997           \n",
       "                                          \n",
       " Mcnemar's Test P-Value : 0.001496        \n",
       "                                          \n",
       "            Sensitivity : 0.9972          \n",
       "            Specificity : 1.0000          \n",
       "         Pos Pred Value : 1.0000          \n",
       "         Neg Pred Value : 0.9969          \n",
       "              Precision : 1.0000          \n",
       "                 Recall : 0.9972          \n",
       "                     F1 : 0.9986          \n",
       "             Prevalence : 0.5194          \n",
       "         Detection Rate : 0.5180          \n",
       "   Detection Prevalence : 0.5180          \n",
       "      Balanced Accuracy : 0.9986          \n",
       "                                          \n",
       "       'Positive' Class : edible          \n",
       "                                          "
      ]
     },
     "metadata": {},
     "output_type": "display_data"
    }
   ],
   "source": [
    "# All metrics inidcate that all the methods involved have similar results but RIPPER algo shines with perfect score.\n",
    "\n",
    "confusionMatrix(mushrooms_random$type, mushrooms_1R_pred, mode='everything')\n",
    "print(\"------------------------------------------------\")\n",
    "confusionMatrix(mushrooms_random$type, mushrooms_JRip_pred, mode='everything')\n",
    "print(\"------------------------------------------------\")\n",
    "confusionMatrix(mushrooms_random$type, mushrooms_c5rules_pred, mode='everything')\n"
   ]
  },
  {
   "cell_type": "code",
   "execution_count": 63,
   "id": "8a5784aa-3076-4584-bcde-200e4624bd54",
   "metadata": {},
   "outputs": [
    {
     "data": {
      "text/html": [
       "<strong>null device:</strong> 1"
      ],
      "text/latex": [
       "\\textbf{null device:} 1"
      ],
      "text/markdown": [
       "**null device:** 1"
      ],
      "text/plain": [
       "null device \n",
       "          1 "
      ]
     },
     "metadata": {},
     "output_type": "display_data"
    },
    {
     "name": "stdout",
     "output_type": "stream",
     "text": [
      "\f"
     ]
    }
   ],
   "source": [
    "# Clear plots\n",
    "dev.off()  # But only if there IS a plot\n",
    "\n",
    "# Clear console\n",
    "cat(\"\\014\")  # ctrl+L"
   ]
  },
  {
   "cell_type": "code",
   "execution_count": null,
   "id": "11439b0c-3094-4434-8d52-3937ff104f10",
   "metadata": {},
   "outputs": [],
   "source": []
  }
 ],
 "metadata": {
  "kernelspec": {
   "display_name": "R",
   "language": "R",
   "name": "ir"
  },
  "language_info": {
   "codemirror_mode": "r",
   "file_extension": ".r",
   "mimetype": "text/x-r-source",
   "name": "R",
   "pygments_lexer": "r",
   "version": "4.2.2"
  },
  "widgets": {
   "application/vnd.jupyter.widget-state+json": {
    "state": {},
    "version_major": 2,
    "version_minor": 0
   }
  }
 },
 "nbformat": 4,
 "nbformat_minor": 5
}
