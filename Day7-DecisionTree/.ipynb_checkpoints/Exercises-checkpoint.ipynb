{
 "cells": [
  {
   "cell_type": "markdown",
   "id": "edb7faca-0c52-4da0-90c1-b7e52f85e496",
   "metadata": {},
   "source": [
    "### Classification Excercise with Decision tree"
   ]
  },
  {
   "cell_type": "markdown",
   "id": "75060ff5-bdf1-450f-9b2d-dcf8f9c50bb8",
   "metadata": {},
   "source": [
    "#### 1. Use Decision Trees on the iris dataset to classify the three types of iris – setosa, versicolor, virginica. What are the decision rules?"
   ]
  },
  {
   "cell_type": "code",
   "execution_count": 1,
   "id": "112e2206-6a27-430a-865e-e5ff37b49680",
   "metadata": {},
   "outputs": [
    {
     "data": {
      "text/html": [
       "<table class=\"dataframe\">\n",
       "<caption>A data.frame: 6 × 5</caption>\n",
       "<thead>\n",
       "\t<tr><th></th><th scope=col>Sepal.Length</th><th scope=col>Sepal.Width</th><th scope=col>Petal.Length</th><th scope=col>Petal.Width</th><th scope=col>Species</th></tr>\n",
       "\t<tr><th></th><th scope=col>&lt;dbl&gt;</th><th scope=col>&lt;dbl&gt;</th><th scope=col>&lt;dbl&gt;</th><th scope=col>&lt;dbl&gt;</th><th scope=col>&lt;fct&gt;</th></tr>\n",
       "</thead>\n",
       "<tbody>\n",
       "\t<tr><th scope=row>1</th><td>5.1</td><td>3.5</td><td>1.4</td><td>0.2</td><td>setosa</td></tr>\n",
       "\t<tr><th scope=row>2</th><td>4.9</td><td>3.0</td><td>1.4</td><td>0.2</td><td>setosa</td></tr>\n",
       "\t<tr><th scope=row>3</th><td>4.7</td><td>3.2</td><td>1.3</td><td>0.2</td><td>setosa</td></tr>\n",
       "\t<tr><th scope=row>4</th><td>4.6</td><td>3.1</td><td>1.5</td><td>0.2</td><td>setosa</td></tr>\n",
       "\t<tr><th scope=row>5</th><td>5.0</td><td>3.6</td><td>1.4</td><td>0.2</td><td>setosa</td></tr>\n",
       "\t<tr><th scope=row>6</th><td>5.4</td><td>3.9</td><td>1.7</td><td>0.4</td><td>setosa</td></tr>\n",
       "</tbody>\n",
       "</table>\n"
      ],
      "text/latex": [
       "A data.frame: 6 × 5\n",
       "\\begin{tabular}{r|lllll}\n",
       "  & Sepal.Length & Sepal.Width & Petal.Length & Petal.Width & Species\\\\\n",
       "  & <dbl> & <dbl> & <dbl> & <dbl> & <fct>\\\\\n",
       "\\hline\n",
       "\t1 & 5.1 & 3.5 & 1.4 & 0.2 & setosa\\\\\n",
       "\t2 & 4.9 & 3.0 & 1.4 & 0.2 & setosa\\\\\n",
       "\t3 & 4.7 & 3.2 & 1.3 & 0.2 & setosa\\\\\n",
       "\t4 & 4.6 & 3.1 & 1.5 & 0.2 & setosa\\\\\n",
       "\t5 & 5.0 & 3.6 & 1.4 & 0.2 & setosa\\\\\n",
       "\t6 & 5.4 & 3.9 & 1.7 & 0.4 & setosa\\\\\n",
       "\\end{tabular}\n"
      ],
      "text/markdown": [
       "\n",
       "A data.frame: 6 × 5\n",
       "\n",
       "| <!--/--> | Sepal.Length &lt;dbl&gt; | Sepal.Width &lt;dbl&gt; | Petal.Length &lt;dbl&gt; | Petal.Width &lt;dbl&gt; | Species &lt;fct&gt; |\n",
       "|---|---|---|---|---|---|\n",
       "| 1 | 5.1 | 3.5 | 1.4 | 0.2 | setosa |\n",
       "| 2 | 4.9 | 3.0 | 1.4 | 0.2 | setosa |\n",
       "| 3 | 4.7 | 3.2 | 1.3 | 0.2 | setosa |\n",
       "| 4 | 4.6 | 3.1 | 1.5 | 0.2 | setosa |\n",
       "| 5 | 5.0 | 3.6 | 1.4 | 0.2 | setosa |\n",
       "| 6 | 5.4 | 3.9 | 1.7 | 0.4 | setosa |\n",
       "\n"
      ],
      "text/plain": [
       "  Sepal.Length Sepal.Width Petal.Length Petal.Width Species\n",
       "1 5.1          3.5         1.4          0.2         setosa \n",
       "2 4.9          3.0         1.4          0.2         setosa \n",
       "3 4.7          3.2         1.3          0.2         setosa \n",
       "4 4.6          3.1         1.5          0.2         setosa \n",
       "5 5.0          3.6         1.4          0.2         setosa \n",
       "6 5.4          3.9         1.7          0.4         setosa "
      ]
     },
     "metadata": {},
     "output_type": "display_data"
    }
   ],
   "source": [
    "library(datasets)\n",
    "head(iris)\n",
    "\n",
    "iris_data <- iris # iris data"
   ]
  },
  {
   "cell_type": "code",
   "execution_count": 2,
   "id": "03786a1c-f1c5-481b-aba2-ca94f5256299",
   "metadata": {
    "tags": []
   },
   "outputs": [
    {
     "name": "stdout",
     "output_type": "stream",
     "text": [
      "'data.frame':\t150 obs. of  5 variables:\n",
      " $ Sepal.Length: num  5.1 4.9 4.7 4.6 5 5.4 4.6 5 4.4 4.9 ...\n",
      " $ Sepal.Width : num  3.5 3 3.2 3.1 3.6 3.9 3.4 3.4 2.9 3.1 ...\n",
      " $ Petal.Length: num  1.4 1.4 1.3 1.5 1.4 1.7 1.4 1.5 1.4 1.5 ...\n",
      " $ Petal.Width : num  0.2 0.2 0.2 0.2 0.2 0.4 0.3 0.2 0.2 0.1 ...\n",
      " $ Species     : Factor w/ 3 levels \"setosa\",\"versicolor\",..: 1 1 1 1 1 1 1 1 1 1 ...\n"
     ]
    }
   ],
   "source": [
    "str(iris_data)"
   ]
  },
  {
   "cell_type": "code",
   "execution_count": 3,
   "id": "f3b4f145-ec57-4827-b778-0358af58e6e7",
   "metadata": {},
   "outputs": [],
   "source": [
    "set.seed(12345)\n",
    "iris_random <- iris_data[order(runif(nrow(iris_data))),]"
   ]
  },
  {
   "cell_type": "code",
   "execution_count": 4,
   "id": "6eb3e01f-6df0-43ee-81c6-82032a29ff7c",
   "metadata": {},
   "outputs": [
    {
     "data": {
      "text/html": [
       "<table class=\"dataframe\">\n",
       "<caption>A data.frame: 6 × 2</caption>\n",
       "<thead>\n",
       "\t<tr><th></th><th scope=col>iris_random.Species</th><th scope=col>iris_data.Species</th></tr>\n",
       "\t<tr><th></th><th scope=col>&lt;fct&gt;</th><th scope=col>&lt;fct&gt;</th></tr>\n",
       "</thead>\n",
       "<tbody>\n",
       "\t<tr><th scope=row>1</th><td>setosa    </td><td>setosa</td></tr>\n",
       "\t<tr><th scope=row>2</th><td>setosa    </td><td>setosa</td></tr>\n",
       "\t<tr><th scope=row>3</th><td>versicolor</td><td>setosa</td></tr>\n",
       "\t<tr><th scope=row>4</th><td>virginica </td><td>setosa</td></tr>\n",
       "\t<tr><th scope=row>5</th><td>versicolor</td><td>setosa</td></tr>\n",
       "\t<tr><th scope=row>6</th><td>virginica </td><td>setosa</td></tr>\n",
       "</tbody>\n",
       "</table>\n"
      ],
      "text/latex": [
       "A data.frame: 6 × 2\n",
       "\\begin{tabular}{r|ll}\n",
       "  & iris\\_random.Species & iris\\_data.Species\\\\\n",
       "  & <fct> & <fct>\\\\\n",
       "\\hline\n",
       "\t1 & setosa     & setosa\\\\\n",
       "\t2 & setosa     & setosa\\\\\n",
       "\t3 & versicolor & setosa\\\\\n",
       "\t4 & virginica  & setosa\\\\\n",
       "\t5 & versicolor & setosa\\\\\n",
       "\t6 & virginica  & setosa\\\\\n",
       "\\end{tabular}\n"
      ],
      "text/markdown": [
       "\n",
       "A data.frame: 6 × 2\n",
       "\n",
       "| <!--/--> | iris_random.Species &lt;fct&gt; | iris_data.Species &lt;fct&gt; |\n",
       "|---|---|---|\n",
       "| 1 | setosa     | setosa |\n",
       "| 2 | setosa     | setosa |\n",
       "| 3 | versicolor | setosa |\n",
       "| 4 | virginica  | setosa |\n",
       "| 5 | versicolor | setosa |\n",
       "| 6 | virginica  | setosa |\n",
       "\n"
      ],
      "text/plain": [
       "  iris_random.Species iris_data.Species\n",
       "1 setosa              setosa           \n",
       "2 setosa              setosa           \n",
       "3 versicolor          setosa           \n",
       "4 virginica           setosa           \n",
       "5 versicolor          setosa           \n",
       "6 virginica           setosa           "
      ]
     },
     "metadata": {},
     "output_type": "display_data"
    },
    {
     "data": {
      "text/html": [
       "<style>\n",
       ".list-inline {list-style: none; margin:0; padding: 0}\n",
       ".list-inline>li {display: inline-block}\n",
       ".list-inline>li:not(:last-child)::after {content: \"\\00b7\"; padding: 0 .5ex}\n",
       "</style>\n",
       "<ol class=list-inline><li>150</li><li>5</li></ol>\n"
      ],
      "text/latex": [
       "\\begin{enumerate*}\n",
       "\\item 150\n",
       "\\item 5\n",
       "\\end{enumerate*}\n"
      ],
      "text/markdown": [
       "1. 150\n",
       "2. 5\n",
       "\n",
       "\n"
      ],
      "text/plain": [
       "[1] 150   5"
      ]
     },
     "metadata": {},
     "output_type": "display_data"
    },
    {
     "data": {
      "text/html": [
       "<style>\n",
       ".list-inline {list-style: none; margin:0; padding: 0}\n",
       ".list-inline>li {display: inline-block}\n",
       ".list-inline>li:not(:last-child)::after {content: \"\\00b7\"; padding: 0 .5ex}\n",
       "</style>\n",
       "<ol class=list-inline><li>'Sepal.Length'</li><li>'Sepal.Width'</li><li>'Petal.Length'</li><li>'Petal.Width'</li><li>'Species'</li></ol>\n"
      ],
      "text/latex": [
       "\\begin{enumerate*}\n",
       "\\item 'Sepal.Length'\n",
       "\\item 'Sepal.Width'\n",
       "\\item 'Petal.Length'\n",
       "\\item 'Petal.Width'\n",
       "\\item 'Species'\n",
       "\\end{enumerate*}\n"
      ],
      "text/markdown": [
       "1. 'Sepal.Length'\n",
       "2. 'Sepal.Width'\n",
       "3. 'Petal.Length'\n",
       "4. 'Petal.Width'\n",
       "5. 'Species'\n",
       "\n",
       "\n"
      ],
      "text/plain": [
       "[1] \"Sepal.Length\" \"Sepal.Width\"  \"Petal.Length\" \"Petal.Width\"  \"Species\"     "
      ]
     },
     "metadata": {},
     "output_type": "display_data"
    },
    {
     "data": {
      "text/plain": [
       "\n",
       "    setosa versicolor  virginica \n",
       "        50         50         50 "
      ]
     },
     "metadata": {},
     "output_type": "display_data"
    }
   ],
   "source": [
    "# checking if randomization worked\n",
    "head(data.frame(iris_random$Species, iris_data$Species))\n",
    "dim(iris_random) #dimension of data\n",
    "names(iris_random) #column names\n",
    "table(iris_random$Species)"
   ]
  },
  {
   "cell_type": "raw",
   "id": "239770ac-c5ad-4871-8584-6ca0810c73c9",
   "metadata": {},
   "source": [
    "#visualize data\n",
    "\n",
    "hist(iris_random$Petal.Length, col='red')\n",
    "hist(iris_random$Petal.Width, col='blue')\n",
    "hist(iris_random$Sepal.Length, col='green')\n",
    "hist(iris_random$Sepal.Width, col='yellow')\n",
    "\n",
    "plot(iris_random$Petal.Length, iris_random$Species, col='steelblue', main='Scatterplot', xlab='Petal Length', ylab='Species', pch=19)\n",
    "plot(iris_random$Petal.Width, iris_random$Species, col='steelblue', main='Scatterplot', xlab='Petal Width', ylab='Species', pch=19)\n",
    "plot(iris_random$Sepal.Length, iris_random$Species, col='steelblue', main='Scatterplot', xlab='Sepal Length', ylab='Species', pch=19)\n",
    "plot(iris_random$Sepal.Width, iris_random$Species, col='steelblue', main='Scatterplot', xlab='Sepal Width', ylab='Species', pch=19)\n",
    "\n",
    "boxplot(Petal.Length~Species, data=iris, main='Petal Length by Species', xlab='Species', ylab='Petal Length', col='steelblue', border='black')\n",
    "boxplot(Petal.Width~Species, data=iris, main='Petal Width by Species', xlab='Species', ylab='Petal Width', col='steelblue', border='black')\n",
    "boxplot(Sepal.Length~Species, data=iris, main='Sepal Length by Species', xlab='Species', ylab='Sepal Length', col='steelblue', border='black')\n",
    "boxplot(Sepal.Width~Species, data=iris, main='Sepal Width by Species', xlab='Species', ylab='Sepal Width', col='steelblue', border='black')"
   ]
  },
  {
   "cell_type": "code",
   "execution_count": 5,
   "id": "cab2ebf4-b073-4e5b-8634-b15b18e48e3d",
   "metadata": {},
   "outputs": [
    {
     "data": {
      "image/png": "[encoded data removed]",
      "text/plain": [
       "Plot with title \"Boxplot of Iris data by attributes\""
      ]
     },
     "metadata": {
      "image/png": {
       "height": 420,
       "width": 420
      }
     },
     "output_type": "display_data"
    },
    {
     "data": {
      "image/png": "[encoded data removed]",
      "text/plain": [
       "plot without title"
      ]
     },
     "metadata": {
      "image/png": {
       "height": 420,
       "width": 420
      }
     },
     "output_type": "display_data"
    }
   ],
   "source": [
    "boxplot(iris[-5], main = 'Boxplot of Iris data by attributes') \n",
    "pairs(iris[,-5], main=\"iris Data\", pch=21, bg = c(\"black\", \"red\", \"blue\")[unclass(iris$Classification)]) "
   ]
  },
  {
   "cell_type": "code",
   "execution_count": 6,
   "id": "cad9196f-6519-4179-a5b6-d160e7385256",
   "metadata": {},
   "outputs": [
    {
     "data": {
      "text/plain": [
       "  Sepal.Length    Sepal.Width     Petal.Length    Petal.Width   \n",
       " Min.   :4.300   Min.   :2.000   Min.   :1.000   Min.   :0.100  \n",
       " 1st Qu.:5.100   1st Qu.:2.800   1st Qu.:1.600   1st Qu.:0.300  \n",
       " Median :5.800   Median :3.000   Median :4.350   Median :1.300  \n",
       " Mean   :5.843   Mean   :3.057   Mean   :3.758   Mean   :1.199  \n",
       " 3rd Qu.:6.400   3rd Qu.:3.300   3rd Qu.:5.100   3rd Qu.:1.800  \n",
       " Max.   :7.900   Max.   :4.400   Max.   :6.900   Max.   :2.500  \n",
       "       Species  \n",
       " setosa    :50  \n",
       " versicolor:50  \n",
       " virginica :50  \n",
       "                \n",
       "                \n",
       "                "
      ]
     },
     "metadata": {},
     "output_type": "display_data"
    }
   ],
   "source": [
    "summary(iris_random) #summarize"
   ]
  },
  {
   "cell_type": "code",
   "execution_count": 7,
   "id": "a4f0ab80-4583-4c7d-ac9c-b0ced740b043",
   "metadata": {},
   "outputs": [
    {
     "name": "stdout",
     "output_type": "stream",
     "text": [
      "'data.frame':\t150 obs. of  5 variables:\n",
      " $ Sepal.Length: num  4.3 5.4 5.8 7.7 6 7.4 5.4 4.6 6.4 5.3 ...\n",
      " $ Sepal.Width : num  3 3.4 2.7 2.6 2.7 2.8 3.7 3.2 2.9 3.7 ...\n",
      " $ Petal.Length: num  1.1 1.5 3.9 6.9 5.1 6.1 1.5 1.4 4.3 1.5 ...\n",
      " $ Petal.Width : num  0.1 0.4 1.2 2.3 1.6 1.9 0.2 0.2 1.3 0.2 ...\n",
      " $ Species     : Factor w/ 3 levels \"setosa\",\"versicolor\",..: 1 1 2 3 2 3 1 1 2 1 ...\n"
     ]
    }
   ],
   "source": [
    "#change the Species field type to factor from character, so that they represent catagorical data\n",
    "iris_random$Species <- as.factor(iris_random$Species)\n",
    "str(iris_random)"
   ]
  },
  {
   "cell_type": "code",
   "execution_count": 8,
   "id": "e14395a1-c220-4988-8ae0-65e9ecec31d4",
   "metadata": {},
   "outputs": [],
   "source": [
    "# divide data in training and testing\n",
    "numofcol <- ncol(iris_random)\n",
    "numofrow <- nrow(iris_random)\n",
    "n80 <- round(numofrow*.8)\n",
    "\n",
    "iris_random_train <- iris_random[1:n80,] #train set\n",
    "iris_random_test <- iris_random[(n80+1):numofrow,] #test set\n",
    "\n",
    "iris_random_train_lbel <- iris_random[1:n80, numofcol] #train labels\n",
    "iris_random_test_label <- iris_random[(n80+1):numofrow, numofcol] #test labels"
   ]
  },
  {
   "cell_type": "code",
   "execution_count": 9,
   "id": "0feebdaa-bdee-40a5-9ea2-2494beb496f2",
   "metadata": {},
   "outputs": [
    {
     "data": {
      "text/html": [
       "<style>\n",
       ".list-inline {list-style: none; margin:0; padding: 0}\n",
       ".list-inline>li {display: inline-block}\n",
       ".list-inline>li:not(:last-child)::after {content: \"\\00b7\"; padding: 0 .5ex}\n",
       "</style>\n",
       "<ol class=list-inline><li>120</li><li>4</li></ol>\n"
      ],
      "text/latex": [
       "\\begin{enumerate*}\n",
       "\\item 120\n",
       "\\item 4\n",
       "\\end{enumerate*}\n"
      ],
      "text/markdown": [
       "1. 120\n",
       "2. 4\n",
       "\n",
       "\n"
      ],
      "text/plain": [
       "[1] 120   4"
      ]
     },
     "metadata": {},
     "output_type": "display_data"
    }
   ],
   "source": [
    "dim(iris_random_train[,-numofcol])"
   ]
  },
  {
   "cell_type": "code",
   "execution_count": 10,
   "id": "438cd274-a9af-4ef2-a447-d6eee16a8693",
   "metadata": {},
   "outputs": [
    {
     "data": {
      "text/html": [
       "<style>\n",
       ".list-inline {list-style: none; margin:0; padding: 0}\n",
       ".list-inline>li {display: inline-block}\n",
       ".list-inline>li:not(:last-child)::after {content: \"\\00b7\"; padding: 0 .5ex}\n",
       "</style>\n",
       "<ol class=list-inline><li>120</li><li>5</li></ol>\n"
      ],
      "text/latex": [
       "\\begin{enumerate*}\n",
       "\\item 120\n",
       "\\item 5\n",
       "\\end{enumerate*}\n"
      ],
      "text/markdown": [
       "1. 120\n",
       "2. 5\n",
       "\n",
       "\n"
      ],
      "text/plain": [
       "[1] 120   5"
      ]
     },
     "metadata": {},
     "output_type": "display_data"
    }
   ],
   "source": [
    "dim(iris_random_train)"
   ]
  },
  {
   "cell_type": "code",
   "execution_count": 11,
   "id": "0594a2d4-88a3-4f14-a2ba-a878714175a5",
   "metadata": {},
   "outputs": [
    {
     "data": {
      "text/plain": [
       "\n",
       "    setosa versicolor  virginica \n",
       "        42         40         38 "
      ]
     },
     "metadata": {},
     "output_type": "display_data"
    },
    {
     "data": {
      "text/plain": [
       "\n",
       "    setosa versicolor  virginica \n",
       "         8         10         12 "
      ]
     },
     "metadata": {},
     "output_type": "display_data"
    }
   ],
   "source": [
    "table(iris_random_train$Species)\n",
    "table(iris_random_test$Species)"
   ]
  },
  {
   "cell_type": "code",
   "execution_count": 12,
   "id": "f4c164ff-b427-4611-aa5b-f04fe72b91b6",
   "metadata": {},
   "outputs": [
    {
     "name": "stdout",
     "output_type": "stream",
     "text": [
      "package 'C50' successfully unpacked and MD5 sums checked\n"
     ]
    },
    {
     "name": "stderr",
     "output_type": "stream",
     "text": [
      "Warning message:\n",
      "\"cannot remove prior installation of package 'C50'\"\n",
      "Warning message in file.copy(savedcopy, lib, recursive = TRUE):\n",
      "\"problem copying C:\\Program Files\\R\\R-4.2.2\\library\\00LOCK\\C50\\libs\\x64\\C50.dll to C:\\Program Files\\R\\R-4.2.2\\library\\C50\\libs\\x64\\C50.dll: Permission denied\"\n",
      "Warning message:\n",
      "\"restored 'C50'\"\n"
     ]
    },
    {
     "name": "stdout",
     "output_type": "stream",
     "text": [
      "\n",
      "The downloaded binary packages are in\n",
      "\tC:\\Users\\devops\\AppData\\Local\\Temp\\2\\Rtmp6xwW8r\\downloaded_packages\n"
     ]
    }
   ],
   "source": [
    "install.packages(\"C50\")\n",
    "library(C50)"
   ]
  },
  {
   "cell_type": "code",
   "execution_count": 13,
   "id": "b1162dc7-5eba-4454-b1ca-d5cf12351158",
   "metadata": {},
   "outputs": [
    {
     "data": {
      "text/plain": [
       "\n",
       "Call:\n",
       "C5.0.default(x = iris_random_train[, -numofcol], y = iris_random_train$Species)\n",
       "\n",
       "Classification Tree\n",
       "Number of samples: 120 \n",
       "Number of predictors: 4 \n",
       "\n",
       "Tree size: 4 \n",
       "\n",
       "Non-standard options: attempt to group attributes\n"
      ]
     },
     "metadata": {},
     "output_type": "display_data"
    }
   ],
   "source": [
    "# executing the model\n",
    "dtmodel <- C5.0(iris_random_train[,-numofcol], iris_random_train$Species)\n",
    "dtmodel"
   ]
  },
  {
   "cell_type": "code",
   "execution_count": 14,
   "id": "e038fbc8-5f0c-453b-9c89-ef8be916fda2",
   "metadata": {},
   "outputs": [
    {
     "data": {
      "text/plain": [
       "\n",
       "Call:\n",
       "C5.0.default(x = iris_random_train[, -numofcol], y = iris_random_train$Species)\n",
       "\n",
       "\n",
       "C5.0 [Release 2.07 GPL Edition]  \tSun Feb 19 18:43:42 2023\n",
       "-------------------------------\n",
       "\n",
       "Class specified by attribute `outcome'\n",
       "\n",
       "Read 120 cases (5 attributes) from undefined.data\n",
       "\n",
       "Decision tree:\n",
       "\n",
       "Petal.Length <= 1.9: setosa (42)\n",
       "Petal.Length > 1.9:\n",
       ":...Petal.Width > 1.7: virginica (35/1)\n",
       "    Petal.Width <= 1.7:\n",
       "    :...Petal.Length <= 4.9: versicolor (38/1)\n",
       "        Petal.Length > 4.9: virginica (5/2)\n",
       "\n",
       "\n",
       "Evaluation on training data (120 cases):\n",
       "\n",
       "\t    Decision Tree   \n",
       "\t  ----------------  \n",
       "\t  Size      Errors  \n",
       "\n",
       "\t     4    4( 3.3%)   <<\n",
       "\n",
       "\n",
       "\t   (a)   (b)   (c)    <-classified as\n",
       "\t  ----  ----  ----\n",
       "\t    42                (a): class setosa\n",
       "\t          37     3    (b): class versicolor\n",
       "\t           1    37    (c): class virginica\n",
       "\n",
       "\n",
       "\tAttribute usage:\n",
       "\n",
       "\t100.00%\tPetal.Length\n",
       "\t 65.00%\tPetal.Width\n",
       "\n",
       "\n",
       "Time: 0.0 secs\n"
      ]
     },
     "metadata": {},
     "output_type": "display_data"
    }
   ],
   "source": [
    "summary(dtmodel) # listing decision tree rules"
   ]
  },
  {
   "cell_type": "code",
   "execution_count": 15,
   "id": "10fb726a-0016-4295-9dcf-51b8d58c6a63",
   "metadata": {},
   "outputs": [
    {
     "data": {
      "image/png": "[encoded data removed]",
      "text/plain": [
       "plot without title"
      ]
     },
     "metadata": {
      "image/png": {
       "height": 420,
       "width": 420
      }
     },
     "output_type": "display_data"
    }
   ],
   "source": [
    "plot(dtmodel)"
   ]
  },
  {
   "cell_type": "code",
   "execution_count": 16,
   "id": "8d28ca7b-b7f3-436b-a291-efc0dcef5f3b",
   "metadata": {},
   "outputs": [],
   "source": [
    "#model prediction\n",
    "dtmodel_predicted <- predict(dtmodel, iris_random_test)"
   ]
  },
  {
   "cell_type": "code",
   "execution_count": 17,
   "id": "a2eab5f3-7f5d-444e-9632-9552f158b97f",
   "metadata": {},
   "outputs": [],
   "source": [
    "# cross tabulation of predicted versus actual classes\n",
    "library(gmodels)"
   ]
  },
  {
   "cell_type": "code",
   "execution_count": 18,
   "id": "e732e6bb-cc0e-4f87-b02c-33bdc2405f6a",
   "metadata": {},
   "outputs": [
    {
     "name": "stdout",
     "output_type": "stream",
     "text": [
      "\n",
      " \n",
      "   Cell Contents\n",
      "|-------------------------|\n",
      "|                       N |\n",
      "|         N / Table Total |\n",
      "|-------------------------|\n",
      "\n",
      " \n",
      "Total Observations in Table:  30 \n",
      "\n",
      " \n",
      "               | predicted Species \n",
      "actual Species |     setosa | versicolor |  virginica |  Row Total | \n",
      "---------------|------------|------------|------------|------------|\n",
      "        setosa |          8 |          0 |          0 |          8 | \n",
      "               |      0.267 |      0.000 |      0.000 |            | \n",
      "---------------|------------|------------|------------|------------|\n",
      "    versicolor |          0 |         10 |          0 |         10 | \n",
      "               |      0.000 |      0.333 |      0.000 |            | \n",
      "---------------|------------|------------|------------|------------|\n",
      "     virginica |          0 |          0 |         12 |         12 | \n",
      "               |      0.000 |      0.000 |      0.400 |            | \n",
      "---------------|------------|------------|------------|------------|\n",
      "  Column Total |          8 |         10 |         12 |         30 | \n",
      "---------------|------------|------------|------------|------------|\n",
      "\n",
      " \n"
     ]
    }
   ],
   "source": [
    "CrossTable(iris_random_test$Species, dtmodel_predicted, prop.chisq = FALSE, prop.c = FALSE, prop.r = FALSE, dnn = c('actual Species', 'predicted Species'))"
   ]
  },
  {
   "cell_type": "code",
   "execution_count": 19,
   "id": "9d6be654-4ec5-4bc1-a87c-1dc0c0f3acf2",
   "metadata": {},
   "outputs": [],
   "source": [
    "# Boost not needed as it is already 100% accurate"
   ]
  },
  {
   "cell_type": "markdown",
   "id": "ee012ffb-65d4-4459-b7cb-4f1d0a2741d4",
   "metadata": {},
   "source": [
    "#### 2. Apply the OneR and RIPPER algorithms to classify credit (yes/no) in credit.csv. \n",
    "#### Apply the C50, algorithm to classify poisonous vs. edible mushrooms in mushroom.csv. \n",
    "#### How does the accuracy of the three models (i.e. including the models in the book) compare for each of the datasets?"
   ]
  },
  {
   "cell_type": "markdown",
   "id": "fa49e2ed-85fa-403e-969c-d79e67389b41",
   "metadata": {},
   "source": [
    "##### >>>>>>>>>>preparing the data<<<<<<<<<<"
   ]
  },
  {
   "cell_type": "code",
   "execution_count": 20,
   "id": "12bb04f9-f9ac-48ec-999d-c1426d197a6b",
   "metadata": {},
   "outputs": [
    {
     "name": "stdout",
     "output_type": "stream",
     "text": [
      "'data.frame':\t1000 obs. of  17 variables:\n",
      " $ checking_balance    : chr  \"< 0 DM\" \"1 - 200 DM\" \"unknown\" \"< 0 DM\" ...\n",
      " $ months_loan_duration: int  6 48 12 42 24 36 24 36 12 30 ...\n",
      " $ credit_history      : chr  \"critical\" \"good\" \"critical\" \"good\" ...\n",
      " $ purpose             : chr  \"furniture/appliances\" \"furniture/appliances\" \"education\" \"furniture/appliances\" ...\n",
      " $ amount              : int  1169 5951 2096 7882 4870 9055 2835 6948 3059 5234 ...\n",
      " $ savings_balance     : chr  \"unknown\" \"< 100 DM\" \"< 100 DM\" \"< 100 DM\" ...\n",
      " $ employment_duration : chr  \"> 7 years\" \"1 - 4 years\" \"4 - 7 years\" \"4 - 7 years\" ...\n",
      " $ percent_of_income   : int  4 2 2 2 3 2 3 2 2 4 ...\n",
      " $ years_at_residence  : int  4 2 3 4 4 4 4 2 4 2 ...\n",
      " $ age                 : int  67 22 49 45 53 35 53 35 61 28 ...\n",
      " $ other_credit        : chr  \"none\" \"none\" \"none\" \"none\" ...\n",
      " $ housing             : chr  \"own\" \"own\" \"own\" \"other\" ...\n",
      " $ existing_loans_count: int  2 1 1 1 2 1 1 1 1 2 ...\n",
      " $ job                 : chr  \"skilled\" \"skilled\" \"unskilled\" \"skilled\" ...\n",
      " $ dependents          : int  1 1 2 2 2 2 1 1 1 1 ...\n",
      " $ phone               : chr  \"yes\" \"no\" \"no\" \"no\" ...\n",
      " $ default             : chr  \"no\" \"yes\" \"no\" \"no\" ...\n"
     ]
    }
   ],
   "source": [
    "# credit data\n",
    "credit <- read.csv(\"./data/credit.csv\", stringsAsFactors = FALSE)\n",
    "str(credit) #structure of data\n",
    "\n",
    "#randomizing data and confirming that it is done\n",
    "set.seed(12345)\n",
    "credit_random <- credit[order(runif(nrow(credit))),]"
   ]
  },
  {
   "cell_type": "code",
   "execution_count": 21,
   "id": "09f0bc76-7081-47bb-b07e-54f624ca6df3",
   "metadata": {},
   "outputs": [
    {
     "name": "stdout",
     "output_type": "stream",
     "text": [
      "'data.frame':\t1000 obs. of  17 variables:\n",
      " $ checking_balance    : Factor w/ 4 levels \"< 0 DM\",\"> 200 DM\",..: 1 3 3 1 3 4 1 3 3 1 ...\n",
      " $ months_loan_duration: int  24 7 12 24 9 18 33 9 20 15 ...\n",
      " $ credit_history      : Factor w/ 5 levels \"critical\",\"good\",..: 1 2 2 2 1 2 1 2 4 2 ...\n",
      " $ purpose             : Factor w/ 6 levels \"business\",\"car\",..: 2 5 5 5 4 1 5 5 3 5 ...\n",
      " $ amount              : int  1199 2576 1103 4020 1501 1568 4281 918 2629 1845 ...\n",
      " $ savings_balance     : Factor w/ 5 levels \"< 100 DM\",\"> 1000 DM\",..: 1 1 1 1 1 3 4 1 1 1 ...\n",
      " $ employment_duration : Factor w/ 5 levels \"< 1 year\",\"> 7 years\",..: 2 3 4 3 2 3 3 3 3 1 ...\n",
      " $ percent_of_income   : int  4 2 4 2 2 3 1 4 2 4 ...\n",
      " $ years_at_residence  : int  4 2 3 2 3 4 4 1 3 1 ...\n",
      " $ age                 : int  60 35 29 27 34 24 23 30 29 46 ...\n",
      " $ other_credit        : Factor w/ 3 levels \"bank\",\"none\",..: 2 2 2 3 2 2 2 2 1 2 ...\n",
      " $ housing             : Factor w/ 3 levels \"other\",\"own\",..: 2 2 2 2 2 3 2 2 2 3 ...\n",
      " $ existing_loans_count: Factor w/ 4 levels \"1\",\"2\",\"3\",\"4\": 2 1 2 1 2 1 2 1 2 1 ...\n",
      " $ job                 : Factor w/ 4 levels \"management\",\"skilled\",..: 4 2 2 2 1 4 2 2 2 2 ...\n",
      " $ dependents          : Factor w/ 2 levels \"1\",\"2\": 1 1 1 1 1 1 1 1 1 1 ...\n",
      " $ phone               : Factor w/ 2 levels \"no\",\"yes\": 1 1 1 1 2 1 1 1 2 1 ...\n",
      " $ default             : Factor w/ 2 levels \"no\",\"yes\": 2 1 1 1 2 1 2 2 1 1 ...\n"
     ]
    }
   ],
   "source": [
    "# encoding catagorical data as factors as C50, OneR and Ripper algorithms are susseptile to that.\n",
    "credit_random$checking_balance <- as.factor(credit_random$checking_balance)\n",
    "credit_random$credit_history <- as.factor(credit_random$credit_history)\n",
    "credit_random$purpose <- as.factor(credit_random$purpose)\n",
    "credit_random$savings_balance <- as.factor(credit_random$savings_balance)\n",
    "credit_random$employment_duration <- as.factor(credit_random$employment_duration)\n",
    "credit_random$other_credit <- as.factor(credit_random$other_credit)\n",
    "credit_random$housing <- as.factor(credit_random$housing)\n",
    "credit_random$job <- as.factor(credit_random$job)\n",
    "credit_random$phone <- as.factor(credit_random$phone)\n",
    "credit_random$default <- as.factor(credit_random$default)\n",
    "credit_random$existing_loans_count <- as.factor(credit_random$existing_loans_count)\n",
    "credit_random$dependents <- as.factor(credit_random$dependents)\n",
    "str(credit_random) #structure of data"
   ]
  },
  {
   "cell_type": "code",
   "execution_count": 22,
   "id": "9cbf46ef-b7f5-4102-a6f6-4a920e43714d",
   "metadata": {},
   "outputs": [
    {
     "data": {
      "text/html": [
       "<table class=\"dataframe\">\n",
       "<caption>A data.frame: 6 × 17</caption>\n",
       "<thead>\n",
       "\t<tr><th></th><th scope=col>checking_balance</th><th scope=col>months_loan_duration</th><th scope=col>credit_history</th><th scope=col>purpose</th><th scope=col>amount</th><th scope=col>savings_balance</th><th scope=col>employment_duration</th><th scope=col>percent_of_income</th><th scope=col>years_at_residence</th><th scope=col>age</th><th scope=col>other_credit</th><th scope=col>housing</th><th scope=col>existing_loans_count</th><th scope=col>job</th><th scope=col>dependents</th><th scope=col>phone</th><th scope=col>default</th></tr>\n",
       "\t<tr><th></th><th scope=col>&lt;fct&gt;</th><th scope=col>&lt;int&gt;</th><th scope=col>&lt;fct&gt;</th><th scope=col>&lt;fct&gt;</th><th scope=col>&lt;int&gt;</th><th scope=col>&lt;fct&gt;</th><th scope=col>&lt;fct&gt;</th><th scope=col>&lt;int&gt;</th><th scope=col>&lt;int&gt;</th><th scope=col>&lt;int&gt;</th><th scope=col>&lt;fct&gt;</th><th scope=col>&lt;fct&gt;</th><th scope=col>&lt;fct&gt;</th><th scope=col>&lt;fct&gt;</th><th scope=col>&lt;fct&gt;</th><th scope=col>&lt;fct&gt;</th><th scope=col>&lt;fct&gt;</th></tr>\n",
       "</thead>\n",
       "<tbody>\n",
       "\t<tr><th scope=row>14</th><td><span style=white-space:pre-wrap>&lt; 0 DM    </span></td><td>24</td><td>critical</td><td><span style=white-space:pre-wrap>car                 </span></td><td>1199</td><td><span style=white-space:pre-wrap>&lt; 100 DM    </span></td><td><span style=white-space:pre-wrap>&gt; 7 years  </span></td><td>4</td><td>4</td><td>60</td><td>none </td><td>own </td><td>2</td><td>unskilled </td><td>1</td><td>no </td><td>yes</td></tr>\n",
       "\t<tr><th scope=row>448</th><td>1 - 200 DM</td><td> 7</td><td><span style=white-space:pre-wrap>good    </span></td><td>furniture/appliances</td><td>2576</td><td><span style=white-space:pre-wrap>&lt; 100 DM    </span></td><td>1 - 4 years</td><td>2</td><td>2</td><td>35</td><td>none </td><td>own </td><td>1</td><td><span style=white-space:pre-wrap>skilled   </span></td><td>1</td><td>no </td><td>no </td></tr>\n",
       "\t<tr><th scope=row>697</th><td>1 - 200 DM</td><td>12</td><td><span style=white-space:pre-wrap>good    </span></td><td>furniture/appliances</td><td>1103</td><td><span style=white-space:pre-wrap>&lt; 100 DM    </span></td><td>4 - 7 years</td><td>4</td><td>3</td><td>29</td><td>none </td><td>own </td><td>2</td><td><span style=white-space:pre-wrap>skilled   </span></td><td>1</td><td>no </td><td>no </td></tr>\n",
       "\t<tr><th scope=row>32</th><td><span style=white-space:pre-wrap>&lt; 0 DM    </span></td><td>24</td><td><span style=white-space:pre-wrap>good    </span></td><td>furniture/appliances</td><td>4020</td><td><span style=white-space:pre-wrap>&lt; 100 DM    </span></td><td>1 - 4 years</td><td>2</td><td>2</td><td>27</td><td>store</td><td>own </td><td>1</td><td><span style=white-space:pre-wrap>skilled   </span></td><td>1</td><td>no </td><td>no </td></tr>\n",
       "\t<tr><th scope=row>196</th><td>1 - 200 DM</td><td> 9</td><td>critical</td><td><span style=white-space:pre-wrap>education           </span></td><td>1501</td><td><span style=white-space:pre-wrap>&lt; 100 DM    </span></td><td><span style=white-space:pre-wrap>&gt; 7 years  </span></td><td>2</td><td>3</td><td>34</td><td>none </td><td>own </td><td>2</td><td>management</td><td>1</td><td>yes</td><td>yes</td></tr>\n",
       "\t<tr><th scope=row>83</th><td>unknown   </td><td>18</td><td>good    </td><td>business            </td><td>1568</td><td>100 - 500 DM</td><td>1 - 4 years</td><td>3</td><td>4</td><td>24</td><td>none </td><td>rent</td><td>1</td><td>unskilled </td><td>1</td><td>no </td><td>no </td></tr>\n",
       "</tbody>\n",
       "</table>\n"
      ],
      "text/latex": [
       "A data.frame: 6 × 17\n",
       "\\begin{tabular}{r|lllllllllllllllll}\n",
       "  & checking\\_balance & months\\_loan\\_duration & credit\\_history & purpose & amount & savings\\_balance & employment\\_duration & percent\\_of\\_income & years\\_at\\_residence & age & other\\_credit & housing & existing\\_loans\\_count & job & dependents & phone & default\\\\\n",
       "  & <fct> & <int> & <fct> & <fct> & <int> & <fct> & <fct> & <int> & <int> & <int> & <fct> & <fct> & <fct> & <fct> & <fct> & <fct> & <fct>\\\\\n",
       "\\hline\n",
       "\t14 & < 0 DM     & 24 & critical & car                  & 1199 & < 100 DM     & > 7 years   & 4 & 4 & 60 & none  & own  & 2 & unskilled  & 1 & no  & yes\\\\\n",
       "\t448 & 1 - 200 DM &  7 & good     & furniture/appliances & 2576 & < 100 DM     & 1 - 4 years & 2 & 2 & 35 & none  & own  & 1 & skilled    & 1 & no  & no \\\\\n",
       "\t697 & 1 - 200 DM & 12 & good     & furniture/appliances & 1103 & < 100 DM     & 4 - 7 years & 4 & 3 & 29 & none  & own  & 2 & skilled    & 1 & no  & no \\\\\n",
       "\t32 & < 0 DM     & 24 & good     & furniture/appliances & 4020 & < 100 DM     & 1 - 4 years & 2 & 2 & 27 & store & own  & 1 & skilled    & 1 & no  & no \\\\\n",
       "\t196 & 1 - 200 DM &  9 & critical & education            & 1501 & < 100 DM     & > 7 years   & 2 & 3 & 34 & none  & own  & 2 & management & 1 & yes & yes\\\\\n",
       "\t83 & unknown    & 18 & good     & business             & 1568 & 100 - 500 DM & 1 - 4 years & 3 & 4 & 24 & none  & rent & 1 & unskilled  & 1 & no  & no \\\\\n",
       "\\end{tabular}\n"
      ],
      "text/markdown": [
       "\n",
       "A data.frame: 6 × 17\n",
       "\n",
       "| <!--/--> | checking_balance &lt;fct&gt; | months_loan_duration &lt;int&gt; | credit_history &lt;fct&gt; | purpose &lt;fct&gt; | amount &lt;int&gt; | savings_balance &lt;fct&gt; | employment_duration &lt;fct&gt; | percent_of_income &lt;int&gt; | years_at_residence &lt;int&gt; | age &lt;int&gt; | other_credit &lt;fct&gt; | housing &lt;fct&gt; | existing_loans_count &lt;fct&gt; | job &lt;fct&gt; | dependents &lt;fct&gt; | phone &lt;fct&gt; | default &lt;fct&gt; |\n",
       "|---|---|---|---|---|---|---|---|---|---|---|---|---|---|---|---|---|---|\n",
       "| 14 | &lt; 0 DM     | 24 | critical | car                  | 1199 | &lt; 100 DM     | &gt; 7 years   | 4 | 4 | 60 | none  | own  | 2 | unskilled  | 1 | no  | yes |\n",
       "| 448 | 1 - 200 DM |  7 | good     | furniture/appliances | 2576 | &lt; 100 DM     | 1 - 4 years | 2 | 2 | 35 | none  | own  | 1 | skilled    | 1 | no  | no  |\n",
       "| 697 | 1 - 200 DM | 12 | good     | furniture/appliances | 1103 | &lt; 100 DM     | 4 - 7 years | 4 | 3 | 29 | none  | own  | 2 | skilled    | 1 | no  | no  |\n",
       "| 32 | &lt; 0 DM     | 24 | good     | furniture/appliances | 4020 | &lt; 100 DM     | 1 - 4 years | 2 | 2 | 27 | store | own  | 1 | skilled    | 1 | no  | no  |\n",
       "| 196 | 1 - 200 DM |  9 | critical | education            | 1501 | &lt; 100 DM     | &gt; 7 years   | 2 | 3 | 34 | none  | own  | 2 | management | 1 | yes | yes |\n",
       "| 83 | unknown    | 18 | good     | business             | 1568 | 100 - 500 DM | 1 - 4 years | 3 | 4 | 24 | none  | rent | 1 | unskilled  | 1 | no  | no  |\n",
       "\n"
      ],
      "text/plain": [
       "    checking_balance months_loan_duration credit_history purpose             \n",
       "14  < 0 DM           24                   critical       car                 \n",
       "448 1 - 200 DM        7                   good           furniture/appliances\n",
       "697 1 - 200 DM       12                   good           furniture/appliances\n",
       "32  < 0 DM           24                   good           furniture/appliances\n",
       "196 1 - 200 DM        9                   critical       education           \n",
       "83  unknown          18                   good           business            \n",
       "    amount savings_balance employment_duration percent_of_income\n",
       "14  1199   < 100 DM        > 7 years           4                \n",
       "448 2576   < 100 DM        1 - 4 years         2                \n",
       "697 1103   < 100 DM        4 - 7 years         4                \n",
       "32  4020   < 100 DM        1 - 4 years         2                \n",
       "196 1501   < 100 DM        > 7 years           2                \n",
       "83  1568   100 - 500 DM    1 - 4 years         3                \n",
       "    years_at_residence age other_credit housing existing_loans_count job       \n",
       "14  4                  60  none         own     2                    unskilled \n",
       "448 2                  35  none         own     1                    skilled   \n",
       "697 3                  29  none         own     2                    skilled   \n",
       "32  2                  27  store        own     1                    skilled   \n",
       "196 3                  34  none         own     2                    management\n",
       "83  4                  24  none         rent    1                    unskilled \n",
       "    dependents phone default\n",
       "14  1          no    yes    \n",
       "448 1          no    no     \n",
       "697 1          no    no     \n",
       "32  1          no    no     \n",
       "196 1          yes   yes    \n",
       "83  1          no    no     "
      ]
     },
     "metadata": {},
     "output_type": "display_data"
    }
   ],
   "source": [
    "head(credit_random)"
   ]
  },
  {
   "cell_type": "raw",
   "id": "db99dbf0-a1aa-45f5-bbb8-fb90ded1adc6",
   "metadata": {
    "tags": []
   },
   "source": [
    "pairs(credit_random[,c(2,5,8:10)], lower.panel = panel.smooth,) # work in progress"
   ]
  },
  {
   "cell_type": "code",
   "execution_count": 23,
   "id": "98f2af21-ce59-4ffb-afdb-1ff0f0478748",
   "metadata": {},
   "outputs": [
    {
     "name": "stdout",
     "output_type": "stream",
     "text": [
      "'data.frame':\t8124 obs. of  23 variables:\n",
      " $ type                    : Factor w/ 2 levels \"edible\",\"poisonous\": 2 1 1 2 1 1 1 1 2 1 ...\n",
      " $ cap_shape               : Factor w/ 6 levels \"bell\",\"conical\",..: 3 3 1 3 3 3 1 1 3 1 ...\n",
      " $ cap_surface             : Factor w/ 4 levels \"fibrous\",\"grooves\",..: 4 4 4 3 4 3 4 3 3 4 ...\n",
      " $ cap_color               : Factor w/ 10 levels \"brown\",\"buff\",..: 1 10 9 9 4 10 9 9 9 10 ...\n",
      " $ bruises                 : Factor w/ 2 levels \"no\",\"yes\": 2 2 2 2 1 2 2 2 2 2 ...\n",
      " $ odor                    : Factor w/ 9 levels \"almond\",\"anise\",..: 8 1 2 8 7 1 1 2 8 1 ...\n",
      " $ gill_attachment         : Factor w/ 2 levels \"attached\",\"free\": 2 2 2 2 2 2 2 2 2 2 ...\n",
      " $ gill_spacing            : Factor w/ 2 levels \"close\",\"crowded\": 1 1 1 1 2 1 1 1 1 1 ...\n",
      " $ gill_size               : Factor w/ 2 levels \"broad\",\"narrow\": 2 1 1 2 1 1 1 1 2 1 ...\n",
      " $ gill_color              : Factor w/ 12 levels \"black\",\"brown\",..: 1 1 2 2 1 2 5 2 8 5 ...\n",
      " $ stalk_shape             : Factor w/ 2 levels \"enlarging\",\"tapering\": 1 1 1 1 2 1 1 1 1 1 ...\n",
      " $ stalk_root              : Factor w/ 5 levels \"bulbous\",\"club\",..: 3 2 2 3 3 2 2 2 3 2 ...\n",
      " $ stalk_surface_above_ring: Factor w/ 4 levels \"fibrous\",\"scaly\",..: 4 4 4 4 4 4 4 4 4 4 ...\n",
      " $ stalk_surface_below_ring: Factor w/ 4 levels \"fibrous\",\"scaly\",..: 4 4 4 4 4 4 4 4 4 4 ...\n",
      " $ stalk_color_above_ring  : Factor w/ 9 levels \"brown\",\"buff\",..: 8 8 8 8 8 8 8 8 8 8 ...\n",
      " $ stalk_color_below_ring  : Factor w/ 9 levels \"brown\",\"buff\",..: 8 8 8 8 8 8 8 8 8 8 ...\n",
      " $ veil_type               : Factor w/ 1 level \"partial\": 1 1 1 1 1 1 1 1 1 1 ...\n",
      " $ veil_color              : Factor w/ 4 levels \"brown\",\"orange\",..: 3 3 3 3 3 3 3 3 3 3 ...\n",
      " $ ring_number             : Factor w/ 3 levels \"none\",\"one\",\"two\": 2 2 2 2 2 2 2 2 2 2 ...\n",
      " $ ring_type               : Factor w/ 5 levels \"evanescent\",\"flaring\",..: 5 5 5 5 1 5 5 5 5 5 ...\n",
      " $ spore_print_color       : Factor w/ 9 levels \"black\",\"brown\",..: 1 2 2 1 2 1 1 2 1 1 ...\n",
      " $ population              : Factor w/ 6 levels \"abundant\",\"clustered\",..: 4 3 3 4 1 3 3 4 5 4 ...\n",
      " $ habitat                 : Factor w/ 7 levels \"grasses\",\"leaves\",..: 5 1 3 5 1 1 3 3 1 3 ...\n"
     ]
    }
   ],
   "source": [
    "# mushroom data\n",
    "mushrooms <- read.csv(\"./data/mushrooms.csv\", stringsAsFactors = TRUE) # encodinf as factor to make sure it is acceptable to algorithms\n",
    "str(mushrooms) #structure of data "
   ]
  },
  {
   "cell_type": "code",
   "execution_count": 24,
   "id": "4b210b71-dd5d-463e-8a60-5851b52f1bbd",
   "metadata": {},
   "outputs": [
    {
     "data": {
      "text/html": [
       "<table class=\"dataframe\">\n",
       "<caption>A data.frame: 6 × 23</caption>\n",
       "<thead>\n",
       "\t<tr><th></th><th scope=col>type</th><th scope=col>cap_shape</th><th scope=col>cap_surface</th><th scope=col>cap_color</th><th scope=col>bruises</th><th scope=col>odor</th><th scope=col>gill_attachment</th><th scope=col>gill_spacing</th><th scope=col>gill_size</th><th scope=col>gill_color</th><th scope=col>⋯</th><th scope=col>stalk_surface_below_ring</th><th scope=col>stalk_color_above_ring</th><th scope=col>stalk_color_below_ring</th><th scope=col>veil_type</th><th scope=col>veil_color</th><th scope=col>ring_number</th><th scope=col>ring_type</th><th scope=col>spore_print_color</th><th scope=col>population</th><th scope=col>habitat</th></tr>\n",
       "\t<tr><th></th><th scope=col>&lt;fct&gt;</th><th scope=col>&lt;fct&gt;</th><th scope=col>&lt;fct&gt;</th><th scope=col>&lt;fct&gt;</th><th scope=col>&lt;fct&gt;</th><th scope=col>&lt;fct&gt;</th><th scope=col>&lt;fct&gt;</th><th scope=col>&lt;fct&gt;</th><th scope=col>&lt;fct&gt;</th><th scope=col>&lt;fct&gt;</th><th scope=col>⋯</th><th scope=col>&lt;fct&gt;</th><th scope=col>&lt;fct&gt;</th><th scope=col>&lt;fct&gt;</th><th scope=col>&lt;fct&gt;</th><th scope=col>&lt;fct&gt;</th><th scope=col>&lt;fct&gt;</th><th scope=col>&lt;fct&gt;</th><th scope=col>&lt;fct&gt;</th><th scope=col>&lt;fct&gt;</th><th scope=col>&lt;fct&gt;</th></tr>\n",
       "</thead>\n",
       "<tbody>\n",
       "\t<tr><th scope=row>7339</th><td>poisonous</td><td>knobbed</td><td>scaly  </td><td>brown </td><td>no </td><td>foul   </td><td>free</td><td>close</td><td>narrow</td><td>buff     </td><td>⋯</td><td>silky </td><td>pink </td><td>pink </td><td>partial</td><td>white</td><td>one</td><td>evanescent</td><td>white    </td><td>several  </td><td>paths  </td></tr>\n",
       "\t<tr><th scope=row>2723</th><td>edible   </td><td>flat   </td><td>fibrous</td><td>gray  </td><td>yes</td><td>none   </td><td>free</td><td>close</td><td>broad </td><td>pink     </td><td>⋯</td><td>smooth</td><td>gray </td><td>pink </td><td>partial</td><td>white</td><td>one</td><td>pendant   </td><td>brown    </td><td>solitary </td><td>woods  </td></tr>\n",
       "\t<tr><th scope=row>1100</th><td>poisonous</td><td>convex </td><td>scaly  </td><td>brown </td><td>yes</td><td>pungent</td><td>free</td><td>close</td><td>narrow</td><td>brown    </td><td>⋯</td><td>smooth</td><td>white</td><td>white</td><td>partial</td><td>white</td><td>one</td><td>pendant   </td><td>brown    </td><td>scattered</td><td>grasses</td></tr>\n",
       "\t<tr><th scope=row>6467</th><td>poisonous</td><td>knobbed</td><td>scaly  </td><td>brown </td><td>no </td><td>fishy  </td><td>free</td><td>close</td><td>narrow</td><td>buff     </td><td>⋯</td><td>smooth</td><td>pink </td><td>white</td><td>partial</td><td>white</td><td>one</td><td>evanescent</td><td>white    </td><td>several  </td><td>paths  </td></tr>\n",
       "\t<tr><th scope=row>4479</th><td>poisonous</td><td>flat   </td><td>fibrous</td><td>yellow</td><td>no </td><td>foul   </td><td>free</td><td>close</td><td>broad </td><td>chocolate</td><td>⋯</td><td>silky </td><td>buff </td><td>buff </td><td>partial</td><td>white</td><td>one</td><td>large     </td><td>chocolate</td><td>solitary </td><td>paths  </td></tr>\n",
       "\t<tr><th scope=row>3599</th><td>edible   </td><td>flat   </td><td>scaly  </td><td>brown </td><td>yes</td><td>none   </td><td>free</td><td>close</td><td>broad </td><td>brown    </td><td>⋯</td><td>smooth</td><td>pink </td><td>gray </td><td>partial</td><td>white</td><td>one</td><td>pendant   </td><td>black    </td><td>solitary </td><td>woods  </td></tr>\n",
       "</tbody>\n",
       "</table>\n"
      ],
      "text/latex": [
       "A data.frame: 6 × 23\n",
       "\\begin{tabular}{r|lllllllllllllllllllll}\n",
       "  & type & cap\\_shape & cap\\_surface & cap\\_color & bruises & odor & gill\\_attachment & gill\\_spacing & gill\\_size & gill\\_color & ⋯ & stalk\\_surface\\_below\\_ring & stalk\\_color\\_above\\_ring & stalk\\_color\\_below\\_ring & veil\\_type & veil\\_color & ring\\_number & ring\\_type & spore\\_print\\_color & population & habitat\\\\\n",
       "  & <fct> & <fct> & <fct> & <fct> & <fct> & <fct> & <fct> & <fct> & <fct> & <fct> & ⋯ & <fct> & <fct> & <fct> & <fct> & <fct> & <fct> & <fct> & <fct> & <fct> & <fct>\\\\\n",
       "\\hline\n",
       "\t7339 & poisonous & knobbed & scaly   & brown  & no  & foul    & free & close & narrow & buff      & ⋯ & silky  & pink  & pink  & partial & white & one & evanescent & white     & several   & paths  \\\\\n",
       "\t2723 & edible    & flat    & fibrous & gray   & yes & none    & free & close & broad  & pink      & ⋯ & smooth & gray  & pink  & partial & white & one & pendant    & brown     & solitary  & woods  \\\\\n",
       "\t1100 & poisonous & convex  & scaly   & brown  & yes & pungent & free & close & narrow & brown     & ⋯ & smooth & white & white & partial & white & one & pendant    & brown     & scattered & grasses\\\\\n",
       "\t6467 & poisonous & knobbed & scaly   & brown  & no  & fishy   & free & close & narrow & buff      & ⋯ & smooth & pink  & white & partial & white & one & evanescent & white     & several   & paths  \\\\\n",
       "\t4479 & poisonous & flat    & fibrous & yellow & no  & foul    & free & close & broad  & chocolate & ⋯ & silky  & buff  & buff  & partial & white & one & large      & chocolate & solitary  & paths  \\\\\n",
       "\t3599 & edible    & flat    & scaly   & brown  & yes & none    & free & close & broad  & brown     & ⋯ & smooth & pink  & gray  & partial & white & one & pendant    & black     & solitary  & woods  \\\\\n",
       "\\end{tabular}\n"
      ],
      "text/markdown": [
       "\n",
       "A data.frame: 6 × 23\n",
       "\n",
       "| <!--/--> | type &lt;fct&gt; | cap_shape &lt;fct&gt; | cap_surface &lt;fct&gt; | cap_color &lt;fct&gt; | bruises &lt;fct&gt; | odor &lt;fct&gt; | gill_attachment &lt;fct&gt; | gill_spacing &lt;fct&gt; | gill_size &lt;fct&gt; | gill_color &lt;fct&gt; | ⋯ ⋯ | stalk_surface_below_ring &lt;fct&gt; | stalk_color_above_ring &lt;fct&gt; | stalk_color_below_ring &lt;fct&gt; | veil_type &lt;fct&gt; | veil_color &lt;fct&gt; | ring_number &lt;fct&gt; | ring_type &lt;fct&gt; | spore_print_color &lt;fct&gt; | population &lt;fct&gt; | habitat &lt;fct&gt; |\n",
       "|---|---|---|---|---|---|---|---|---|---|---|---|---|---|---|---|---|---|---|---|---|---|\n",
       "| 7339 | poisonous | knobbed | scaly   | brown  | no  | foul    | free | close | narrow | buff      | ⋯ | silky  | pink  | pink  | partial | white | one | evanescent | white     | several   | paths   |\n",
       "| 2723 | edible    | flat    | fibrous | gray   | yes | none    | free | close | broad  | pink      | ⋯ | smooth | gray  | pink  | partial | white | one | pendant    | brown     | solitary  | woods   |\n",
       "| 1100 | poisonous | convex  | scaly   | brown  | yes | pungent | free | close | narrow | brown     | ⋯ | smooth | white | white | partial | white | one | pendant    | brown     | scattered | grasses |\n",
       "| 6467 | poisonous | knobbed | scaly   | brown  | no  | fishy   | free | close | narrow | buff      | ⋯ | smooth | pink  | white | partial | white | one | evanescent | white     | several   | paths   |\n",
       "| 4479 | poisonous | flat    | fibrous | yellow | no  | foul    | free | close | broad  | chocolate | ⋯ | silky  | buff  | buff  | partial | white | one | large      | chocolate | solitary  | paths   |\n",
       "| 3599 | edible    | flat    | scaly   | brown  | yes | none    | free | close | broad  | brown     | ⋯ | smooth | pink  | gray  | partial | white | one | pendant    | black     | solitary  | woods   |\n",
       "\n"
      ],
      "text/plain": [
       "     type      cap_shape cap_surface cap_color bruises odor    gill_attachment\n",
       "7339 poisonous knobbed   scaly       brown     no      foul    free           \n",
       "2723 edible    flat      fibrous     gray      yes     none    free           \n",
       "1100 poisonous convex    scaly       brown     yes     pungent free           \n",
       "6467 poisonous knobbed   scaly       brown     no      fishy   free           \n",
       "4479 poisonous flat      fibrous     yellow    no      foul    free           \n",
       "3599 edible    flat      scaly       brown     yes     none    free           \n",
       "     gill_spacing gill_size gill_color <U+22EF>        stalk_surface_below_ring\n",
       "7339 close        narrow    buff       <U+22EF> silky                   \n",
       "2723 close        broad     pink       <U+22EF> smooth                  \n",
       "1100 close        narrow    brown      <U+22EF> smooth                  \n",
       "6467 close        narrow    buff       <U+22EF> smooth                  \n",
       "4479 close        broad     chocolate  <U+22EF> silky                   \n",
       "3599 close        broad     brown      <U+22EF> smooth                  \n",
       "     stalk_color_above_ring stalk_color_below_ring veil_type veil_color\n",
       "7339 pink                   pink                   partial   white     \n",
       "2723 gray                   pink                   partial   white     \n",
       "1100 white                  white                  partial   white     \n",
       "6467 pink                   white                  partial   white     \n",
       "4479 buff                   buff                   partial   white     \n",
       "3599 pink                   gray                   partial   white     \n",
       "     ring_number ring_type  spore_print_color population habitat\n",
       "7339 one         evanescent white             several    paths  \n",
       "2723 one         pendant    brown             solitary   woods  \n",
       "1100 one         pendant    brown             scattered  grasses\n",
       "6467 one         evanescent white             several    paths  \n",
       "4479 one         large      chocolate         solitary   paths  \n",
       "3599 one         pendant    black             solitary   woods  "
      ]
     },
     "metadata": {},
     "output_type": "display_data"
    }
   ],
   "source": [
    "#randomizing data and confirming that it is done\n",
    "set.seed(12345)\n",
    "mushrooms_random <- mushrooms[order(runif(nrow(mushrooms))),]\n",
    "head(mushrooms_random)"
   ]
  },
  {
   "cell_type": "markdown",
   "id": "d12e4edf-3704-4299-8286-21660eb816aa",
   "metadata": {},
   "source": [
    "##### >>>>>>>>>>using Rule Learner models on the data<<<<<<<<<<\n",
    "##### Note: Can not initalize all agorithms together as they conflict so going through them one at a time"
   ]
  },
  {
   "cell_type": "code",
   "execution_count": 25,
   "id": "93cd4a43-c863-4c7b-8a59-06b3e5821716",
   "metadata": {},
   "outputs": [],
   "source": [
    "# using all data as we are trying to detect rules and not preparing for unforseen data.\n",
    "# model relationship between 'type' against all predictors '.' or mention their names like x1 + x2 +x3 and so on"
   ]
  },
  {
   "cell_type": "code",
   "execution_count": 26,
   "id": "ef769b02-4a8d-460b-8364-a6cd11377bab",
   "metadata": {},
   "outputs": [
    {
     "name": "stderr",
     "output_type": "stream",
     "text": [
      "Loading required package: usethis\n",
      "\n"
     ]
    },
    {
     "name": "stdout",
     "output_type": "stream",
     "text": [
      "package 'rJava' successfully unpacked and MD5 sums checked\n"
     ]
    },
    {
     "name": "stderr",
     "output_type": "stream",
     "text": [
      "Warning message:\n",
      "\"cannot remove prior installation of package 'rJava'\"\n",
      "Warning message in file.copy(savedcopy, lib, recursive = TRUE):\n",
      "\"problem copying C:\\Program Files\\R\\R-4.2.2\\library\\00LOCK\\rJava\\libs\\x64\\rJava.dll to C:\\Program Files\\R\\R-4.2.2\\library\\rJava\\libs\\x64\\rJava.dll: Permission denied\"\n",
      "Warning message:\n",
      "\"restored 'rJava'\"\n"
     ]
    },
    {
     "name": "stdout",
     "output_type": "stream",
     "text": [
      "\n",
      "The downloaded binary packages are in\n",
      "\tC:\\Users\\devops\\AppData\\Local\\Temp\\2\\Rtmp6xwW8r\\downloaded_packages\n"
     ]
    }
   ],
   "source": [
    "# initializing OneR\n",
    "library(devtools)\n",
    "install.packages(\"rJava\")\n",
    "library(rJava)\n",
    "library(OneR)"
   ]
  },
  {
   "cell_type": "code",
   "execution_count": 27,
   "id": "6408ebd9-b772-4885-b86e-2358e1276fbc",
   "metadata": {},
   "outputs": [
    {
     "data": {
      "text/plain": [
       "\n",
       "Call:\n",
       "OneR.formula(formula = default ~ ., data = credit_random)\n",
       "\n",
       "Rules:\n",
       "If credit_history = critical  then default = no\n",
       "If credit_history = good      then default = no\n",
       "If credit_history = perfect   then default = yes\n",
       "If credit_history = poor      then default = no\n",
       "If credit_history = very good then default = yes\n",
       "\n",
       "Accuracy:\n",
       "717 of 1000 instances classified correctly (71.7%)\n"
      ]
     },
     "metadata": {},
     "output_type": "display_data"
    },
    {
     "data": {
      "text/plain": [
       "\n",
       "Call:\n",
       "OneR.formula(formula = type ~ ., data = mushrooms_random)\n",
       "\n",
       "Rules:\n",
       "If odor = almond   then type = edible\n",
       "If odor = anise    then type = edible\n",
       "If odor = creosote then type = poisonous\n",
       "If odor = fishy    then type = poisonous\n",
       "If odor = foul     then type = poisonous\n",
       "If odor = musty    then type = poisonous\n",
       "If odor = none     then type = edible\n",
       "If odor = pungent  then type = poisonous\n",
       "If odor = spicy    then type = poisonous\n",
       "\n",
       "Accuracy:\n",
       "8004 of 8124 instances classified correctly (98.52%)\n"
      ]
     },
     "metadata": {},
     "output_type": "display_data"
    }
   ],
   "source": [
    "# Working with OneR on CREDIT data and MUSHROOM data\n",
    "credit_1R <- OneR(default ~ ., data = credit_random) \n",
    "mushrooms_1R <- OneR(type ~ ., data = mushrooms_random) \n",
    "\n",
    "# checking for rules generated\n",
    "credit_1R \n",
    "mushrooms_1R"
   ]
  },
  {
   "cell_type": "code",
   "execution_count": 28,
   "id": "e6b3e7ff-10f2-467f-8703-34b455dc4958",
   "metadata": {},
   "outputs": [],
   "source": [
    "# making predictions for comparision later\n",
    "credit_1R_pred <- predict(credit_1R, credit_random)\n",
    "mushrooms_1R_pred <- predict(mushrooms_1R, mushrooms_random)"
   ]
  },
  {
   "cell_type": "code",
   "execution_count": 29,
   "id": "0ff5ab61-127b-445f-ae1d-abaac9867de3",
   "metadata": {},
   "outputs": [
    {
     "name": "stdout",
     "output_type": "stream",
     "text": [
      "package 'RWeka' successfully unpacked and MD5 sums checked\n"
     ]
    },
    {
     "name": "stderr",
     "output_type": "stream",
     "text": [
      "Warning message:\n",
      "\"cannot remove prior installation of package 'RWeka'\"\n",
      "Warning message:\n",
      "\"restored 'RWeka'\"\n"
     ]
    },
    {
     "name": "stdout",
     "output_type": "stream",
     "text": [
      "\n",
      "The downloaded binary packages are in\n",
      "\tC:\\Users\\devops\\AppData\\Local\\Temp\\2\\Rtmp6xwW8r\\downloaded_packages\n"
     ]
    },
    {
     "name": "stderr",
     "output_type": "stream",
     "text": [
      "\n",
      "Attaching package: 'RWeka'\n",
      "\n",
      "\n",
      "The following object is masked from 'package:OneR':\n",
      "\n",
      "    OneR\n",
      "\n",
      "\n"
     ]
    }
   ],
   "source": [
    "# initializing Ripper\n",
    "install.packages(\"RWeka\")\n",
    "library(RWeka)"
   ]
  },
  {
   "cell_type": "code",
   "execution_count": 30,
   "id": "8da94817-10c7-4e59-adc0-9e0b03e96824",
   "metadata": {},
   "outputs": [
    {
     "data": {
      "text/plain": [
       "JRIP rules:\n",
       "===========\n",
       "\n",
       "(checking_balance = < 0 DM) and (months_loan_duration >= 16) => default=yes (166.0/68.0)\n",
       "(checking_balance = 1 - 200 DM) and (months_loan_duration >= 24) and (savings_balance = < 100 DM) => default=yes (61.0/19.0)\n",
       " => default=no (773.0/160.0)\n",
       "\n",
       "Number of Rules : 3\n"
      ]
     },
     "metadata": {},
     "output_type": "display_data"
    },
    {
     "data": {
      "text/plain": [
       "JRIP rules:\n",
       "===========\n",
       "\n",
       "(odor = foul) => type=poisonous (2160.0/0.0)\n",
       "(gill_size = narrow) and (gill_color = buff) => type=poisonous (1152.0/0.0)\n",
       "(gill_size = narrow) and (odor = pungent) => type=poisonous (256.0/0.0)\n",
       "(odor = creosote) => type=poisonous (192.0/0.0)\n",
       "(spore_print_color = green) => type=poisonous (72.0/0.0)\n",
       "(stalk_surface_below_ring = scaly) and (stalk_surface_above_ring = silky) => type=poisonous (68.0/0.0)\n",
       "(stalk_color_above_ring = yellow) => type=poisonous (8.0/0.0)\n",
       "(habitat = leaves) and (cap_color = white) => type=poisonous (8.0/0.0)\n",
       " => type=edible (4208.0/0.0)\n",
       "\n",
       "Number of Rules : 9\n"
      ]
     },
     "metadata": {},
     "output_type": "display_data"
    }
   ],
   "source": [
    "# Working with Ripper on CREDIT data and MUSHROOM data\n",
    "credit_JRip <- JRip(default ~ ., data = credit_random)\n",
    "mushrooms_JRip <- JRip(type ~ ., data = mushrooms_random)\n",
    "\n",
    "# checking for rules generated\n",
    "credit_JRip\n",
    "mushrooms_JRip"
   ]
  },
  {
   "cell_type": "code",
   "execution_count": 31,
   "id": "a5a73606-4699-40ae-afe1-664149afc7ca",
   "metadata": {},
   "outputs": [],
   "source": [
    "# making predictions for comparision later\n",
    "credit_JRip_pred <- predict(credit_JRip, credit_random)\n",
    "mushrooms_JRip_pred <- predict(mushrooms_JRip, mushrooms_random)"
   ]
  },
  {
   "cell_type": "code",
   "execution_count": 32,
   "id": "b45eaa8f-1251-4a2b-a23c-c554993552c4",
   "metadata": {},
   "outputs": [
    {
     "name": "stderr",
     "output_type": "stream",
     "text": [
      "Warning message:\n",
      "\"package 'C50' is in use and will not be installed\"\n"
     ]
    }
   ],
   "source": [
    "# initializing C50\n",
    "install.packages(\"C50\")\n",
    "library(C50) "
   ]
  },
  {
   "cell_type": "code",
   "execution_count": 33,
   "id": "c68844a1-1c3e-4046-add1-154ee9e8bf92",
   "metadata": {},
   "outputs": [
    {
     "data": {
      "text/plain": [
       "\n",
       "Call:\n",
       "C5.0.formula(formula = default ~ ., data = credit_random, rules = TRUE)\n",
       "\n",
       "Rule-Based Model\n",
       "Number of samples: 1000 \n",
       "Number of predictors: 16 \n",
       "\n",
       "Number of Rules: 24 \n",
       "\n",
       "Non-standard options: attempt to group attributes\n"
      ]
     },
     "metadata": {},
     "output_type": "display_data"
    }
   ],
   "source": [
    "# Working with C50 decision tree algo on CREDIT data\n",
    "credit_c5rules <- C5.0(default ~ ., data = credit_random, rules = TRUE)\n",
    "\n",
    "# checking for rules generated\n",
    "(credit_c5rules)"
   ]
  },
  {
   "cell_type": "code",
   "execution_count": 34,
   "id": "519f67fd-562f-4029-b70d-b7533e6d75e5",
   "metadata": {},
   "outputs": [
    {
     "data": {
      "text/plain": [
       "\n",
       "Call:\n",
       "C5.0.formula(formula = type ~ ., data = mushrooms_random[, -17], rules = TRUE)\n",
       "\n",
       "\n",
       "C5.0 [Release 2.07 GPL Edition]  \tSun Feb 19 18:43:56 2023\n",
       "-------------------------------\n",
       "\n",
       "Class specified by attribute `outcome'\n",
       "\n",
       "Read 8124 cases (22 attributes) from undefined.data\n",
       "\n",
       "Rules:\n",
       "\n",
       "Rule 1: (4148/4, lift 1.9)\n",
       "\tcap_surface in {fibrous, scaly, smooth}\n",
       "\todor in {almond, anise, none}\n",
       "\tstalk_color_below_ring in {gray, orange, pink, red, white}\n",
       "\tspore_print_color in {black, brown, buff, chocolate, orange, purple,\n",
       "                              white, yellow}\n",
       "\t->  class edible  [0.999]\n",
       "\n",
       "Rule 2: (3500/12, lift 1.9)\n",
       "\tcap_surface in {fibrous, scaly, smooth}\n",
       "\todor in {almond, anise, none}\n",
       "\tstalk_root in {bulbous, club, equal, rooted}\n",
       "\tspore_print_color in {black, brown, purple, white}\n",
       "\t->  class edible  [0.996]\n",
       "\n",
       "Rule 3: (3796, lift 2.1)\n",
       "\todor in {creosote, fishy, foul, musty, pungent, spicy}\n",
       "\t->  class poisonous  [1.000]\n",
       "\n",
       "Rule 4: (72, lift 2.0)\n",
       "\tspore_print_color = green\n",
       "\t->  class poisonous  [0.986]\n",
       "\n",
       "Rule 5: (24, lift 2.0)\n",
       "\tstalk_color_below_ring = yellow\n",
       "\t->  class poisonous  [0.962]\n",
       "\n",
       "Rule 6: (16, lift 2.0)\n",
       "\tstalk_root = missing\n",
       "\tstalk_color_below_ring = brown\n",
       "\t->  class poisonous  [0.944]\n",
       "\n",
       "Rule 7: (4, lift 1.7)\n",
       "\tcap_surface = grooves\n",
       "\t->  class poisonous  [0.833]\n",
       "\n",
       "Default class: edible\n",
       "\n",
       "\n",
       "Evaluation on training data (8124 cases):\n",
       "\n",
       "\t        Rules     \n",
       "\t  ----------------\n",
       "\t    No      Errors\n",
       "\n",
       "\t     7   12( 0.1%)   <<\n",
       "\n",
       "\n",
       "\t   (a)   (b)    <-classified as\n",
       "\t  ----  ----\n",
       "\t  4208          (a): class edible\n",
       "\t    12  3904    (b): class poisonous\n",
       "\n",
       "\n",
       "\tAttribute usage:\n",
       "\n",
       "\t 98.67%\todor\n",
       "\t 52.83%\tspore_print_color\n",
       "\t 51.99%\tcap_surface\n",
       "\t 51.55%\tstalk_color_below_ring\n",
       "\t 43.28%\tstalk_root\n",
       "\n",
       "\n",
       "Time: 0.0 secs\n"
      ]
     },
     "metadata": {},
     "output_type": "display_data"
    }
   ],
   "source": [
    "# Working with C50 decision tree algo on MUSHROOM data\n",
    "#>>>> NOTE: \n",
    "# decision tree with rule learner fails with complete dataset as attribute 'veil type' has only one level 'partial' and so it exits with exit code 1.\n",
    "# in summary of the result it shouws this message so i removed that column or property from the data.\n",
    "# this decision does not affect the result as it never served any variation.\n",
    "\n",
    "mushrooms_c5rules <- C5.0(type ~ ., data = mushrooms_random[,-17], rules = TRUE) # gets error \n",
    "\n",
    "# checking for rules generated\n",
    "summary(mushrooms_c5rules)"
   ]
  },
  {
   "cell_type": "code",
   "execution_count": 35,
   "id": "fa39f44c-ec2b-4741-a71e-3cfa261ee57d",
   "metadata": {},
   "outputs": [],
   "source": [
    "# making predictions for comparision later\n",
    "credit_c5rules_pred <- predict(credit_c5rules, credit_random)\n",
    "mushrooms_c5rules_pred <- predict(mushrooms_c5rules, mushrooms_random)"
   ]
  },
  {
   "cell_type": "markdown",
   "id": "ad92ccf2-7041-4f84-aa99-d8ae95963369",
   "metadata": {},
   "source": [
    "##### >>>>>>>>>>comparing the accuracy of rules generated by the models<<<<<<<<<<"
   ]
  },
  {
   "cell_type": "code",
   "execution_count": 36,
   "id": "f1ecbe31-572a-4bce-b975-a56d058e1c89",
   "metadata": {},
   "outputs": [
    {
     "name": "stdout",
     "output_type": "stream",
     "text": [
      "package 'MLmetrics' successfully unpacked and MD5 sums checked\n",
      "\n",
      "The downloaded binary packages are in\n",
      "\tC:\\Users\\devops\\AppData\\Local\\Temp\\2\\Rtmp6xwW8r\\downloaded_packages\n"
     ]
    },
    {
     "name": "stderr",
     "output_type": "stream",
     "text": [
      "\n",
      "Attaching package: 'MLmetrics'\n",
      "\n",
      "\n",
      "The following object is masked from 'package:base':\n",
      "\n",
      "    Recall\n",
      "\n",
      "\n"
     ]
    }
   ],
   "source": [
    "install.packages('MLmetrics')\n",
    "library(MLmetrics)"
   ]
  },
  {
   "cell_type": "code",
   "execution_count": 37,
   "id": "3b50c7bd-8064-43d4-abdc-1e9a90dac705",
   "metadata": {},
   "outputs": [
    {
     "name": "stdout",
     "output_type": "stream",
     "text": [
      "[1] \"========== CREDIT DATA RESULTS ==========\"\n"
     ]
    },
    {
     "data": {
      "text/html": [
       "'OneR accuracy for credit data: 71.700000'"
      ],
      "text/latex": [
       "'OneR accuracy for credit data: 71.700000'"
      ],
      "text/markdown": [
       "'OneR accuracy for credit data: 71.700000'"
      ],
      "text/plain": [
       "[1] \"OneR accuracy for credit data: 71.700000\""
      ]
     },
     "metadata": {},
     "output_type": "display_data"
    },
    {
     "data": {
      "text/html": [
       "'RIPPER accuracy for credit data: 75.300000'"
      ],
      "text/latex": [
       "'RIPPER accuracy for credit data: 75.300000'"
      ],
      "text/markdown": [
       "'RIPPER accuracy for credit data: 75.300000'"
      ],
      "text/plain": [
       "[1] \"RIPPER accuracy for credit data: 75.300000\""
      ]
     },
     "metadata": {},
     "output_type": "display_data"
    },
    {
     "data": {
      "text/html": [
       "'C50 Decision tree rule learner accuracy for credit data: 85.300000'"
      ],
      "text/latex": [
       "'C50 Decision tree rule learner accuracy for credit data: 85.300000'"
      ],
      "text/markdown": [
       "'C50 Decision tree rule learner accuracy for credit data: 85.300000'"
      ],
      "text/plain": [
       "[1] \"C50 Decision tree rule learner accuracy for credit data: 85.300000\""
      ]
     },
     "metadata": {},
     "output_type": "display_data"
    },
    {
     "data": {
      "text/html": [
       "<span style=white-space:pre-wrap>'    '</span>"
      ],
      "text/latex": [
       "'    '"
      ],
      "text/markdown": [
       "<span style=white-space:pre-wrap>'    '</span>"
      ],
      "text/plain": [
       "[1] \"    \""
      ]
     },
     "metadata": {},
     "output_type": "display_data"
    },
    {
     "name": "stdout",
     "output_type": "stream",
     "text": [
      "[1] \"========== MUSHROOM DATA RESULTS ==========\"\n"
     ]
    },
    {
     "data": {
      "text/html": [
       "'OneR accuracy for mushroom data: 98.522895'"
      ],
      "text/latex": [
       "'OneR accuracy for mushroom data: 98.522895'"
      ],
      "text/markdown": [
       "'OneR accuracy for mushroom data: 98.522895'"
      ],
      "text/plain": [
       "[1] \"OneR accuracy for mushroom data: 98.522895\""
      ]
     },
     "metadata": {},
     "output_type": "display_data"
    },
    {
     "data": {
      "text/html": [
       "'RIPPER accuracy for mushroom data: 100.000000'"
      ],
      "text/latex": [
       "'RIPPER accuracy for mushroom data: 100.000000'"
      ],
      "text/markdown": [
       "'RIPPER accuracy for mushroom data: 100.000000'"
      ],
      "text/plain": [
       "[1] \"RIPPER accuracy for mushroom data: 100.000000\""
      ]
     },
     "metadata": {},
     "output_type": "display_data"
    },
    {
     "data": {
      "text/html": [
       "'C50 Decision tree rule learner accuracy for mushroom data: 99.852290'"
      ],
      "text/latex": [
       "'C50 Decision tree rule learner accuracy for mushroom data: 99.852290'"
      ],
      "text/markdown": [
       "'C50 Decision tree rule learner accuracy for mushroom data: 99.852290'"
      ],
      "text/plain": [
       "[1] \"C50 Decision tree rule learner accuracy for mushroom data: 99.852290\""
      ]
     },
     "metadata": {},
     "output_type": "display_data"
    }
   ],
   "source": [
    "print(\"========== CREDIT DATA RESULTS ==========\")\n",
    "sprintf(\"OneR accuracy for credit data: %f\", (MLmetrics::Accuracy(credit_1R_pred, credit_random$default)*100))\n",
    "sprintf(\"RIPPER accuracy for credit data: %f\", (MLmetrics::Accuracy(credit_JRip_pred, credit_random$default)*100))\n",
    "sprintf(\"C50 Decision tree rule learner accuracy for credit data: %f\", (MLmetrics::Accuracy(credit_c5rules_pred, credit_random$default)*100))\n",
    "sprintf(\"    \")\n",
    "print(\"========== MUSHROOM DATA RESULTS ==========\")\n",
    "sprintf(\"OneR accuracy for mushroom data: %f\", (MLmetrics::Accuracy(mushrooms_1R_pred, mushrooms_random$type)*100))\n",
    "sprintf(\"RIPPER accuracy for mushroom data: %f\", (MLmetrics::Accuracy(mushrooms_JRip_pred, mushrooms_random$type)*100))\n",
    "sprintf(\"C50 Decision tree rule learner accuracy for mushroom data: %f\", (MLmetrics::Accuracy(mushrooms_c5rules_pred, mushrooms_random$type)*100))"
   ]
  },
  {
   "cell_type": "code",
   "execution_count": 38,
   "id": "2e7c1dfb-546d-47e2-b4ad-6c3ddef38183",
   "metadata": {},
   "outputs": [
    {
     "name": "stdout",
     "output_type": "stream",
     "text": [
      "\n",
      " \n",
      "   Cell Contents\n",
      "|-------------------------|\n",
      "|                       N |\n",
      "|         N / Table Total |\n",
      "|-------------------------|\n",
      "\n",
      " \n",
      "Total Observations in Table:  1000 \n",
      "\n",
      " \n",
      "             | predicted \n",
      "      actual |        no |       yes | Row Total | \n",
      "-------------|-----------|-----------|-----------|\n",
      "          no |       664 |        36 |       700 | \n",
      "             |     0.664 |     0.036 |           | \n",
      "-------------|-----------|-----------|-----------|\n",
      "         yes |       247 |        53 |       300 | \n",
      "             |     0.247 |     0.053 |           | \n",
      "-------------|-----------|-----------|-----------|\n",
      "Column Total |       911 |        89 |      1000 | \n",
      "-------------|-----------|-----------|-----------|\n",
      "\n",
      " \n"
     ]
    },
    {
     "data": {
      "text/plain": [
       "      predicted\n",
       "actual  no yes\n",
       "   no  664  36\n",
       "   yes 247  53"
      ]
     },
     "metadata": {},
     "output_type": "display_data"
    },
    {
     "data": {
      "text/plain": [
       "      predicted\n",
       "actual  no yes\n",
       "   no  613  87\n",
       "   yes 160 140"
      ]
     },
     "metadata": {},
     "output_type": "display_data"
    },
    {
     "data": {
      "text/plain": [
       "      predicted\n",
       "actual  no yes\n",
       "   no  668  32\n",
       "   yes 115 185"
      ]
     },
     "metadata": {},
     "output_type": "display_data"
    },
    {
     "data": {
      "text/plain": [
       "           predicted\n",
       "actual      edible poisonous\n",
       "  edible      4208         0\n",
       "  poisonous    120      3796"
      ]
     },
     "metadata": {},
     "output_type": "display_data"
    },
    {
     "data": {
      "text/plain": [
       "           predicted\n",
       "actual      edible poisonous\n",
       "  edible      4208         0\n",
       "  poisonous      0      3916"
      ]
     },
     "metadata": {},
     "output_type": "display_data"
    },
    {
     "data": {
      "text/plain": [
       "           predicted\n",
       "actual      edible poisonous\n",
       "  edible      4208         0\n",
       "  poisonous     12      3904"
      ]
     },
     "metadata": {},
     "output_type": "display_data"
    }
   ],
   "source": [
    "# sample validation table\n",
    "CrossTable(credit_random$default, credit_1R_pred, prop.chisq = FALSE, prop.c = FALSE, prop.r = FALSE, dnn = c('actual', 'predicted'))\n",
    "\n",
    "\n",
    "table(actual = credit_random$default, predicted = credit_1R_pred)\n",
    "table(actual = credit_random$default, predicted = credit_JRip_pred)\n",
    "table(actual = credit_random$default, predicted = credit_c5rules_pred)\n",
    "table(actual = mushrooms_random$type, predicted = mushrooms_1R_pred)\n",
    "table(actual = mushrooms_random$type, predicted = mushrooms_JRip_pred)\n",
    "table(actual = mushrooms_random$type, predicted = mushrooms_c5rules_pred)"
   ]
  },
  {
   "cell_type": "markdown",
   "id": "e9666e53-3e51-423a-99d9-17f5957cbfb6",
   "metadata": {},
   "source": [
    "#### 3. Use the caret package and evaluate the models in 1 and 2 above in terms of accuracy, kappa statistic, sensitivity, specificity, and the F-measure. "
   ]
  },
  {
   "cell_type": "code",
   "execution_count": 40,
   "id": "76b50f51-5176-4180-9b0c-f9ac8591cebd",
   "metadata": {
    "scrolled": true,
    "tags": []
   },
   "outputs": [
    {
     "name": "stderr",
     "output_type": "stream",
     "text": [
      "Warning message:\n",
      "\"dependencies 'unix', 'glmmADMB', 'graph', 'Biostrings', 'seqLogo', 'Rcampdf', 'Rgraphviz', 'Rpoppler', 'tm.lexicon.GeneralInquirer', 'cmdstanr', 'Biobase', 'RandomFields', 'RandomFieldsUtils', 'starsdata', 'RDCOMClient', 'marray', 'affy', 'limma', 'spDataLarge', 'dblog', 'GAMBoost', 'globaltest', 'doMC', 'M3C', 'taxidata', 'extraTrees', 'genefilter', 'sva', 'Vdgraph', 'BiocVersion' are not available\"\n",
      "also installing the dependencies 'Rmosek', 'webfakes', 'asciicast', 'shinyjs', 'REBayes', 'entropy', 'fdrtool', 'geojsonlint', 'gistr', 'filelock', 'pingr', 'pkgcache', 'pkgdepends', 'pkgsearch', 'cobs', 'mvPot', 'gmm', 'ismev', 'TruncatedNormal', 'rngWELL', 'TSP', 'kdecopula', 'ashr', 'sda', 'binda', 'flexdashboard', 'geojsonio', 'BiocManager', 'packrat', 'pak', 'showtextdb', 'adespatial', 'Matching', 'mbest', 'crop', 'lcopula', 'mev', 'mvnormtest', 'qrng', 'randtoolbox', 'Runuran', 'VineCopula', 'bartMachineJARs', 'missForest', 'ncvreg', 'gettz', 'memuse', 'crossval', 'shinytest', 'janitor', 'rclipboard', 'dr', 'ash', 'geozoo', 'highcharter', 'dockerfiler', 'attachment', 'renv', 'sysfonts', 'showtext', 'Guerry', 'stddiff', 'tableone', 'RcmdrMisc', 'aplpack', 'nortest', 'pcaPP', 'rootSolve', 'diagram', 'conf.design', 'rsm', 'skpr', 'htmlTable', 'shinyBS', 'nanotime', 'pals', 'cocor', 'copula', 'visreg', 'imbalance', 'bartMachine', 'biglasso', 'bigmemory', 'KernelKnn', 'LogicReg', 'SIS', 'ROI.plugin.ecos', 'ROI.plugin.alabama', 'ROI.plugin.neos', 'Rfast', 'qs', 'roll', 'anytime', 'fasttime', 'stringfish', 'coop', 'rrapply', 'geos', 'care', 'scdhlm', 'partitions', 'LDRTools', 'tourr', 'amap', 'shinyAce', 'shinyEffects', 'shinyjqui', 'golem', 'thematic', 'echarts4r', 'transformr', 'networkD3', 'treemap', 'tippy', 'ade4TkGUI', 'adegraphics', 'adephylo', 'splancs', 'waveslim', 'OpenStreetMap', 'smd', 'ggsurvfit', 'Rcmdr', 'rainbow', 'FME', 'cond', 'nlreg', 'PairedData', 'DoE.base', 'FrF2.catlg128', 'BsMD', 'DoE.wrapper', 'RcmdrPlugin.HH', 'microplot', 'sommer', 'weights', 'ggside', 'qqplotr', 'wesanderson', 'zipfR', 'nimble', 'beeswarm', 'emmeans', 'report', 'revdbayes', 'gld', 'feather', 'fst', 'hexView', 'pzfx', 'readODS', 'rmatio', 'energy', 'mbend', 'ppcor', 'rmcorr', 'wdm', 'mvnfast', 'smcfcs', 'casebase', 'grpreg', 'hal9001', 'nnls', 'pec', 'randomForestSRC', 'SuperLearner', 'detectseparation', 'fastverse', 'kit', 'plotfunctions', 'oompaBase', 'relaimpo', 'CVST', 'lmeInfo', 'NSM3', 'Gmedian', 'rrcov', 'pixmap', 'ICSNP', 'moments', 'REPPlab', 'nor1mix', 'shinydashboard', 'shinydashboardPlus', 'bs4Dash', 'argonR', 'argonDash', 'tablerDash', 'shinydisconnect', 'gganimate', 'data.tree', 'netrankr', 'influenceR', 'NetSwan', 'colourvalues', 'sfheaders', 'reactable', 'NISTunits', 'measurements', 'ade4', 'adehabitatMA', 'CircStats', 'trajectories', 'biglmm', 'ggeffects', 'ggstats', 'gtsummary', 'margins', 'tidycmprsk', 'statnet.common', 'relimp', 'fds', 'deSolve', 'marg', 'RhpcBLASctl', 'Rmixmod', 'desplot', 'equivalence', 'FrF2', 'gge', 'HH', 'lucid', 'NADA', 'nullabor', 'qicharts', 'qtl', 'SpATS', 'kinship2', 'dismo', 'BRugs', 'MEMSS', 'ggbeeswarm', 'jtools', 'ggpol', 'see', 'ez', 'ggResidpanel', 'languageR', 'bayesQR', 'bridgesampling', 'ggdist', 'mediation', 'modelbased', 'runjags', 'modeest', 'semTools', 'coneproj', 'svDialogs', 'SemiPar', 'distributions3', 'glmx', 'memisc', 'rio', 'correlation', 'fabricatr', 'randomizr', 'prediction', 'riskRegression', 'apollo', 'fastDummies', 'mixl', 'bench', 'brglm2', 'brmsmargins', 'collapse', 'fwb', 'ggdag', 'ggokabeito', 'itsadug', 'polspline', 'scam', 'titanic', 'tsModel', 'faraway', 'skimr', 'BayesFM', 'cAIC4', 'ClassDiscovery', 'domir', 'DRR', 'EGAnet', 'ivprobit', 'lm.beta', 'merDeriv', 'mfx', 'NbClust', 'PCDimension', 'PMCMRplus', 'PROreg', 'pvclust', 'sparsepca', 'WRS2', 'bigutilsr', 'ICS', 'ICSOutlier', 'ISLR', 'multimode', 'BayesXsrc', 'MBA', 'prettydoc', 'wkb', 'shinyWidgets', 'colourpicker', 'ggraph', 'tidygraph', 'distro', 'duckdb', 'jsonify', 'googleway', 'spatialwidget', 'debugme', 'chemometrics', 'concaveman', 'latex2exp', 'units', 'geoknife', 'areal', 'adehabitatLT', 'cshapes', 'ISOcodes', 'sftime', 'httptest2', 'gapminder', 'broom.helpers', 'intergraph', 'network', 'scagnostics', 'sna', 'qvcalc', 'glmmML', 'lpSolve', 'penalized', 'fda', 'fontquiver', 'csampling', 'qgam', 'rsae', 'rcdd', 'multilevel', 'Infusion', 'IsoriX', 'blackbox', 'ROI.plugin.glpk', 'agridat', 'coxme', 'maxlike', 'R2OpenBUGS', 'R2WinBUGS', 'jagsUI', 'nycflights13', 'whoami', 'afex', 'aod', 'BayesFactor', 'bayestestR', 'bdsmatrix', 'blavaan', 'censReg', 'cgam', 'cplm', 'crch', 'datawizard', 'effectsize', 'epiR', 'estimatr', 'feisr', 'fungible', 'gmnl', 'gt', 'JM', 'lavaSearch2', 'logistf', 'logitr', 'marginaleffects', 'mclogit', 'merTools', 'metaBMA', 'mhurdle', 'mmrm', 'multgee', 'nonnest2', 'panelr', 'parameters', 'performance', 'speedglm', 'inlinedocs', 'shinythemes', 'denstrip', 'pwr', 'patrick', 'pinp', 'nleqslv', 'fftw', 'mapdata', 'R2BayesX', 'scalreg', 'spam64', 'truncdist', 'spData', 'spatialreg', 'RSpectra', 'rgeoda', 'visNetwork', 'arrow', 'coro', 'geojsonsf', 'redoc', 'rapidoc', 'VarianceGamma', 'SkewHyperbolic', 'geosphere', 'leaflet.extras2', 'leafsync', 'mapdeck', 'plainview', 'poorman', 'RMySQL', 'DBItest', 'Cairo', 'PCICt', 'RNetCDF', 'cubelyr', 'FNN', 'ggforce', 'ggthemes', 'ncdfgeom', 'ncmeta', 'spacetime', 'rmapshaper', 'cartogram', 'osmdata', 'av', 'gifski', 'robust', 'fit.models', 'MPV', 'GGally', 'catdata', 'googleVis', 'RPESE', 'RobStatTM', 'fBasics', 'equatags', 'doconv', 'officedown', 'qpdf', 'devEMF', 'FMStable', 'cmprsk', 'relsurv', 'flexsurvcure', 'survminer', 'eha', 'vcr', 'KFAS', 'ramcmc', 'sde', 'sitmo', 'qcc', 'TTR', 'downloader', 'svglite', 'future.callr', 'doFuture', 'glba', 'binom', 'LaplacesDemon', 'evd', 'hoa', 'skellam', 'triangle', 'mgcViz', 'spaMM', 'emdbook', 'AICcmodavg', 'gamm4', 'pimeta', 'estmeansd', 'hasseDiagram', 'tictoc', 'writexl', 'lbfgs', 'pkgKitten', 'date', 'insight', 'modelsummary', 'R2HTML', 'directlabels', 'plink', 'mirtCAT', 'rpanel', 'sjstats', 'stringdist', 'nFactors', 'purrrlyr', 'changepoint', 'lintr', 'MSwM', 'lfda', 'seqinr', 'RcppZiggurat', 'spatstat.data', 'spatstat.random', 'spatstat.explore', 'spatstat.model', 'fftwtools', 'ncdf4', 'rasterVis', 'gstat', 'exactextractr', 'goftest', 'locfit', 'lars', 'gamboostLSS', 'hdi', 'spam', 'shapefiles', 'spdep', 'gpclib', 'NLP', 'antiword', 'filehash', 'SnowballC', 'psychTools', 'GPArotation', 'Rcsdp', 'plumber', 'rgenoud', 'mc2d', 'gamlss.dist', 'GeneralizedHyperbolic', 'lwgeom', 'mapview', 'pbapply', 'pool', 'RPostgres', 'RPostgreSQL', 'RSQLite', 'stars', 'terra', 'tmap', 'wk', 'openxlsx', 'tth', 'Bessel', 'robustbase', 'PerformanceAnalytics', 'fTrading', 'round', 'flextable', 'ftExtra', 'officer', 'quarto', 'stabledist', 'mstate', 'flexsurv', 'webp', 'tesseract', 'benchr', 'bife', 'DescTools', 'invgamma', 'ipumsr', 'bssm', 'EnvStats', 'drc', 'TRAMPR', 'quantmod', 'stargazer', 'DiagrammeRsvg', 'rsvg', 'projpred', 'RWiener', 'rtdists', 'extraDistr', 'mnormt', 'splines2', 'arm', 'DHARMa', 'mlmRev', 'bbmle', 'MuMIn', 'mvabund', 'orthopolynom', 'bayesm', 'biglm', 'rjags', 'meta', 'netmeta', 'NlcOptim', 'quadprog', 'optimx', 'RcppArmadillo', 'setRNG', 'demography', 'popEpi', 'robumeta', 'ivreg', 'R.devices', 'ascii', 'lavaan.survey', 'survey', 'expint', 'ROI', 'mirt', 'pbivnorm', 'pbv', 'sm', 'sjmisc', 'sjPlot', 'snakecase', 'WrightMap', 'posterior', 'ggfortify', 'hexbin', 'loo', 'Rmpi', 'itertools', 'registry', 'sn', 'expm', 'phangorn', 'actuar', 'diptest', 'SuppDists', 'geoR', 'rgeos', 'spatstat.geom', 'PBSmapping', 'raster', 'spatstat.linnet', 'spatstat.utils', 'spatstat', 'stabs', 'fields', 'BayesX', 'kangar00', 'mix', 'tm', 'slam', 'gridBase', 'psych', 'testit', 'rsconnect', 'tufte', 'webshot', 'diffviewer', 'fitdistrplus', 'ggplot2movies', 'tree', 'spelling', 'sf', 'rgdal', 's2', 'exams', 'Rmpfr', 'R.matlab', 'timeSeries', 'tis', 'seasonalview', 'lokern', 'gmp', 'huxtable', 'oz', 'tweedie', 'msm', 'pglm', 'splm', 'pdftools', 'cubature', 'alpaca', 'miscTools', 'dlm', 'plot3D', 'tinytest', 'Ecfun', 'wooldridge', 'polycor', 'DiagrammeR', 'brms', 'dotwhisker', 'gamlss', 'GLMMadaptive', 'glmmTMB', 'lmerTest', 'MCMCglmm', 'rstanarm', 'rstantools', 'R2jags', 'TMB', 'metadat', 'pracma', 'dfoptim', 'ucminf', 'lbfgsb3c', 'subplex', 'BB', 'Rsolnp', 'alabama', 'optimParallel', 'CompQuadForm', 'BiasedUrn', 'Epi', 'gsl', 'clubSandwich', 'R.rsp', 'wildmeta', 'Amelia', 'lavaan', 'geepack', 'BIFIEsurvey', 'blme', 'CDM', 'inline', 'MBESS', 'mdmb', 'sirt', 'sjlabelled', 'synthpop', 'TAM', 'mitools', 'StanHeaders', 'BH', 'shinystan', 'bayesplot', 'formattable', 'sparkline', 'rngtools', 'doMPI', 'doRedis', 'rbenchmark', 'rbibutils', 'pkgmaker', 'tclust', 'pdfCluster', 'igraphdata', 'ape', 'flexmix', 'gamair', 'gamlss.data', 'gee', 'maptools', 'mboost', 'mclust', 'rmeta', 'wordcloud', 'HSAUR2', 'candisc', 'reshape', 'corrgram', 'animation', 'mvinfluence', 'bookdown', 'microbenchmark', 'lqmm', 'rlme', 'lemon', 'skewt', 'ggh4x', 'VGAMdata', 'TSA', 'ggstance', 'ggridges', 'vdiffr', 'NHANES', 'palmerpenguins', 'ggdendro', 'latticeExtra', 'leaflet', 'polyclip', 'tkrplot', 'Deriv', 'Ryacas', 'geometry', 'alphahull', 'fontcm', 'dygraphs', 'xts', 'showimage', 'RUnit', 'forecTheta', 'rticles', 'seasonal', 'uroot', 'sfsmisc', 'dfidx', 'texreg', 'logspline', 'ks', 'statmod', 'pder', 'fixest', 'lfe', 'MCMCpack', 'coda', 'maxLik', 'Ecdat', 'sem', 'rmsb', 'broom.mixed', 'decor', 'metafor', 'mitml', 'miceadds', 'pan', 'ranger', 'rstan', 'kableExtra', 'gclus', 'doParallel', 'doRNG', 'irlba', 'fpc', 'igraph', 'HSAUR3', 'poLCA', 'heplots', 'ordinal', 'betareg', 'alr4', 'robustlmm', 'VGAMextra', 'dynlm', 'agricolae', 'mosaic', 'deldir', 'orientlib', 'misc3d', 'tripack', 'interp', 'alphashape3d', 'js', 'webshot2', 'extrafont', 'manipulateWidget', 'V8', 'chromote', 'fGarch', 'forecast', 'ineq', 'longmemo', 'mlogit', 'np', 'plm', 'pscl', 'rugarch', 'sampleSelection', 'systemfit', 'truncreg', 'tseries', 'urca', 'vars', 'acepack', 'chron', 'rms', 'mice', 'tables', 'DendSer', 'GA', 'Rtsne', 'dbscan', 'umap', 'vcd', 'Fahrmeir', 'effects', 'VGAM', 'lmtest', 'Sleuth2', 'rgl', 'AER', 'Hmisc', 'seriation', 'vcdExtra', 'gnm', 'prefmod', 'mockery', 'BradleyTerry2', 'covr', 'themis'\n",
      "\n",
      "\n"
     ]
    },
    {
     "name": "stdout",
     "output_type": "stream",
     "text": [
      "\n",
      "  There are binary versions available but the source versions are later:\n",
      "           binary  source needs_compilation\n",
      "logitr      1.0.0   1.0.1             FALSE\n",
      "DescTools 0.99.47 0.99.48              TRUE\n",
      "\n",
      "  Binaries will be installed\n"
     ]
    },
    {
     "name": "stderr",
     "output_type": "stream",
     "text": [
      "Package which is only available in source form, and may need\n",
      "  compilation of C/C++/Fortran: 'BRugs'\n",
      "\n"
     ]
    },
    {
     "name": "stdout",
     "output_type": "stream",
     "text": [
      "  These will not be installed\n",
      "package 'Rmosek' successfully unpacked and MD5 sums checked\n",
      "package 'webfakes' successfully unpacked and MD5 sums checked\n",
      "package 'asciicast' successfully unpacked and MD5 sums checked\n",
      "package 'shinyjs' successfully unpacked and MD5 sums checked\n",
      "package 'REBayes' successfully unpacked and MD5 sums checked\n",
      "package 'entropy' successfully unpacked and MD5 sums checked\n",
      "package 'fdrtool' successfully unpacked and MD5 sums checked\n",
      "package 'geojsonlint' successfully unpacked and MD5 sums checked\n",
      "package 'gistr' successfully unpacked and MD5 sums checked\n",
      "package 'filelock' successfully unpacked and MD5 sums checked\n",
      "package 'pingr' successfully unpacked and MD5 sums checked\n",
      "package 'pkgcache' successfully unpacked and MD5 sums checked\n",
      "package 'pkgdepends' successfully unpacked and MD5 sums checked\n",
      "package 'pkgsearch' successfully unpacked and MD5 sums checked\n",
      "package 'cobs' successfully unpacked and MD5 sums checked\n",
      "package 'mvPot' successfully unpacked and MD5 sums checked\n",
      "package 'gmm' successfully unpacked and MD5 sums checked\n",
      "package 'ismev' successfully unpacked and MD5 sums checked\n",
      "package 'TruncatedNormal' successfully unpacked and MD5 sums checked\n",
      "package 'rngWELL' successfully unpacked and MD5 sums checked\n",
      "package 'TSP' successfully unpacked and MD5 sums checked\n",
      "package 'kdecopula' successfully unpacked and MD5 sums checked\n",
      "package 'ashr' successfully unpacked and MD5 sums checked\n",
      "package 'sda' successfully unpacked and MD5 sums checked\n",
      "package 'binda' successfully unpacked and MD5 sums checked\n",
      "package 'flexdashboard' successfully unpacked and MD5 sums checked\n",
      "package 'geojsonio' successfully unpacked and MD5 sums checked\n",
      "package 'BiocManager' successfully unpacked and MD5 sums checked\n",
      "package 'packrat' successfully unpacked and MD5 sums checked\n",
      "package 'pak' successfully unpacked and MD5 sums checked\n",
      "package 'showtextdb' successfully unpacked and MD5 sums checked\n",
      "package 'adespatial' successfully unpacked and MD5 sums checked\n",
      "package 'Matching' successfully unpacked and MD5 sums checked\n",
      "package 'mbest' successfully unpacked and MD5 sums checked\n",
      "package 'crop' successfully unpacked and MD5 sums checked\n",
      "package 'lcopula' successfully unpacked and MD5 sums checked\n",
      "package 'mev' successfully unpacked and MD5 sums checked\n",
      "package 'mvnormtest' successfully unpacked and MD5 sums checked\n",
      "package 'qrng' successfully unpacked and MD5 sums checked\n",
      "package 'randtoolbox' successfully unpacked and MD5 sums checked\n",
      "package 'Runuran' successfully unpacked and MD5 sums checked\n",
      "package 'VineCopula' successfully unpacked and MD5 sums checked\n",
      "package 'bartMachineJARs' successfully unpacked and MD5 sums checked\n",
      "package 'missForest' successfully unpacked and MD5 sums checked\n",
      "package 'ncvreg' successfully unpacked and MD5 sums checked\n",
      "package 'gettz' successfully unpacked and MD5 sums checked\n",
      "package 'memuse' successfully unpacked and MD5 sums checked\n",
      "package 'crossval' successfully unpacked and MD5 sums checked\n",
      "package 'shinytest' successfully unpacked and MD5 sums checked\n",
      "package 'janitor' successfully unpacked and MD5 sums checked\n",
      "package 'rclipboard' successfully unpacked and MD5 sums checked\n",
      "package 'dr' successfully unpacked and MD5 sums checked\n",
      "package 'ash' successfully unpacked and MD5 sums checked\n",
      "package 'geozoo' successfully unpacked and MD5 sums checked\n",
      "package 'highcharter' successfully unpacked and MD5 sums checked\n",
      "package 'dockerfiler' successfully unpacked and MD5 sums checked\n",
      "package 'attachment' successfully unpacked and MD5 sums checked\n",
      "package 'renv' successfully unpacked and MD5 sums checked\n",
      "package 'sysfonts' successfully unpacked and MD5 sums checked\n",
      "package 'showtext' successfully unpacked and MD5 sums checked\n",
      "package 'Guerry' successfully unpacked and MD5 sums checked\n",
      "package 'stddiff' successfully unpacked and MD5 sums checked\n",
      "package 'tableone' successfully unpacked and MD5 sums checked\n",
      "package 'RcmdrMisc' successfully unpacked and MD5 sums checked\n",
      "package 'aplpack' successfully unpacked and MD5 sums checked\n",
      "package 'nortest' successfully unpacked and MD5 sums checked\n",
      "package 'pcaPP' successfully unpacked and MD5 sums checked\n",
      "package 'rootSolve' successfully unpacked and MD5 sums checked\n",
      "package 'diagram' successfully unpacked and MD5 sums checked\n",
      "package 'conf.design' successfully unpacked and MD5 sums checked\n",
      "package 'rsm' successfully unpacked and MD5 sums checked\n",
      "package 'skpr' successfully unpacked and MD5 sums checked\n",
      "package 'htmlTable' successfully unpacked and MD5 sums checked\n",
      "package 'shinyBS' successfully unpacked and MD5 sums checked\n",
      "package 'nanotime' successfully unpacked and MD5 sums checked\n",
      "package 'pals' successfully unpacked and MD5 sums checked\n",
      "package 'cocor' successfully unpacked and MD5 sums checked\n",
      "package 'copula' successfully unpacked and MD5 sums checked\n",
      "package 'visreg' successfully unpacked and MD5 sums checked\n",
      "package 'imbalance' successfully unpacked and MD5 sums checked\n",
      "package 'bartMachine' successfully unpacked and MD5 sums checked\n",
      "package 'biglasso' successfully unpacked and MD5 sums checked\n",
      "package 'bigmemory' successfully unpacked and MD5 sums checked\n",
      "package 'KernelKnn' successfully unpacked and MD5 sums checked\n",
      "package 'LogicReg' successfully unpacked and MD5 sums checked\n",
      "package 'SIS' successfully unpacked and MD5 sums checked\n",
      "package 'ROI.plugin.ecos' successfully unpacked and MD5 sums checked\n",
      "package 'ROI.plugin.alabama' successfully unpacked and MD5 sums checked\n",
      "package 'ROI.plugin.neos' successfully unpacked and MD5 sums checked\n",
      "package 'Rfast' successfully unpacked and MD5 sums checked\n",
      "package 'qs' successfully unpacked and MD5 sums checked\n",
      "package 'roll' successfully unpacked and MD5 sums checked\n",
      "package 'anytime' successfully unpacked and MD5 sums checked\n",
      "package 'fasttime' successfully unpacked and MD5 sums checked\n",
      "package 'stringfish' successfully unpacked and MD5 sums checked\n",
      "package 'coop' successfully unpacked and MD5 sums checked\n",
      "package 'rrapply' successfully unpacked and MD5 sums checked\n",
      "package 'geos' successfully unpacked and MD5 sums checked\n",
      "package 'care' successfully unpacked and MD5 sums checked\n",
      "package 'scdhlm' successfully unpacked and MD5 sums checked\n",
      "package 'partitions' successfully unpacked and MD5 sums checked\n",
      "package 'LDRTools' successfully unpacked and MD5 sums checked\n",
      "package 'tourr' successfully unpacked and MD5 sums checked\n",
      "package 'amap' successfully unpacked and MD5 sums checked\n",
      "package 'shinyAce' successfully unpacked and MD5 sums checked\n",
      "package 'shinyEffects' successfully unpacked and MD5 sums checked\n",
      "package 'shinyjqui' successfully unpacked and MD5 sums checked\n",
      "package 'golem' successfully unpacked and MD5 sums checked\n",
      "package 'thematic' successfully unpacked and MD5 sums checked\n",
      "package 'echarts4r' successfully unpacked and MD5 sums checked\n",
      "package 'transformr' successfully unpacked and MD5 sums checked\n",
      "package 'networkD3' successfully unpacked and MD5 sums checked\n",
      "package 'treemap' successfully unpacked and MD5 sums checked\n",
      "package 'tippy' successfully unpacked and MD5 sums checked\n",
      "package 'ade4TkGUI' successfully unpacked and MD5 sums checked\n",
      "package 'adegraphics' successfully unpacked and MD5 sums checked\n",
      "package 'adephylo' successfully unpacked and MD5 sums checked\n",
      "package 'splancs' successfully unpacked and MD5 sums checked\n",
      "package 'waveslim' successfully unpacked and MD5 sums checked\n",
      "package 'OpenStreetMap' successfully unpacked and MD5 sums checked\n",
      "package 'smd' successfully unpacked and MD5 sums checked\n",
      "package 'ggsurvfit' successfully unpacked and MD5 sums checked\n",
      "package 'Rcmdr' successfully unpacked and MD5 sums checked\n",
      "package 'rainbow' successfully unpacked and MD5 sums checked\n",
      "package 'FME' successfully unpacked and MD5 sums checked\n",
      "package 'cond' successfully unpacked and MD5 sums checked\n",
      "package 'nlreg' successfully unpacked and MD5 sums checked\n",
      "package 'PairedData' successfully unpacked and MD5 sums checked\n",
      "package 'DoE.base' successfully unpacked and MD5 sums checked\n",
      "package 'FrF2.catlg128' successfully unpacked and MD5 sums checked\n",
      "package 'BsMD' successfully unpacked and MD5 sums checked\n",
      "package 'DoE.wrapper' successfully unpacked and MD5 sums checked\n",
      "package 'RcmdrPlugin.HH' successfully unpacked and MD5 sums checked\n",
      "package 'microplot' successfully unpacked and MD5 sums checked\n",
      "package 'sommer' successfully unpacked and MD5 sums checked\n",
      "package 'weights' successfully unpacked and MD5 sums checked\n",
      "package 'ggside' successfully unpacked and MD5 sums checked\n",
      "package 'qqplotr' successfully unpacked and MD5 sums checked\n",
      "package 'wesanderson' successfully unpacked and MD5 sums checked\n",
      "package 'zipfR' successfully unpacked and MD5 sums checked\n",
      "package 'nimble' successfully unpacked and MD5 sums checked\n",
      "package 'beeswarm' successfully unpacked and MD5 sums checked\n",
      "package 'emmeans' successfully unpacked and MD5 sums checked\n",
      "package 'report' successfully unpacked and MD5 sums checked\n",
      "package 'revdbayes' successfully unpacked and MD5 sums checked\n",
      "package 'gld' successfully unpacked and MD5 sums checked\n",
      "package 'feather' successfully unpacked and MD5 sums checked\n",
      "package 'fst' successfully unpacked and MD5 sums checked\n",
      "package 'hexView' successfully unpacked and MD5 sums checked\n",
      "package 'pzfx' successfully unpacked and MD5 sums checked\n",
      "package 'readODS' successfully unpacked and MD5 sums checked\n",
      "package 'rmatio' successfully unpacked and MD5 sums checked\n",
      "package 'energy' successfully unpacked and MD5 sums checked\n",
      "package 'mbend' successfully unpacked and MD5 sums checked\n",
      "package 'ppcor' successfully unpacked and MD5 sums checked\n",
      "package 'rmcorr' successfully unpacked and MD5 sums checked\n",
      "package 'wdm' successfully unpacked and MD5 sums checked\n",
      "package 'mvnfast' successfully unpacked and MD5 sums checked\n",
      "package 'smcfcs' successfully unpacked and MD5 sums checked\n",
      "package 'casebase' successfully unpacked and MD5 sums checked\n",
      "package 'grpreg' successfully unpacked and MD5 sums checked\n",
      "package 'hal9001' successfully unpacked and MD5 sums checked\n",
      "package 'nnls' successfully unpacked and MD5 sums checked\n",
      "package 'pec' successfully unpacked and MD5 sums checked\n",
      "package 'randomForestSRC' successfully unpacked and MD5 sums checked\n",
      "package 'SuperLearner' successfully unpacked and MD5 sums checked\n",
      "package 'detectseparation' successfully unpacked and MD5 sums checked\n",
      "package 'fastverse' successfully unpacked and MD5 sums checked\n",
      "package 'kit' successfully unpacked and MD5 sums checked\n",
      "package 'plotfunctions' successfully unpacked and MD5 sums checked\n",
      "package 'oompaBase' successfully unpacked and MD5 sums checked\n",
      "package 'relaimpo' successfully unpacked and MD5 sums checked\n",
      "package 'CVST' successfully unpacked and MD5 sums checked\n",
      "package 'lmeInfo' successfully unpacked and MD5 sums checked\n",
      "package 'NSM3' successfully unpacked and MD5 sums checked\n",
      "package 'Gmedian' successfully unpacked and MD5 sums checked\n",
      "package 'rrcov' successfully unpacked and MD5 sums checked\n",
      "package 'pixmap' successfully unpacked and MD5 sums checked\n",
      "package 'ICSNP' successfully unpacked and MD5 sums checked\n",
      "package 'moments' successfully unpacked and MD5 sums checked\n",
      "package 'REPPlab' successfully unpacked and MD5 sums checked\n",
      "package 'nor1mix' successfully unpacked and MD5 sums checked\n",
      "package 'shinydashboard' successfully unpacked and MD5 sums checked\n",
      "package 'shinydashboardPlus' successfully unpacked and MD5 sums checked\n",
      "package 'bs4Dash' successfully unpacked and MD5 sums checked\n",
      "package 'argonR' successfully unpacked and MD5 sums checked\n",
      "package 'argonDash' successfully unpacked and MD5 sums checked\n",
      "package 'tablerDash' successfully unpacked and MD5 sums checked\n",
      "package 'shinydisconnect' successfully unpacked and MD5 sums checked\n",
      "package 'gganimate' successfully unpacked and MD5 sums checked\n",
      "package 'data.tree' successfully unpacked and MD5 sums checked\n",
      "package 'netrankr' successfully unpacked and MD5 sums checked\n",
      "package 'influenceR' successfully unpacked and MD5 sums checked\n",
      "package 'NetSwan' successfully unpacked and MD5 sums checked\n",
      "package 'colourvalues' successfully unpacked and MD5 sums checked\n",
      "package 'sfheaders' successfully unpacked and MD5 sums checked\n",
      "package 'reactable' successfully unpacked and MD5 sums checked\n",
      "package 'NISTunits' successfully unpacked and MD5 sums checked\n",
      "package 'measurements' successfully unpacked and MD5 sums checked\n",
      "package 'ade4' successfully unpacked and MD5 sums checked\n",
      "package 'adehabitatMA' successfully unpacked and MD5 sums checked\n",
      "package 'CircStats' successfully unpacked and MD5 sums checked\n",
      "package 'trajectories' successfully unpacked and MD5 sums checked\n",
      "package 'biglmm' successfully unpacked and MD5 sums checked\n",
      "package 'ggeffects' successfully unpacked and MD5 sums checked\n",
      "package 'ggstats' successfully unpacked and MD5 sums checked\n",
      "package 'gtsummary' successfully unpacked and MD5 sums checked\n",
      "package 'margins' successfully unpacked and MD5 sums checked\n",
      "package 'tidycmprsk' successfully unpacked and MD5 sums checked\n",
      "package 'statnet.common' successfully unpacked and MD5 sums checked\n",
      "package 'relimp' successfully unpacked and MD5 sums checked\n",
      "package 'fds' successfully unpacked and MD5 sums checked\n",
      "package 'deSolve' successfully unpacked and MD5 sums checked\n",
      "package 'marg' successfully unpacked and MD5 sums checked\n",
      "package 'RhpcBLASctl' successfully unpacked and MD5 sums checked\n",
      "package 'Rmixmod' successfully unpacked and MD5 sums checked\n",
      "package 'desplot' successfully unpacked and MD5 sums checked\n",
      "package 'equivalence' successfully unpacked and MD5 sums checked\n",
      "package 'FrF2' successfully unpacked and MD5 sums checked\n",
      "package 'gge' successfully unpacked and MD5 sums checked\n",
      "package 'HH' successfully unpacked and MD5 sums checked\n",
      "package 'lucid' successfully unpacked and MD5 sums checked\n",
      "package 'NADA' successfully unpacked and MD5 sums checked\n",
      "package 'nullabor' successfully unpacked and MD5 sums checked\n",
      "package 'qicharts' successfully unpacked and MD5 sums checked\n",
      "package 'qtl' successfully unpacked and MD5 sums checked\n",
      "package 'SpATS' successfully unpacked and MD5 sums checked\n",
      "package 'kinship2' successfully unpacked and MD5 sums checked\n",
      "package 'dismo' successfully unpacked and MD5 sums checked\n",
      "package 'MEMSS' successfully unpacked and MD5 sums checked\n",
      "package 'ggbeeswarm' successfully unpacked and MD5 sums checked\n",
      "package 'jtools' successfully unpacked and MD5 sums checked\n",
      "package 'ggpol' successfully unpacked and MD5 sums checked\n",
      "package 'see' successfully unpacked and MD5 sums checked\n",
      "package 'ez' successfully unpacked and MD5 sums checked\n",
      "package 'ggResidpanel' successfully unpacked and MD5 sums checked\n",
      "package 'languageR' successfully unpacked and MD5 sums checked\n",
      "package 'bayesQR' successfully unpacked and MD5 sums checked\n",
      "package 'bridgesampling' successfully unpacked and MD5 sums checked\n",
      "package 'ggdist' successfully unpacked and MD5 sums checked\n",
      "package 'mediation' successfully unpacked and MD5 sums checked\n",
      "package 'modelbased' successfully unpacked and MD5 sums checked\n",
      "package 'runjags' successfully unpacked and MD5 sums checked\n",
      "package 'modeest' successfully unpacked and MD5 sums checked\n",
      "package 'semTools' successfully unpacked and MD5 sums checked\n",
      "package 'coneproj' successfully unpacked and MD5 sums checked\n",
      "package 'svDialogs' successfully unpacked and MD5 sums checked\n",
      "package 'SemiPar' successfully unpacked and MD5 sums checked\n",
      "package 'distributions3' successfully unpacked and MD5 sums checked\n",
      "package 'glmx' successfully unpacked and MD5 sums checked\n",
      "package 'memisc' successfully unpacked and MD5 sums checked\n",
      "package 'rio' successfully unpacked and MD5 sums checked\n",
      "package 'correlation' successfully unpacked and MD5 sums checked\n",
      "package 'fabricatr' successfully unpacked and MD5 sums checked\n",
      "package 'randomizr' successfully unpacked and MD5 sums checked\n",
      "package 'prediction' successfully unpacked and MD5 sums checked\n",
      "package 'riskRegression' successfully unpacked and MD5 sums checked\n",
      "package 'apollo' successfully unpacked and MD5 sums checked\n",
      "package 'fastDummies' successfully unpacked and MD5 sums checked\n",
      "package 'mixl' successfully unpacked and MD5 sums checked\n",
      "package 'bench' successfully unpacked and MD5 sums checked\n",
      "package 'brglm2' successfully unpacked and MD5 sums checked\n",
      "package 'brmsmargins' successfully unpacked and MD5 sums checked\n",
      "package 'collapse' successfully unpacked and MD5 sums checked\n",
      "package 'fwb' successfully unpacked and MD5 sums checked\n",
      "package 'ggdag' successfully unpacked and MD5 sums checked\n",
      "package 'ggokabeito' successfully unpacked and MD5 sums checked\n",
      "package 'itsadug' successfully unpacked and MD5 sums checked\n",
      "package 'polspline' successfully unpacked and MD5 sums checked\n",
      "package 'scam' successfully unpacked and MD5 sums checked\n",
      "package 'titanic' successfully unpacked and MD5 sums checked\n",
      "package 'tsModel' successfully unpacked and MD5 sums checked\n",
      "package 'faraway' successfully unpacked and MD5 sums checked\n",
      "package 'skimr' successfully unpacked and MD5 sums checked\n",
      "package 'BayesFM' successfully unpacked and MD5 sums checked\n",
      "package 'cAIC4' successfully unpacked and MD5 sums checked\n",
      "package 'ClassDiscovery' successfully unpacked and MD5 sums checked\n",
      "package 'domir' successfully unpacked and MD5 sums checked\n",
      "package 'DRR' successfully unpacked and MD5 sums checked\n",
      "package 'EGAnet' successfully unpacked and MD5 sums checked\n",
      "package 'ivprobit' successfully unpacked and MD5 sums checked\n",
      "package 'lm.beta' successfully unpacked and MD5 sums checked\n",
      "package 'merDeriv' successfully unpacked and MD5 sums checked\n",
      "package 'mfx' successfully unpacked and MD5 sums checked\n",
      "package 'NbClust' successfully unpacked and MD5 sums checked\n",
      "package 'PCDimension' successfully unpacked and MD5 sums checked\n",
      "package 'PMCMRplus' successfully unpacked and MD5 sums checked\n",
      "package 'PROreg' successfully unpacked and MD5 sums checked\n",
      "package 'pvclust' successfully unpacked and MD5 sums checked\n",
      "package 'sparsepca' successfully unpacked and MD5 sums checked\n",
      "package 'WRS2' successfully unpacked and MD5 sums checked\n",
      "package 'bigutilsr' successfully unpacked and MD5 sums checked\n",
      "package 'ICS' successfully unpacked and MD5 sums checked\n",
      "package 'ICSOutlier' successfully unpacked and MD5 sums checked\n",
      "package 'ISLR' successfully unpacked and MD5 sums checked\n",
      "package 'multimode' successfully unpacked and MD5 sums checked\n",
      "package 'BayesXsrc' successfully unpacked and MD5 sums checked\n",
      "package 'MBA' successfully unpacked and MD5 sums checked\n",
      "package 'prettydoc' successfully unpacked and MD5 sums checked\n",
      "package 'wkb' successfully unpacked and MD5 sums checked\n",
      "package 'shinyWidgets' successfully unpacked and MD5 sums checked\n",
      "package 'colourpicker' successfully unpacked and MD5 sums checked\n",
      "package 'ggraph' successfully unpacked and MD5 sums checked\n",
      "package 'tidygraph' successfully unpacked and MD5 sums checked\n",
      "package 'distro' successfully unpacked and MD5 sums checked\n",
      "package 'duckdb' successfully unpacked and MD5 sums checked\n",
      "package 'jsonify' successfully unpacked and MD5 sums checked\n",
      "package 'googleway' successfully unpacked and MD5 sums checked\n",
      "package 'spatialwidget' successfully unpacked and MD5 sums checked\n",
      "package 'debugme' successfully unpacked and MD5 sums checked\n",
      "package 'chemometrics' successfully unpacked and MD5 sums checked\n",
      "package 'concaveman' successfully unpacked and MD5 sums checked\n",
      "package 'latex2exp' successfully unpacked and MD5 sums checked\n",
      "package 'units' successfully unpacked and MD5 sums checked\n",
      "package 'geoknife' successfully unpacked and MD5 sums checked\n",
      "package 'areal' successfully unpacked and MD5 sums checked\n",
      "package 'adehabitatLT' successfully unpacked and MD5 sums checked\n",
      "package 'cshapes' successfully unpacked and MD5 sums checked\n",
      "package 'ISOcodes' successfully unpacked and MD5 sums checked\n",
      "package 'sftime' successfully unpacked and MD5 sums checked\n",
      "package 'httptest2' successfully unpacked and MD5 sums checked\n",
      "package 'gapminder' successfully unpacked and MD5 sums checked\n",
      "package 'broom.helpers' successfully unpacked and MD5 sums checked\n",
      "package 'intergraph' successfully unpacked and MD5 sums checked\n",
      "package 'network' successfully unpacked and MD5 sums checked\n",
      "package 'scagnostics' successfully unpacked and MD5 sums checked\n",
      "package 'sna' successfully unpacked and MD5 sums checked\n",
      "package 'qvcalc' successfully unpacked and MD5 sums checked\n",
      "package 'glmmML' successfully unpacked and MD5 sums checked\n",
      "package 'lpSolve' successfully unpacked and MD5 sums checked\n",
      "package 'penalized' successfully unpacked and MD5 sums checked\n",
      "package 'fda' successfully unpacked and MD5 sums checked\n",
      "package 'fontquiver' successfully unpacked and MD5 sums checked\n",
      "package 'csampling' successfully unpacked and MD5 sums checked\n",
      "package 'qgam' successfully unpacked and MD5 sums checked\n",
      "package 'rsae' successfully unpacked and MD5 sums checked\n",
      "package 'rcdd' successfully unpacked and MD5 sums checked\n",
      "package 'multilevel' successfully unpacked and MD5 sums checked\n",
      "package 'Infusion' successfully unpacked and MD5 sums checked\n",
      "package 'IsoriX' successfully unpacked and MD5 sums checked\n",
      "package 'blackbox' successfully unpacked and MD5 sums checked\n",
      "package 'ROI.plugin.glpk' successfully unpacked and MD5 sums checked\n",
      "package 'agridat' successfully unpacked and MD5 sums checked\n",
      "package 'coxme' successfully unpacked and MD5 sums checked\n",
      "package 'maxlike' successfully unpacked and MD5 sums checked\n",
      "package 'R2OpenBUGS' successfully unpacked and MD5 sums checked\n",
      "package 'R2WinBUGS' successfully unpacked and MD5 sums checked\n",
      "package 'jagsUI' successfully unpacked and MD5 sums checked\n",
      "package 'nycflights13' successfully unpacked and MD5 sums checked\n",
      "package 'whoami' successfully unpacked and MD5 sums checked\n",
      "package 'afex' successfully unpacked and MD5 sums checked\n",
      "package 'aod' successfully unpacked and MD5 sums checked\n",
      "package 'BayesFactor' successfully unpacked and MD5 sums checked\n",
      "package 'bayestestR' successfully unpacked and MD5 sums checked\n",
      "package 'bdsmatrix' successfully unpacked and MD5 sums checked\n",
      "package 'blavaan' successfully unpacked and MD5 sums checked\n",
      "package 'censReg' successfully unpacked and MD5 sums checked\n",
      "package 'cgam' successfully unpacked and MD5 sums checked\n",
      "package 'cplm' successfully unpacked and MD5 sums checked\n",
      "package 'crch' successfully unpacked and MD5 sums checked\n",
      "package 'datawizard' successfully unpacked and MD5 sums checked\n",
      "package 'effectsize' successfully unpacked and MD5 sums checked\n",
      "package 'epiR' successfully unpacked and MD5 sums checked\n",
      "package 'estimatr' successfully unpacked and MD5 sums checked\n",
      "package 'feisr' successfully unpacked and MD5 sums checked\n",
      "package 'fungible' successfully unpacked and MD5 sums checked\n",
      "package 'gmnl' successfully unpacked and MD5 sums checked\n",
      "package 'gt' successfully unpacked and MD5 sums checked\n",
      "package 'JM' successfully unpacked and MD5 sums checked\n",
      "package 'lavaSearch2' successfully unpacked and MD5 sums checked\n",
      "package 'logistf' successfully unpacked and MD5 sums checked\n",
      "package 'marginaleffects' successfully unpacked and MD5 sums checked\n",
      "package 'mclogit' successfully unpacked and MD5 sums checked\n",
      "package 'merTools' successfully unpacked and MD5 sums checked\n",
      "package 'metaBMA' successfully unpacked and MD5 sums checked\n",
      "package 'mhurdle' successfully unpacked and MD5 sums checked\n",
      "package 'mmrm' successfully unpacked and MD5 sums checked\n",
      "package 'multgee' successfully unpacked and MD5 sums checked\n",
      "package 'nonnest2' successfully unpacked and MD5 sums checked\n",
      "package 'panelr' successfully unpacked and MD5 sums checked\n",
      "package 'parameters' successfully unpacked and MD5 sums checked\n",
      "package 'performance' successfully unpacked and MD5 sums checked\n",
      "package 'speedglm' successfully unpacked and MD5 sums checked\n",
      "package 'inlinedocs' successfully unpacked and MD5 sums checked\n",
      "package 'shinythemes' successfully unpacked and MD5 sums checked\n",
      "package 'denstrip' successfully unpacked and MD5 sums checked\n",
      "package 'pwr' successfully unpacked and MD5 sums checked\n",
      "package 'patrick' successfully unpacked and MD5 sums checked\n",
      "package 'pinp' successfully unpacked and MD5 sums checked\n",
      "package 'nleqslv' successfully unpacked and MD5 sums checked\n",
      "package 'fftw' successfully unpacked and MD5 sums checked\n",
      "package 'mapdata' successfully unpacked and MD5 sums checked\n",
      "package 'R2BayesX' successfully unpacked and MD5 sums checked\n",
      "package 'scalreg' successfully unpacked and MD5 sums checked\n",
      "package 'spam64' successfully unpacked and MD5 sums checked\n",
      "package 'truncdist' successfully unpacked and MD5 sums checked\n",
      "package 'spData' successfully unpacked and MD5 sums checked\n",
      "package 'spatialreg' successfully unpacked and MD5 sums checked\n",
      "package 'RSpectra' successfully unpacked and MD5 sums checked\n",
      "package 'rgeoda' successfully unpacked and MD5 sums checked\n",
      "package 'visNetwork' successfully unpacked and MD5 sums checked\n",
      "package 'arrow' successfully unpacked and MD5 sums checked\n",
      "package 'coro' successfully unpacked and MD5 sums checked\n",
      "package 'geojsonsf' successfully unpacked and MD5 sums checked\n",
      "package 'redoc' successfully unpacked and MD5 sums checked\n",
      "package 'rapidoc' successfully unpacked and MD5 sums checked\n",
      "package 'VarianceGamma' successfully unpacked and MD5 sums checked\n",
      "package 'SkewHyperbolic' successfully unpacked and MD5 sums checked\n",
      "package 'geosphere' successfully unpacked and MD5 sums checked\n",
      "package 'leaflet.extras2' successfully unpacked and MD5 sums checked\n",
      "package 'leafsync' successfully unpacked and MD5 sums checked\n",
      "package 'mapdeck' successfully unpacked and MD5 sums checked\n",
      "package 'plainview' successfully unpacked and MD5 sums checked\n",
      "package 'poorman' successfully unpacked and MD5 sums checked\n",
      "package 'RMySQL' successfully unpacked and MD5 sums checked\n",
      "package 'DBItest' successfully unpacked and MD5 sums checked\n",
      "package 'Cairo' successfully unpacked and MD5 sums checked\n",
      "package 'PCICt' successfully unpacked and MD5 sums checked\n",
      "package 'RNetCDF' successfully unpacked and MD5 sums checked\n",
      "package 'cubelyr' successfully unpacked and MD5 sums checked\n",
      "package 'FNN' successfully unpacked and MD5 sums checked\n",
      "package 'ggforce' successfully unpacked and MD5 sums checked\n",
      "package 'ggthemes' successfully unpacked and MD5 sums checked\n",
      "package 'ncdfgeom' successfully unpacked and MD5 sums checked\n",
      "package 'ncmeta' successfully unpacked and MD5 sums checked\n",
      "package 'spacetime' successfully unpacked and MD5 sums checked\n",
      "package 'rmapshaper' successfully unpacked and MD5 sums checked\n",
      "package 'cartogram' successfully unpacked and MD5 sums checked\n",
      "package 'osmdata' successfully unpacked and MD5 sums checked\n",
      "package 'av' successfully unpacked and MD5 sums checked\n",
      "package 'gifski' successfully unpacked and MD5 sums checked\n",
      "package 'robust' successfully unpacked and MD5 sums checked\n",
      "package 'fit.models' successfully unpacked and MD5 sums checked\n",
      "package 'MPV' successfully unpacked and MD5 sums checked\n",
      "package 'GGally' successfully unpacked and MD5 sums checked\n",
      "package 'catdata' successfully unpacked and MD5 sums checked\n",
      "package 'googleVis' successfully unpacked and MD5 sums checked\n",
      "package 'RPESE' successfully unpacked and MD5 sums checked\n",
      "package 'RobStatTM' successfully unpacked and MD5 sums checked\n",
      "package 'fBasics' successfully unpacked and MD5 sums checked\n",
      "package 'equatags' successfully unpacked and MD5 sums checked\n",
      "package 'doconv' successfully unpacked and MD5 sums checked\n",
      "package 'officedown' successfully unpacked and MD5 sums checked\n",
      "package 'qpdf' successfully unpacked and MD5 sums checked\n",
      "package 'devEMF' successfully unpacked and MD5 sums checked\n",
      "package 'FMStable' successfully unpacked and MD5 sums checked\n",
      "package 'cmprsk' successfully unpacked and MD5 sums checked\n",
      "package 'relsurv' successfully unpacked and MD5 sums checked\n",
      "package 'flexsurvcure' successfully unpacked and MD5 sums checked\n",
      "package 'survminer' successfully unpacked and MD5 sums checked\n",
      "package 'eha' successfully unpacked and MD5 sums checked\n",
      "package 'vcr' successfully unpacked and MD5 sums checked\n",
      "package 'KFAS' successfully unpacked and MD5 sums checked\n",
      "package 'ramcmc' successfully unpacked and MD5 sums checked\n",
      "package 'sde' successfully unpacked and MD5 sums checked\n",
      "package 'sitmo' successfully unpacked and MD5 sums checked\n",
      "package 'qcc' successfully unpacked and MD5 sums checked\n",
      "package 'TTR' successfully unpacked and MD5 sums checked\n",
      "package 'downloader' successfully unpacked and MD5 sums checked\n",
      "package 'svglite' successfully unpacked and MD5 sums checked\n",
      "package 'future.callr' successfully unpacked and MD5 sums checked\n",
      "package 'doFuture' successfully unpacked and MD5 sums checked\n",
      "package 'glba' successfully unpacked and MD5 sums checked\n",
      "package 'binom' successfully unpacked and MD5 sums checked\n",
      "package 'LaplacesDemon' successfully unpacked and MD5 sums checked\n",
      "package 'evd' successfully unpacked and MD5 sums checked\n",
      "package 'hoa' successfully unpacked and MD5 sums checked\n",
      "package 'skellam' successfully unpacked and MD5 sums checked\n",
      "package 'triangle' successfully unpacked and MD5 sums checked\n",
      "package 'mgcViz' successfully unpacked and MD5 sums checked\n",
      "package 'spaMM' successfully unpacked and MD5 sums checked\n",
      "package 'emdbook' successfully unpacked and MD5 sums checked\n",
      "package 'AICcmodavg' successfully unpacked and MD5 sums checked\n",
      "package 'gamm4' successfully unpacked and MD5 sums checked\n",
      "package 'pimeta' successfully unpacked and MD5 sums checked\n",
      "package 'estmeansd' successfully unpacked and MD5 sums checked\n",
      "package 'hasseDiagram' successfully unpacked and MD5 sums checked\n",
      "package 'tictoc' successfully unpacked and MD5 sums checked\n",
      "package 'writexl' successfully unpacked and MD5 sums checked\n",
      "package 'lbfgs' successfully unpacked and MD5 sums checked\n",
      "package 'pkgKitten' successfully unpacked and MD5 sums checked\n",
      "package 'date' successfully unpacked and MD5 sums checked\n",
      "package 'insight' successfully unpacked and MD5 sums checked\n",
      "package 'modelsummary' successfully unpacked and MD5 sums checked\n",
      "package 'R2HTML' successfully unpacked and MD5 sums checked\n",
      "package 'directlabels' successfully unpacked and MD5 sums checked\n",
      "package 'plink' successfully unpacked and MD5 sums checked\n",
      "package 'mirtCAT' successfully unpacked and MD5 sums checked\n",
      "package 'rpanel' successfully unpacked and MD5 sums checked\n",
      "package 'sjstats' successfully unpacked and MD5 sums checked\n",
      "package 'stringdist' successfully unpacked and MD5 sums checked\n",
      "package 'nFactors' successfully unpacked and MD5 sums checked\n",
      "package 'purrrlyr' successfully unpacked and MD5 sums checked\n",
      "package 'changepoint' successfully unpacked and MD5 sums checked\n",
      "package 'lintr' successfully unpacked and MD5 sums checked\n",
      "package 'MSwM' successfully unpacked and MD5 sums checked\n",
      "package 'lfda' successfully unpacked and MD5 sums checked\n",
      "package 'seqinr' successfully unpacked and MD5 sums checked\n",
      "package 'RcppZiggurat' successfully unpacked and MD5 sums checked\n",
      "package 'spatstat.data' successfully unpacked and MD5 sums checked\n",
      "package 'spatstat.random' successfully unpacked and MD5 sums checked\n",
      "package 'spatstat.explore' successfully unpacked and MD5 sums checked\n",
      "package 'spatstat.model' successfully unpacked and MD5 sums checked\n",
      "package 'fftwtools' successfully unpacked and MD5 sums checked\n",
      "package 'ncdf4' successfully unpacked and MD5 sums checked\n",
      "package 'rasterVis' successfully unpacked and MD5 sums checked\n",
      "package 'gstat' successfully unpacked and MD5 sums checked\n",
      "package 'exactextractr' successfully unpacked and MD5 sums checked\n",
      "package 'goftest' successfully unpacked and MD5 sums checked\n",
      "package 'locfit' successfully unpacked and MD5 sums checked\n",
      "package 'lars' successfully unpacked and MD5 sums checked\n",
      "package 'gamboostLSS' successfully unpacked and MD5 sums checked\n",
      "package 'hdi' successfully unpacked and MD5 sums checked\n",
      "package 'spam' successfully unpacked and MD5 sums checked\n",
      "package 'shapefiles' successfully unpacked and MD5 sums checked\n",
      "package 'spdep' successfully unpacked and MD5 sums checked\n",
      "package 'gpclib' successfully unpacked and MD5 sums checked\n",
      "package 'NLP' successfully unpacked and MD5 sums checked\n",
      "package 'antiword' successfully unpacked and MD5 sums checked\n",
      "package 'filehash' successfully unpacked and MD5 sums checked\n",
      "package 'SnowballC' successfully unpacked and MD5 sums checked\n",
      "package 'psychTools' successfully unpacked and MD5 sums checked\n",
      "package 'GPArotation' successfully unpacked and MD5 sums checked\n",
      "package 'Rcsdp' successfully unpacked and MD5 sums checked\n",
      "package 'plumber' successfully unpacked and MD5 sums checked\n",
      "package 'rgenoud' successfully unpacked and MD5 sums checked\n",
      "package 'mc2d' successfully unpacked and MD5 sums checked\n",
      "package 'gamlss.dist' successfully unpacked and MD5 sums checked\n",
      "package 'GeneralizedHyperbolic' successfully unpacked and MD5 sums checked\n",
      "package 'lwgeom' successfully unpacked and MD5 sums checked\n",
      "package 'mapview' successfully unpacked and MD5 sums checked\n",
      "package 'pbapply' successfully unpacked and MD5 sums checked\n",
      "package 'pool' successfully unpacked and MD5 sums checked\n",
      "package 'RPostgres' successfully unpacked and MD5 sums checked\n",
      "package 'RPostgreSQL' successfully unpacked and MD5 sums checked\n",
      "package 'RSQLite' successfully unpacked and MD5 sums checked\n",
      "package 'stars' successfully unpacked and MD5 sums checked\n",
      "package 'terra' successfully unpacked and MD5 sums checked\n",
      "package 'tmap' successfully unpacked and MD5 sums checked\n",
      "package 'wk' successfully unpacked and MD5 sums checked\n",
      "package 'openxlsx' successfully unpacked and MD5 sums checked\n",
      "package 'tth' successfully unpacked and MD5 sums checked\n",
      "package 'Bessel' successfully unpacked and MD5 sums checked\n",
      "package 'robustbase' successfully unpacked and MD5 sums checked\n",
      "package 'PerformanceAnalytics' successfully unpacked and MD5 sums checked\n",
      "package 'fTrading' successfully unpacked and MD5 sums checked\n",
      "package 'round' successfully unpacked and MD5 sums checked\n",
      "package 'flextable' successfully unpacked and MD5 sums checked\n",
      "package 'ftExtra' successfully unpacked and MD5 sums checked\n",
      "package 'officer' successfully unpacked and MD5 sums checked\n",
      "package 'quarto' successfully unpacked and MD5 sums checked\n",
      "package 'stabledist' successfully unpacked and MD5 sums checked\n",
      "package 'mstate' successfully unpacked and MD5 sums checked\n",
      "package 'flexsurv' successfully unpacked and MD5 sums checked\n",
      "package 'webp' successfully unpacked and MD5 sums checked\n",
      "package 'tesseract' successfully unpacked and MD5 sums checked\n",
      "package 'benchr' successfully unpacked and MD5 sums checked\n",
      "package 'bife' successfully unpacked and MD5 sums checked\n",
      "package 'DescTools' successfully unpacked and MD5 sums checked\n",
      "package 'invgamma' successfully unpacked and MD5 sums checked\n",
      "package 'ipumsr' successfully unpacked and MD5 sums checked\n",
      "package 'bssm' successfully unpacked and MD5 sums checked\n",
      "package 'EnvStats' successfully unpacked and MD5 sums checked\n",
      "package 'drc' successfully unpacked and MD5 sums checked\n",
      "package 'TRAMPR' successfully unpacked and MD5 sums checked\n",
      "package 'quantmod' successfully unpacked and MD5 sums checked\n",
      "package 'stargazer' successfully unpacked and MD5 sums checked\n",
      "package 'DiagrammeRsvg' successfully unpacked and MD5 sums checked\n",
      "package 'rsvg' successfully unpacked and MD5 sums checked\n",
      "package 'projpred' successfully unpacked and MD5 sums checked\n",
      "package 'RWiener' successfully unpacked and MD5 sums checked\n",
      "package 'rtdists' successfully unpacked and MD5 sums checked\n",
      "package 'extraDistr' successfully unpacked and MD5 sums checked\n",
      "package 'mnormt' successfully unpacked and MD5 sums checked\n",
      "package 'splines2' successfully unpacked and MD5 sums checked\n",
      "package 'arm' successfully unpacked and MD5 sums checked\n",
      "package 'DHARMa' successfully unpacked and MD5 sums checked\n",
      "package 'mlmRev' successfully unpacked and MD5 sums checked\n",
      "package 'bbmle' successfully unpacked and MD5 sums checked\n",
      "package 'MuMIn' successfully unpacked and MD5 sums checked\n",
      "package 'mvabund' successfully unpacked and MD5 sums checked\n",
      "package 'orthopolynom' successfully unpacked and MD5 sums checked\n",
      "package 'bayesm' successfully unpacked and MD5 sums checked\n",
      "package 'biglm' successfully unpacked and MD5 sums checked\n",
      "package 'rjags' successfully unpacked and MD5 sums checked\n",
      "package 'meta' successfully unpacked and MD5 sums checked\n",
      "package 'netmeta' successfully unpacked and MD5 sums checked\n",
      "package 'NlcOptim' successfully unpacked and MD5 sums checked\n",
      "package 'quadprog' successfully unpacked and MD5 sums checked\n",
      "package 'optimx' successfully unpacked and MD5 sums checked\n",
      "package 'RcppArmadillo' successfully unpacked and MD5 sums checked\n",
      "package 'setRNG' successfully unpacked and MD5 sums checked\n",
      "package 'demography' successfully unpacked and MD5 sums checked\n",
      "package 'popEpi' successfully unpacked and MD5 sums checked\n",
      "package 'robumeta' successfully unpacked and MD5 sums checked\n",
      "package 'ivreg' successfully unpacked and MD5 sums checked\n",
      "package 'R.devices' successfully unpacked and MD5 sums checked\n",
      "package 'ascii' successfully unpacked and MD5 sums checked\n",
      "package 'lavaan.survey' successfully unpacked and MD5 sums checked\n",
      "package 'survey' successfully unpacked and MD5 sums checked\n",
      "package 'expint' successfully unpacked and MD5 sums checked\n",
      "package 'ROI' successfully unpacked and MD5 sums checked\n",
      "package 'mirt' successfully unpacked and MD5 sums checked\n",
      "package 'pbivnorm' successfully unpacked and MD5 sums checked\n",
      "package 'pbv' successfully unpacked and MD5 sums checked\n",
      "package 'sm' successfully unpacked and MD5 sums checked\n",
      "package 'sjmisc' successfully unpacked and MD5 sums checked\n",
      "package 'sjPlot' successfully unpacked and MD5 sums checked\n",
      "package 'snakecase' successfully unpacked and MD5 sums checked\n",
      "package 'WrightMap' successfully unpacked and MD5 sums checked\n",
      "package 'posterior' successfully unpacked and MD5 sums checked\n",
      "package 'ggfortify' successfully unpacked and MD5 sums checked\n",
      "package 'hexbin' successfully unpacked and MD5 sums checked\n",
      "package 'loo' successfully unpacked and MD5 sums checked\n",
      "package 'Rmpi' successfully unpacked and MD5 sums checked\n",
      "package 'itertools' successfully unpacked and MD5 sums checked\n",
      "package 'registry' successfully unpacked and MD5 sums checked\n",
      "package 'sn' successfully unpacked and MD5 sums checked\n",
      "package 'expm' successfully unpacked and MD5 sums checked\n",
      "package 'phangorn' successfully unpacked and MD5 sums checked\n",
      "package 'actuar' successfully unpacked and MD5 sums checked\n",
      "package 'diptest' successfully unpacked and MD5 sums checked\n",
      "package 'SuppDists' successfully unpacked and MD5 sums checked\n",
      "package 'geoR' successfully unpacked and MD5 sums checked\n",
      "package 'rgeos' successfully unpacked and MD5 sums checked\n",
      "package 'spatstat.geom' successfully unpacked and MD5 sums checked\n",
      "package 'PBSmapping' successfully unpacked and MD5 sums checked\n",
      "package 'raster' successfully unpacked and MD5 sums checked\n",
      "package 'spatstat.linnet' successfully unpacked and MD5 sums checked\n",
      "package 'spatstat.utils' successfully unpacked and MD5 sums checked\n",
      "package 'spatstat' successfully unpacked and MD5 sums checked\n",
      "package 'stabs' successfully unpacked and MD5 sums checked\n",
      "package 'fields' successfully unpacked and MD5 sums checked\n",
      "package 'BayesX' successfully unpacked and MD5 sums checked\n",
      "package 'kangar00' successfully unpacked and MD5 sums checked\n",
      "package 'mix' successfully unpacked and MD5 sums checked\n",
      "package 'tm' successfully unpacked and MD5 sums checked\n",
      "package 'slam' successfully unpacked and MD5 sums checked\n",
      "package 'gridBase' successfully unpacked and MD5 sums checked\n",
      "package 'psych' successfully unpacked and MD5 sums checked\n",
      "package 'testit' successfully unpacked and MD5 sums checked\n",
      "package 'rsconnect' successfully unpacked and MD5 sums checked\n",
      "package 'tufte' successfully unpacked and MD5 sums checked\n",
      "package 'webshot' successfully unpacked and MD5 sums checked\n",
      "package 'diffviewer' successfully unpacked and MD5 sums checked\n",
      "package 'fitdistrplus' successfully unpacked and MD5 sums checked\n",
      "package 'ggplot2movies' successfully unpacked and MD5 sums checked\n",
      "package 'tree' successfully unpacked and MD5 sums checked\n",
      "package 'spelling' successfully unpacked and MD5 sums checked\n",
      "package 'sf' successfully unpacked and MD5 sums checked\n",
      "package 'rgdal' successfully unpacked and MD5 sums checked\n",
      "package 's2' successfully unpacked and MD5 sums checked\n",
      "package 'exams' successfully unpacked and MD5 sums checked\n",
      "package 'Rmpfr' successfully unpacked and MD5 sums checked\n",
      "package 'R.matlab' successfully unpacked and MD5 sums checked\n",
      "package 'timeSeries' successfully unpacked and MD5 sums checked\n",
      "package 'tis' successfully unpacked and MD5 sums checked\n",
      "package 'seasonalview' successfully unpacked and MD5 sums checked\n",
      "package 'lokern' successfully unpacked and MD5 sums checked\n",
      "package 'gmp' successfully unpacked and MD5 sums checked\n",
      "package 'huxtable' successfully unpacked and MD5 sums checked\n",
      "package 'oz' successfully unpacked and MD5 sums checked\n",
      "package 'tweedie' successfully unpacked and MD5 sums checked\n",
      "package 'msm' successfully unpacked and MD5 sums checked\n",
      "package 'pglm' successfully unpacked and MD5 sums checked\n",
      "package 'splm' successfully unpacked and MD5 sums checked\n",
      "package 'pdftools' successfully unpacked and MD5 sums checked\n",
      "package 'cubature' successfully unpacked and MD5 sums checked\n",
      "package 'alpaca' successfully unpacked and MD5 sums checked\n",
      "package 'miscTools' successfully unpacked and MD5 sums checked\n",
      "package 'dlm' successfully unpacked and MD5 sums checked\n",
      "package 'plot3D' successfully unpacked and MD5 sums checked\n",
      "package 'tinytest' successfully unpacked and MD5 sums checked\n",
      "package 'Ecfun' successfully unpacked and MD5 sums checked\n",
      "package 'wooldridge' successfully unpacked and MD5 sums checked\n",
      "package 'polycor' successfully unpacked and MD5 sums checked\n",
      "package 'DiagrammeR' successfully unpacked and MD5 sums checked\n",
      "package 'brms' successfully unpacked and MD5 sums checked\n",
      "package 'dotwhisker' successfully unpacked and MD5 sums checked\n",
      "package 'gamlss' successfully unpacked and MD5 sums checked\n",
      "package 'GLMMadaptive' successfully unpacked and MD5 sums checked\n",
      "package 'glmmTMB' successfully unpacked and MD5 sums checked\n",
      "package 'lmerTest' successfully unpacked and MD5 sums checked\n",
      "package 'MCMCglmm' successfully unpacked and MD5 sums checked\n",
      "package 'rstanarm' successfully unpacked and MD5 sums checked\n",
      "package 'rstantools' successfully unpacked and MD5 sums checked\n",
      "package 'R2jags' successfully unpacked and MD5 sums checked\n",
      "package 'TMB' successfully unpacked and MD5 sums checked\n",
      "package 'metadat' successfully unpacked and MD5 sums checked\n",
      "package 'pracma' successfully unpacked and MD5 sums checked\n",
      "package 'dfoptim' successfully unpacked and MD5 sums checked\n",
      "package 'ucminf' successfully unpacked and MD5 sums checked\n",
      "package 'lbfgsb3c' successfully unpacked and MD5 sums checked\n",
      "package 'subplex' successfully unpacked and MD5 sums checked\n",
      "package 'BB' successfully unpacked and MD5 sums checked\n",
      "package 'Rsolnp' successfully unpacked and MD5 sums checked\n",
      "package 'alabama' successfully unpacked and MD5 sums checked\n",
      "package 'optimParallel' successfully unpacked and MD5 sums checked\n",
      "package 'CompQuadForm' successfully unpacked and MD5 sums checked\n",
      "package 'BiasedUrn' successfully unpacked and MD5 sums checked\n",
      "package 'Epi' successfully unpacked and MD5 sums checked\n",
      "package 'gsl' successfully unpacked and MD5 sums checked\n",
      "package 'clubSandwich' successfully unpacked and MD5 sums checked\n",
      "package 'R.rsp' successfully unpacked and MD5 sums checked\n",
      "package 'wildmeta' successfully unpacked and MD5 sums checked\n",
      "package 'Amelia' successfully unpacked and MD5 sums checked\n",
      "package 'lavaan' successfully unpacked and MD5 sums checked\n",
      "package 'geepack' successfully unpacked and MD5 sums checked\n",
      "package 'BIFIEsurvey' successfully unpacked and MD5 sums checked\n",
      "package 'blme' successfully unpacked and MD5 sums checked\n",
      "package 'CDM' successfully unpacked and MD5 sums checked\n",
      "package 'inline' successfully unpacked and MD5 sums checked\n",
      "package 'MBESS' successfully unpacked and MD5 sums checked\n",
      "package 'mdmb' successfully unpacked and MD5 sums checked\n",
      "package 'sirt' successfully unpacked and MD5 sums checked\n",
      "package 'sjlabelled' successfully unpacked and MD5 sums checked\n",
      "package 'synthpop' successfully unpacked and MD5 sums checked\n",
      "package 'TAM' successfully unpacked and MD5 sums checked\n",
      "package 'mitools' successfully unpacked and MD5 sums checked\n",
      "package 'StanHeaders' successfully unpacked and MD5 sums checked\n",
      "package 'BH' successfully unpacked and MD5 sums checked\n",
      "package 'shinystan' successfully unpacked and MD5 sums checked\n",
      "package 'bayesplot' successfully unpacked and MD5 sums checked\n",
      "package 'formattable' successfully unpacked and MD5 sums checked\n",
      "package 'sparkline' successfully unpacked and MD5 sums checked\n",
      "package 'rngtools' successfully unpacked and MD5 sums checked\n",
      "package 'doMPI' successfully unpacked and MD5 sums checked\n",
      "package 'doRedis' successfully unpacked and MD5 sums checked\n",
      "package 'rbenchmark' successfully unpacked and MD5 sums checked\n",
      "package 'rbibutils' successfully unpacked and MD5 sums checked\n",
      "package 'pkgmaker' successfully unpacked and MD5 sums checked\n",
      "package 'tclust' successfully unpacked and MD5 sums checked\n",
      "package 'pdfCluster' successfully unpacked and MD5 sums checked\n",
      "package 'igraphdata' successfully unpacked and MD5 sums checked\n",
      "package 'ape' successfully unpacked and MD5 sums checked\n",
      "package 'flexmix' successfully unpacked and MD5 sums checked\n",
      "package 'gamair' successfully unpacked and MD5 sums checked\n",
      "package 'gamlss.data' successfully unpacked and MD5 sums checked\n",
      "package 'gee' successfully unpacked and MD5 sums checked\n",
      "package 'maptools' successfully unpacked and MD5 sums checked\n",
      "package 'mboost' successfully unpacked and MD5 sums checked\n",
      "package 'mclust' successfully unpacked and MD5 sums checked\n",
      "package 'rmeta' successfully unpacked and MD5 sums checked\n",
      "package 'wordcloud' successfully unpacked and MD5 sums checked\n",
      "package 'HSAUR2' successfully unpacked and MD5 sums checked\n",
      "package 'candisc' successfully unpacked and MD5 sums checked\n",
      "package 'reshape' successfully unpacked and MD5 sums checked\n",
      "package 'corrgram' successfully unpacked and MD5 sums checked\n",
      "package 'animation' successfully unpacked and MD5 sums checked\n",
      "package 'mvinfluence' successfully unpacked and MD5 sums checked\n",
      "package 'bookdown' successfully unpacked and MD5 sums checked\n",
      "package 'microbenchmark' successfully unpacked and MD5 sums checked\n",
      "package 'lqmm' successfully unpacked and MD5 sums checked\n",
      "package 'rlme' successfully unpacked and MD5 sums checked\n",
      "package 'lemon' successfully unpacked and MD5 sums checked\n",
      "package 'skewt' successfully unpacked and MD5 sums checked\n",
      "package 'ggh4x' successfully unpacked and MD5 sums checked\n",
      "package 'VGAMdata' successfully unpacked and MD5 sums checked\n",
      "package 'TSA' successfully unpacked and MD5 sums checked\n",
      "package 'ggstance' successfully unpacked and MD5 sums checked\n",
      "package 'ggridges' successfully unpacked and MD5 sums checked\n",
      "package 'vdiffr' successfully unpacked and MD5 sums checked\n",
      "package 'NHANES' successfully unpacked and MD5 sums checked\n",
      "package 'palmerpenguins' successfully unpacked and MD5 sums checked\n",
      "package 'ggdendro' successfully unpacked and MD5 sums checked\n",
      "package 'latticeExtra' successfully unpacked and MD5 sums checked\n",
      "package 'leaflet' successfully unpacked and MD5 sums checked\n",
      "package 'polyclip' successfully unpacked and MD5 sums checked\n",
      "package 'tkrplot' successfully unpacked and MD5 sums checked\n",
      "package 'Deriv' successfully unpacked and MD5 sums checked\n",
      "package 'Ryacas' successfully unpacked and MD5 sums checked\n",
      "package 'geometry' successfully unpacked and MD5 sums checked\n",
      "package 'alphahull' successfully unpacked and MD5 sums checked\n",
      "package 'fontcm' successfully unpacked and MD5 sums checked\n",
      "package 'dygraphs' successfully unpacked and MD5 sums checked\n",
      "package 'xts' successfully unpacked and MD5 sums checked\n",
      "package 'showimage' successfully unpacked and MD5 sums checked\n",
      "package 'RUnit' successfully unpacked and MD5 sums checked\n",
      "package 'forecTheta' successfully unpacked and MD5 sums checked\n",
      "package 'rticles' successfully unpacked and MD5 sums checked\n",
      "package 'seasonal' successfully unpacked and MD5 sums checked\n",
      "package 'uroot' successfully unpacked and MD5 sums checked\n",
      "package 'sfsmisc' successfully unpacked and MD5 sums checked\n",
      "package 'dfidx' successfully unpacked and MD5 sums checked\n",
      "package 'texreg' successfully unpacked and MD5 sums checked\n",
      "package 'logspline' successfully unpacked and MD5 sums checked\n",
      "package 'ks' successfully unpacked and MD5 sums checked\n",
      "package 'statmod' successfully unpacked and MD5 sums checked\n",
      "package 'pder' successfully unpacked and MD5 sums checked\n",
      "package 'fixest' successfully unpacked and MD5 sums checked\n",
      "package 'lfe' successfully unpacked and MD5 sums checked\n",
      "package 'MCMCpack' successfully unpacked and MD5 sums checked\n",
      "package 'coda' successfully unpacked and MD5 sums checked\n",
      "package 'maxLik' successfully unpacked and MD5 sums checked\n",
      "package 'Ecdat' successfully unpacked and MD5 sums checked\n",
      "package 'sem' successfully unpacked and MD5 sums checked\n",
      "package 'rmsb' successfully unpacked and MD5 sums checked\n",
      "package 'broom.mixed' successfully unpacked and MD5 sums checked\n",
      "package 'decor' successfully unpacked and MD5 sums checked\n",
      "package 'metafor' successfully unpacked and MD5 sums checked\n",
      "package 'mitml' successfully unpacked and MD5 sums checked\n",
      "package 'miceadds' successfully unpacked and MD5 sums checked\n",
      "package 'pan' successfully unpacked and MD5 sums checked\n",
      "package 'ranger' successfully unpacked and MD5 sums checked\n",
      "package 'rstan' successfully unpacked and MD5 sums checked\n",
      "package 'kableExtra' successfully unpacked and MD5 sums checked\n",
      "package 'gclus' successfully unpacked and MD5 sums checked\n",
      "package 'doParallel' successfully unpacked and MD5 sums checked\n",
      "package 'doRNG' successfully unpacked and MD5 sums checked\n",
      "package 'irlba' successfully unpacked and MD5 sums checked\n",
      "package 'fpc' successfully unpacked and MD5 sums checked\n",
      "package 'igraph' successfully unpacked and MD5 sums checked\n",
      "package 'HSAUR3' successfully unpacked and MD5 sums checked\n",
      "package 'poLCA' successfully unpacked and MD5 sums checked\n",
      "package 'heplots' successfully unpacked and MD5 sums checked\n",
      "package 'ordinal' successfully unpacked and MD5 sums checked\n",
      "package 'betareg' successfully unpacked and MD5 sums checked\n",
      "package 'alr4' successfully unpacked and MD5 sums checked\n",
      "package 'robustlmm' successfully unpacked and MD5 sums checked\n",
      "package 'VGAMextra' successfully unpacked and MD5 sums checked\n",
      "package 'dynlm' successfully unpacked and MD5 sums checked\n",
      "package 'agricolae' successfully unpacked and MD5 sums checked\n",
      "package 'mosaic' successfully unpacked and MD5 sums checked\n",
      "package 'deldir' successfully unpacked and MD5 sums checked\n",
      "package 'orientlib' successfully unpacked and MD5 sums checked\n",
      "package 'misc3d' successfully unpacked and MD5 sums checked\n",
      "package 'tripack' successfully unpacked and MD5 sums checked\n",
      "package 'interp' successfully unpacked and MD5 sums checked\n",
      "package 'alphashape3d' successfully unpacked and MD5 sums checked\n",
      "package 'js' successfully unpacked and MD5 sums checked\n",
      "package 'webshot2' successfully unpacked and MD5 sums checked\n",
      "package 'extrafont' successfully unpacked and MD5 sums checked\n",
      "package 'manipulateWidget' successfully unpacked and MD5 sums checked\n",
      "package 'V8' successfully unpacked and MD5 sums checked\n",
      "package 'chromote' successfully unpacked and MD5 sums checked\n",
      "package 'fGarch' successfully unpacked and MD5 sums checked\n",
      "package 'forecast' successfully unpacked and MD5 sums checked\n",
      "package 'ineq' successfully unpacked and MD5 sums checked\n",
      "package 'longmemo' successfully unpacked and MD5 sums checked\n",
      "package 'mlogit' successfully unpacked and MD5 sums checked\n",
      "package 'np' successfully unpacked and MD5 sums checked\n",
      "package 'plm' successfully unpacked and MD5 sums checked\n",
      "package 'pscl' successfully unpacked and MD5 sums checked\n",
      "package 'rugarch' successfully unpacked and MD5 sums checked\n",
      "package 'sampleSelection' successfully unpacked and MD5 sums checked\n",
      "package 'systemfit' successfully unpacked and MD5 sums checked\n",
      "package 'truncreg' successfully unpacked and MD5 sums checked\n",
      "package 'tseries' successfully unpacked and MD5 sums checked\n",
      "package 'urca' successfully unpacked and MD5 sums checked\n",
      "package 'vars' successfully unpacked and MD5 sums checked\n",
      "package 'acepack' successfully unpacked and MD5 sums checked\n",
      "package 'chron' successfully unpacked and MD5 sums checked\n",
      "package 'rms' successfully unpacked and MD5 sums checked\n",
      "package 'mice' successfully unpacked and MD5 sums checked\n",
      "package 'tables' successfully unpacked and MD5 sums checked\n",
      "package 'DendSer' successfully unpacked and MD5 sums checked\n",
      "package 'GA' successfully unpacked and MD5 sums checked\n",
      "package 'Rtsne' successfully unpacked and MD5 sums checked\n",
      "package 'dbscan' successfully unpacked and MD5 sums checked\n",
      "package 'umap' successfully unpacked and MD5 sums checked\n",
      "package 'vcd' successfully unpacked and MD5 sums checked\n",
      "package 'Fahrmeir' successfully unpacked and MD5 sums checked\n",
      "package 'effects' successfully unpacked and MD5 sums checked\n",
      "package 'VGAM' successfully unpacked and MD5 sums checked\n",
      "package 'lmtest' successfully unpacked and MD5 sums checked\n",
      "package 'Sleuth2' successfully unpacked and MD5 sums checked\n",
      "package 'rgl' successfully unpacked and MD5 sums checked\n",
      "package 'AER' successfully unpacked and MD5 sums checked\n",
      "package 'Hmisc' successfully unpacked and MD5 sums checked\n",
      "package 'seriation' successfully unpacked and MD5 sums checked\n",
      "package 'vcdExtra' successfully unpacked and MD5 sums checked\n",
      "package 'gnm' successfully unpacked and MD5 sums checked\n",
      "package 'prefmod' successfully unpacked and MD5 sums checked\n",
      "package 'mockery' successfully unpacked and MD5 sums checked\n",
      "package 'BradleyTerry2' successfully unpacked and MD5 sums checked\n",
      "package 'covr' successfully unpacked and MD5 sums checked\n",
      "package 'themis' successfully unpacked and MD5 sums checked\n",
      "package 'caret' successfully unpacked and MD5 sums checked\n",
      "\n",
      "The downloaded binary packages are in\n",
      "\tC:\\Users\\devops\\AppData\\Local\\Temp\\2\\Rtmp6xwW8r\\downloaded_packages\n"
     ]
    },
    {
     "name": "stderr",
     "output_type": "stream",
     "text": [
      "installing the source package 'logitr'\n",
      "\n",
      "\n"
     ]
    }
   ],
   "source": [
    "install.packages(\"caret\", dependencies = c(\"Depends\", \"Suggests\"))"
   ]
  },
  {
   "cell_type": "code",
   "execution_count": 42,
   "id": "29f2af0c-ce01-49fc-a1ad-56418c3d82e4",
   "metadata": {},
   "outputs": [
    {
     "name": "stderr",
     "output_type": "stream",
     "text": [
      "Loading required package: ggplot2\n",
      "\n",
      "Loading required package: lattice\n",
      "\n",
      "\n",
      "Attaching package: 'caret'\n",
      "\n",
      "\n",
      "The following objects are masked from 'package:MLmetrics':\n",
      "\n",
      "    MAE, RMSE\n",
      "\n",
      "\n",
      "Loading required package: MASS\n",
      "\n"
     ]
    }
   ],
   "source": [
    "library(caret)\n",
    "library(klaR)"
   ]
  },
  {
   "cell_type": "code",
   "execution_count": 43,
   "id": "60ed63ef-fd04-4192-a213-cbe4e1854875",
   "metadata": {},
   "outputs": [
    {
     "data": {
      "text/plain": [
       "Confusion Matrix and Statistics\n",
       "\n",
       "          Reference\n",
       "Prediction  no yes\n",
       "       no  664  36\n",
       "       yes 247  53\n",
       "                                         \n",
       "               Accuracy : 0.717          \n",
       "                 95% CI : (0.688, 0.7447)\n",
       "    No Information Rate : 0.911          \n",
       "    P-Value [Acc > NIR] : 1              \n",
       "                                         \n",
       "                  Kappa : 0.1567         \n",
       "                                         \n",
       " Mcnemar's Test P-Value : <2e-16         \n",
       "                                         \n",
       "            Sensitivity : 0.7289         \n",
       "            Specificity : 0.5955         \n",
       "         Pos Pred Value : 0.9486         \n",
       "         Neg Pred Value : 0.1767         \n",
       "             Prevalence : 0.9110         \n",
       "         Detection Rate : 0.6640         \n",
       "   Detection Prevalence : 0.7000         \n",
       "      Balanced Accuracy : 0.6622         \n",
       "                                         \n",
       "       'Positive' Class : no             \n",
       "                                         "
      ]
     },
     "metadata": {},
     "output_type": "display_data"
    }
   ],
   "source": [
    "confusionMatrix(credit_random$default, credit_1R_pred)"
   ]
  },
  {
   "cell_type": "code",
   "execution_count": 39,
   "id": "8a5784aa-3076-4584-bcde-200e4624bd54",
   "metadata": {},
   "outputs": [
    {
     "data": {
      "text/html": [
       "<strong>null device:</strong> 1"
      ],
      "text/latex": [
       "\\textbf{null device:} 1"
      ],
      "text/markdown": [
       "**null device:** 1"
      ],
      "text/plain": [
       "null device \n",
       "          1 "
      ]
     },
     "metadata": {},
     "output_type": "display_data"
    },
    {
     "name": "stdout",
     "output_type": "stream",
     "text": [
      "\f"
     ]
    }
   ],
   "source": [
    "# Clear plots\n",
    "dev.off()  # But only if there IS a plot\n",
    "\n",
    "# Clear console\n",
    "cat(\"\\014\")  # ctrl+L"
   ]
  },
  {
   "cell_type": "code",
   "execution_count": null,
   "id": "11439b0c-3094-4434-8d52-3937ff104f10",
   "metadata": {},
   "outputs": [],
   "source": []
  }
 ],
 "metadata": {
  "kernelspec": {
   "display_name": "R",
   "language": "R",
   "name": "ir"
  },
  "language_info": {
   "codemirror_mode": "r",
   "file_extension": ".r",
   "mimetype": "text/x-r-source",
   "name": "R",
   "pygments_lexer": "r",
   "version": "4.2.2"
  },
  "widgets": {
   "application/vnd.jupyter.widget-state+json": {
    "state": {},
    "version_major": 2,
    "version_minor": 0
   }
  }
 },
 "nbformat": 4,
 "nbformat_minor": 5
}
