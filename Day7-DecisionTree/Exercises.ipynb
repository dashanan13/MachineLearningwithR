{
 "cells": [
  {
   "cell_type": "markdown",
   "id": "edb7faca-0c52-4da0-90c1-b7e52f85e496",
   "metadata": {},
   "source": [
    "### Classification Excercise with Decision tree"
   ]
  },
  {
   "cell_type": "markdown",
   "id": "75060ff5-bdf1-450f-9b2d-dcf8f9c50bb8",
   "metadata": {},
   "source": [
    "#### 1. Use Decision Trees on the iris dataset to classify the three types of iris – setosa, versicolor, virginica. What are the decision rules?"
   ]
  },
  {
   "cell_type": "code",
   "execution_count": 1,
   "id": "112e2206-6a27-430a-865e-e5ff37b49680",
   "metadata": {},
   "outputs": [
    {
     "data": {
      "text/html": [
       "<table class=\"dataframe\">\n",
       "<caption>A data.frame: 6 × 5</caption>\n",
       "<thead>\n",
       "\t<tr><th></th><th scope=col>Sepal.Length</th><th scope=col>Sepal.Width</th><th scope=col>Petal.Length</th><th scope=col>Petal.Width</th><th scope=col>Species</th></tr>\n",
       "\t<tr><th></th><th scope=col>&lt;dbl&gt;</th><th scope=col>&lt;dbl&gt;</th><th scope=col>&lt;dbl&gt;</th><th scope=col>&lt;dbl&gt;</th><th scope=col>&lt;fct&gt;</th></tr>\n",
       "</thead>\n",
       "<tbody>\n",
       "\t<tr><th scope=row>1</th><td>5.1</td><td>3.5</td><td>1.4</td><td>0.2</td><td>setosa</td></tr>\n",
       "\t<tr><th scope=row>2</th><td>4.9</td><td>3.0</td><td>1.4</td><td>0.2</td><td>setosa</td></tr>\n",
       "\t<tr><th scope=row>3</th><td>4.7</td><td>3.2</td><td>1.3</td><td>0.2</td><td>setosa</td></tr>\n",
       "\t<tr><th scope=row>4</th><td>4.6</td><td>3.1</td><td>1.5</td><td>0.2</td><td>setosa</td></tr>\n",
       "\t<tr><th scope=row>5</th><td>5.0</td><td>3.6</td><td>1.4</td><td>0.2</td><td>setosa</td></tr>\n",
       "\t<tr><th scope=row>6</th><td>5.4</td><td>3.9</td><td>1.7</td><td>0.4</td><td>setosa</td></tr>\n",
       "</tbody>\n",
       "</table>\n"
      ],
      "text/latex": [
       "A data.frame: 6 × 5\n",
       "\\begin{tabular}{r|lllll}\n",
       "  & Sepal.Length & Sepal.Width & Petal.Length & Petal.Width & Species\\\\\n",
       "  & <dbl> & <dbl> & <dbl> & <dbl> & <fct>\\\\\n",
       "\\hline\n",
       "\t1 & 5.1 & 3.5 & 1.4 & 0.2 & setosa\\\\\n",
       "\t2 & 4.9 & 3.0 & 1.4 & 0.2 & setosa\\\\\n",
       "\t3 & 4.7 & 3.2 & 1.3 & 0.2 & setosa\\\\\n",
       "\t4 & 4.6 & 3.1 & 1.5 & 0.2 & setosa\\\\\n",
       "\t5 & 5.0 & 3.6 & 1.4 & 0.2 & setosa\\\\\n",
       "\t6 & 5.4 & 3.9 & 1.7 & 0.4 & setosa\\\\\n",
       "\\end{tabular}\n"
      ],
      "text/markdown": [
       "\n",
       "A data.frame: 6 × 5\n",
       "\n",
       "| <!--/--> | Sepal.Length &lt;dbl&gt; | Sepal.Width &lt;dbl&gt; | Petal.Length &lt;dbl&gt; | Petal.Width &lt;dbl&gt; | Species &lt;fct&gt; |\n",
       "|---|---|---|---|---|---|\n",
       "| 1 | 5.1 | 3.5 | 1.4 | 0.2 | setosa |\n",
       "| 2 | 4.9 | 3.0 | 1.4 | 0.2 | setosa |\n",
       "| 3 | 4.7 | 3.2 | 1.3 | 0.2 | setosa |\n",
       "| 4 | 4.6 | 3.1 | 1.5 | 0.2 | setosa |\n",
       "| 5 | 5.0 | 3.6 | 1.4 | 0.2 | setosa |\n",
       "| 6 | 5.4 | 3.9 | 1.7 | 0.4 | setosa |\n",
       "\n"
      ],
      "text/plain": [
       "  Sepal.Length Sepal.Width Petal.Length Petal.Width Species\n",
       "1 5.1          3.5         1.4          0.2         setosa \n",
       "2 4.9          3.0         1.4          0.2         setosa \n",
       "3 4.7          3.2         1.3          0.2         setosa \n",
       "4 4.6          3.1         1.5          0.2         setosa \n",
       "5 5.0          3.6         1.4          0.2         setosa \n",
       "6 5.4          3.9         1.7          0.4         setosa "
      ]
     },
     "metadata": {},
     "output_type": "display_data"
    }
   ],
   "source": [
    "library(datasets)\n",
    "head(iris)\n",
    "\n",
    "iris_data <- iris"
   ]
  },
  {
   "cell_type": "code",
   "execution_count": 2,
   "id": "03786a1c-f1c5-481b-aba2-ca94f5256299",
   "metadata": {
    "tags": []
   },
   "outputs": [
    {
     "name": "stdout",
     "output_type": "stream",
     "text": [
      "'data.frame':\t150 obs. of  5 variables:\n",
      " $ Sepal.Length: num  5.1 4.9 4.7 4.6 5 5.4 4.6 5 4.4 4.9 ...\n",
      " $ Sepal.Width : num  3.5 3 3.2 3.1 3.6 3.9 3.4 3.4 2.9 3.1 ...\n",
      " $ Petal.Length: num  1.4 1.4 1.3 1.5 1.4 1.7 1.4 1.5 1.4 1.5 ...\n",
      " $ Petal.Width : num  0.2 0.2 0.2 0.2 0.2 0.4 0.3 0.2 0.2 0.1 ...\n",
      " $ Species     : Factor w/ 3 levels \"setosa\",\"versicolor\",..: 1 1 1 1 1 1 1 1 1 1 ...\n"
     ]
    }
   ],
   "source": [
    "str(iris_data)"
   ]
  },
  {
   "cell_type": "code",
   "execution_count": 3,
   "id": "f3b4f145-ec57-4827-b778-0358af58e6e7",
   "metadata": {},
   "outputs": [],
   "source": [
    "set.seed(12345)\n",
    "iris_random <- iris_data[order(runif(nrow(iris_data))),]"
   ]
  },
  {
   "cell_type": "code",
   "execution_count": 4,
   "id": "6eb3e01f-6df0-43ee-81c6-82032a29ff7c",
   "metadata": {},
   "outputs": [
    {
     "data": {
      "text/html": [
       "<table class=\"dataframe\">\n",
       "<caption>A data.frame: 6 × 2</caption>\n",
       "<thead>\n",
       "\t<tr><th></th><th scope=col>iris_random.Species</th><th scope=col>iris_data.Species</th></tr>\n",
       "\t<tr><th></th><th scope=col>&lt;fct&gt;</th><th scope=col>&lt;fct&gt;</th></tr>\n",
       "</thead>\n",
       "<tbody>\n",
       "\t<tr><th scope=row>1</th><td>setosa    </td><td>setosa</td></tr>\n",
       "\t<tr><th scope=row>2</th><td>setosa    </td><td>setosa</td></tr>\n",
       "\t<tr><th scope=row>3</th><td>versicolor</td><td>setosa</td></tr>\n",
       "\t<tr><th scope=row>4</th><td>virginica </td><td>setosa</td></tr>\n",
       "\t<tr><th scope=row>5</th><td>versicolor</td><td>setosa</td></tr>\n",
       "\t<tr><th scope=row>6</th><td>virginica </td><td>setosa</td></tr>\n",
       "</tbody>\n",
       "</table>\n"
      ],
      "text/latex": [
       "A data.frame: 6 × 2\n",
       "\\begin{tabular}{r|ll}\n",
       "  & iris\\_random.Species & iris\\_data.Species\\\\\n",
       "  & <fct> & <fct>\\\\\n",
       "\\hline\n",
       "\t1 & setosa     & setosa\\\\\n",
       "\t2 & setosa     & setosa\\\\\n",
       "\t3 & versicolor & setosa\\\\\n",
       "\t4 & virginica  & setosa\\\\\n",
       "\t5 & versicolor & setosa\\\\\n",
       "\t6 & virginica  & setosa\\\\\n",
       "\\end{tabular}\n"
      ],
      "text/markdown": [
       "\n",
       "A data.frame: 6 × 2\n",
       "\n",
       "| <!--/--> | iris_random.Species &lt;fct&gt; | iris_data.Species &lt;fct&gt; |\n",
       "|---|---|---|\n",
       "| 1 | setosa     | setosa |\n",
       "| 2 | setosa     | setosa |\n",
       "| 3 | versicolor | setosa |\n",
       "| 4 | virginica  | setosa |\n",
       "| 5 | versicolor | setosa |\n",
       "| 6 | virginica  | setosa |\n",
       "\n"
      ],
      "text/plain": [
       "  iris_random.Species iris_data.Species\n",
       "1 setosa              setosa           \n",
       "2 setosa              setosa           \n",
       "3 versicolor          setosa           \n",
       "4 virginica           setosa           \n",
       "5 versicolor          setosa           \n",
       "6 virginica           setosa           "
      ]
     },
     "metadata": {},
     "output_type": "display_data"
    },
    {
     "data": {
      "text/html": [
       "<style>\n",
       ".list-inline {list-style: none; margin:0; padding: 0}\n",
       ".list-inline>li {display: inline-block}\n",
       ".list-inline>li:not(:last-child)::after {content: \"\\00b7\"; padding: 0 .5ex}\n",
       "</style>\n",
       "<ol class=list-inline><li>150</li><li>5</li></ol>\n"
      ],
      "text/latex": [
       "\\begin{enumerate*}\n",
       "\\item 150\n",
       "\\item 5\n",
       "\\end{enumerate*}\n"
      ],
      "text/markdown": [
       "1. 150\n",
       "2. 5\n",
       "\n",
       "\n"
      ],
      "text/plain": [
       "[1] 150   5"
      ]
     },
     "metadata": {},
     "output_type": "display_data"
    },
    {
     "data": {
      "text/html": [
       "<style>\n",
       ".list-inline {list-style: none; margin:0; padding: 0}\n",
       ".list-inline>li {display: inline-block}\n",
       ".list-inline>li:not(:last-child)::after {content: \"\\00b7\"; padding: 0 .5ex}\n",
       "</style>\n",
       "<ol class=list-inline><li>'Sepal.Length'</li><li>'Sepal.Width'</li><li>'Petal.Length'</li><li>'Petal.Width'</li><li>'Species'</li></ol>\n"
      ],
      "text/latex": [
       "\\begin{enumerate*}\n",
       "\\item 'Sepal.Length'\n",
       "\\item 'Sepal.Width'\n",
       "\\item 'Petal.Length'\n",
       "\\item 'Petal.Width'\n",
       "\\item 'Species'\n",
       "\\end{enumerate*}\n"
      ],
      "text/markdown": [
       "1. 'Sepal.Length'\n",
       "2. 'Sepal.Width'\n",
       "3. 'Petal.Length'\n",
       "4. 'Petal.Width'\n",
       "5. 'Species'\n",
       "\n",
       "\n"
      ],
      "text/plain": [
       "[1] \"Sepal.Length\" \"Sepal.Width\"  \"Petal.Length\" \"Petal.Width\"  \"Species\"     "
      ]
     },
     "metadata": {},
     "output_type": "display_data"
    },
    {
     "data": {
      "text/plain": [
       "\n",
       "    setosa versicolor  virginica \n",
       "        50         50         50 "
      ]
     },
     "metadata": {},
     "output_type": "display_data"
    }
   ],
   "source": [
    "# checking if randomization worked\n",
    "head(data.frame(iris_random$Species, iris_data$Species))\n",
    "dim(iris_random) #dimension of data\n",
    "names(iris_random) #column names\n",
    "table(iris_random$Species)"
   ]
  },
  {
   "cell_type": "code",
   "execution_count": null,
   "id": "ebca425f-917c-44b2-aeba-319245ee1785",
   "metadata": {},
   "outputs": [],
   "source": [
    "#visualize data\n",
    "\n",
    "hist(iris_random$Petal.Length, col='red')\n",
    "hist(iris_random$Petal.Width, col='blue')\n",
    "hist(iris_random$Sepal.Length, col='green')\n",
    "hist(iris_random$Sepal.Width, col='yellow')\n",
    "\n",
    "plot(iris_random$Petal.Length, iris_random$Species, col='steelblue', main='Scatterplot', xlab='Petal Length', ylab='Species', pch=19)\n",
    "plot(iris_random$Petal.Width, iris_random$Species, col='steelblue', main='Scatterplot', xlab='Petal Width', ylab='Species', pch=19)\n",
    "plot(iris_random$Sepal.Length, iris_random$Species, col='steelblue', main='Scatterplot', xlab='Sepal Length', ylab='Species', pch=19)\n",
    "plot(iris_random$Sepal.Width, iris_random$Species, col='steelblue', main='Scatterplot', xlab='Sepal Width', ylab='Species', pch=19)\n",
    "\n",
    "boxplot(Petal.Length~Species, data=iris, main='Petal Length by Species', xlab='Species', ylab='Petal Length', col='steelblue', border='black')\n",
    "boxplot(Petal.Width~Species, data=iris, main='Petal Width by Species', xlab='Species', ylab='Petal Width', col='steelblue', border='black')\n",
    "boxplot(Sepal.Length~Species, data=iris, main='Sepal Length by Species', xlab='Species', ylab='Sepal Length', col='steelblue', border='black')\n",
    "boxplot(Sepal.Width~Species, data=iris, main='Sepal Width by Species', xlab='Species', ylab='Sepal Width', col='steelblue', border='black')"
   ]
  },
  {
   "cell_type": "code",
   "execution_count": 6,
   "id": "cad9196f-6519-4179-a5b6-d160e7385256",
   "metadata": {},
   "outputs": [
    {
     "data": {
      "text/plain": [
       "  Sepal.Length    Sepal.Width     Petal.Length    Petal.Width   \n",
       " Min.   :4.300   Min.   :2.000   Min.   :1.000   Min.   :0.100  \n",
       " 1st Qu.:5.100   1st Qu.:2.800   1st Qu.:1.600   1st Qu.:0.300  \n",
       " Median :5.800   Median :3.000   Median :4.350   Median :1.300  \n",
       " Mean   :5.843   Mean   :3.057   Mean   :3.758   Mean   :1.199  \n",
       " 3rd Qu.:6.400   3rd Qu.:3.300   3rd Qu.:5.100   3rd Qu.:1.800  \n",
       " Max.   :7.900   Max.   :4.400   Max.   :6.900   Max.   :2.500  \n",
       "       Species  \n",
       " setosa    :50  \n",
       " versicolor:50  \n",
       " virginica :50  \n",
       "                \n",
       "                \n",
       "                "
      ]
     },
     "metadata": {},
     "output_type": "display_data"
    }
   ],
   "source": [
    "summary(iris_random) #summarize"
   ]
  },
  {
   "cell_type": "code",
   "execution_count": 7,
   "id": "a4f0ab80-4583-4c7d-ac9c-b0ced740b043",
   "metadata": {},
   "outputs": [
    {
     "name": "stdout",
     "output_type": "stream",
     "text": [
      "'data.frame':\t150 obs. of  5 variables:\n",
      " $ Sepal.Length: num  4.3 5.4 5.8 7.7 6 7.4 5.4 4.6 6.4 5.3 ...\n",
      " $ Sepal.Width : num  3 3.4 2.7 2.6 2.7 2.8 3.7 3.2 2.9 3.7 ...\n",
      " $ Petal.Length: num  1.1 1.5 3.9 6.9 5.1 6.1 1.5 1.4 4.3 1.5 ...\n",
      " $ Petal.Width : num  0.1 0.4 1.2 2.3 1.6 1.9 0.2 0.2 1.3 0.2 ...\n",
      " $ Species     : Factor w/ 3 levels \"setosa\",\"versicolor\",..: 1 1 2 3 2 3 1 1 2 1 ...\n"
     ]
    }
   ],
   "source": [
    "#change the Species field type to factor from character, so that they represent catagorical data\n",
    "iris_random$Species <- as.factor(iris_random$Species)\n",
    "str(iris_random)"
   ]
  },
  {
   "cell_type": "code",
   "execution_count": 8,
   "id": "e14395a1-c220-4988-8ae0-65e9ecec31d4",
   "metadata": {},
   "outputs": [],
   "source": [
    "# divide data in training and testing\n",
    "numofcol <- ncol(iris_random)\n",
    "numofrow <- nrow(iris_random)\n",
    "n80 <- round(numofrow*.8)\n",
    "\n",
    "iris_random_train <- iris_random[1:n80,] #train set\n",
    "iris_random_test <- iris_random[(n80+1):numofrow,] #test set\n",
    "\n",
    "iris_random_train_lbel <- iris_random[1:n80, numofcol] #train labels\n",
    "iris_random_test_label <- iris_random[(n80+1):numofrow, numofcol] #test labels"
   ]
  },
  {
   "cell_type": "code",
   "execution_count": 9,
   "id": "0feebdaa-bdee-40a5-9ea2-2494beb496f2",
   "metadata": {},
   "outputs": [
    {
     "data": {
      "text/html": [
       "<style>\n",
       ".list-inline {list-style: none; margin:0; padding: 0}\n",
       ".list-inline>li {display: inline-block}\n",
       ".list-inline>li:not(:last-child)::after {content: \"\\00b7\"; padding: 0 .5ex}\n",
       "</style>\n",
       "<ol class=list-inline><li>120</li><li>4</li></ol>\n"
      ],
      "text/latex": [
       "\\begin{enumerate*}\n",
       "\\item 120\n",
       "\\item 4\n",
       "\\end{enumerate*}\n"
      ],
      "text/markdown": [
       "1. 120\n",
       "2. 4\n",
       "\n",
       "\n"
      ],
      "text/plain": [
       "[1] 120   4"
      ]
     },
     "metadata": {},
     "output_type": "display_data"
    }
   ],
   "source": [
    "dim(iris_random_train[,-numofcol])"
   ]
  },
  {
   "cell_type": "code",
   "execution_count": 10,
   "id": "438cd274-a9af-4ef2-a447-d6eee16a8693",
   "metadata": {},
   "outputs": [
    {
     "data": {
      "text/html": [
       "<style>\n",
       ".list-inline {list-style: none; margin:0; padding: 0}\n",
       ".list-inline>li {display: inline-block}\n",
       ".list-inline>li:not(:last-child)::after {content: \"\\00b7\"; padding: 0 .5ex}\n",
       "</style>\n",
       "<ol class=list-inline><li>120</li><li>5</li></ol>\n"
      ],
      "text/latex": [
       "\\begin{enumerate*}\n",
       "\\item 120\n",
       "\\item 5\n",
       "\\end{enumerate*}\n"
      ],
      "text/markdown": [
       "1. 120\n",
       "2. 5\n",
       "\n",
       "\n"
      ],
      "text/plain": [
       "[1] 120   5"
      ]
     },
     "metadata": {},
     "output_type": "display_data"
    }
   ],
   "source": [
    "dim(iris_random_train)"
   ]
  },
  {
   "cell_type": "code",
   "execution_count": 11,
   "id": "0594a2d4-88a3-4f14-a2ba-a878714175a5",
   "metadata": {},
   "outputs": [
    {
     "data": {
      "text/plain": [
       "\n",
       "    setosa versicolor  virginica \n",
       "        42         40         38 "
      ]
     },
     "metadata": {},
     "output_type": "display_data"
    },
    {
     "data": {
      "text/plain": [
       "\n",
       "    setosa versicolor  virginica \n",
       "         8         10         12 "
      ]
     },
     "metadata": {},
     "output_type": "display_data"
    }
   ],
   "source": [
    "table(iris_random_train$Species)\n",
    "table(iris_random_test$Species)"
   ]
  },
  {
   "cell_type": "code",
   "execution_count": 12,
   "id": "f4c164ff-b427-4611-aa5b-f04fe72b91b6",
   "metadata": {},
   "outputs": [
    {
     "name": "stdout",
     "output_type": "stream",
     "text": [
      "package 'C50' successfully unpacked and MD5 sums checked\n",
      "\n",
      "The downloaded binary packages are in\n",
      "\tC:\\Users\\devops\\AppData\\Local\\Temp\\2\\RtmpoF5dLL\\downloaded_packages\n"
     ]
    }
   ],
   "source": [
    "install.packages(\"C50\")\n",
    "library(C50)"
   ]
  },
  {
   "cell_type": "code",
   "execution_count": 13,
   "id": "b1162dc7-5eba-4454-b1ca-d5cf12351158",
   "metadata": {},
   "outputs": [
    {
     "data": {
      "text/plain": [
       "\n",
       "Call:\n",
       "C5.0.default(x = iris_random_train[, -numofcol], y = iris_random_train$Species)\n",
       "\n",
       "Classification Tree\n",
       "Number of samples: 120 \n",
       "Number of predictors: 4 \n",
       "\n",
       "Tree size: 4 \n",
       "\n",
       "Non-standard options: attempt to group attributes\n"
      ]
     },
     "metadata": {},
     "output_type": "display_data"
    }
   ],
   "source": [
    "# executing the model\n",
    "dtmodel <- C5.0(iris_random_train[,-numofcol], iris_random_train$Species)\n",
    "dtmodel"
   ]
  },
  {
   "cell_type": "code",
   "execution_count": 14,
   "id": "e038fbc8-5f0c-453b-9c89-ef8be916fda2",
   "metadata": {},
   "outputs": [
    {
     "data": {
      "text/plain": [
       "\n",
       "Call:\n",
       "C5.0.default(x = iris_random_train[, -numofcol], y = iris_random_train$Species)\n",
       "\n",
       "\n",
       "C5.0 [Release 2.07 GPL Edition]  \tTue Feb 14 09:06:51 2023\n",
       "-------------------------------\n",
       "\n",
       "Class specified by attribute `outcome'\n",
       "\n",
       "Read 120 cases (5 attributes) from undefined.data\n",
       "\n",
       "Decision tree:\n",
       "\n",
       "Petal.Length <= 1.9: setosa (42)\n",
       "Petal.Length > 1.9:\n",
       ":...Petal.Width > 1.7: virginica (35/1)\n",
       "    Petal.Width <= 1.7:\n",
       "    :...Petal.Length <= 4.9: versicolor (38/1)\n",
       "        Petal.Length > 4.9: virginica (5/2)\n",
       "\n",
       "\n",
       "Evaluation on training data (120 cases):\n",
       "\n",
       "\t    Decision Tree   \n",
       "\t  ----------------  \n",
       "\t  Size      Errors  \n",
       "\n",
       "\t     4    4( 3.3%)   <<\n",
       "\n",
       "\n",
       "\t   (a)   (b)   (c)    <-classified as\n",
       "\t  ----  ----  ----\n",
       "\t    42                (a): class setosa\n",
       "\t          37     3    (b): class versicolor\n",
       "\t           1    37    (c): class virginica\n",
       "\n",
       "\n",
       "\tAttribute usage:\n",
       "\n",
       "\t100.00%\tPetal.Length\n",
       "\t 65.00%\tPetal.Width\n",
       "\n",
       "\n",
       "Time: 0.0 secs\n"
      ]
     },
     "metadata": {},
     "output_type": "display_data"
    }
   ],
   "source": [
    "summary(dtmodel)"
   ]
  },
  {
   "cell_type": "code",
   "execution_count": 15,
   "id": "8d28ca7b-b7f3-436b-a291-efc0dcef5f3b",
   "metadata": {},
   "outputs": [],
   "source": [
    "#model prediction\n",
    "dtmodel_predicted <- predict(dtmodel, iris_random_test)"
   ]
  },
  {
   "cell_type": "code",
   "execution_count": 16,
   "id": "a2eab5f3-7f5d-444e-9632-9552f158b97f",
   "metadata": {},
   "outputs": [],
   "source": [
    "# cross tabulation of predicted versus actual classes\n",
    "library(gmodels)"
   ]
  },
  {
   "cell_type": "code",
   "execution_count": 17,
   "id": "e732e6bb-cc0e-4f87-b02c-33bdc2405f6a",
   "metadata": {},
   "outputs": [
    {
     "name": "stdout",
     "output_type": "stream",
     "text": [
      "\n",
      " \n",
      "   Cell Contents\n",
      "|-------------------------|\n",
      "|                       N |\n",
      "|         N / Table Total |\n",
      "|-------------------------|\n",
      "\n",
      " \n",
      "Total Observations in Table:  30 \n",
      "\n",
      " \n",
      "               | predicted Species \n",
      "actual Species |     setosa | versicolor |  virginica |  Row Total | \n",
      "---------------|------------|------------|------------|------------|\n",
      "        setosa |          8 |          0 |          0 |          8 | \n",
      "               |      0.267 |      0.000 |      0.000 |            | \n",
      "---------------|------------|------------|------------|------------|\n",
      "    versicolor |          0 |         10 |          0 |         10 | \n",
      "               |      0.000 |      0.333 |      0.000 |            | \n",
      "---------------|------------|------------|------------|------------|\n",
      "     virginica |          0 |          0 |         12 |         12 | \n",
      "               |      0.000 |      0.000 |      0.400 |            | \n",
      "---------------|------------|------------|------------|------------|\n",
      "  Column Total |          8 |         10 |         12 |         30 | \n",
      "---------------|------------|------------|------------|------------|\n",
      "\n",
      " \n"
     ]
    }
   ],
   "source": [
    "CrossTable(iris_random_test$Species, dtmodel_predicted, prop.chisq = FALSE, prop.c = FALSE, prop.r = FALSE, dnn = c('actual Species', 'predicted Species'))"
   ]
  },
  {
   "cell_type": "code",
   "execution_count": 18,
   "id": "9d6be654-4ec5-4bc1-a87c-1dc0c0f3acf2",
   "metadata": {},
   "outputs": [],
   "source": [
    "# Boost not needed as it is already 100% accurate"
   ]
  },
  {
   "cell_type": "markdown",
   "id": "ee012ffb-65d4-4459-b7cb-4f1d0a2741d4",
   "metadata": {},
   "source": [
    "#### 2. Apply the OneR and RIPPER algorithms to classify credit (yes/no) in credit.csv. Apply the C50, algorithm to classify poisonous vs. edible mushrooms in mushroom.csv. How does the accuracy of the three models (i.e. including the models in the book) compare for each of the datasets?"
   ]
  },
  {
   "cell_type": "code",
   "execution_count": 27,
   "id": "12bb04f9-f9ac-48ec-999d-c1426d197a6b",
   "metadata": {},
   "outputs": [
    {
     "name": "stdout",
     "output_type": "stream",
     "text": [
      "'data.frame':\t1000 obs. of  17 variables:\n",
      " $ checking_balance    : chr  \"< 0 DM\" \"1 - 200 DM\" \"unknown\" \"< 0 DM\" ...\n",
      " $ months_loan_duration: int  6 48 12 42 24 36 24 36 12 30 ...\n",
      " $ credit_history      : chr  \"critical\" \"good\" \"critical\" \"good\" ...\n",
      " $ purpose             : chr  \"furniture/appliances\" \"furniture/appliances\" \"education\" \"furniture/appliances\" ...\n",
      " $ amount              : int  1169 5951 2096 7882 4870 9055 2835 6948 3059 5234 ...\n",
      " $ savings_balance     : chr  \"unknown\" \"< 100 DM\" \"< 100 DM\" \"< 100 DM\" ...\n",
      " $ employment_duration : chr  \"> 7 years\" \"1 - 4 years\" \"4 - 7 years\" \"4 - 7 years\" ...\n",
      " $ percent_of_income   : int  4 2 2 2 3 2 3 2 2 4 ...\n",
      " $ years_at_residence  : int  4 2 3 4 4 4 4 2 4 2 ...\n",
      " $ age                 : int  67 22 49 45 53 35 53 35 61 28 ...\n",
      " $ other_credit        : chr  \"none\" \"none\" \"none\" \"none\" ...\n",
      " $ housing             : chr  \"own\" \"own\" \"own\" \"other\" ...\n",
      " $ existing_loans_count: int  2 1 1 1 2 1 1 1 1 2 ...\n",
      " $ job                 : chr  \"skilled\" \"skilled\" \"unskilled\" \"skilled\" ...\n",
      " $ dependents          : int  1 1 2 2 2 2 1 1 1 1 ...\n",
      " $ phone               : chr  \"yes\" \"no\" \"no\" \"no\" ...\n",
      " $ default             : chr  \"no\" \"yes\" \"no\" \"no\" ...\n"
     ]
    }
   ],
   "source": [
    "credit <- read.csv(\"./credit.csv\", stringsAsFactors = FALSE)\n",
    "str(credit) #structure of data"
   ]
  },
  {
   "cell_type": "code",
   "execution_count": 31,
   "id": "e7bf7408-6d89-479a-b8ee-73e00fcb5c77",
   "metadata": {},
   "outputs": [],
   "source": [
    "#randomizing data and confirming that it is done\n",
    "set.seed(12345)\n",
    "credit_random <- credit[order(runif(nrow(credit))),]"
   ]
  },
  {
   "cell_type": "code",
   "execution_count": null,
   "id": "24abcc60-daec-4e00-ba07-d4e8970b5741",
   "metadata": {},
   "outputs": [],
   "source": [
    "# checking if data has scope for being catagorical\n",
    "table(credit_random$checking_balance)\n",
    "table(credit_random$credit_history)\n",
    "table(credit_random$purpose)\n",
    "table(credit_random$savings_balance)\n",
    "table(credit_random$employment_duration)\n",
    "table(credit_random$other_credit)\n",
    "table(credit_random$housing)\n",
    "table(credit_random$job)\n",
    "table(credit_random$phone)\n",
    "table(credit_random$default)"
   ]
  },
  {
   "cell_type": "code",
   "execution_count": 43,
   "id": "09f0bc76-7081-47bb-b07e-54f624ca6df3",
   "metadata": {},
   "outputs": [
    {
     "name": "stdout",
     "output_type": "stream",
     "text": [
      "'data.frame':\t1000 obs. of  17 variables:\n",
      " $ checking_balance    : Factor w/ 4 levels \"< 0 DM\",\"> 200 DM\",..: 1 3 3 1 3 4 1 3 3 1 ...\n",
      " $ months_loan_duration: int  24 7 12 24 9 18 33 9 20 15 ...\n",
      " $ credit_history      : Factor w/ 5 levels \"critical\",\"good\",..: 1 2 2 2 1 2 1 2 4 2 ...\n",
      " $ purpose             : Factor w/ 6 levels \"business\",\"car\",..: 2 5 5 5 4 1 5 5 3 5 ...\n",
      " $ amount              : int  1199 2576 1103 4020 1501 1568 4281 918 2629 1845 ...\n",
      " $ savings_balance     : Factor w/ 5 levels \"< 100 DM\",\"> 1000 DM\",..: 1 1 1 1 1 3 4 1 1 1 ...\n",
      " $ employment_duration : Factor w/ 5 levels \"< 1 year\",\"> 7 years\",..: 2 3 4 3 2 3 3 3 3 1 ...\n",
      " $ percent_of_income   : int  4 2 4 2 2 3 1 4 2 4 ...\n",
      " $ years_at_residence  : int  4 2 3 2 3 4 4 1 3 1 ...\n",
      " $ age                 : int  60 35 29 27 34 24 23 30 29 46 ...\n",
      " $ other_credit        : Factor w/ 3 levels \"bank\",\"none\",..: 2 2 2 3 2 2 2 2 1 2 ...\n",
      " $ housing             : Factor w/ 3 levels \"other\",\"own\",..: 2 2 2 2 2 3 2 2 2 3 ...\n",
      " $ existing_loans_count: Factor w/ 4 levels \"1\",\"2\",\"3\",\"4\": 2 1 2 1 2 1 2 1 2 1 ...\n",
      " $ job                 : Factor w/ 4 levels \"management\",\"skilled\",..: 4 2 2 2 1 4 2 2 2 2 ...\n",
      " $ dependents          : Factor w/ 2 levels \"1\",\"2\": 1 1 1 1 1 1 1 1 1 1 ...\n",
      " $ phone               : Factor w/ 2 levels \"no\",\"yes\": 1 1 1 1 2 1 1 1 2 1 ...\n",
      " $ default             : Factor w/ 2 levels \"no\",\"yes\": 2 1 1 1 2 1 2 2 1 1 ...\n"
     ]
    }
   ],
   "source": [
    "# making data catagorical\n",
    "credit_random$checking_balance <- as.factor(credit_random$checking_balance)\n",
    "credit_random$credit_history <- as.factor(credit_random$credit_history)\n",
    "credit_random$purpose <- as.factor(credit_random$purpose)\n",
    "credit_random$savings_balance <- as.factor(credit_random$savings_balance)\n",
    "credit_random$employment_duration <- as.factor(credit_random$employment_duration)\n",
    "credit_random$other_credit <- as.factor(credit_random$other_credit)\n",
    "credit_random$housing <- as.factor(credit_random$housing)\n",
    "credit_random$job <- as.factor(credit_random$job)\n",
    "credit_random$phone <- as.factor(credit_random$phone)\n",
    "credit_random$default <- as.factor(credit_random$default)\n",
    "credit_random$existing_loans_count <- as.factor(credit_random$existing_loans_count)\n",
    "credit_random$dependents <- as.factor(credit_random$dependents)\n",
    "str(credit_random) #structure of data"
   ]
  },
  {
   "cell_type": "code",
   "execution_count": 48,
   "id": "85193e61-5478-4fcf-84e5-d9e58eedba23",
   "metadata": {
    "tags": []
   },
   "outputs": [
    {
     "data": {
      "image/png": "[encoded data removed]",
      "text/plain": [
       "plot without title"
      ]
     },
     "metadata": {
      "image/png": {
       "height": 420,
       "width": 420
      }
     },
     "output_type": "display_data"
    }
   ],
   "source": [
    "pairs(credit_random[,c(2,5,8:10)], lower.panel = panel.smooth,)"
   ]
  },
  {
   "cell_type": "code",
   "execution_count": 19,
   "id": "ef769b02-4a8d-460b-8364-a6cd11377bab",
   "metadata": {},
   "outputs": [
    {
     "name": "stderr",
     "output_type": "stream",
     "text": [
      "Loading required package: usethis\n",
      "\n"
     ]
    }
   ],
   "source": [
    "# Rule Learner\n",
    "library(devtools)\n",
    "# delete this line? install_github(\"vonjd/OneR\")\n",
    "library(rJava)\n",
    "library(OneR)"
   ]
  },
  {
   "cell_type": "code",
   "execution_count": 20,
   "id": "6408ebd9-b772-4885-b86e-2358e1276fbc",
   "metadata": {},
   "outputs": [],
   "source": [
    "# train OneR() on the data\n",
    "# model relationship between 'type' againstal all predictors '.' or mention their names like x1 + x2 +x3 and so on\n",
    "credit_1R <- OneR(Species ~ ., data = credit_random)"
   ]
  },
  {
   "cell_type": "code",
   "execution_count": 21,
   "id": "4cb5a7a1-39a6-4eef-860f-3b553dc8b4b0",
   "metadata": {},
   "outputs": [
    {
     "data": {
      "text/plain": [
       "\n",
       "Call:\n",
       "OneR.formula(formula = Species ~ ., data = iris_random)\n",
       "\n",
       "Rules:\n",
       "If Petal.Width = (0.0976,0.58] then Species = setosa\n",
       "If Petal.Width = (0.58,1.06]   then Species = versicolor\n",
       "If Petal.Width = (1.06,1.54]   then Species = versicolor\n",
       "If Petal.Width = (1.54,2.02]   then Species = virginica\n",
       "If Petal.Width = (2.02,2.5]    then Species = virginica\n",
       "\n",
       "Accuracy:\n",
       "141 of 150 instances classified correctly (94%)\n"
      ]
     },
     "metadata": {},
     "output_type": "display_data"
    },
    {
     "data": {
      "text/plain": [
       "            predicted\n",
       "actual       setosa versicolor virginica\n",
       "  setosa         49          1         0\n",
       "  versicolor      0         45         5\n",
       "  virginica       0          3        47"
      ]
     },
     "metadata": {},
     "output_type": "display_data"
    }
   ],
   "source": [
    "## Step 4: Evaluating model performance ----\n",
    "iris_1R\n",
    "\n",
    "iris_1R_pred <- predict(iris_1R, iris_random)\n",
    "table(actual = iris_random$Species, predicted = iris_1R_pred)"
   ]
  },
  {
   "cell_type": "code",
   "execution_count": 22,
   "id": "a91616a4-561d-42c8-8c58-937b1aa7b54e",
   "metadata": {},
   "outputs": [
    {
     "name": "stderr",
     "output_type": "stream",
     "text": [
      "\n",
      "Attaching package: 'RWeka'\n",
      "\n",
      "\n",
      "The following object is masked from 'package:OneR':\n",
      "\n",
      "    OneR\n",
      "\n",
      "\n"
     ]
    }
   ],
   "source": [
    "library(RWeka)"
   ]
  },
  {
   "cell_type": "code",
   "execution_count": 23,
   "id": "8408d66c-d7ae-4361-b454-c7c2c805f989",
   "metadata": {},
   "outputs": [
    {
     "data": {
      "text/plain": [
       "JRIP rules:\n",
       "===========\n",
       "\n",
       "(Petal.Width >= 1.6) => Species=virginica (52.0/5.0)\n",
       "(Petal.Length >= 5) => Species=virginica (3.0/0.0)\n",
       "(Petal.Length <= 1.9) => Species=setosa (50.0/0.0)\n",
       " => Species=versicolor (45.0/0.0)\n",
       "\n",
       "Number of Rules : 4\n"
      ]
     },
     "metadata": {},
     "output_type": "display_data"
    },
    {
     "data": {
      "text/plain": [
       "\n",
       "=== Summary ===\n",
       "\n",
       "Correctly Classified Instances         145               96.6667 %\n",
       "Incorrectly Classified Instances         5                3.3333 %\n",
       "Kappa statistic                          0.95  \n",
       "Mean absolute error                      0.0402\n",
       "Root mean squared error                  0.1417\n",
       "Relative absolute error                  9.0385 %\n",
       "Root relative squared error             30.064  %\n",
       "Total Number of Instances              150     \n",
       "\n",
       "=== Confusion Matrix ===\n",
       "\n",
       "  a  b  c   <-- classified as\n",
       " 50  0  0 |  a = setosa\n",
       "  0 45  5 |  b = versicolor\n",
       "  0  0 50 |  c = virginica"
      ]
     },
     "metadata": {},
     "output_type": "display_data"
    }
   ],
   "source": [
    "iris_JRip <- JRip(Species ~ ., data = iris_random)\n",
    "iris_JRip\n",
    "summary(iris_JRip)"
   ]
  },
  {
   "cell_type": "code",
   "execution_count": 24,
   "id": "9f310705-a77d-4a6a-95f6-4b43bd61fbe4",
   "metadata": {},
   "outputs": [],
   "source": [
    "rulelearner_c5rules <- C5.0(Species ~ ., data = iris_random, rules = TRUE)"
   ]
  },
  {
   "cell_type": "code",
   "execution_count": 25,
   "id": "7a129c22-6c2e-4883-b1c5-edcbf6b09532",
   "metadata": {},
   "outputs": [
    {
     "data": {
      "text/plain": [
       "\n",
       "Call:\n",
       "C5.0.formula(formula = Species ~ ., data = iris_random, rules = TRUE)\n",
       "\n",
       "\n",
       "C5.0 [Release 2.07 GPL Edition]  \tTue Feb 14 09:06:57 2023\n",
       "-------------------------------\n",
       "\n",
       "Class specified by attribute `outcome'\n",
       "\n",
       "Read 150 cases (5 attributes) from undefined.data\n",
       "\n",
       "Rules:\n",
       "\n",
       "Rule 1: (50, lift 2.9)\n",
       "\tPetal.Length <= 1.9\n",
       "\t->  class setosa  [0.981]\n",
       "\n",
       "Rule 2: (48/1, lift 2.9)\n",
       "\tPetal.Length > 1.9\n",
       "\tPetal.Length <= 4.9\n",
       "\tPetal.Width <= 1.7\n",
       "\t->  class versicolor  [0.960]\n",
       "\n",
       "Rule 3: (46/1, lift 2.9)\n",
       "\tPetal.Width > 1.7\n",
       "\t->  class virginica  [0.958]\n",
       "\n",
       "Rule 4: (46/2, lift 2.8)\n",
       "\tPetal.Length > 4.9\n",
       "\t->  class virginica  [0.938]\n",
       "\n",
       "Default class: setosa\n",
       "\n",
       "\n",
       "Evaluation on training data (150 cases):\n",
       "\n",
       "\t        Rules     \n",
       "\t  ----------------\n",
       "\t    No      Errors\n",
       "\n",
       "\t     4    4( 2.7%)   <<\n",
       "\n",
       "\n",
       "\t   (a)   (b)   (c)    <-classified as\n",
       "\t  ----  ----  ----\n",
       "\t    50                (a): class setosa\n",
       "\t          47     3    (b): class versicolor\n",
       "\t           1    49    (c): class virginica\n",
       "\n",
       "\n",
       "\tAttribute usage:\n",
       "\n",
       "\t 96.00%\tPetal.Length\n",
       "\t 62.67%\tPetal.Width\n",
       "\n",
       "\n",
       "Time: 0.0 secs\n"
      ]
     },
     "metadata": {},
     "output_type": "display_data"
    }
   ],
   "source": [
    "summary(rulelearner_c5rules)"
   ]
  },
  {
   "cell_type": "code",
   "execution_count": 26,
   "id": "8a5784aa-3076-4584-bcde-200e4624bd54",
   "metadata": {},
   "outputs": [
    {
     "data": {
      "text/html": [
       "<strong>null device:</strong> 1"
      ],
      "text/latex": [
       "\\textbf{null device:} 1"
      ],
      "text/markdown": [
       "**null device:** 1"
      ],
      "text/plain": [
       "null device \n",
       "          1 "
      ]
     },
     "metadata": {},
     "output_type": "display_data"
    },
    {
     "name": "stdout",
     "output_type": "stream",
     "text": [
      "\f"
     ]
    }
   ],
   "source": [
    "# Clear plots\n",
    "dev.off()  # But only if there IS a plot\n",
    "\n",
    "# Clear console\n",
    "cat(\"\\014\")  # ctrl+L"
   ]
  },
  {
   "cell_type": "code",
   "execution_count": null,
   "id": "11439b0c-3094-4434-8d52-3937ff104f10",
   "metadata": {},
   "outputs": [],
   "source": []
  }
 ],
 "metadata": {
  "kernelspec": {
   "display_name": "R",
   "language": "R",
   "name": "ir"
  },
  "language_info": {
   "codemirror_mode": "r",
   "file_extension": ".r",
   "mimetype": "text/x-r-source",
   "name": "R",
   "pygments_lexer": "r",
   "version": "4.2.2"
  },
  "widgets": {
   "application/vnd.jupyter.widget-state+json": {
    "state": {},
    "version_major": 2,
    "version_minor": 0
   }
  }
 },
 "nbformat": 4,
 "nbformat_minor": 5
}
